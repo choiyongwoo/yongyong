{
 "cells": [
  {
   "cell_type": "code",
   "execution_count": 1,
   "id": "72788f2b",
   "metadata": {},
   "outputs": [],
   "source": [
    "#mutable(바꾸기 쉬운)과 immutable(불변)객체\n",
    "#list - mutable한 순서가 있는 객체 집합(mutable)\n",
    "#set - mutable한 순서가 없는 고유한 객체 집합(mutable)\n",
    "#dict - key와 value가 맵핑된 객체(mutable)\n",
    "#bool - 참, 거짓(immutable)\n",
    "#int - 정수(immutable)\n",
    "#float - 실수(immutable)\n",
    "#tuple - immutable한 순서가 있는 객체 집합(immutable)\n",
    "#str - 문자열(immutable)\n",
    "#frozenset - immutable한 set\n"
   ]
  },
  {
   "cell_type": "code",
   "execution_count": 10,
   "id": "cc5f9526",
   "metadata": {
    "scrolled": true
   },
   "outputs": [
    {
     "name": "stdout",
     "output_type": "stream",
     "text": [
      "500898624384\n",
      "[5, 2, 3]\n",
      "500898624384 \n",
      "\n",
      "500934851712\n",
      "{1, 2, 3, 4, 5, 6}\n",
      "500934851712 \n",
      "\n",
      "503165669040\n",
      "501009075056\n"
     ]
    }
   ],
   "source": [
    "#list는 mutable\n",
    "a= [1, 2, 3]\n",
    "print(id(a)) #메모리 주소값 리턴\n",
    "a[0]= 5\n",
    "print(a)\n",
    "print(id(a),'\\n') #주소 값은 동일\n",
    "\n",
    "#set도 mutable\n",
    "x={1, 2, 3}\n",
    "print(id(x))\n",
    "x|={4, 5, 6} #합집합\n",
    "print(x)\n",
    "print(id(x),'\\n') #id값 변함 없음\n",
    "\n",
    "#str은 immutable\n",
    "s= 'abc'\n",
    "print(id(s))\n",
    "#s[0]='s' 는 불가\n",
    "s= 'def'\n",
    "print(id(s))"
   ]
  },
  {
   "cell_type": "code",
   "execution_count": 13,
   "id": "e303df14",
   "metadata": {},
   "outputs": [
    {
     "name": "stdout",
     "output_type": "stream",
     "text": [
      "[5, 2, 3]\n",
      "[5, 2, 3]\n",
      "500898620928\n",
      "500898620928\n"
     ]
    }
   ],
   "source": [
    "#변수간 대입\n",
    "#mutable한 객체의 변수 간 대입\n",
    "#list의 얕은 복사\n",
    "#b에 a를 할당하면 값이 할당되는 것이 아니라 같은 메모리 주소를 바라봄\n",
    "#b를 변경하면 a도 같이 바뀜\n",
    "#mutable한 다른 객체 또한 똑같은 현상이 나타남\n",
    "a= [1, 2, 3]\n",
    "b= a #얕은 복사\n",
    "b[0]= 5\n",
    "print(a)\n",
    "print(b)\n",
    "print(id(a))\n",
    "print(id(b))"
   ]
  },
  {
   "cell_type": "code",
   "execution_count": 15,
   "id": "298cda87",
   "metadata": {},
   "outputs": [
    {
     "name": "stdout",
     "output_type": "stream",
     "text": [
      "503165669040\n",
      "503165669040\n",
      "503165669040\n",
      "500898555056\n"
     ]
    }
   ],
   "source": [
    "#immutable한 객체의 변수간 대입\n",
    "#str문자열의 얕은 복사\n",
    "#list와 똑같이 b를 a에 할당하면 같은 메모리 주소를 바라봄\n",
    "#하지만 b에 다른 값을 할당하면 재할당이 이루어지며 메모리주소가 변경\n",
    "a= 'abc'\n",
    "b=a\n",
    "print(id(a))\n",
    "print(id(b))\n",
    "b= 'abcd'\n",
    "print(id(a))\n",
    "print(id(b))"
   ]
  },
  {
   "cell_type": "code",
   "execution_count": 24,
   "id": "1acd1211",
   "metadata": {},
   "outputs": [
    {
     "name": "stdout",
     "output_type": "stream",
     "text": [
      "500898593024\n",
      "500898592832\n",
      "503166474544 503166474544 \n",
      "\n",
      "500898611392 500898611392\n",
      "[[8, 9], [3, 4]] [[1, 2], [3, 4]]\n",
      "500898610560 500898611392\n",
      "[[8, 9], [3, 4, 5]] [[1, 2], [3, 4, 5]]\n",
      "[[1, 2], [3, 4, 5]] [[1, 2], [3, 4, 5]]\n"
     ]
    }
   ],
   "source": [
    "#얕은 복사\n",
    "#list슬라이싱을 통한 새로운 값 할당\n",
    "a= [1, 2, 3]\n",
    "b= a[:] #슬라이싱을 통해서 값을 할당하면 새로운 id가 부여\n",
    "print(id(a))\n",
    "print(id(b)) \n",
    "\n",
    "#하지만 이러한 슬라이싱 또한 얕은 복사\n",
    "#리스트(mutable)안에 mutable객체인 경우 문제가됨\n",
    "#id(a[0])과 id(b[0])이 같은 주소를 바라봄\n",
    "print(id(a[0]), id(b[0]), '\\n')\n",
    "\n",
    "a= [[1, 2], [3, 4]]\n",
    "b= a[:]\n",
    "print(id(a[0]), id(b[0]))\n",
    "\n",
    "#재할당하는 경우 문제 없음, 메모리 주소도 변경\n",
    "a[0]= [8, 9]\n",
    "print(a, b)\n",
    "print(id(a[0]), id(b[0]))\n",
    "\n",
    "#하지만 a[1]에 값을 변경하면 b[1]도 따라서 변경\n",
    "a[1].append(5)\n",
    "print(a, b)\n",
    "\n",
    "#copy 모듈의 copy메소드 또한 얕은 복사\n",
    "import copy\n",
    "a= [[1, 2], [3, 4]]\n",
    "b= copy.copy(a)\n",
    "a[1].append(5)\n",
    "print(a, b)"
   ]
  },
  {
   "cell_type": "code",
   "execution_count": 25,
   "id": "7b26f0ff",
   "metadata": {},
   "outputs": [
    {
     "name": "stdout",
     "output_type": "stream",
     "text": [
      "[[1, 2], [3, 4, 5]] [[1, 2], [3, 4]]\n"
     ]
    }
   ],
   "source": [
    "#깊은 복사\n",
    "#내부의 객체들까지 모두 새롭게 copy\n",
    "import copy\n",
    "a= [[1, 2], [3, 4]]\n",
    "b= copy.deepcopy(a)\n",
    "a[1].append(5)\n",
    "print(a, b)"
   ]
  },
  {
   "cell_type": "code",
   "execution_count": null,
   "id": "3d5cc189",
   "metadata": {},
   "outputs": [],
   "source": []
  }
 ],
 "metadata": {
  "kernelspec": {
   "display_name": "Python 3 (ipykernel)",
   "language": "python",
   "name": "python3"
  },
  "language_info": {
   "codemirror_mode": {
    "name": "ipython",
    "version": 3
   },
   "file_extension": ".py",
   "mimetype": "text/x-python",
   "name": "python",
   "nbconvert_exporter": "python",
   "pygments_lexer": "ipython3",
   "version": "3.9.7"
  }
 },
 "nbformat": 4,
 "nbformat_minor": 5
}
