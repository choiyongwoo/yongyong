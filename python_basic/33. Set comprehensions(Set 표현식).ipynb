{
 "cells": [
  {
   "cell_type": "code",
   "execution_count": 1,
   "id": "63741425",
   "metadata": {},
   "outputs": [
    {
     "data": {
      "text/plain": [
       "{2, 4, 5, 6}"
      ]
     },
     "execution_count": 1,
     "metadata": {},
     "output_type": "execute_result"
    }
   ],
   "source": [
    "#Set 표현식\n",
    "#단어 리스트를 새로운 리스트의 for문을 돌아 길이를 구해 새로운 Set을 생성\n",
    "#리스트와 다른점이 있다면 set이기 때문에 중복값은 제거\n",
    "#{item for item in iterable}이 기본 형식\n",
    "words= '나는 파이썬을 공부하고 있습니다. 파이썬은 무척 심플하고 명료합니다.'.split()\n",
    "{len(word) for word in words}\n"
   ]
  },
  {
   "cell_type": "code",
   "execution_count": 2,
   "id": "30e1bafd",
   "metadata": {},
   "outputs": [
    {
     "data": {
      "text/plain": [
       "{4, 5, 6}"
      ]
     },
     "execution_count": 2,
     "metadata": {},
     "output_type": "execute_result"
    }
   ],
   "source": [
    "#Set 표현식 if 필터링\n",
    "#{item for item in iterable if 조건(item)}이 기본 형식\n",
    "{len(word) for word in words if len(word)>3}\n"
   ]
  },
  {
   "cell_type": "code",
   "execution_count": null,
   "id": "e4472a4a",
   "metadata": {},
   "outputs": [],
   "source": []
  }
 ],
 "metadata": {
  "kernelspec": {
   "display_name": "Python 3 (ipykernel)",
   "language": "python",
   "name": "python3"
  },
  "language_info": {
   "codemirror_mode": {
    "name": "ipython",
    "version": 3
   },
   "file_extension": ".py",
   "mimetype": "text/x-python",
   "name": "python",
   "nbconvert_exporter": "python",
   "pygments_lexer": "ipython3",
   "version": "3.9.7"
  }
 },
 "nbformat": 4,
 "nbformat_minor": 5
}
