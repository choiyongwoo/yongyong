{
 "cells": [
  {
   "cell_type": "code",
   "execution_count": 5,
   "id": "6e4bc0ea",
   "metadata": {},
   "outputs": [
    {
     "name": "stdout",
     "output_type": "stream",
     "text": [
      "480208497072\n",
      "480208497072\n",
      "480208498512 480208497072\n",
      "477939005824 477939005824\n",
      "[1, 2, 3, 4, 5, 6] [1, 2, 3, 4, 5, 6]\n",
      "477939005824 477939005824\n"
     ]
    }
   ],
   "source": [
    "#변수, 객체, 주소\n",
    "#파이썬에서 모든 타입은 객체\n",
    "#변수에 객체를 할당하면 특정 메모리 주소공간을 할당 받음\n",
    "#그리고 그변수를 다른 변수에 대입하게 되면 닽은 주소를 바라봄\n",
    "a= 5\n",
    "print(id(a))\n",
    "b=a\n",
    "print(id(b))\n",
    "\n",
    "#단순한 원시값으로 되어있는 int, float이나 immutable한 객체인\n",
    "#tuple, string등은 값의 변화를 주면 재할당이 되므로 자연스럽게 메모리 주소가 변경됨\n",
    "a= 50\n",
    "print(id(a), id(b))\n",
    "\n",
    "#하지만 mutable한 객체는 내부 값에 변화를 주면 같은 곳을 바라보고 있던 변수는 주소가 바뀌지 않은채 함께 변경\n",
    "a= [1, 2, 3, 4, 5]\n",
    "b=a\n",
    "print(id(a), id(b))\n",
    "a.append(6)\n",
    "print(a, b)\n",
    "print(id(a),id(b))"
   ]
  },
  {
   "cell_type": "code",
   "execution_count": 10,
   "id": "d4bf3259",
   "metadata": {},
   "outputs": [
    {
     "name": "stdout",
     "output_type": "stream",
     "text": [
      "k=  [1, 5, 7, 10]\n",
      "[1, 5, 7, 10]\n",
      "s= [20, 30, 35]\n",
      "[10, 15, 20]\n",
      "477939022208 477939022208\n"
     ]
    }
   ],
   "source": [
    "#함수의 인자 전달\n",
    "#함수에 mutable한 객체를 인자로 전달하면, 함수내부에서 변형이 이루어지면, 외부에서도 영향을 받음\n",
    "m= [1, 5, 7]\n",
    "def modify(k):\n",
    "    k.append(10)\n",
    "    print('k= ',k)\n",
    "    \n",
    "modify(m)\n",
    "print(m)\n",
    "\n",
    "#mutable한 객체를 수정하는 것이 아니라 재할당하는 경우는 상관없음\n",
    "r= [10, 15, 20]\n",
    "def replace(s):\n",
    "    s= [20, 30 ,35]\n",
    "    print('s=', s)\n",
    "\n",
    "replace(r)\n",
    "print(r)\n",
    "\n",
    "#함수에서 return 받아서 변수에 할당이 되어도 마찬가지\n",
    "def f(d):\n",
    "    return d\n",
    "c=[1, 5]\n",
    "e= f(c)\n",
    "print(id(c), id(e))"
   ]
  },
  {
   "cell_type": "code",
   "execution_count": null,
   "id": "54a06d8f",
   "metadata": {},
   "outputs": [],
   "source": []
  }
 ],
 "metadata": {
  "kernelspec": {
   "display_name": "Python 3 (ipykernel)",
   "language": "python",
   "name": "python3"
  },
  "language_info": {
   "codemirror_mode": {
    "name": "ipython",
    "version": 3
   },
   "file_extension": ".py",
   "mimetype": "text/x-python",
   "name": "python",
   "nbconvert_exporter": "python",
   "pygments_lexer": "ipython3",
   "version": "3.9.7"
  }
 },
 "nbformat": 4,
 "nbformat_minor": 5
}
