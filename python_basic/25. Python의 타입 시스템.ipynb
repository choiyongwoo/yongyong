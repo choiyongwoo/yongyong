{
 "cells": [
  {
   "cell_type": "code",
   "execution_count": 1,
   "id": "3ebcccc3",
   "metadata": {},
   "outputs": [],
   "source": [
    "#파이썬 타입 시스템\n",
    "#정적타입 언어: 자료형을 컴파일 타임에 결정하는 언어\n",
    "#동적타입 언어: 자료형을 런타임에 결정하는 언어\n",
    "#약타입 언어: 자료형이 맞지 않을 시에 암묵적으로 타입을 변환하는 언어\n",
    "#강타입 언어: 자료형이 맞지 않을 시에 에러 발생, 암묵적 변환 x\n",
    "#파이썬은 동적타입이면서, 강타입언어"
   ]
  },
  {
   "cell_type": "code",
   "execution_count": 3,
   "id": "369a1b55",
   "metadata": {},
   "outputs": [
    {
     "name": "stdout",
     "output_type": "stream",
     "text": [
      "15\n",
      "9.2\n",
      "인천공항\n",
      "[1, 3, 5, 7, 9]\n"
     ]
    }
   ],
   "source": [
    "#타입 시스템 확인\n",
    "#동적타입 확인\n",
    "def add(a, b):\n",
    "    return a+b\n",
    "\n",
    "print(add(5, 10))\n",
    "print(add(3.3, 5.9))\n",
    "print(add('인천', '공항'))\n",
    "print(add([1, 3, 5], [7, 9]))\n",
    "\n",
    "#강타입 언어 확인\n",
    "#약타입 언어인 자바 스크립트에서는 '1'+1='11'\n",
    "#add('1', 1) ->에러 발생"
   ]
  },
  {
   "cell_type": "code",
   "execution_count": null,
   "id": "bfe04b2c",
   "metadata": {},
   "outputs": [],
   "source": []
  }
 ],
 "metadata": {
  "kernelspec": {
   "display_name": "Python 3 (ipykernel)",
   "language": "python",
   "name": "python3"
  },
  "language_info": {
   "codemirror_mode": {
    "name": "ipython",
    "version": 3
   },
   "file_extension": ".py",
   "mimetype": "text/x-python",
   "name": "python",
   "nbconvert_exporter": "python",
   "pygments_lexer": "ipython3",
   "version": "3.9.7"
  }
 },
 "nbformat": 4,
 "nbformat_minor": 5
}
