{
 "cells": [
  {
   "cell_type": "code",
   "execution_count": 1,
   "id": "c344e823",
   "metadata": {},
   "outputs": [
    {
     "name": "stdout",
     "output_type": "stream",
     "text": [
      "[1, 3, 5, 7]\n",
      "<class 'list'>\n"
     ]
    }
   ],
   "source": [
    "#List\n",
    "#순서가 있는 수정가능한 객체의 집합\n",
    "#수정, 삭제, 추가 가능\n",
    "#list는 []로 작성\n",
    "a= [1, 3, 5 ,7]\n",
    "print(a)\n",
    "print(type(a))"
   ]
  },
  {
   "cell_type": "code",
   "execution_count": 5,
   "id": "fce5afad",
   "metadata": {},
   "outputs": [
    {
     "name": "stdout",
     "output_type": "stream",
     "text": [
      "1\n",
      "7\n",
      "[5, 1.4]\n",
      "['a', 354, True, 5, 1.4]\n",
      "['가', '나', '다']\n"
     ]
    }
   ],
   "source": [
    "#list 사용\n",
    "a= [1, 3, 5, 7]\n",
    "print(a[0])\n",
    "print(a[3])\n",
    "\n",
    "#index 범위를 벗어나면 에러 발생\n",
    "\n",
    "#여러가지 타입이 함께 list에 포함될 수 있음\n",
    "a= ['a', 354, True]\n",
    "\n",
    "#list 선언 방법\n",
    "#list클래스로 객체 만들기, 대괄호로 작성\n",
    "b= list()\n",
    "c= []\n",
    "\n",
    "#list에 원소 추가\n",
    "b=[]\n",
    "b.append(5)\n",
    "b.append(1.4)\n",
    "print(b)\n",
    "\n",
    "#리스트를 합치는 것은 +연산자로 간편하게 가능\n",
    "print(a+b)\n",
    "\n",
    "#문자열을 리스트로 변경\n",
    "print(list('가나다'))"
   ]
  },
  {
   "cell_type": "code",
   "execution_count": null,
   "id": "0402e162",
   "metadata": {},
   "outputs": [],
   "source": []
  }
 ],
 "metadata": {
  "kernelspec": {
   "display_name": "Python 3 (ipykernel)",
   "language": "python",
   "name": "python3"
  },
  "language_info": {
   "codemirror_mode": {
    "name": "ipython",
    "version": 3
   },
   "file_extension": ".py",
   "mimetype": "text/x-python",
   "name": "python",
   "nbconvert_exporter": "python",
   "pygments_lexer": "ipython3",
   "version": "3.9.7"
  }
 },
 "nbformat": 4,
 "nbformat_minor": 5
}
