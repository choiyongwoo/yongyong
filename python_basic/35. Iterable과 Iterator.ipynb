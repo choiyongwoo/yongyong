{
 "cells": [
  {
   "cell_type": "code",
   "execution_count": 7,
   "id": "af995a8e",
   "metadata": {},
   "outputs": [
    {
     "name": "stdout",
     "output_type": "stream",
     "text": [
      "<class 'list_iterator'>\n",
      "<class 'set_iterator'>\n",
      "1\n",
      "2\n",
      "3 \n",
      "\n",
      "1\n",
      "2\n",
      "3\n"
     ]
    }
   ],
   "source": [
    "#iterable 객체 - 반복가능한 객체\n",
    "#대표적으로 iterable한 타입 - list, dict, set, str, bytes, tuple, range\n",
    "\n",
    "#iteratator 객체 - 값을 차례대로 꺼낼 수 있는 객체\n",
    "#iterator는 iterable한 객체를 내장함수 또는 iterable객체의 메소드로 객체를 생성할 수 있음\n",
    "a= [1, 2, 3]\n",
    "a_iter= iter(a)\n",
    "print(type(a_iter))\n",
    "\n",
    "b= {1, 2, 3}\n",
    "b_iter= b.__iter__()\n",
    "print(type(b_iter))\n",
    "\n",
    "#itorator가 값을 차례대로 꺼낼 수 있는 객체라는 것의 의미\n",
    "print(next(a_iter))\n",
    "print(next(a_iter))\n",
    "print(next(a_iter), '\\n')\n",
    "# print(next(a_iter)) 에러 발생\n",
    "print(b_iter.__next__())\n",
    "print(b_iter.__next__())\n",
    "print(b_iter.__next__())"
   ]
  },
  {
   "cell_type": "code",
   "execution_count": null,
   "id": "a4f08614",
   "metadata": {},
   "outputs": [],
   "source": []
  }
 ],
 "metadata": {
  "kernelspec": {
   "display_name": "Python 3 (ipykernel)",
   "language": "python",
   "name": "python3"
  },
  "language_info": {
   "codemirror_mode": {
    "name": "ipython",
    "version": 3
   },
   "file_extension": ".py",
   "mimetype": "text/x-python",
   "name": "python",
   "nbconvert_exporter": "python",
   "pygments_lexer": "ipython3",
   "version": "3.9.7"
  }
 },
 "nbformat": 4,
 "nbformat_minor": 5
}
