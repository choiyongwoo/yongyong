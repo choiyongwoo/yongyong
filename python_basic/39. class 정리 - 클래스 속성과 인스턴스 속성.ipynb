{
 "cells": [
  {
   "cell_type": "code",
   "execution_count": 1,
   "id": "f6d2a6f9",
   "metadata": {},
   "outputs": [],
   "source": [
    "#클래스 속성과 인스턴스 속성의 차이\n",
    "#클래스 속성은 self.속성에 할당하는 것이 아니라 class안에서 바로 할당\n",
    "#class CustomClass:\n",
    "    #속성명= 값\n",
    "    \n",
    "    #def custom_method():\n",
    "        #pass\n"
   ]
  },
  {
   "cell_type": "code",
   "execution_count": 7,
   "id": "8a474bdf",
   "metadata": {},
   "outputs": [
    {
     "name": "stdout",
     "output_type": "stream",
     "text": [
      "[5, 5, 5, 5, 5, 5, 7, 5]\n",
      "[5, 5, 5, 5, 5, 5, 7, 5]\n",
      "[5, 5, 5, 5, 5, 5, 7, 5, 7]\n"
     ]
    }
   ],
   "source": [
    "#클래스 속성\n",
    "from class1 import Flight\n",
    "f= Flight()\n",
    "g= Flight()\n",
    "f.add_class_attr(5)\n",
    "print(Flight.class_attr)\n",
    "print(f.class_attr)\n",
    "g.add_class_attr(7)\n",
    "print(Flight.class_attr)\n",
    "\n",
    "#클래스 속성에서의 직접근, 클래스명.클래스속성, 객체에서의 객체변수명.클래스속성 모두 똑같이 값을 공유"
   ]
  },
  {
   "cell_type": "code",
   "execution_count": 4,
   "id": "b5b42545",
   "metadata": {},
   "outputs": [
    {
     "name": "stdout",
     "output_type": "stream",
     "text": [
      "[]\n",
      "[5]\n",
      "[]\n"
     ]
    }
   ],
   "source": [
    "#똑같은 클래스 속성과 인스턴스 속성을 선언하고 값이 어떻게 바뀌는지봄\n",
    "#인스턴스와 클래스에 모두 같은 속성이 있으면 인스턴스 속성을 먼저 찾는 것을 알 수 있음\n",
    "#속성과 메서드 이름 찾는 순은 인스턴스, 클래스\n",
    "from class2 import Flight\n",
    "f= Flight()\n",
    "g= Flight()\n",
    "f.add_instance_attr(5)\n",
    "print(Flight.class_attr)\n",
    "print(f.class_attr)\n",
    "print(g.class_attr)"
   ]
  },
  {
   "cell_type": "code",
   "execution_count": 1,
   "id": "312be20b",
   "metadata": {},
   "outputs": [
    {
     "ename": "AttributeError",
     "evalue": "type object 'Flight' has no attribute '__private_attr'",
     "output_type": "error",
     "traceback": [
      "\u001b[0;31m---------------------------------------------------------------------------\u001b[0m",
      "\u001b[0;31mAttributeError\u001b[0m                            Traceback (most recent call last)",
      "\u001b[0;32m/data/user/0/ru.iiec.pydroid3/cache/ipykernel_17698/1498562357.py\u001b[0m in \u001b[0;36m<module>\u001b[0;34m\u001b[0m\n\u001b[1;32m      3\u001b[0m \u001b[0;31m#언더바두개(__)로 속성명이 시작하면 비공개 속성\u001b[0m\u001b[0;34m\u001b[0m\u001b[0;34m\u001b[0m\u001b[0m\n\u001b[1;32m      4\u001b[0m \u001b[0;32mfrom\u001b[0m \u001b[0mclass3\u001b[0m \u001b[0;32mimport\u001b[0m \u001b[0mFlight\u001b[0m\u001b[0;34m\u001b[0m\u001b[0;34m\u001b[0m\u001b[0m\n\u001b[0;32m----> 5\u001b[0;31m \u001b[0mFlight\u001b[0m\u001b[0;34m.\u001b[0m\u001b[0m__private_attr\u001b[0m\u001b[0;34m\u001b[0m\u001b[0;34m\u001b[0m\u001b[0m\n\u001b[0m",
      "\u001b[0;31mAttributeError\u001b[0m: type object 'Flight' has no attribute '__private_attr'"
     ]
    }
   ],
   "source": [
    "#비공개 클래스 속성\n",
    "#비공개 클래스 속성은 인스턴스의 비공개 속성과 동일\n",
    "#언더바두개(__)로 속성명이 시작하면 비공개 속성\n",
    "from class3 import Flight\n",
    "Flight.__private_attr"
   ]
  }
 ],
 "metadata": {
  "kernelspec": {
   "display_name": "Python 3 (ipykernel)",
   "language": "python",
   "name": "python3"
  },
  "language_info": {
   "codemirror_mode": {
    "name": "ipython",
    "version": 3
   },
   "file_extension": ".py",
   "mimetype": "text/x-python",
   "name": "python",
   "nbconvert_exporter": "python",
   "pygments_lexer": "ipython3",
   "version": "3.9.7"
  }
 },
 "nbformat": 4,
 "nbformat_minor": 5
}
