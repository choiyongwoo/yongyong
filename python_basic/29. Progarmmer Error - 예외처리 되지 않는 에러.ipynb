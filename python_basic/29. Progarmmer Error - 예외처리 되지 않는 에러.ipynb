{
 "cells": [
  {
   "cell_type": "code",
   "execution_count": 2,
   "id": "969f71db",
   "metadata": {},
   "outputs": [],
   "source": [
    "#예외처리 되지 않는 에러\n",
    "#IndentationError: 파이썬 들여쓰기 규칙이 잘못되었을 때 나타나는 오류\n",
    "#의도적으로 a= int(s) 부분의 들여쓰기를 한번 더 수행\n",
    "from exceptional1 import convert\n",
    "\n",
    "#except 블록에 아무것도 입력하고 싶지 않을때는 pass라는 키워드 사용"
   ]
  },
  {
   "cell_type": "code",
   "execution_count": 2,
   "id": "ed3cfe9e",
   "metadata": {},
   "outputs": [
    {
     "ename": "SyntaxError",
     "evalue": "EOL while scanning string literal (exceptional2.py, line 13)",
     "output_type": "error",
     "traceback": [
      "Traceback \u001b[0;36m(most recent call last)\u001b[0m:\n",
      "  File \u001b[1;32m\"/data/user/0/ru.iiec.pydroid3/files/aarch64-linux-android/lib/python3.9/site-packages/IPython/core/interactiveshell.py\"\u001b[0m, line \u001b[1;32m3457\u001b[0m, in \u001b[1;35mrun_code\u001b[0m\n    exec(code_obj, self.user_global_ns, self.user_ns)\n",
      "\u001b[0;36m  File \u001b[0;32m\"/data/user/0/ru.iiec.pydroid3/cache/ipykernel_29565/2768688885.py\"\u001b[0;36m, line \u001b[0;32m2\u001b[0;36m, in \u001b[0;35m<module>\u001b[0;36m\u001b[0m\n\u001b[0;31m    from exceptional2 import convert\u001b[0m\n",
      "\u001b[0;36m  File \u001b[0;32m\"/storage/emulated/0/practice/python_data_structure/number/python_basic/exceptional2.py\"\u001b[0;36m, line \u001b[0;32m13\u001b[0m\n\u001b[0;31m    print(\"성공')\u001b[0m\n\u001b[0m               \n^\u001b[0m\n\u001b[0;31mSyntaxError\u001b[0m\u001b[0;31m:\u001b[0m EOL while scanning string literal\n"
     ]
    }
   ],
   "source": [
    "#SyntaxError: 구문 오류, 잘못된 기호를 입력하였을때 발생\n",
    "from exceptional2 import convert"
   ]
  },
  {
   "cell_type": "code",
   "execution_count": null,
   "id": "36fd1712",
   "metadata": {},
   "outputs": [],
   "source": []
  }
 ],
 "metadata": {
  "kernelspec": {
   "display_name": "Python 3 (ipykernel)",
   "language": "python",
   "name": "python3"
  },
  "language_info": {
   "codemirror_mode": {
    "name": "ipython",
    "version": 3
   },
   "file_extension": ".py",
   "mimetype": "text/x-python",
   "name": "python",
   "nbconvert_exporter": "python",
   "pygments_lexer": "ipython3",
   "version": "3.9.7"
  }
 },
 "nbformat": 4,
 "nbformat_minor": 5
}
