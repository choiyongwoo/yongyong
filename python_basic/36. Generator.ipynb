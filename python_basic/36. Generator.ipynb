{
 "cells": [
  {
   "cell_type": "code",
   "execution_count": 1,
   "id": "6cfaba2e",
   "metadata": {},
   "outputs": [],
   "source": [
    "#generator: iterator를 생성해주는 함수, 함수안에 yield키워드 사용\n",
    "#generator 특징\n",
    "#iterable한 순서가 지정됨\n",
    "#느슨하게 평가됨(순서의 다음 값은 필요에 따라 계산됨)\n",
    "#함수의 내부 로컬 변수를 통해 내부상태가 유지\n",
    "#무한한 순서가 있는 객체를 모델링할 수 있음\n",
    "#자연스러운 스트림 처리를 위 파이프라인으로 구성할 수 있음"
   ]
  },
  {
   "cell_type": "code",
   "execution_count": 13,
   "id": "87180952",
   "metadata": {},
   "outputs": [
    {
     "name": "stdout",
     "output_type": "stream",
     "text": [
      "<class 'generator'>\n",
      "1\n",
      "2\n",
      "3 \n",
      "\n",
      "True\n",
      "1\n",
      "2\n",
      "3\n",
      "\n",
      "\n",
      "False\n",
      "1\n",
      "2\n",
      "1\n"
     ]
    }
   ],
   "source": [
    "#generator 사용\n",
    "#yield가 호출되면 암시적으로 return이 호출되며, 한번 더 실행되면 실행되었던 yield다음코드가 실행\n",
    "def test_generator():\n",
    "    yield 1\n",
    "    yield 2\n",
    "    yield 3\n",
    "\n",
    "gen= test_generator()\n",
    "print(type(gen))\n",
    "\n",
    "print(next(gen))\n",
    "print(next(gen))\n",
    "print(next(gen), '\\n')\n",
    "\n",
    "#이렇게 생성한 generator는 iterable한 객체가 되며 for문에서 사용할 수 있음\n",
    "import collections\n",
    "print(isinstance(gen, collections.Iterable))\n",
    "for i in test_generator():\n",
    "    print(i)\n",
    "print('\\n')    \n",
    "#generator를  동시에 두개 생성하면, 서로가 다른 객체이며, 각기 따로 동작\n",
    "h= test_generator()\n",
    "i= test_generator()\n",
    "print(h==i)\n",
    "\n",
    "print(next(h))\n",
    "print(next(h))\n",
    "print(next(i))"
   ]
  },
  {
   "cell_type": "code",
   "execution_count": 18,
   "id": "1b7243b7",
   "metadata": {},
   "outputs": [
    {
     "name": "stdout",
     "output_type": "stream",
     "text": [
      "yield 1 전\n",
      "yield 1과 2사이\n",
      "yield 2와 3사이\n",
      "yiled 3 후\n"
     ]
    },
    {
     "ename": "StopIteration",
     "evalue": "",
     "output_type": "error",
     "traceback": [
      "\u001b[0;31m---------------------------------------------------------------------------\u001b[0m",
      "\u001b[0;31mStopIteration\u001b[0m                             Traceback (most recent call last)",
      "\u001b[0;32m/data/user/0/ru.iiec.pydroid3/cache/ipykernel_7543/3935139876.py\u001b[0m in \u001b[0;36m<module>\u001b[0;34m\u001b[0m\n\u001b[1;32m     13\u001b[0m \u001b[0mnext\u001b[0m\u001b[0;34m(\u001b[0m\u001b[0mg\u001b[0m\u001b[0;34m)\u001b[0m\u001b[0;34m\u001b[0m\u001b[0;34m\u001b[0m\u001b[0m\n\u001b[1;32m     14\u001b[0m \u001b[0mnext\u001b[0m\u001b[0;34m(\u001b[0m\u001b[0mg\u001b[0m\u001b[0;34m)\u001b[0m\u001b[0;34m\u001b[0m\u001b[0;34m\u001b[0m\u001b[0m\n\u001b[0;32m---> 15\u001b[0;31m \u001b[0mnext\u001b[0m\u001b[0;34m(\u001b[0m\u001b[0mg\u001b[0m\u001b[0;34m)\u001b[0m\u001b[0;34m\u001b[0m\u001b[0;34m\u001b[0m\u001b[0m\n\u001b[0m",
      "\u001b[0;31mStopIteration\u001b[0m: "
     ]
    }
   ],
   "source": [
    "#yield사이에 추가로 코드 입력\n",
    "def test_generator():\n",
    "    print('yield 1 전')\n",
    "    yield 1\n",
    "    print('yield 1과 2사이')\n",
    "    yield 2\n",
    "    print('yield 2와 3사이')\n",
    "    yield 3\n",
    "    print('yiled 3 후')\n",
    "    \n",
    "g= test_generator()\n",
    "next(g)\n",
    "next(g)\n",
    "next(g)\n",
    "next(g)\n",
    "#yield로 반환하는 사이사이의 코드들이 실행\n",
    "\n",
    "#그때그때 생성되는 무한한 순서있는 객체를 모델링할 수 있음\n"
   ]
  },
  {
   "cell_type": "code",
   "execution_count": 3,
   "id": "29c64f40",
   "metadata": {},
   "outputs": [
    {
     "name": "stdout",
     "output_type": "stream",
     "text": [
      "1\n",
      "2\n",
      "3\n",
      "<class 'generator'>\n"
     ]
    }
   ],
   "source": [
    "#그때그때 생성되는 무한한 순서있는 객체를 모델링할 수 있음\n",
    "#무한하게 숫자를 리턴할 수 있는 이유는 generator를 실행할때마다 느슨하게 평가되며 내부의 변수가 유지되고 있기 때문\n",
    "def infinite_generator():\n",
    "    count= 0\n",
    "    while True:\n",
    "        count+=1\n",
    "        yield count\n",
    "        \n",
    "gen= infinite_generator()\n",
    "print(next(gen))\n",
    "print(next(gen))\n",
    "print(next(gen))\n",
    "\n",
    "#우리가 알고있는 List, Set, Dictionary의 표현식의 내부도 사실 generator\n",
    "print(type(x*x for x in [2, 4, 6]))"
   ]
  },
  {
   "cell_type": "code",
   "execution_count": 5,
   "id": "60645e96",
   "metadata": {},
   "outputs": [
    {
     "name": "stdout",
     "output_type": "stream",
     "text": [
      "[1, 2, 3]\n",
      "[1, 2, 3]\n"
     ]
    }
   ],
   "source": [
    "#yield from\n",
    "#yield문은 한번씩 값을 바깥으로 전달, 여러번 바깥으로 전달하려면 for문을 사용\n",
    "def three_generator():\n",
    "    a= [1, 2, 3]\n",
    "    for i in a:\n",
    "        yield i\n",
    "\n",
    "gen=three_generator()\n",
    "print(list(gen))\n",
    "\n",
    "#for문 대신에 iterable한 객체를 yield할때는 yield from iterable로 값을 전달\n",
    "def three_generator():\n",
    "    a= [1, 2, 3]\n",
    "    yield from a\n",
    "\n",
    "gen= three_generator()\n",
    "print(list(gen))"
   ]
  },
  {
   "cell_type": "code",
   "execution_count": null,
   "id": "2065c9f9",
   "metadata": {},
   "outputs": [],
   "source": []
  }
 ],
 "metadata": {
  "kernelspec": {
   "display_name": "Python 3 (ipykernel)",
   "language": "python",
   "name": "python3"
  },
  "language_info": {
   "codemirror_mode": {
    "name": "ipython",
    "version": 3
   },
   "file_extension": ".py",
   "mimetype": "text/x-python",
   "name": "python",
   "nbconvert_exporter": "python",
   "pygments_lexer": "ipython3",
   "version": "3.9.7"
  }
 },
 "nbformat": 4,
 "nbformat_minor": 5
}
