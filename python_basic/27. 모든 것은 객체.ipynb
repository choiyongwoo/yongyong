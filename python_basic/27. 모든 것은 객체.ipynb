{
 "cells": [
  {
   "cell_type": "code",
   "execution_count": 8,
   "id": "3b6bcee2",
   "metadata": {},
   "outputs": [
    {
     "name": "stdout",
     "output_type": "stream",
     "text": [
      "<class 'module'>\n",
      "['__builtins__', '__cached__', '__doc__', '__file__', '__loader__', '__name__', '__package__', '__spec__', 'fetch_words', 'main', 'print_words', 'sys', 'urlopen'] \n",
      "\n",
      "<class 'function'>\n",
      "['__annotations__', '__call__', '__class__', '__closure__', '__code__', '__defaults__', '__delattr__', '__dict__', '__dir__', '__doc__', '__eq__', '__format__', '__ge__', '__get__', '__getattribute__', '__globals__', '__gt__', '__hash__', '__init__', '__init_subclass__', '__kwdefaults__', '__le__', '__lt__', '__module__', '__name__', '__ne__', '__new__', '__qualname__', '__reduce__', '__reduce_ex__', '__repr__', '__setattr__', '__sizeof__', '__str__', '__subclasshook__'] \n",
      "\n",
      "fetch_words\n",
      "\n",
      "\turl주소에서 파일을 가져와 단어 리스트를 반환\n",
      "\t:param url: 불러올 url\n",
      "\t:return:\n",
      "\t\n"
     ]
    }
   ],
   "source": [
    "#dir 내장 함수를 통한 확인\n",
    "import words\n",
    "print(type(words))\n",
    "\n",
    "#dir내장함수는 객체가 가지고 있는 변수나 함수리스트를 보여줌\n",
    "print(dir(words),'\\n')\n",
    "\n",
    "print(type(words.fetch_words))\n",
    "print(dir(words.fetch_words), '\\n')\n",
    "\n",
    "#함수의 속성\n",
    "#__name__: 함수의 명칭을 string으로 리턴\n",
    "print(words.fetch_words.__name__)\n",
    "\n",
    "#__doc__: 함수의 docstring을 출력\n",
    "print(words.fetch_words.__doc__)"
   ]
  },
  {
   "cell_type": "code",
   "execution_count": null,
   "id": "ddfdbab5",
   "metadata": {},
   "outputs": [],
   "source": []
  }
 ],
 "metadata": {
  "kernelspec": {
   "display_name": "Python 3 (ipykernel)",
   "language": "python",
   "name": "python3"
  },
  "language_info": {
   "codemirror_mode": {
    "name": "ipython",
    "version": 3
   },
   "file_extension": ".py",
   "mimetype": "text/x-python",
   "name": "python",
   "nbconvert_exporter": "python",
   "pygments_lexer": "ipython3",
   "version": "3.9.7"
  }
 },
 "nbformat": 4,
 "nbformat_minor": 5
}
