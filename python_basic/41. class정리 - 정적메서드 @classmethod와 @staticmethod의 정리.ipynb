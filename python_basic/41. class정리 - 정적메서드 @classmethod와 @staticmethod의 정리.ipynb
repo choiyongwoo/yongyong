{
 "cells": [
  {
   "cell_type": "code",
   "execution_count": 1,
   "id": "238b0acd",
   "metadata": {},
   "outputs": [
    {
     "name": "stdout",
     "output_type": "stream",
     "text": [
      "8 \n",
      "\n",
      "8 \n",
      "\n",
      "8 \n",
      "\n",
      "8\n",
      "8\n"
     ]
    }
   ],
   "source": [
    "#정적메서드(@classmethod와 @staticmethod)\n",
    "#클래스에서 직접 접근할 수 있는 메서드\n",
    "#파이썬에서는 다른언어와는 다르게 정적메서드임에도 불구하고 인스턴스에서도 접근이 가능\n",
    "from static_method import CustomClass\n",
    "\n",
    "#인스턴스 메서드안에서 인스턴스 변수 접근, 첫번째 인자에 객체를 할당해야함\n",
    "print(CustomClass.add_instance_method(None, 3, 5), '\\n')\n",
    "\n",
    "#classmethod 접근\n",
    "#첫번째 인자가 클래스지만 생략하고 접근\n",
    "print(CustomClass.add_static_method(3, 5), '\\n')\n",
    "\n",
    "#staticmethod 접근\n",
    "print(CustomClass.add_static_method(3, 5), '\\n')\n",
    "\n",
    "#classmethod도 staticmethod도 객체에서 접근가능\n",
    "a= CustomClass()\n",
    "print(a.add_class_method(3, 5))\n",
    "print(a.add_static_method(3, 5))\n"
   ]
  },
  {
   "cell_type": "code",
   "execution_count": 2,
   "id": "63047dfe",
   "metadata": {},
   "outputs": [
    {
     "name": "stdout",
     "output_type": "stream",
     "text": [
      "나의 언어는English\n",
      "나의 언어는한국어\n"
     ]
    }
   ],
   "source": [
    "# @classmethod와 @staticmethod의 차이\n",
    "#staticmethod에서는 부모클래스의 클래스 속성을 가져오지만,\n",
    "#classmethod에서는 cls인자를 활용하여 cls의 클래스 속성을 가져옴\n",
    "from language import *\n",
    "a= KoreanLanguage.static_my_language()\n",
    "b= KoreanLanguage.class_my_language()\n",
    "a.print_language()\n",
    "b.print_language()"
   ]
  },
  {
   "cell_type": "code",
   "execution_count": null,
   "id": "904ade5b",
   "metadata": {},
   "outputs": [],
   "source": []
  }
 ],
 "metadata": {
  "kernelspec": {
   "display_name": "Python 3 (ipykernel)",
   "language": "python",
   "name": "python3"
  },
  "language_info": {
   "codemirror_mode": {
    "name": "ipython",
    "version": 3
   },
   "file_extension": ".py",
   "mimetype": "text/x-python",
   "name": "python",
   "nbconvert_exporter": "python",
   "pygments_lexer": "ipython3",
   "version": "3.9.7"
  }
 },
 "nbformat": 4,
 "nbformat_minor": 5
}
