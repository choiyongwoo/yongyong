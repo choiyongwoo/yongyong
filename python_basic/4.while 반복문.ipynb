{
 "cells": [
  {
   "cell_type": "code",
   "execution_count": 1,
   "id": "26bfd15d",
   "metadata": {},
   "outputs": [
    {
     "name": "stdout",
     "output_type": "stream",
     "text": [
      "5\n",
      "4\n",
      "3\n",
      "2\n",
      "1\n"
     ]
    }
   ],
   "source": [
    "#while문\n",
    "#조건이 참(True)인 동안 계속 반복\n",
    "c=5\n",
    "while c!=0: #while c:와 동일 \n",
    "    print(c)\n",
    "    c-=1\n",
    "    \n",
    "#명시적인 코드가 더 좋음\n",
    "#무한 loop 발생시 ctrl + c로 빠져나올수 있음"
   ]
  },
  {
   "cell_type": "code",
   "execution_count": 3,
   "id": "e4916cbc",
   "metadata": {
    "scrolled": true
   },
   "outputs": [
    {
     "name": "stdout",
     "output_type": "stream",
     "text": [
      "숫자 입력1\n",
      "숫자 입력2\n",
      "숫자 입력10\n",
      "나머지가 0\n"
     ]
    }
   ],
   "source": [
    "#break문\n",
    "#while, for문과 같은 반복문안에서 특정 조건에서 반복문을 중단시키고 빠져나올때사용\n",
    "while True:\n",
    "    response= input('숫자 입력')\n",
    "    if int(response) %10 ==0:\n",
    "        print('나머지가 0')\n",
    "        break"
   ]
  },
  {
   "cell_type": "code",
   "execution_count": 5,
   "id": "53e1fb01",
   "metadata": {},
   "outputs": [
    {
     "name": "stdout",
     "output_type": "stream",
     "text": [
      "숫자를 입력1\n",
      "10으로 나눈 나머지 1\n",
      "숫자를 입력10\n",
      "숫자를 입력1\n",
      "10으로 나눈 나머지 1\n"
     ]
    }
   ],
   "source": [
    "#continue문\n",
    "#for와 while 반복문을 빠져나오지만 중단시키지 않고 다음 반복으로 넘어감\n",
    "c=2\n",
    "while c:\n",
    "    response= input('숫자를 입력')\n",
    "    result= int(response)% 10\n",
    "    if result==0:\n",
    "        continue\n",
    "    print('10으로 나눈 나머지 {}'.format(result))\n",
    "    c-=1"
   ]
  },
  {
   "cell_type": "code",
   "execution_count": null,
   "id": "7217974f",
   "metadata": {},
   "outputs": [],
   "source": []
  }
 ],
 "metadata": {
  "kernelspec": {
   "display_name": "Python 3 (ipykernel)",
   "language": "python",
   "name": "python3"
  },
  "language_info": {
   "codemirror_mode": {
    "name": "ipython",
    "version": 3
   },
   "file_extension": ".py",
   "mimetype": "text/x-python",
   "name": "python",
   "nbconvert_exporter": "python",
   "pygments_lexer": "ipython3",
   "version": "3.9.7"
  }
 },
 "nbformat": 4,
 "nbformat_minor": 5
}
