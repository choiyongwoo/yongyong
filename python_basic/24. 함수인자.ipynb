{
 "cells": [
  {
   "cell_type": "code",
   "execution_count": 36,
   "id": "fee7c456",
   "metadata": {},
   "outputs": [
    {
     "name": "stdout",
     "output_type": "stream",
     "text": [
      "키큰사람,바보\n",
      "잠이 많은사람,천재\n",
      "Wed Dec 15 14:53:37 2021\n",
      "Wed Dec 15 14:53:37 2021\n",
      "Wed Dec 15 14:53:37 2021\n",
      "['Hello, python', 'Head First Python', '파이썬 베이직']\n",
      "['파이썬 베이직']\n",
      "['파이썬 베이직', '파이썬 베이직']\n",
      "['파이썬 베이직', '파이썬 베이직', '파이썬 베이직']\n",
      "['파이썬 베이직']\n",
      "['파이썬 베이직']\n"
     ]
    }
   ],
   "source": [
    "#default value\n",
    "#파이썬 함수에서는 인자의 기본값을 설정할 수 있음\n",
    "#def function(a, b=value):\n",
    "    #...\n",
    "    \n",
    "#인자를 입력하면 그에 맞게 출력\n",
    "#인자를 입력하지 않으면 기본값 출력\n",
    "def define_suwoni(msg, nick='천재'):\n",
    "    print('{0},{1}'.format(msg, nick))\n",
    "\n",
    "define_suwoni('키큰사람', '바보')\n",
    "define_suwoni('잠이 많은사람')\n",
    "\n",
    "#default value는 함수가 실행될 때가 아닌, 정의된 함수가 처음 평가될 때\n",
    "#실행을 열번해도 결과값은 변하지 않음\n",
    "import time\n",
    "time.ctime()\n",
    "def show_time(now=time.ctime()):\n",
    "    print(now)\n",
    "\n",
    "show_time()\n",
    "show_time()\n",
    "show_time()\n",
    "\n",
    "#default value를 mutable 객체로 했을때 주의\n",
    "def add_book(book_list=[]):\n",
    "    book_list.append('파이썬 베이직')\n",
    "    return book_list\n",
    "\n",
    "book_list= ['Hello, python', 'Head First Python']\n",
    "print(add_book(book_list))\n",
    "print(add_book())\n",
    "print(add_book())\n",
    "print(add_book())\n",
    "\n",
    "#default value를 None으로 주고, None인 경우에만 값을 할당\n",
    "def add_book(book_list=None):\n",
    "    if book_list is None:\n",
    "        book_list= []\n",
    "    book_list.append('파이썬 베이직')\n",
    "    return book_list\n",
    "print(add_book())\n",
    "print(add_book())"
   ]
  },
  {
   "cell_type": "code",
   "execution_count": 18,
   "id": "bfddbab0",
   "metadata": {},
   "outputs": [
    {
     "name": "stdout",
     "output_type": "stream",
     "text": [
      "키튼사람,바보\n"
     ]
    }
   ],
   "source": [
    "#postional argument(위치 인자)\n",
    "#함수에서 정의한 위치대로 대입\n",
    "define_suwoni('키튼사람', '바보')"
   ]
  },
  {
   "cell_type": "code",
   "execution_count": 38,
   "id": "6e72ff6a",
   "metadata": {},
   "outputs": [
    {
     "name": "stdout",
     "output_type": "stream",
     "text": [
      "잠이 많은 사람,바보\n",
      "(2, 1, 3)\n",
      "(2, 1, 3)\n",
      "(2, 1, 3)\n"
     ]
    }
   ],
   "source": [
    "#keyword argument(키워드 인자)\n",
    "#키워드 인자를 사용하면 순서를 무시하ㅏ고 입력할 수 있음\n",
    "define_suwoni(nick='바보', msg= '잠이 많은 사람')\n",
    "\n",
    "#위치 인자와 키워드 인자 혼합해서 사용가능\n",
    "#혼합해서 사용하는 경우 위치 인자 뒤에 키워드 인자\n",
    "def abc(a, b, c):\n",
    "    return b, a, c\n",
    "\n",
    "print(abc(1, 2, 3))\n",
    "print(abc(1, 2, c=3))\n",
    "print(abc(1, c=3, b=2))\n",
    "#abc(a=1, 3, 2) 불가"
   ]
  },
  {
   "cell_type": "code",
   "execution_count": 41,
   "id": "b3f9c47a",
   "metadata": {},
   "outputs": [
    {
     "name": "stdout",
     "output_type": "stream",
     "text": [
      "(7, 5, 9)\n",
      "(5, 1, 9)\n",
      "(23, 43, 11)\n",
      "(1, 4, 8)\n",
      "(2, 8, 3)\n",
      "(33, 55, 22)\n"
     ]
    }
   ],
   "source": [
    "#위치 인자 언패킹\n",
    "#리스트나 튜플 같이 index가 존재하는 객체를 *표시를 붙여 인자로서 함수에 입력하면 함수의 정의된 위치에 맞게 입력됨\n",
    "def abc(a, b, c):\n",
    "    return b, a, c\n",
    "p=[5, 7, 9]\n",
    "print(abc(*p))\n",
    "\n",
    "#함수의 인자 수와 입력하는 객체의 수가 다르면 에러 발생\n",
    "#z= [5, 7]\n",
    "#abc(*z)\n",
    "\n",
    "#변수 대신 바로 입력할 수 있음\n",
    "print(abc(*(1, 5, 9)))\n",
    "\n",
    "#입력할 때 뿐만아니라, 정의할 때도 사용할 수 있음\n",
    "def abc(*args):\n",
    "    return args[1], args[0], args[2]\n",
    "\n",
    "print(abc(*(43, 23, 11)))\n",
    "\n",
    "#정의할때 위치인자 언패킹을 사용하면, 인자를 받는 수에 제한이 없음\n",
    "print(abc(*(4, 1, 8, 11)))\n",
    "print(abc(*(8, 2, 3, 11, 33, 55, 77)))\n",
    "\n",
    "#함수를 정의할 때, 고정 인자와 위치인자 언패킹을 함께 사용할 수 있음\n",
    "def abc(a, *args):\n",
    "    return args[0], a, args[1]\n",
    "\n",
    "print(abc(*(55, 33, 22)))\n",
    "\n",
    "#위치인자 언패킹할 인자는 반드시 뒤쪽에 위치해아 함, 아니면 함수 사용시 에러발생\n",
    "#def abc(*args, c):\n",
    "    #return args[1], args[0], c 불가\n"
   ]
  },
  {
   "cell_type": "code",
   "execution_count": 48,
   "id": "a169b5e3",
   "metadata": {},
   "outputs": [
    {
     "name": "stdout",
     "output_type": "stream",
     "text": [
      "출발지는: 서울\n",
      "도착지는 : LA\n",
      "비행시간은 : 10시간\n",
      "\n",
      "\n",
      "출발지는: 서울\n",
      "도착지는 : LA\n",
      "비행시간은 : 10시간\n",
      "\n",
      "\n",
      "출발지: 서울\n",
      "도착지: LA\n",
      "비행시간은: 10시간\n",
      "\n",
      "\n",
      "출발지: 서울\n",
      "도착지: LA\n",
      "비행시간 10시간\n"
     ]
    }
   ],
   "source": [
    "#키워드 인자 언패킹\n",
    "#키워드인자 언패킹은 키와 값이 있는 dictionary타입의 변수에 **표시를 해서 대입\n",
    "def air_line(departure, arrival, flighttime):\n",
    "    print('출발지는:', departure)\n",
    "    print('도착지는 :', arrival)\n",
    "    print('비행시간은 :', flighttime)\n",
    "    \n",
    "myflight= {'departure':'서울', 'arrival':'LA', 'flighttime':'10시간'}\n",
    "air_line(**myflight)\n",
    "\n",
    "print('\\n')\n",
    "#변수가 아닌 인자에 바로 값을 입력하고 언패킹 표시를 해줄 수 있음\n",
    "air_line(**{'departure':'서울', 'arrival':'LA', 'flighttime':'10시간'})\n",
    "\n",
    "print('\\n')\n",
    "\n",
    "#함수정의할 때 키워드 인자 언패킹 이용 가능\n",
    "def air_line(**kwargs):\n",
    "    print('출발지:', kwargs['departure'])\n",
    "    print('도착지:', kwargs['arrival'])\n",
    "    print('비행시간은:', kwargs['flighttime'])\n",
    "    \n",
    "air_line(**{'departure':'서울', 'arrival':'LA', 'flighttime':'10시간'})\n",
    "\n",
    "print('\\n')\n",
    "#함수를 정의할때, 고정인자와 키워드 인자 언패킹을 함께 사용할 수 있음\n",
    "#함께 쓸 경우 키워드 인자 언패킹을 뒤쪽에 사용해야 함\n",
    "def air_line(departure, **kwargs):\n",
    "    print('출발지:', departure)\n",
    "    print('도착지:', kwargs['arrival'])\n",
    "    print('비행시간', kwargs['flighttime'])\n",
    "air_line(**{'departure':'서울', 'arrival':'LA', 'flighttime':'10시간'})\n"
   ]
  },
  {
   "cell_type": "code",
   "execution_count": null,
   "id": "89de5905",
   "metadata": {},
   "outputs": [],
   "source": []
  }
 ],
 "metadata": {
  "kernelspec": {
   "display_name": "Python 3 (ipykernel)",
   "language": "python",
   "name": "python3"
  },
  "language_info": {
   "codemirror_mode": {
    "name": "ipython",
    "version": 3
   },
   "file_extension": ".py",
   "mimetype": "text/x-python",
   "name": "python",
   "nbconvert_exporter": "python",
   "pygments_lexer": "ipython3",
   "version": "3.9.7"
  }
 },
 "nbformat": 4,
 "nbformat_minor": 5
}
