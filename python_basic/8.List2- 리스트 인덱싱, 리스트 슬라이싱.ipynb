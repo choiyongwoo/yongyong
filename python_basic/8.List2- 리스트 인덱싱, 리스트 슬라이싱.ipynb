{
 "cells": [
  {
   "cell_type": "code",
   "execution_count": 3,
   "id": "807d8dd4",
   "metadata": {
    "scrolled": true
   },
   "outputs": [
    {
     "name": "stdout",
     "output_type": "stream",
     "text": [
      "['show', 'how', 'to', 'index', 'into', 'sequences']\n",
      "show\n",
      "index\n",
      "sequences\n",
      "show\n"
     ]
    }
   ],
   "source": [
    "#list indexing\n",
    "#파이썬에서 리스트 인덱싱은 -(음수 인덱싱) 값도 허용\n",
    "#-값은 역순으로 인덱싱\n",
    "s= 'show how to index into sequences'.split()\n",
    "print(s)\n",
    "print(s[0])\n",
    "print(s[3])\n",
    "print(s[-1])\n",
    "print(s[-6])"
   ]
  },
  {
   "cell_type": "code",
   "execution_count": 18,
   "id": "fa61edd9",
   "metadata": {
    "scrolled": true
   },
   "outputs": [
    {
     "name": "stdout",
     "output_type": "stream",
     "text": [
      "['how', 'to', 'index']\n",
      "['how', 'to', 'index', 'into']\n",
      "['index', 'into', 'sequences']\n",
      "['show', 'how', 'to']\n",
      "True\n",
      "['show', 'how', 'to', 'index', 'into', 'sequences']\n",
      "True\n",
      "False\n",
      "['show', 'how', 'to', 'index', 'into', 'sequences']\n",
      "['show', 'how', 'to', 'index', 'into', 'sequences']\n",
      "['show', 'to', 'into']\n",
      "['sequences', 'into', 'index', 'to', 'how', 'show']\n"
     ]
    }
   ],
   "source": [
    "#list slicing\n",
    "#리스트 변수[시작인덱스:종료인덱스:step], step생략 가능\n",
    "#종료 인덱스의 원소는 포함되지 않고 바로 앞 원소까지만 포함\n",
    "s= 'show how to index into sequences'.split()\n",
    "print(s[1:4])\n",
    "\n",
    "#음수 인덱싱도 슬라이싱에 사용할 수 있음\n",
    "print(s[1: -1])\n",
    "\n",
    "#시작인덱스부터 끝까지 포함시키기\n",
    "print(s[3:])\n",
    "\n",
    "#처음부터 특정인덱스까지 가져오기\n",
    "print(s[:3])\n",
    "\n",
    "print(s[:3]+s[3:]==s)\n",
    "\n",
    "#모든 값을 복사해서 새로운 list만들기\n",
    "full_slice= s[:]\n",
    "print(full_slice)\n",
    "\n",
    "#슬라이스를 통해 새롭게 만든 변수와 값은 같지만, 같은 변수는 아님\n",
    "print(full_slice==s)\n",
    "print(full_slice is s)\n",
    "\n",
    "#리스트를 복사하는 방법\n",
    "u= s.copy()\n",
    "v= s\n",
    "print(u)\n",
    "print(v)\n",
    "\n",
    "#step을 사용\n",
    "s= 'show how to index into sequences'.split()\n",
    "print(s[::2]) #모든 객체를 한칸씩 뛰면서 반환\n",
    "\n",
    "#step을 활용하여 리스트 reverse\n",
    "print(s[::-1])"
   ]
  },
  {
   "cell_type": "code",
   "execution_count": null,
   "id": "7ccaf81f",
   "metadata": {},
   "outputs": [],
   "source": []
  }
 ],
 "metadata": {
  "kernelspec": {
   "display_name": "Python 3 (ipykernel)",
   "language": "python",
   "name": "python3"
  },
  "language_info": {
   "codemirror_mode": {
    "name": "ipython",
    "version": 3
   },
   "file_extension": ".py",
   "mimetype": "text/x-python",
   "name": "python",
   "nbconvert_exporter": "python",
   "pygments_lexer": "ipython3",
   "version": "3.9.7"
  }
 },
 "nbformat": 4,
 "nbformat_minor": 5
}
