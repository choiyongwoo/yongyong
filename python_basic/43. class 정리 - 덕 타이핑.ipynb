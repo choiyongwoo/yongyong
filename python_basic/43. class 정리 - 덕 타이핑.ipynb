{
 "cells": [
  {
   "cell_type": "code",
   "execution_count": 2,
   "id": "aef2434e",
   "metadata": {},
   "outputs": [
    {
     "name": "stdout",
     "output_type": "stream",
     "text": [
      "Parrot flying\n",
      "Airplane flying\n"
     ]
    }
   ],
   "source": [
    "#덕타이핑\n",
    "#파이썬과 같은 동적타입의 언어에서 본질적으로 다른 클래스라도\n",
    "#객체의 적합성은 객체의 실제 유형이 아니라 특정 메서드와 속성의 존재에 의해 결정\n",
    "class Parrot:\n",
    "    def fly(self):\n",
    "        print('Parrot flying')\n",
    "        \n",
    "class Airplane:\n",
    "    def fly(self):\n",
    "        print('Airplane flying')\n",
    "\n",
    "class Whale:\n",
    "    def swim(self):\n",
    "        print('Whale swimming')\n",
    "\n",
    "def lift_off(entity):\n",
    "    entity.fly()\n",
    "\n",
    "parrot= Parrot()\n",
    "airplane= Airplane()\n",
    "whale= Whale()\n",
    "lift_off(parrot)\n",
    "lift_off(airplane)\n",
    "#lift_off(whale) AttributeError발생\n",
    "\n",
    "#Parrot클래스와 Airplane 클래스는 분명 서로 상속되거나 하는 그런\n",
    "#관계는 없지만 내부에 동일한 메서드의 fly()가 있는 것만으로 호출하는 함수에서 fly가 정상적으로 실행\n",
    "#속성과 메서드 존재에 의해 객체의 적합성이 결정\n"
   ]
  },
  {
   "cell_type": "code",
   "execution_count": null,
   "id": "dd67a69b",
   "metadata": {},
   "outputs": [],
   "source": []
  }
 ],
 "metadata": {
  "kernelspec": {
   "display_name": "Python 3 (ipykernel)",
   "language": "python",
   "name": "python3"
  },
  "language_info": {
   "codemirror_mode": {
    "name": "ipython",
    "version": 3
   },
   "file_extension": ".py",
   "mimetype": "text/x-python",
   "name": "python",
   "nbconvert_exporter": "python",
   "pygments_lexer": "ipython3",
   "version": "3.9.7"
  }
 },
 "nbformat": 4,
 "nbformat_minor": 5
}
