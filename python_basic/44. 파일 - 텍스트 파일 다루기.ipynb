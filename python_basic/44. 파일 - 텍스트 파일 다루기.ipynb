{
 "cells": [
  {
   "cell_type": "code",
   "execution_count": 1,
   "id": "036b58f9",
   "metadata": {},
   "outputs": [],
   "source": [
    "#파이썬에서 파일 다룰때는 기본 내장함수 open사용\n",
    "# open(file, mode='r', buffering=-1, encoding=None, errors=None, newline=None, closefd=True, opener=None)\n",
    "#첫번째 인수 file경로만이 필수\n",
    "\n",
    "#open()의 인자\n",
    "#file: 파일 경로\n",
    "#mode: 파일이 열리는 모드\n",
    "#'r': 읽기용(default)\n",
    "#'w': 쓰기 위해 열기\n",
    "#'x': 베타적 생성을 위해 열리고, 이미 존재하는 경우 실패\n",
    "#'a': 쓰기를 위해 열려 있고, 파일의 끝에 추가하는 경우 추가\n",
    "#'b': 2진모드(바이너리 모드)\n",
    "#'t': 텍스트 모드(기본값)\n",
    "#'+': 업데이트(읽기 및 쓰기)를 위한 디스크 파일 열기\n",
    "\n",
    "#buffering: 버퍼링끄기는 0, 라인모드는 1, 고정크기로 보내려면 임의의 바이트수를 1보다 큰 양의 수 로 입력\n",
    "\n",
    "#파일 객체는 반드시 열고 작업이 완료되면 반드시 파일을 닫아야 함\n",
    "#파일을 닫지 않으면 버퍼링되어 있는 데이터는 기록되지 않고 소실될 수 있음\n",
    "#file 객체의 close()메서드 사용"
   ]
  },
  {
   "cell_type": "code",
   "execution_count": 4,
   "id": "8b118816",
   "metadata": {},
   "outputs": [],
   "source": [
    "#파일쓰기\n",
    "#mode를 작성할때, r,w,a 세가지중 하나와 t(텍스트)와 b(바이너리) 둘중하나와 반드시 결합해야 하며, 나머지는 optional\n",
    "f= open('test.txt', mode='wt', encoding='utf-8')\n",
    "f.write('파이썬으로 파일을 작성하고 있음.')\n",
    "f.write('newline 문자로 개행.\\n')\n",
    "f.write('개행이 잘되었나요?')\n",
    "f.close()"
   ]
  },
  {
   "cell_type": "code",
   "execution_count": 15,
   "id": "73edacfe",
   "metadata": {},
   "outputs": [],
   "source": [
    "#파일 읽기\n",
    "#mode='rt'\n",
    "#read(글자수)로 파일을 읽음\n",
    "r= open('test.txt', mode='rt', encoding='utf-8')\n",
    "r.read(10)\n",
    "r.read(10)\n",
    "r.read(50)\n",
    "\n",
    "#다 읽은 후에는 빈 문자가 반환\n",
    "\n",
    "#다시 포인터를 맨앞으로 가져가려면 seek(포인터위치) 메서드를 사용\n",
    "r.seek(0)\n",
    "\n",
    "#파일 내용 전체를 리턴받으려면 read메서드를 인수 없이 사용\n",
    "r.read()\n",
    "r.seek(0)\n",
    "\n",
    "#readlien()메서드로 line별로 읽기\n",
    "r.readline()\n",
    "r.readline()\n",
    "\n",
    "#readlines()메서드는 파일의 라인별로 리스트 형태로 리턴\n",
    "r.seek(0)\n",
    "r.readlines()\n",
    "r.close()"
   ]
  },
  {
   "cell_type": "code",
   "execution_count": 17,
   "id": "ac4e33d5",
   "metadata": {},
   "outputs": [],
   "source": [
    "#파일 추가하기\n",
    "#mode='at'\n",
    "a= open('test.txt', mode='at', encoding='utf-8')\n",
    "a.writelines(['writelines로 추가.', '내부 원소는 개행이 안되는 군요.', '개행을하려면 개행문자를 입력해야함. \\n', '마지막에는 안붙여도 개행문자가...'])\n",
    "a.close()"
   ]
  },
  {
   "cell_type": "code",
   "execution_count": 20,
   "id": "39f19232",
   "metadata": {},
   "outputs": [
    {
     "name": "stdout",
     "output_type": "stream",
     "text": [
      "파이썬으로 파일을 작성하고 있음.newline 문자로 개행.\n",
      "\n",
      "개행이 잘되었나요?writelines로 추가.내부 원소는 개행이 안되는 군요.개행을하려면 개행문자를 입력해야함. \n",
      "\n",
      "마지막엔ㄴ 안붙여도 개행문자가...writelines로 추가.내부 원소는 개행이 안되는 군요.개행을하려면 개행문자를 입력해야함. \n",
      "\n",
      "마지막에는 안붙여도 개행문자가...\n"
     ]
    }
   ],
   "source": [
    "#iterable 한 파일 객체의 특성을 이용한 읽기\n",
    "import collections\n",
    "r= open('test.txt', mode='rt', encoding='utf-8')\n",
    "isinstance(r, collections.Iterable)\n",
    "\n",
    "#for문을 통해 라인별로 읽음\n",
    "for line in r:\n",
    "    print(line)\n",
    "r.close()"
   ]
  },
  {
   "cell_type": "code",
   "execution_count": null,
   "id": "564fcfdc",
   "metadata": {},
   "outputs": [],
   "source": []
  }
 ],
 "metadata": {
  "kernelspec": {
   "display_name": "Python 3 (ipykernel)",
   "language": "python",
   "name": "python3"
  },
  "language_info": {
   "codemirror_mode": {
    "name": "ipython",
    "version": 3
   },
   "file_extension": ".py",
   "mimetype": "text/x-python",
   "name": "python",
   "nbconvert_exporter": "python",
   "pygments_lexer": "ipython3",
   "version": "3.9.7"
  }
 },
 "nbformat": 4,
 "nbformat_minor": 5
}
