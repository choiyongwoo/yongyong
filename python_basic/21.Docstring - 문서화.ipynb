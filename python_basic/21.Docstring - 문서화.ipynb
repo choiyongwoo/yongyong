{
 "cells": [
  {
   "cell_type": "code",
   "execution_count": 1,
   "id": "85035d38",
   "metadata": {},
   "outputs": [
    {
     "name": "stdout",
     "output_type": "stream",
     "text": [
      "Help on function fetch_words in module words:\n",
      "\n",
      "fetch_words()\n",
      "    url주소에서 파일을 가져와 단어 리스트를 반환\n",
      "    :param url: 불러올 url\n",
      "    :return:\n",
      "\n",
      "Help on module words:\n",
      "\n",
      "NAME\n",
      "    words\n",
      "\n",
      "DESCRIPTION\n",
      "    URL로부터 파일을 가져와 단어를 print 함.\n",
      "    Usage:\n",
      "            \n",
      "            \n",
      "            python words.py<URL>\n",
      "\n",
      "FUNCTIONS\n",
      "    fetch_words()\n",
      "        url주소에서 파일을 가져와 단어 리스트를 반환\n",
      "        :param url: 불러올 url\n",
      "        :return:\n",
      "    \n",
      "    main()\n",
      "        url을 받아 단어를 print함\n",
      "        :param url:url\n",
      "        :return:\n",
      "    \n",
      "    print_words(story_words)\n",
      "        items를 print\n",
      "        :param items:\n",
      "        :return:\n",
      "\n",
      "FILE\n",
      "    /storage/emulated/0/practice/python_data_structure/number/python_basic/words.py\n",
      "\n",
      "\n"
     ]
    }
   ],
   "source": [
    "#docstring은 모듈, 함수, 클래스 또는 메서드 정의의 첫번째 명령문으로 발생하는 문자열 리터럴\n",
    "\n",
    "#docstring 작성\n",
    "#module 첫번째줄, 함수 선언후 내부 바로 아랫줄 또는 클래스 선언후 내부 바로 아랫줄에 큰따옴표 3개나 작은따옴표 3개로 작성\n",
    "#class CustomClass:\n",
    "#'''\n",
    "#클래스의 문서화 내용을 입력\n",
    "#'''\n",
    "#    def custom_function(param):\n",
    "#        '''\n",
    "#        함수의 문서화 내용을 입력합니다\n",
    "#        '''\n",
    "\n",
    "#REPL을 실행하고, words.py에서 fetch_words함수를 import\n",
    "#help함수에서 fetch_words함수의 docstring내용을 확인할 수 있음\n",
    "from words import fetch_words\n",
    "help(fetch_words)\n",
    "\n",
    "#fetch_words함수 속성으로 __doc__속성이 추가\n",
    "from words import fetch_words\n",
    "fetch_words.__doc__\n",
    "\n",
    "#모듈 전체를 import\n",
    "#module의 docstring은 물론 내부 모든 함수의 docstring을 확인할 수 있음\n",
    "import words\n",
    "help(words)"
   ]
  },
  {
   "cell_type": "code",
   "execution_count": null,
   "id": "7dbb2e2b",
   "metadata": {},
   "outputs": [],
   "source": []
  }
 ],
 "metadata": {
  "kernelspec": {
   "display_name": "Python 3 (ipykernel)",
   "language": "python",
   "name": "python3"
  },
  "language_info": {
   "codemirror_mode": {
    "name": "ipython",
    "version": 3
   },
   "file_extension": ".py",
   "mimetype": "text/x-python",
   "name": "python",
   "nbconvert_exporter": "python",
   "pygments_lexer": "ipython3",
   "version": "3.9.7"
  }
 },
 "nbformat": 4,
 "nbformat_minor": 5
}
