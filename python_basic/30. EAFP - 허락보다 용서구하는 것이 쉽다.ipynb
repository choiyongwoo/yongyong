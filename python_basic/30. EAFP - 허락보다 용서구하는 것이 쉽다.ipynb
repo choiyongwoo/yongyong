{
 "cells": [
  {
   "cell_type": "code",
   "execution_count": 1,
   "id": "f925f4aa",
   "metadata": {},
   "outputs": [],
   "source": [
    "#LBYL - Look Before You Leap의 줄임말, 도약하기전에 봐라\n",
    "#LBYL스타일은 어떤 것을 실행하기전에 에러가 날만한 요소들을 조건절로 검사를 하고 수행하는 스타일\n",
    "#EAFP 스타일은 예외처리를 활용하여 검사를 수행하지 않고 일단 실행하고 예외처리를 진행하는 스타일\n",
    "#파이썬은 EAFP스타일을 권장\n",
    "\n",
    "#LBYL 코딩 스타일\n",
    "# if key in dic:\n",
    "    #process(dic[key])\n",
    "# else:\n",
    "    #process(None)\n",
    "#As an expression:\n",
    "#process(dic[key] if key in dic else None)\n",
    "\n",
    "#EAFP 코딩 스타일\n",
    "#try:\n",
    "    #process(dic[key])\n",
    "#except keyError:\n",
    "    #process(None)\n",
    "#As an expression:\n",
    "#process(dic[key] except KeyError: None)"
   ]
  },
  {
   "cell_type": "code",
   "execution_count": null,
   "id": "9d6c6ae0",
   "metadata": {},
   "outputs": [],
   "source": []
  }
 ],
 "metadata": {
  "kernelspec": {
   "display_name": "Python 3 (ipykernel)",
   "language": "python",
   "name": "python3"
  },
  "language_info": {
   "codemirror_mode": {
    "name": "ipython",
    "version": 3
   },
   "file_extension": ".py",
   "mimetype": "text/x-python",
   "name": "python",
   "nbconvert_exporter": "python",
   "pygments_lexer": "ipython3",
   "version": "3.9.7"
  }
 },
 "nbformat": 4,
 "nbformat_minor": 5
}
