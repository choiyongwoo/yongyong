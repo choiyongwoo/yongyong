{
 "cells": [
  {
   "cell_type": "code",
   "execution_count": 1,
   "id": "c79a74ce",
   "metadata": {},
   "outputs": [],
   "source": [
    "#inheritance - 상속\n",
    "#클래스에서 상속이란, 물려주는 클래스의 내용을 물려받는 클래스가 가지게 되는 것\n",
    "#자식클래스를 선언할때 소괄호로 부모클래스를 포함\n",
    "#자식클래스에서는 부모클래스의 속성과 메서드는 기재하지 않아도 포함됨\n",
    "#class 부모클래스:\n",
    "    #...내용...\n",
    "#class 자식클래스(부모클래스):\n",
    "    #...내용..."
   ]
  },
  {
   "cell_type": "code",
   "execution_count": 4,
   "id": "3799f340",
   "metadata": {},
   "outputs": [
    {
     "name": "stdout",
     "output_type": "stream",
     "text": [
      "국가 클래스의 메서드입니다.\n",
      "국가 이름은: 대한민국\n",
      "수도\n",
      "대한민국\n"
     ]
    }
   ],
   "source": [
    "#상속받은 서브 클래스에서는 상속해준 슈퍼 클래스의 속성과 메서드를 모두 사용할 수 있음을 확인\n",
    "from inheritance import *\n",
    "a= Korea('대한민국')\n",
    "a.show()\n",
    "a.show_name()\n",
    "print(a.capital)\n",
    "print(a.name)"
   ]
  },
  {
   "cell_type": "code",
   "execution_count": 1,
   "id": "a2b42869",
   "metadata": {},
   "outputs": [
    {
     "name": "stdout",
     "output_type": "stream",
     "text": [
      "국가의 이름은대한민국 \n",
      "국가의 인구는 50000000 \n",
      " 국가의 수도는 서울\n"
     ]
    }
   ],
   "source": [
    "#메서드 오버라이딩\n",
    "#일반적인 메서드 오버라이딩\n",
    "#메서드 오버라이딩은 부모클래스의 메서드를 자식 클래스에서 재정의 하는것\n",
    "from overriding import *\n",
    "a= Korea('대한민국', 50000000, '서울')\n",
    "a.show()"
   ]
  },
  {
   "cell_type": "code",
   "execution_count": 2,
   "id": "6e0c8ed7",
   "metadata": {},
   "outputs": [
    {
     "name": "stdout",
     "output_type": "stream",
     "text": [
      "국가 클래스의 메서드입니다.\n",
      "국가의 이름은대한민국 \n",
      "국가의 인구는 50000000 \n",
      " 국가의 수도는 서울\n"
     ]
    }
   ],
   "source": [
    "#부모 메서드 호출\n",
    "#부모 클래스의 메서드 수행할때 super()라는 키워드를 사용하면 자식클래스 내에서 부모클래스 호출 \n",
    "from overriding1 import *\n",
    "a= Korea('대한민국', 50000000, '서울')\n",
    "a.show()"
   ]
  },
  {
   "cell_type": "code",
   "execution_count": 3,
   "id": "22a8e636",
   "metadata": {},
   "outputs": [],
   "source": [
    "#다중상속\n",
    "#class 부모클래스1:\n",
    "    #...\n",
    "#class 부모클래스2:\n",
    "    #...\n",
    "#class 자식클래스(부모클래스1, 부모클래스2):\n",
    "    #..."
   ]
  },
  {
   "cell_type": "code",
   "execution_count": 4,
   "id": "cfd5cfc0",
   "metadata": {},
   "outputs": [
    {
     "data": {
      "text/plain": [
       "[overriding1.Korea, overriding1.Country, object]"
      ]
     },
     "execution_count": 4,
     "metadata": {},
     "output_type": "execute_result"
    }
   ],
   "source": [
    "#mro() 메서드: 클래스를 작성하면 상속관계를 확인할 수 있는 메서드\n",
    "Korea.mro()"
   ]
  },
  {
   "cell_type": "code",
   "execution_count": null,
   "id": "02c3cd45",
   "metadata": {},
   "outputs": [],
   "source": []
  }
 ],
 "metadata": {
  "kernelspec": {
   "display_name": "Python 3 (ipykernel)",
   "language": "python",
   "name": "python3"
  },
  "language_info": {
   "codemirror_mode": {
    "name": "ipython",
    "version": 3
   },
   "file_extension": ".py",
   "mimetype": "text/x-python",
   "name": "python",
   "nbconvert_exporter": "python",
   "pygments_lexer": "ipython3",
   "version": "3.9.7"
  }
 },
 "nbformat": 4,
 "nbformat_minor": 5
}
