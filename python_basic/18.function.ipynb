{
 "cells": [
  {
   "cell_type": "code",
   "execution_count": 1,
   "id": "dfa8b7fc",
   "metadata": {},
   "outputs": [],
   "source": [
    "#functioin\n",
    "#프로그래밍 코드를 작성할 때 반복되는 코드를 줄여주기 위해 특정 코드를 함수안에 정의하고,\n",
    "#그 코드를 함수명칭을 호출함으로써 코드를 실행하게 해줌\n",
    "#return은 생략될 수 있음\n",
    "#def 함수명(파라미터):\n",
    "    #실행될 코드\n",
    "    #return 결과 값"
   ]
  },
  {
   "cell_type": "code",
   "execution_count": null,
   "id": "354713fd",
   "metadata": {},
   "outputs": [],
   "source": [
    "#간단한 function 작성\n",
    "def square(x):\n",
    "    return x*x\n",
    "\n",
    "print(square(5))\n",
    "\n",
    "#return 생략\n",
    "def eat_dinner():\n",
    "    print('저녁 잘 먹었습니다')\n",
    "\n",
    "eat_dinner()\n",
    "\n",
    "#return을 결과값을 반환하지 않고, 함수의 종료목적으로만 사용할 수 있음\n",
    "def even_or_odd(n):\n",
    "    if n%2==0:\n",
    "        print('even')\n",
    "        return \n",
    "    print('odd')\n",
    "    \n",
    "even_or_odd(3)\n",
    "even_or_odd(4)"
   ]
  },
  {
   "cell_type": "code",
   "execution_count": null,
   "id": "a62e51bf",
   "metadata": {},
   "outputs": [],
   "source": []
  }
 ],
 "metadata": {
  "kernelspec": {
   "display_name": "Python 3 (ipykernel)",
   "language": "python",
   "name": "python3"
  },
  "language_info": {
   "codemirror_mode": {
    "name": "ipython",
    "version": 3
   },
   "file_extension": ".py",
   "mimetype": "text/x-python",
   "name": "python",
   "nbconvert_exporter": "python",
   "pygments_lexer": "ipython3",
   "version": "3.9.7"
  }
 },
 "nbformat": 4,
 "nbformat_minor": 5
}
