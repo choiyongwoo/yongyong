{
 "cells": [
  {
   "cell_type": "code",
   "execution_count": 6,
   "id": "101baa70",
   "metadata": {},
   "outputs": [
    {
     "name": "stdout",
     "output_type": "stream",
     "text": [
      "{1: 5, 2: 3}\n",
      "{(1, 5): 5, (3, 3): 3}\n",
      "1\n",
      "{'abc': 5, 'def': 2}\n",
      "{'abc': 5, 'def': 2, 'ghi': 999}\n"
     ]
    }
   ],
   "source": [
    "#dictionary\n",
    "#딕셔너리 타입은 immutable한 key와 mutable한 값으로 매핑되어 있는 순서가 없는 집합\n",
    "a= {'b':1, 'c':2}\n",
    "\n",
    "#키로는 immutable한 값은 사용할 수 있지만, mutable한 객체는 사용할 수 없음\n",
    "a={1:5, 2:3} #int 사용\n",
    "print(a)\n",
    "\n",
    "a={(1, 5):5, (3, 3): 3} #tuple사용\n",
    "print(a)\n",
    "\n",
    "#float, bool 사용가능\n",
    "\n",
    "#mutable 객체인 set, list, dict 사용 불가\n",
    "#값은 중복될 수 있지만, 키가 중복되면 마지막 값으로 덮어씌워짐\n",
    "\n",
    "#순서가 없기때문에 인덱스로 접근할 수 없고, 키로 접근할 수 있음\n",
    "d= {'abc':1, 'def':2}\n",
    "print(d['abc'])\n",
    "\n",
    "#mutalbe한 객체이므로 key로 접근하여 값을 변경할 수 있음\n",
    "d['abc']= 5\n",
    "print(d)\n",
    "\n",
    "#새로운 키와 값을 추가할 수 있음\n",
    "d['ghi']= 999\n",
    "print(d)"
   ]
  },
  {
   "cell_type": "code",
   "execution_count": 9,
   "id": "b536e1e6",
   "metadata": {},
   "outputs": [
    {
     "name": "stdout",
     "output_type": "stream",
     "text": [
      "<class 'dict'>\n",
      "<class 'dict'>\n",
      "{'alice': 5, 'bob': 20, 'tony': 15, 'suzy': 30}\n"
     ]
    }
   ],
   "source": [
    "#dictionary 선언\n",
    "#딕셔너리 선언할때는 빈 중괄호 사용(set도 중괄호를 사용하지만 빈중괄호로 선언하면 dict)\n",
    "e={}\n",
    "print(type(e))\n",
    "f=dict()\n",
    "print(type(f))\n",
    "\n",
    "#dict constructor를 통해서 바로 key와 값을 할당하며 선언할 수 있음\n",
    "newdict= dict(alice=5, bob=20, tony=15, suzy=30)\n",
    "print(newdict)\n"
   ]
  },
  {
   "cell_type": "code",
   "execution_count": 13,
   "id": "ad8b27b0",
   "metadata": {},
   "outputs": [
    {
     "name": "stdout",
     "output_type": "stream",
     "text": [
      "{'alice': 5, 'Bob': 13}\n",
      "{'alice': 5, 'Bob': 13}\n",
      "{'alice': 5, 'Bob': 13}\n",
      "{'alice': 5, 'Bob': 13}\n"
     ]
    }
   ],
   "source": [
    "#dictionary 변환\n",
    "#리스트 속에 리스트나 튜플, 튜플속에 리스트나 튜플의 값을 키와 value를 나란히 입력하면, dict로 변형할 수 있음\n",
    "name_and_ages= [['alice', 5], ['Bob', 13]]\n",
    "print(dict(name_and_ages))\n",
    "\n",
    "name_and_ages=[('alice', 5), ('Bob', 13)]\n",
    "print(dict(name_and_ages))\n",
    "\n",
    "name_and_ages= (('alice', 5), ('Bob', 13))\n",
    "print(dict(name_and_ages))\n",
    "\n",
    "name_and_ages= (['alice', 5], ['Bob', 13])\n",
    "print(dict(name_and_ages))\n",
    "\n"
   ]
  },
  {
   "cell_type": "code",
   "execution_count": 20,
   "id": "e1942db4",
   "metadata": {},
   "outputs": [
    {
     "name": "stdout",
     "output_type": "stream",
     "text": [
      "{'alice': [1, 2, 3, 5], 'bob': 20, 'tony': 15, 'suzy': 30}\n",
      "{'alice': [1, 2, 3, 5], 'bob': 20, 'tony': 15, 'suzy': 30}\n",
      "\n",
      " {'alice': [1, 2, 3], 'bob': 20, 'tony': 15, 'suzy': 30} 539462725568\n",
      "{'alice': [1, 2, 3], 'bob': 20, 'tony': 15, 'suzy': 30} 539425357312\n",
      "\n",
      " {'alice': [1, 2, 3], 'bob': 20, 'tony': 15, 'suzy': 30}\n",
      "{'alice': [1, 2, 3, 5], 'bob': 20, 'tony': 15, 'suzy': 30}\n"
     ]
    }
   ],
   "source": [
    "#dictionary 복사\n",
    "#얕은 복사1\n",
    "a= {'alice': [1, 2, 3], 'bob': 20, 'tony': 15, 'suzy': 30}\n",
    "b= a.copy()\n",
    "b['alice'].append(5)\n",
    "print(a)\n",
    "print(b)\n",
    "\n",
    "#얕은 복사2\n",
    "a= {'alice': [1, 2, 3], 'bob': 20, 'tony': 15, 'suzy': 30}\n",
    "b= dict(a)\n",
    "print('\\n',a, id(a)) #id는 다르지만 각 원소가 향하는 주소가 같음\n",
    "print(b, id(b))\n",
    "\n",
    "#깊은 복사\n",
    "import copy\n",
    "a= {'alice': [1, 2, 3], 'bob': 20, 'tony': 15, 'suzy': 30}\n",
    "b= copy.deepcopy(a)\n",
    "b['alice'].append(5)\n",
    "print('\\n',a)\n",
    "print(b)"
   ]
  },
  {
   "cell_type": "code",
   "execution_count": 22,
   "id": "106ecb37",
   "metadata": {},
   "outputs": [
    {
     "name": "stdout",
     "output_type": "stream",
     "text": [
      "{'alice': 5, 'bob': 20, 'tony': 15, 'suzy': 30}\n",
      "{'alice': [1, 2, 3], 'bob': 99, 'tony': 99, 'suzy': 30, 'kim': 30}\n"
     ]
    }
   ],
   "source": [
    "#dictionary update\n",
    "#단일 수정은 키로 접근하여 값을 할당\n",
    "a= {'alice': [1, 2, 3], 'bob': 20, 'tony': 15, 'suzy': 30}\n",
    "a['alice']= 5\n",
    "print(a)\n",
    "\n",
    "#여러값 수정은 update메소드 사용, 키가 없는 값이면 추가됨\n",
    "a= {'alice': [1, 2, 3], 'bob': 20, 'tony': 15, 'suzy': 30}\n",
    "a.update({'bob':99, 'tony':99, 'kim':30})\n",
    "print(a)"
   ]
  },
  {
   "cell_type": "code",
   "execution_count": 27,
   "id": "2ea8f20e",
   "metadata": {},
   "outputs": [
    {
     "name": "stdout",
     "output_type": "stream",
     "text": [
      "alice\n",
      "bob\n",
      "tony\n",
      "suzy\n",
      "\n",
      "\n",
      "[1, 2, 3]\n",
      "20\n",
      "15\n",
      "30\n",
      "\n",
      "\n",
      "key= alice, value=[1, 2, 3]\n",
      "key= bob, value=20\n",
      "key= tony, value=15\n",
      "key= suzy, value=30\n"
     ]
    }
   ],
   "source": [
    "#dictionary for문\n",
    "#for 문을 통해 딕셔너리를 for문을 돌리면 key값이 할당\n",
    "a= {'alice': [1, 2, 3], 'bob': 20, 'tony': 15, 'suzy': 30}\n",
    "for key in a:\n",
    "    print(key)\n",
    "    \n",
    "print('\\n')\n",
    "\n",
    "#value값으로 for문 반복\n",
    "for val in a.values():\n",
    "    print(val)\n",
    "\n",
    "print('\\n')\n",
    "\n",
    "#key와 value를 한꺼번에 for문 반복\n",
    "for key, val in a.items(): #(key, val)과 동일\n",
    "    print('key= {key}, value={value}'.format(key=key, value=val))"
   ]
  },
  {
   "cell_type": "code",
   "execution_count": 28,
   "id": "4411e1ff",
   "metadata": {},
   "outputs": [
    {
     "name": "stdout",
     "output_type": "stream",
     "text": [
      "True\n",
      "False\n"
     ]
    }
   ],
   "source": [
    "#dictionary의 in\n",
    "#dictionary의 in은 키에 한해서 동작\n",
    "print('alice' in a)\n",
    "print('teacher' in a)"
   ]
  },
  {
   "cell_type": "code",
   "execution_count": 29,
   "id": "5fe27945",
   "metadata": {},
   "outputs": [
    {
     "name": "stdout",
     "output_type": "stream",
     "text": [
      "{'bob': 20, 'tony': 15, 'suzy': 30}\n"
     ]
    }
   ],
   "source": [
    "#dictionary의 요소 삭제\n",
    "#del 키워드 사용\n",
    "a= {'alice': [1, 2, 3], 'bob': 20, 'tony': 15, 'suzy': 30}\n",
    "del a['alice']\n",
    "print(a)"
   ]
  },
  {
   "cell_type": "code",
   "execution_count": 30,
   "id": "5c48bb9e",
   "metadata": {},
   "outputs": [
    {
     "name": "stdout",
     "output_type": "stream",
     "text": [
      "{'alice': [1, 2, 3], 'bob': 20, 'tony': 15, 'suzy': 30}\n",
      "{'alice': [1, 2, 3], 'bob': 20, 'suzy': 30, 'tony': 15}\n"
     ]
    }
   ],
   "source": [
    "#dictionary를 읽기 쉽게 표현해주는 pprint\n",
    "from pprint import pprint as pp\n",
    "a= {'alice': [1, 2, 3], 'bob': 20, 'tony': 15, 'suzy': 30}\n",
    "print(a)\n",
    "pp(a)"
   ]
  },
  {
   "cell_type": "code",
   "execution_count": null,
   "id": "4b324055",
   "metadata": {},
   "outputs": [],
   "source": []
  }
 ],
 "metadata": {
  "kernelspec": {
   "display_name": "Python 3 (ipykernel)",
   "language": "python",
   "name": "python3"
  },
  "language_info": {
   "codemirror_mode": {
    "name": "ipython",
    "version": 3
   },
   "file_extension": ".py",
   "mimetype": "text/x-python",
   "name": "python",
   "nbconvert_exporter": "python",
   "pygments_lexer": "ipython3",
   "version": "3.9.7"
  }
 },
 "nbformat": 4,
 "nbformat_minor": 5
}
