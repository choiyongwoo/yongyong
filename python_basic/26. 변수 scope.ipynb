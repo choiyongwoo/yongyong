{
 "cells": [
  {
   "cell_type": "code",
   "execution_count": 1,
   "id": "36b10fa1",
   "metadata": {},
   "outputs": [
    {
     "name": "stdout",
     "output_type": "stream",
     "text": [
      "5\n"
     ]
    }
   ],
   "source": [
    "#java & c#, Javascript, Python 변수 스코프가 조금씩 차이가 있음\n",
    "def abc():\n",
    "    if True:\n",
    "        a= 5\n",
    "    print(a)\n",
    "abc()\n",
    "\n",
    "#if 바깥에서는 접근 가능\n",
    "#함수 바깥에서는 접근 불가능\n"
   ]
  },
  {
   "cell_type": "code",
   "execution_count": 3,
   "id": "35cc0e68",
   "metadata": {},
   "outputs": [
    {
     "name": "stdout",
     "output_type": "stream",
     "text": [
      "10 10 30\n",
      "22 10 30\n",
      "1 in global\n",
      "5 in foo()\n"
     ]
    }
   ],
   "source": [
    "#LEGB Rule\n",
    "#파이썬 변수 scope 룰을 LEGB룰이라고 부르기도 함\n",
    "#변수가 값을 찾을 때, Local->Enclosed->Global->Built-in\n",
    "#local- 가장 가까운 함수 안 범위\n",
    "#Enclosed - 파이썬은 함수안에 함수가 정의될 수 있는데, 가장 가까운 함수가 아닌 두번째 이상의 가까운 함수범위\n",
    "#Global - 함수 바깥의 변수 또는 import 된 module\n",
    "#Built-in - 파이썬안에 내장되어 있는 함수 또는 속성\n",
    "a= 5 #Global\n",
    "b= 10#Global\n",
    "def outer():\n",
    "    a= 10 #outer함수의 local, inner 함수의 Enclosed\n",
    "    def inner():\n",
    "        c= 30 #inner 함수의 local\n",
    "        print(a, b, c)\n",
    "    inner()\n",
    "    a= 22 #outer함수의 local, inner함수의 Enclosed\n",
    "    inner()\n",
    "outer()\n",
    "\n",
    "#똑같은 변수가 local과 global에 선언되어 있을 경우, LEGB rule에 따라 local우선 사용\n",
    "i= 1\n",
    "def foo():\n",
    "    i=5\n",
    "    print(i, 'in foo()')\n",
    "\n",
    "print(i, 'in global')\n",
    "foo()"
   ]
  },
  {
   "cell_type": "code",
   "execution_count": 10,
   "id": "d7a0b02d",
   "metadata": {},
   "outputs": [
    {
     "name": "stdout",
     "output_type": "stream",
     "text": [
      "loc in foo() True\n",
      "loc in global False\n",
      "glob in global True\n",
      "foo in global True\n",
      "math in global True\n"
     ]
    }
   ],
   "source": [
    "#locals()와 globals()\n",
    "#로컬변수를 확인하는 locals(), 글로벌변수를 확인하는 globals()\n",
    "glob= 1\n",
    "def foo():\n",
    "    loc= 5\n",
    "    print('loc in foo()', 'loc' in locals())\n",
    "\n",
    "foo() #loc은 로컬변수\n",
    "print('loc in global', 'loc' in globals())\n",
    "print('glob in global', 'glob' in globals())#glob은 글로벌 변수\n",
    "print('foo in global', 'foo' in globals())#foo는 글로벌변수\n",
    "\n",
    "#globals()로 import모듈도 global변수임을 확인\n",
    "import math\n",
    "print('math in global', 'math' in globals())\n"
   ]
  },
  {
   "cell_type": "code",
   "execution_count": 13,
   "id": "a4c18cd3",
   "metadata": {},
   "outputs": [
    {
     "name": "stdout",
     "output_type": "stream",
     "text": [
      "count 0\n",
      "count 0\n",
      "count: 5\n"
     ]
    }
   ],
   "source": [
    "#global 키워드\n",
    "#global 변수를 사용함으로써 실수할 수 있는 예\n",
    "count= 0\n",
    "def show_count():\n",
    "    print('count', count)\n",
    "\n",
    "def set_count(c):#global변수를 바꾸는게 아니라 local에서 새롭게 변수할당 하는것\n",
    "    count= c\n",
    "show_count()\n",
    "set_count(5)\n",
    "show_count()\n",
    "\n",
    "#global 키워드 사용\n",
    "#global키워드는 함수 내부에서 로컬변수가 아닌 글로벌 변수를 사용하게 해줌\n",
    "count= 0\n",
    "def show_count():\n",
    "    print('count:', count)\n",
    "\n",
    "def set_count(c):\n",
    "    global count\n",
    "    count= c\n",
    "\n",
    "set_count(5)\n",
    "show_count()"
   ]
  },
  {
   "cell_type": "code",
   "execution_count": null,
   "id": "dfa65764",
   "metadata": {},
   "outputs": [],
   "source": []
  }
 ],
 "metadata": {
  "kernelspec": {
   "display_name": "Python 3 (ipykernel)",
   "language": "python",
   "name": "python3"
  },
  "language_info": {
   "codemirror_mode": {
    "name": "ipython",
    "version": 3
   },
   "file_extension": ".py",
   "mimetype": "text/x-python",
   "name": "python",
   "nbconvert_exporter": "python",
   "pygments_lexer": "ipython3",
   "version": "3.9.7"
  }
 },
 "nbformat": 4,
 "nbformat_minor": 5
}
