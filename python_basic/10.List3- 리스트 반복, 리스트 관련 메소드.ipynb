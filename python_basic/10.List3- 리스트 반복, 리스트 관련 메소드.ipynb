{
 "cells": [
  {
   "cell_type": "code",
   "execution_count": 2,
   "id": "6f0047f2",
   "metadata": {},
   "outputs": [
    {
     "name": "stdout",
     "output_type": "stream",
     "text": [
      "[5, 3, 5, 3, 5, 3]\n",
      "[[2, 5, 7], [2, 5, 7], [2, 5, 7]]\n"
     ]
    }
   ],
   "source": [
    "#list Repetition(리스트 반복)\n",
    "a= [5, 3]\n",
    "b= a*3\n",
    "print(b)\n",
    "\n",
    "#리스트 반복도 얕은 복사\n",
    "a=[[2, 5]]*3\n",
    "a[0].append(7)\n",
    "print(a)"
   ]
  },
  {
   "cell_type": "code",
   "execution_count": 5,
   "id": "8ccb5225",
   "metadata": {},
   "outputs": [
    {
     "name": "stdout",
     "output_type": "stream",
     "text": [
      "1\n",
      "2\n"
     ]
    },
    {
     "data": {
      "text/plain": [
       "True"
      ]
     },
     "execution_count": 5,
     "metadata": {},
     "output_type": "execute_result"
    }
   ],
   "source": [
    "#list관련 메소드 및 연산\n",
    "#index: list안에서 해당 item의 index번호를 리턴, 없는 경우 ValueError\n",
    "a= ['서울', '인천', '대전' ,'제주도']\n",
    "print(a.index('인천'))\n",
    "\n",
    "#count: 매칭되는 갯수를 리턴\n",
    "a= [1, 5, 5, 3, 7, 0, 1, 2]\n",
    "print(a.count(5))\n",
    "\n",
    "#in절로 list안에 포함되어 있는지 확인\n",
    "35 in [1, 35 ,90, 100]"
   ]
  },
  {
   "cell_type": "code",
   "execution_count": null,
   "id": "dbbd0eb3",
   "metadata": {},
   "outputs": [],
   "source": []
  }
 ],
 "metadata": {
  "kernelspec": {
   "display_name": "Python 3 (ipykernel)",
   "language": "python",
   "name": "python3"
  },
  "language_info": {
   "codemirror_mode": {
    "name": "ipython",
    "version": 3
   },
   "file_extension": ".py",
   "mimetype": "text/x-python",
   "name": "python",
   "nbconvert_exporter": "python",
   "pygments_lexer": "ipython3",
   "version": "3.9.7"
  }
 },
 "nbformat": 4,
 "nbformat_minor": 5
}
