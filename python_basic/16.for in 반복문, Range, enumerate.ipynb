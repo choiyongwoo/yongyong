{
 "cells": [
  {
   "cell_type": "code",
   "execution_count": 10,
   "id": "e5687184",
   "metadata": {},
   "outputs": [
    {
     "name": "stdout",
     "output_type": "stream",
     "text": [
      "1\n",
      "3\n",
      "5\n",
      "7\n",
      "\n",
      "\n",
      "a\n",
      "b\n",
      "\n",
      "\n",
      "1\n",
      "1\n"
     ]
    }
   ],
   "source": [
    "#for in 반복문\n",
    "#python에서는 for in 문 한가지 방식의 for 문만 제공\n",
    "#iterable은 멤버를 하나씩 반환가능한 객체(ex. list, string, tuple)\n",
    "#for item in iterable:\n",
    "    #반복할 구문\n",
    "#iterable 객체인지 판별을 위해서 collections.Iterable제공\n",
    "#isinstance함수는 첫번째 파라미터가 두번째 파라미터의 instance이면 True반환\n",
    "\n",
    "import collections\n",
    "\n",
    "#iterable 한 타입\n",
    "var_list= [1, 3, 5, 7]\n",
    "isinstance(var_list, collections.Iterable)\n",
    "\n",
    "var_dict={'a':1, 'b':1}\n",
    "isinstance(var_dict, collections.Iterable)\n",
    "\n",
    "#str, bytes형, tuple, range, set 모두 iterable 객체\n",
    "\n",
    "#iterable하지 않은 타입\n",
    "var_int= 932\n",
    "isinstance(var_int, collections.Iterable)\n",
    "\n",
    "#float, None 모두 iterable 하지 않은 객체\n",
    "\n",
    "for i in var_list:\n",
    "    print(i)\n",
    "    \n",
    "print('\\n')\n",
    "\n",
    "for i in var_dict:\n",
    "    print(i) #key가 출력됨\n",
    "\n",
    "print('\\n')\n",
    "\n",
    "for i in var_dict.values():\n",
    "    print(i) #value가 출력됨\n",
    "    \n"
   ]
  },
  {
   "cell_type": "code",
   "execution_count": 18,
   "id": "ad83f12d",
   "metadata": {},
   "outputs": [
    {
     "name": "stdout",
     "output_type": "stream",
     "text": [
      "<class 'range'>\n",
      "0\n",
      "1\n",
      "2\n",
      "3\n",
      "4\n",
      "[5, 6, 7, 8, 9]\n",
      "(5, 6, 7, 8, 9) \n",
      "\n",
      "[5, 7, 9]\n",
      "1\n",
      "3\n",
      "5\n"
     ]
    }
   ],
   "source": [
    "#range\n",
    "#range(시작숫자, 종료숫자, step) 리스트 슬라이싱과 유사\n",
    "#시작 숫자부터 종료숫자 바로 앞 숫자까지 컬렉션을 만듦\n",
    "print(type(range(5)))\n",
    "for i in range(5):\n",
    "    print(i)\n",
    "    \n",
    "#range는 값을 확인하기 위해서 다른 순서 있는 컬렉션으로 변환해야함\n",
    "print(list(range(5, 10)))\n",
    "print(tuple(range(5, 10)), '\\n')\n",
    "\n",
    "#step사용\n",
    "print(list(range(5, 10, 2)))\n",
    "\n",
    "#파이썬에서 권장하는 패턴\n",
    "s= [1, 3, 5]\n",
    "for v in s:\n",
    "    print(v)"
   ]
  },
  {
   "cell_type": "code",
   "execution_count": 20,
   "id": "3d2a3e74",
   "metadata": {},
   "outputs": [
    {
     "name": "stdout",
     "output_type": "stream",
     "text": [
      "(0, 1)\n",
      "(1, 5)\n",
      "(2, 7)\n",
      "(3, 33)\n",
      "(4, 39)\n",
      "(5, 52)\n",
      "index: 0, value1\n",
      "index: 1, value5\n",
      "index: 2, value7\n",
      "index: 3, value33\n",
      "index: 4, value39\n",
      "index: 5, value52\n"
     ]
    }
   ],
   "source": [
    "#enumerate\n",
    "#반복문 사용 시 몇 번째 반복문인지 확인할 때 사용\n",
    "#인덱스 번호와 컬렉션의 원소를 tuple형태로 반환\n",
    "t= [1, 5, 7, 33, 39, 52]\n",
    "for p in enumerate(t):\n",
    "    print(p)\n",
    "\n",
    "#tuple형태 반환 이용\n",
    "for i, v in enumerate(t): #(i, v)와 동일\n",
    "    print('index: {0}, value{1}'.format(i, v))"
   ]
  },
  {
   "cell_type": "code",
   "execution_count": null,
   "id": "9b7af941",
   "metadata": {},
   "outputs": [],
   "source": []
  }
 ],
 "metadata": {
  "kernelspec": {
   "display_name": "Python 3 (ipykernel)",
   "language": "python",
   "name": "python3"
  },
  "language_info": {
   "codemirror_mode": {
    "name": "ipython",
    "version": 3
   },
   "file_extension": ".py",
   "mimetype": "text/x-python",
   "name": "python",
   "nbconvert_exporter": "python",
   "pygments_lexer": "ipython3",
   "version": "3.9.7"
  }
 },
 "nbformat": 4,
 "nbformat_minor": 5
}
