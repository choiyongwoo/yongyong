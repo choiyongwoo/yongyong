{
 "cells": [
  {
   "cell_type": "code",
   "execution_count": 8,
   "id": "eed9a9fc",
   "metadata": {},
   "outputs": [
    {
     "name": "stdout",
     "output_type": "stream",
     "text": [
      "[6, 7, 5, 10, 1]\n",
      "[1, 5, 6, 7, 10]\n",
      "[10, 7, 6, 5, 1]\n",
      "['나는', '파이썬을', '잘하고', '싶다']\n",
      "['나는', '싶다', '잘하고', '파이썬을']\n"
     ]
    }
   ],
   "source": [
    "#list 본체 정렬\n",
    "#reverse: 리스트를 거꾸로 뒤집음, desc정렬이 아님\n",
    "a= [1, 10, 5, 7, 6]\n",
    "a.reverse()\n",
    "print(a)\n",
    "\n",
    "#sort: 정렬, 기본값은 오름차순 정렬\n",
    "a= [1, 10, 5, 7, 6]\n",
    "a.sort()\n",
    "print(a)\n",
    "a=[1, 10, 5, 7, 6]\n",
    "a.sort(reverse=True)\n",
    "print(a)\n",
    "\n",
    "#sort의 key옵션, key옵션에 지정된 함수의 결과에 따라 정렬\n",
    "m= '나는 파이썬을 잘하고 싶다'\n",
    "m= m.split()\n",
    "print(m)\n",
    "m.sort(key=len)\n",
    "print(m)"
   ]
  },
  {
   "cell_type": "code",
   "execution_count": 11,
   "id": "8bd0813e",
   "metadata": {},
   "outputs": [
    {
     "name": "stdout",
     "output_type": "stream",
     "text": [
      "[1, 11, 2, 3]\n",
      "[1, 2, 3, 11]\n",
      "[1, 11, 2, 3]\n",
      "[3, 2, 11, 1]\n"
     ]
    }
   ],
   "source": [
    "#list 정렬된 결과 반환\n",
    "#정렬된 결과를 반환, 본체는 변형하지 않음\n",
    "#sorted: 순서대로 정렬, 정렬된 리스트를 반환\n",
    "x= [1, 11, 2, 3]\n",
    "y= sorted(x)\n",
    "print(x)\n",
    "print(y)\n",
    "\n",
    "#reversed: 거꾸로 뒤집기, iterable한 객체를 반환, 확인을 위해서는 list로 한번 더 변형 필요\n",
    "x= [1, 11, 2, 3]\n",
    "y= reversed(x)\n",
    "print(x)\n",
    "print(list(y))"
   ]
  },
  {
   "cell_type": "code",
   "execution_count": null,
   "id": "ac16ede9",
   "metadata": {},
   "outputs": [],
   "source": []
  }
 ],
 "metadata": {
  "kernelspec": {
   "display_name": "Python 3 (ipykernel)",
   "language": "python",
   "name": "python3"
  },
  "language_info": {
   "codemirror_mode": {
    "name": "ipython",
    "version": 3
   },
   "file_extension": ".py",
   "mimetype": "text/x-python",
   "name": "python",
   "nbconvert_exporter": "python",
   "pygments_lexer": "ipython3",
   "version": "3.9.7"
  }
 },
 "nbformat": 4,
 "nbformat_minor": 5
}
