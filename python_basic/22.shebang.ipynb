{
 "cells": [
  {
   "cell_type": "code",
   "execution_count": 1,
   "id": "480daa4b",
   "metadata": {},
   "outputs": [],
   "source": [
    "#shebang\n",
    "#sharp(#)+bang(!) 합성어\n",
    "#unix계열 os에서 스크립트 코드 최상단에서 해당 파일을 해석해줄 인터프리터의 절대경로 지정\n",
    "#!인터프리터 절대경로\n",
    "#일반적으로 사용할 수 있는 방법이 /usr/bin/env+ 언어 식으로 입력"
   ]
  },
  {
   "cell_type": "code",
   "execution_count": null,
   "id": "6c78f1ce",
   "metadata": {},
   "outputs": [],
   "source": []
  }
 ],
 "metadata": {
  "kernelspec": {
   "display_name": "Python 3 (ipykernel)",
   "language": "python",
   "name": "python3"
  },
  "language_info": {
   "codemirror_mode": {
    "name": "ipython",
    "version": 3
   },
   "file_extension": ".py",
   "mimetype": "text/x-python",
   "name": "python",
   "nbconvert_exporter": "python",
   "pygments_lexer": "ipython3",
   "version": "3.9.7"
  }
 },
 "nbformat": 4,
 "nbformat_minor": 5
}
