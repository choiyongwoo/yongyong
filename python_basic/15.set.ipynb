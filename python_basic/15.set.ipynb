{
 "cells": [
  {
   "cell_type": "code",
   "execution_count": 3,
   "id": "4adc5c39",
   "metadata": {},
   "outputs": [
    {
     "name": "stdout",
     "output_type": "stream",
     "text": [
      "<class 'set'>\n",
      "{'1', 3, (1, 3), 5}\n"
     ]
    }
   ],
   "source": [
    "#set\n",
    "#순서가 없고, 집합안에서는 unique한 값을 가짐\n",
    "#mutable 객체\n",
    "s= {3, 5, 7}\n",
    "print(type(s))\n",
    "\n",
    "#set 내부 원소는 다양한 값을 함께 가질 수 있지만, mutable한 값을 가질 수 없음\n",
    "s= {'1', 3, 5, (1, 3)}\n",
    "print(s)\n",
    "#s= {'1', 3, 5, [1, 3]}\n"
   ]
  },
  {
   "cell_type": "code",
   "execution_count": 7,
   "id": "83813d4f",
   "metadata": {},
   "outputs": [
    {
     "name": "stdout",
     "output_type": "stream",
     "text": [
      "<class 'dict'>\n",
      "<class 'set'>\n",
      "{1, 3, 5, 7}\n",
      "{1, 3, 5, 7}\n",
      "32\n",
      "1\n",
      "2\n",
      "4\n",
      "8\n",
      "16\n"
     ]
    }
   ],
   "source": [
    "#set 선언\n",
    "#list나 dict의 경우 대괄호나 중괄호로 선언할 수 있지만\n",
    "#dict가 중괄호를 사용하므로 중괄호 만으로 생성할 수 없음\n",
    "s= {}\n",
    "print(type(s))\n",
    "s= set()\n",
    "print(type(s))\n",
    "\n",
    "#set 생성자에 iterable한 객체를 넣으면 변환하여 set을 만들어줌\n",
    "s= set([1, 3, 5, 7])\n",
    "print(s)\n",
    "p= {1, 3, 5, 7}\n",
    "\n",
    "#중복된 값은 자동으로 중복이 제거\n",
    "s= {1, 5, 1, 1, 1, 3, 7}\n",
    "print(s)\n",
    "\n",
    "#set은 순서가 없음, 어떤 값이 먼저 나올지 알 수 없음\n",
    "for i in {1, 2, 4, 8, 16, 32}:\n",
    "    print(i)"
   ]
  },
  {
   "cell_type": "code",
   "execution_count": 8,
   "id": "1c0a7381",
   "metadata": {},
   "outputs": [
    {
     "name": "stdout",
     "output_type": "stream",
     "text": [
      "False\n",
      "True\n"
     ]
    }
   ],
   "source": [
    "#set의 in\n",
    "s= {3, 4, 5}\n",
    "print(1 in s)\n",
    "print(3 in s)"
   ]
  },
  {
   "cell_type": "code",
   "execution_count": 10,
   "id": "1d4d7d84",
   "metadata": {},
   "outputs": [
    {
     "name": "stdout",
     "output_type": "stream",
     "text": [
      "{105, 50, 100}\n"
     ]
    }
   ],
   "source": [
    "#set의 원소추가\n",
    "#add 메서드 사용\n",
    "k= {100, 105}\n",
    "k.add(50)\n",
    "print(k)"
   ]
  },
  {
   "cell_type": "code",
   "execution_count": 11,
   "id": "59eb094d",
   "metadata": {},
   "outputs": [
    {
     "name": "stdout",
     "output_type": "stream",
     "text": [
      "{1, 2, 3, 4, 5}\n"
     ]
    }
   ],
   "source": [
    "#set의 update\n",
    "#여러데이터를 한번에 추가할 때 사용\n",
    "k= {1, 2, 3}\n",
    "k.update([3, 4, 5])\n",
    "print(k)"
   ]
  },
  {
   "cell_type": "code",
   "execution_count": 14,
   "id": "5a019dac",
   "metadata": {},
   "outputs": [
    {
     "name": "stdout",
     "output_type": "stream",
     "text": [
      "{1, 2}\n",
      "\n",
      " {1, 2}\n",
      "{1, 2}\n"
     ]
    }
   ],
   "source": [
    "#set의 원소제거\n",
    "#remove: item에 해당하는 원소를 제거하고, 없으면 KeyError발생\n",
    "k= {1, 2, 3}\n",
    "k.remove(3)\n",
    "print(k)\n",
    "\n",
    "#discard(item): item에 해당하는 원소를 제거하고, 없어도 에러 발생하지 않음\n",
    "k= {1, 2, 3}\n",
    "k.discard(3)\n",
    "print('\\n',k)\n",
    "k.discard(3)\n",
    "print(k)"
   ]
  },
  {
   "cell_type": "code",
   "execution_count": 17,
   "id": "a8ad75bf",
   "metadata": {},
   "outputs": [
    {
     "name": "stdout",
     "output_type": "stream",
     "text": [
      "{1, 3, 5}\n",
      "501862337888 501661549504\n",
      "{1, 3, 5}\n"
     ]
    }
   ],
   "source": [
    "#set의 복사\n",
    "#set내부의 값은 불변의 값만 들어올 수 있기에 얕은 복사와 깊은 복사의 구분이 필요 없음\n",
    "s= {1, 3, 5}\n",
    "t= s.copy()\n",
    "print(t)\n",
    "print(id(s), id(t))\n",
    "\n",
    "#dictionary처럼 생성자로 복사할 수 있음\n",
    "s= {1, 3, 5}\n",
    "t= set(s)\n",
    "print(t)"
   ]
  },
  {
   "cell_type": "code",
   "execution_count": 22,
   "id": "46c574d1",
   "metadata": {},
   "outputs": [
    {
     "name": "stdout",
     "output_type": "stream",
     "text": [
      "{1, 2, 3, 4, 5, 6, 7}\n",
      "{3, 4, 5}\n",
      "{1, 2}\n",
      "{1, 2, 6, 7}\n"
     ]
    }
   ],
   "source": [
    "#set연산 - 연산자\n",
    "#|: 합집합 연산자\n",
    "a={1, 2, 3, 4, 5}\n",
    "b={3, 4, 5, 6, 7}\n",
    "c=a|b\n",
    "print(c)\n",
    "\n",
    "#&: 교집합 연산자\n",
    "a= {1, 2, 3, 4, 5}\n",
    "b= {3, 4, 5, 6, 7}\n",
    "c= a&b\n",
    "print(c)\n",
    "\n",
    "#-: 차집합 연산자\n",
    "a= {1, 2, 3, 4, 5}\n",
    "b= {3, 4, 5, 6, 7}\n",
    "c= a-b\n",
    "print(c)\n",
    "\n",
    "#^: 대칭차집합 연산자(합집합 - 교집합)\n",
    "a= {1, 2, 3, 4, 5}\n",
    "b= {3, 4, 5, 6, 7}\n",
    "c= a^b\n",
    "print(c)\n",
    "\n",
    "#|=, &=, -=, ^=: 연산과 동시에 할당\n",
    "#id변환되지 않음"
   ]
  },
  {
   "cell_type": "code",
   "execution_count": 23,
   "id": "e7043971",
   "metadata": {},
   "outputs": [
    {
     "name": "stdout",
     "output_type": "stream",
     "text": [
      "{1, 2, 3, 4, 5, 6, 7}\n"
     ]
    }
   ],
   "source": [
    "#set - 연산메서드\n",
    "#union: 합집합\n",
    "a= {1, 2, 3, 4, 5}\n",
    "b= {3, 4, 5, 6, 7}\n",
    "c= a.union(b)\n",
    "print(c)\n",
    "\n",
    "#intersection: 교집합\n",
    "#difference: 차집합\n",
    "#symmetric_difference: 대칭차집합(합집합- 교집합)\n"
   ]
  },
  {
   "cell_type": "code",
   "execution_count": 25,
   "id": "e3b7572e",
   "metadata": {},
   "outputs": [
    {
     "name": "stdout",
     "output_type": "stream",
     "text": [
      "False\n",
      "True\n"
     ]
    }
   ],
   "source": [
    "#set - 기타 메서드\n",
    "#issubset: 부분집합 여부 확인\n",
    "a= {1, 2, 3, 4, 5}\n",
    "b= {1, 2, 3}\n",
    "print(a.issubset(b))\n",
    "print(b.issubset(a))\n",
    "\n",
    "#issuperset: issubset과 반대, superset인지 확인\n",
    "#isdisjoint: 교집합이 없으면 True, 있으면 False"
   ]
  },
  {
   "cell_type": "code",
   "execution_count": null,
   "id": "72b5bdfd",
   "metadata": {},
   "outputs": [],
   "source": []
  }
 ],
 "metadata": {
  "kernelspec": {
   "display_name": "Python 3 (ipykernel)",
   "language": "python",
   "name": "python3"
  },
  "language_info": {
   "codemirror_mode": {
    "name": "ipython",
    "version": 3
   },
   "file_extension": ".py",
   "mimetype": "text/x-python",
   "name": "python",
   "nbconvert_exporter": "python",
   "pygments_lexer": "ipython3",
   "version": "3.9.7"
  }
 },
 "nbformat": 4,
 "nbformat_minor": 5
}
