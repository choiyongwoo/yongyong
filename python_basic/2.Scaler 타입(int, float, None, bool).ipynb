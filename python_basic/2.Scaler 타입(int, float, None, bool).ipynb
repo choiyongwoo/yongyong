{
 "cells": [
  {
   "cell_type": "code",
   "execution_count": 1,
   "id": "3b4678fc",
   "metadata": {},
   "outputs": [
    {
     "data": {
      "text/plain": [
       "10"
      ]
     },
     "execution_count": 1,
     "metadata": {},
     "output_type": "execute_result"
    }
   ],
   "source": [
    "#Scaler 타입\n",
    "#int\n",
    "10"
   ]
  },
  {
   "cell_type": "code",
   "execution_count": 2,
   "id": "530808b8",
   "metadata": {},
   "outputs": [
    {
     "data": {
      "text/plain": [
       "2"
      ]
     },
     "execution_count": 2,
     "metadata": {},
     "output_type": "execute_result"
    }
   ],
   "source": [
    "0b10 #0b 2진수"
   ]
  },
  {
   "cell_type": "code",
   "execution_count": 3,
   "id": "58d46505",
   "metadata": {},
   "outputs": [
    {
     "data": {
      "text/plain": [
       "8"
      ]
     },
     "execution_count": 3,
     "metadata": {},
     "output_type": "execute_result"
    }
   ],
   "source": [
    "0o10 #0o 8진수"
   ]
  },
  {
   "cell_type": "code",
   "execution_count": 4,
   "id": "53c20e33",
   "metadata": {},
   "outputs": [
    {
     "data": {
      "text/plain": [
       "16"
      ]
     },
     "execution_count": 4,
     "metadata": {},
     "output_type": "execute_result"
    }
   ],
   "source": [
    "0x10 #0x 16진수"
   ]
  },
  {
   "cell_type": "code",
   "execution_count": 11,
   "id": "22a4df23",
   "metadata": {},
   "outputs": [
    {
     "name": "stdout",
     "output_type": "stream",
     "text": [
      "3\n",
      "-3\n",
      "1\n",
      "0\n",
      "500\n",
      "27\n"
     ]
    }
   ],
   "source": [
    "#다른 타입의 값을 int로 변환\n",
    "print(int(3.5))\n",
    "print(int(-3.5))\n",
    "print(int(True))\n",
    "print(int(False))\n",
    "print(int('500'))\n",
    "print(int('1000',3)) #변환시에 3진수로 반환"
   ]
  },
  {
   "cell_type": "code",
   "execution_count": 20,
   "id": "9baab6f2",
   "metadata": {
    "scrolled": true
   },
   "outputs": [
    {
     "name": "stdout",
     "output_type": "stream",
     "text": [
      "300000000.0\n",
      "300000000.0\n",
      "116.72\n",
      "1.616e-10 \n",
      "\n",
      "7.0\n",
      "1.618\n",
      "1.0\n",
      "0.0\n",
      "nan\n",
      "inf\n",
      "-inf\n",
      "4.0\n"
     ]
    }
   ],
   "source": [
    "#float\n",
    "print(3e+8)\n",
    "print(3e8)\n",
    "print(1.1672e+2)\n",
    "print(1.616e-10,'\\n')\n",
    "\n",
    "print(float(7))\n",
    "print(float('1.618'))\n",
    "print(float(True))\n",
    "print(float(False))\n",
    "print(float('nan'))\n",
    "print(float('inf'))\n",
    "print(float('-inf'))\n",
    "print(3.0+1) #실수와 정수의 덧셈은 실수"
   ]
  },
  {
   "cell_type": "code",
   "execution_count": 21,
   "id": "fecb33fd",
   "metadata": {},
   "outputs": [
    {
     "data": {
      "text/plain": [
       "True"
      ]
     },
     "execution_count": 21,
     "metadata": {},
     "output_type": "execute_result"
    }
   ],
   "source": [
    "#None\n",
    "#None은 값이 없음을 의미\n",
    "a=None\n",
    "a is None"
   ]
  },
  {
   "cell_type": "code",
   "execution_count": 27,
   "id": "01411eae",
   "metadata": {},
   "outputs": [
    {
     "name": "stdout",
     "output_type": "stream",
     "text": [
      "False\n",
      "True\n",
      "True\n",
      "True \n",
      "\n",
      "False\n",
      "True \n",
      "\n",
      "False\n",
      "True \n",
      "\n",
      "False\n",
      "False\n",
      "True\n"
     ]
    }
   ],
   "source": [
    "#bool\n",
    "print(bool(0)) #0값이 False, 나머지는 True\n",
    "print(bool(1))\n",
    "print(bool(2))\n",
    "print(bool(-1), '\\n')\n",
    "print(bool(0.0))\n",
    "print(bool(0.201), '\\n') #0.0값만 False\n",
    "print(bool(''))\n",
    "print(bool('abce'), '\\n') #empty value만 False\n",
    "print(bool([])) \n",
    "print(bool({}))\n",
    "print(bool([0])) #list, set, dictionary타입, 빈값은 False\n",
    "\n"
   ]
  },
  {
   "cell_type": "code",
   "execution_count": null,
   "id": "4b3ab178",
   "metadata": {},
   "outputs": [],
   "source": []
  }
 ],
 "metadata": {
  "kernelspec": {
   "display_name": "Python 3 (ipykernel)",
   "language": "python",
   "name": "python3"
  },
  "language_info": {
   "codemirror_mode": {
    "name": "ipython",
    "version": 3
   },
   "file_extension": ".py",
   "mimetype": "text/x-python",
   "name": "python",
   "nbconvert_exporter": "python",
   "pygments_lexer": "ipython3",
   "version": "3.9.7"
  }
 },
 "nbformat": 4,
 "nbformat_minor": 5
}
