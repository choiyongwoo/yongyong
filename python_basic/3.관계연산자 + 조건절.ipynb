{
 "cells": [
  {
   "cell_type": "code",
   "execution_count": 1,
   "id": "95cbacc3",
   "metadata": {},
   "outputs": [],
   "source": [
    "#관계연산자\n",
    "# == 두 피연산자가 같으면 True\n",
    "# != 두 피연산자가 같지 않으면 True\n",
    "# < 왼쪽 연산자가 작으면 True\n",
    "# > 왼쪽 연산자가 크면 True\n",
    "# <= 왼쪽 연산자가 작거나 같으면 True\n",
    "# >= 왼쪽 연산자가 크거나 같으면 True"
   ]
  },
  {
   "cell_type": "code",
   "execution_count": 5,
   "id": "2752d1c5",
   "metadata": {},
   "outputs": [
    {
     "name": "stdout",
     "output_type": "stream",
     "text": [
      "무조건 실행\n",
      "문자열 값이 있으면 True\n",
      "50보다 같거나 작으면 실행\n",
      "50보다 같거나 작고, 20과 같거나 크면 실행\n"
     ]
    }
   ],
   "source": [
    "#조건절\n",
    "if True:\n",
    "    print('무조건 실행')\n",
    "\n",
    "if False:\n",
    "    print('무조건 실행')\n",
    "\n",
    "if '문자열':\n",
    "    print('문자열 값이 있으면 True')\n",
    "\n",
    "if '':\n",
    "    print('문자열 값이 비었으면 False')\n",
    "    \n",
    "\n",
    "h=50\n",
    "if h>50:\n",
    "    print('50보다 크면 실행')\n",
    "else:\n",
    "    print('50보다 같거나 작으면 실행')\n",
    "    \n",
    "if h>50:\n",
    "    print('50보다 크면 실행')\n",
    "elif h<20: #다른언어는 else if이나 파이썬은 elif\n",
    "    print('20보다 작으면 실행')\n",
    "else:\n",
    "    print('50보다 같거나 작고, 20과 같거나 크면 실행')\n"
   ]
  },
  {
   "cell_type": "code",
   "execution_count": null,
   "id": "d0a010d2",
   "metadata": {},
   "outputs": [],
   "source": []
  }
 ],
 "metadata": {
  "kernelspec": {
   "display_name": "Python 3 (ipykernel)",
   "language": "python",
   "name": "python3"
  },
  "language_info": {
   "codemirror_mode": {
    "name": "ipython",
    "version": 3
   },
   "file_extension": ".py",
   "mimetype": "text/x-python",
   "name": "python",
   "nbconvert_exporter": "python",
   "pygments_lexer": "ipython3",
   "version": "3.9.7"
  }
 },
 "nbformat": 4,
 "nbformat_minor": 5
}
