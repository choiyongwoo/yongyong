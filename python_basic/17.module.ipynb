{
 "cells": [
  {
   "cell_type": "code",
   "execution_count": 1,
   "id": "5229e6ea",
   "metadata": {},
   "outputs": [],
   "source": [
    "#module\n",
    "#파이썬 코드로 이루어진 파일, 함수나 변수, 클래스등의 코드가 들어있음\n",
    "#이렇게 파일로 이루어진 모듈은 다른 파이썬 파일 그리고 다른 실행환경에서 import하여 사용할 수 있음\n"
   ]
  }
 ],
 "metadata": {
  "kernelspec": {
   "display_name": "Python 3 (ipykernel)",
   "language": "python",
   "name": "python3"
  },
  "language_info": {
   "codemirror_mode": {
    "name": "ipython",
    "version": 3
   },
   "file_extension": ".py",
   "mimetype": "text/x-python",
   "name": "python",
   "nbconvert_exporter": "python",
   "pygments_lexer": "ipython3",
   "version": "3.9.7"
  }
 },
 "nbformat": 4,
 "nbformat_minor": 5
}
