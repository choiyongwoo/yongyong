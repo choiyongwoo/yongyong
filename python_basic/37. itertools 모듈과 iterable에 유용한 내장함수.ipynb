{
 "cells": [
  {
   "cell_type": "code",
   "execution_count": 5,
   "id": "db0a0356",
   "metadata": {},
   "outputs": [
    {
     "name": "stdout",
     "output_type": "stream",
     "text": [
      "True\n",
      "False \n",
      "\n",
      "2\n",
      "3\n",
      "5 \n",
      "\n",
      "대한민국\n",
      "스웨덴\n",
      "미국\n",
      "서울\n",
      "스톡홀름\n",
      "워싱턴\n"
     ]
    }
   ],
   "source": [
    "#itertools\n",
    "#itertools모듈에는 반복 가능한 데이터 스트림을 처리하는데 유용한 많은 함수와 제네레이터가 포함\n",
    "#소수를 구하는 함수\n",
    "def is_prime(x):\n",
    "    if x>1:\n",
    "        for i in range(2, x):\n",
    "            if x %i== 0:\n",
    "                return False\n",
    "    else:\n",
    "        return False\n",
    "    return True\n",
    "\n",
    "print(is_prime(5))\n",
    "print(is_prime(8), '\\n')\n",
    "\n",
    "#itertools모듈의 count()와 islice()함수\n",
    "#count: count(시작, [step])의 함수로 시작 숫자부터 setp만큼씩 무한히 증가하는 제네레이터\n",
    "#islice: islice(iterable객체, [시작], 정지[,step])의 함수로, iterable한 객체를 특정 범위로 슬라이싱 하고 iterator로 반환\n",
    "#0부터 999까지의 수 중에 소수인 수를 반환하는 iterator를 만듦\n",
    "from itertools import islice, count\n",
    "thousand_primes= islice((x for x in count() if is_prime(x)), 1000)\n",
    "print(next(thousand_primes))\n",
    "print(next(thousand_primes))\n",
    "print(next(thousand_primes),'\\n')\n",
    "\n",
    "#chain: chain(*iterable)은 iterable한 객체들을 인수로 받아 하나의 iterator로 반환\n",
    "from itertools import chain\n",
    "country= ['대한민국', '스웨덴', '미국']\n",
    "capital= ['서울', '스톡홀름', '워싱턴']\n",
    "c= chain(country, capital)\n",
    "print(next(c))\n",
    "print(next(c))\n",
    "print(next(c))\n",
    "print(next(c))\n",
    "print(next(c))\n",
    "print(next(c))"
   ]
  },
  {
   "cell_type": "code",
   "execution_count": 10,
   "id": "16b37278",
   "metadata": {},
   "outputs": [
    {
     "name": "stdout",
     "output_type": "stream",
     "text": [
      "True\n",
      "False \n",
      "\n",
      "True\n",
      "False \n",
      "\n",
      "(1, 4)\n",
      "(2, 5)\n",
      "(3, 6) \n",
      "\n",
      "국가명: 대한민국, 수도:서울\n",
      "국가명: 스웨덴, 수도:스톡홀름\n",
      "국가명: 미국, 수도:워싱턴\n"
     ]
    }
   ],
   "source": [
    "#iterable에 유용한 내장함수\n",
    "#all: all(iterable)은 iterable한 객체를 인수로 받으며, 인수의 원소가 모두 참이면 True, 거짓이 하나라도 있으면 False\n",
    "print(all([1, 2, 3]))\n",
    "print(all([0, 1, 2, 3]), '\\n')\n",
    "\n",
    "#any: any(iterable)은 iterable한 객체를 인수로 받으며, 인수의 원소 중 하나라도 참이면 True, 모두 거짓일때만 False를 리턴\n",
    "print(any([False, 3]))\n",
    "print(any([False, 0, []]),'\\n')\n",
    "\n",
    "#zip: zip(*iterable)은 iterable한 객체를 인수로 받으며 동일한 개수로 이루어진 자료형을 묶어서 iterator로 반환\n",
    "a= zip([1, 2, 3], (4, 5, 6))\n",
    "print(next(a))\n",
    "print(next(a))\n",
    "print(next(a),'\\n')\n",
    "\n",
    "#zip은 두 개의 iterable객체를 묶어 for문을 한꺼번에 반복시킬때 유용\n",
    "country= ['대한민국', '스웨덴', '미국']\n",
    "capital= ['서울', '스톡홀름', '워싱턴']\n",
    "for coun, cap in zip(country, capital):\n",
    "    print('국가명: {}, 수도:{}'.format(coun, cap))\n"
   ]
  },
  {
   "cell_type": "code",
   "execution_count": null,
   "id": "e1dd7226",
   "metadata": {},
   "outputs": [],
   "source": []
  }
 ],
 "metadata": {
  "kernelspec": {
   "display_name": "Python 3 (ipykernel)",
   "language": "python",
   "name": "python3"
  },
  "language_info": {
   "codemirror_mode": {
    "name": "ipython",
    "version": 3
   },
   "file_extension": ".py",
   "mimetype": "text/x-python",
   "name": "python",
   "nbconvert_exporter": "python",
   "pygments_lexer": "ipython3",
   "version": "3.9.7"
  }
 },
 "nbformat": 4,
 "nbformat_minor": 5
}
