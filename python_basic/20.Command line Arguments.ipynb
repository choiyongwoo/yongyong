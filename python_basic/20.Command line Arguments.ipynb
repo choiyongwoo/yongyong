{
 "cells": [
  {
   "cell_type": "code",
   "execution_count": 2,
   "id": "c9e961a4",
   "metadata": {},
   "outputs": [],
   "source": [
    "#Command line Arguments\n",
    "#from urllib.request import urlopen\n",
    "\n",
    "#def fetch_words():\n",
    "#    with urlopen('https://suwoni-codelab.com/assets/story.txt') as story:\n",
    "#        story_words= []\n",
    "#        for line in story:\n",
    "#            line_words= line.decode('utf-8').split()\n",
    "#            for word in line_words:\n",
    "#                story_words.append(word)\n",
    "#    return story_words # fetch_words함수 결과를 return\n",
    "\n",
    "#def print_words(story_words):\n",
    "#    for word in story_words:\n",
    "#        print(word)\n",
    "        \n",
    "#def main():\n",
    "#    words= fetch_words()\n",
    "#    print_words(words)\n",
    "\n",
    "#if __name__=='__main__':\n",
    "#    main()"
   ]
  },
  {
   "cell_type": "code",
   "execution_count": 3,
   "id": "95d9c56b",
   "metadata": {},
   "outputs": [
    {
     "name": "stdout",
     "output_type": "stream",
     "text": [
      "가나다\n",
      "다라마\n",
      "가\n",
      "나\n",
      "다\n",
      "라\n",
      "마\n",
      "바\n",
      "사\n"
     ]
    }
   ],
   "source": [
    "#여러개의 함수를 한번에 import\n",
    "from words import (fetch_words, print_words)\n",
    "#print_words(fetch_words())\n",
    "\n",
    "#한번에 모든 함수를 import하기 위해서는 *표시 사용\n",
    "from words import *\n",
    "\n",
    "#함수를 3개로 분리함으로써 다른 용도로 함수를 활용할 수 있음\n",
    "print_words(['가나다', '다라마'])\n",
    "print_words('가나다라마바사')\n",
    "\n",
    "#하드코딩으로 입력된 url을 python script로 실행 시 인자로 받아서 처리\n",
    "#python script실행시 인자를 받기 위해서는 sys모듈을 import해야함\n",
    "#main함수에서는 sys.argv[1]을 통해서 script실행시 인자를 받음\n",
    "#sys.argv[0]은 모듈의 파일명이 넘어옴\n",
    "\n",
    "#def fetch_words(url):\n",
    "#    with urlopen(url) as story:\n",
    "#        ...\n",
    "#if __name__=='__main__'\n",
    "#     main(sys.argv[1])\n",
    "\n",
    "#파이썬 스크립트를 콘솔창에서 실행\n",
    "#puthon words.py https://...\n"
   ]
  },
  {
   "cell_type": "code",
   "execution_count": null,
   "id": "a6c86d69",
   "metadata": {},
   "outputs": [],
   "source": []
  }
 ],
 "metadata": {
  "kernelspec": {
   "display_name": "Python 3 (ipykernel)",
   "language": "python",
   "name": "python3"
  },
  "language_info": {
   "codemirror_mode": {
    "name": "ipython",
    "version": 3
   },
   "file_extension": ".py",
   "mimetype": "text/x-python",
   "name": "python",
   "nbconvert_exporter": "python",
   "pygments_lexer": "ipython3",
   "version": "3.9.7"
  }
 },
 "nbformat": 4,
 "nbformat_minor": 5
}
