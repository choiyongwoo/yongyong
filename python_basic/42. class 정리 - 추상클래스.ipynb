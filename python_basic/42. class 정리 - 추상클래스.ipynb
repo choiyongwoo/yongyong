{
 "cells": [
  {
   "cell_type": "code",
   "execution_count": 1,
   "id": "c2b92e29",
   "metadata": {},
   "outputs": [],
   "source": [
    "#추상클래스란 미구현 추상메서드 한개 이상을 가지며,\n",
    "#자식클래스에서 해당 추상 메서드를 반드시 구현하도록 강제함\n",
    "#상속받은 클래스는 추상메서드를 구현하지 않아도, import하기전에는 에러를 발생하지 않으나\n",
    "#객체를 생성할시 에러 발생\n",
    "#반드시 abc모듈을 import 해야함\n",
    "\n",
    "#from abc import *\n",
    "#class 추상클래스명(metaclass=ABCMeta):\n",
    "    # @abstractmethod\n",
    "        #def 추상메서드(self):\n",
    "            #pass"
   ]
  },
  {
   "cell_type": "code",
   "execution_count": 2,
   "id": "4d412003",
   "metadata": {},
   "outputs": [
    {
     "name": "stdout",
     "output_type": "stream",
     "text": [
      "국가의 수도는?\n",
      "서울\n"
     ]
    }
   ],
   "source": [
    "#추상클래스 사용\n",
    "from abstract import *\n",
    "a= Korea('대한민국', 50000000, '서울')\n",
    "a.show_capital()"
   ]
  },
  {
   "cell_type": "code",
   "execution_count": 3,
   "id": "d8f7514b",
   "metadata": {},
   "outputs": [
    {
     "ename": "TypeError",
     "evalue": "Can't instantiate abstract class AbstractCountry with abstract method show_capital",
     "output_type": "error",
     "traceback": [
      "\u001b[0;31m---------------------------------------------------------------------------\u001b[0m",
      "\u001b[0;31mTypeError\u001b[0m                                 Traceback (most recent call last)",
      "\u001b[0;32m/data/user/0/ru.iiec.pydroid3/cache/ipykernel_22242/4275549309.py\u001b[0m in \u001b[0;36m<module>\u001b[0;34m\u001b[0m\n\u001b[1;32m      1\u001b[0m \u001b[0;31m#추상메서드를 추가하고 객체를 생성하면 에러 발생\u001b[0m\u001b[0;34m\u001b[0m\u001b[0;34m\u001b[0m\u001b[0m\n\u001b[1;32m      2\u001b[0m \u001b[0;32mfrom\u001b[0m \u001b[0mabstract\u001b[0m \u001b[0;32mimport\u001b[0m \u001b[0;34m*\u001b[0m\u001b[0;34m\u001b[0m\u001b[0;34m\u001b[0m\u001b[0m\n\u001b[0;32m----> 3\u001b[0;31m \u001b[0ma\u001b[0m\u001b[0;34m=\u001b[0m \u001b[0mAbstractCountry\u001b[0m\u001b[0;34m(\u001b[0m\u001b[0;34m)\u001b[0m\u001b[0;34m\u001b[0m\u001b[0;34m\u001b[0m\u001b[0m\n\u001b[0m",
      "\u001b[0;31mTypeError\u001b[0m: Can't instantiate abstract class AbstractCountry with abstract method show_capital"
     ]
    }
   ],
   "source": [
    "#추상메서드를 추가하고 객체를 생성하면 에러 발생\n",
    "from abstract import *\n",
    "a= AbstractCountry()"
   ]
  },
  {
   "cell_type": "code",
   "execution_count": null,
   "id": "954af14a",
   "metadata": {},
   "outputs": [],
   "source": []
  }
 ],
 "metadata": {
  "kernelspec": {
   "display_name": "Python 3 (ipykernel)",
   "language": "python",
   "name": "python3"
  },
  "language_info": {
   "codemirror_mode": {
    "name": "ipython",
    "version": 3
   },
   "file_extension": ".py",
   "mimetype": "text/x-python",
   "name": "python",
   "nbconvert_exporter": "python",
   "pygments_lexer": "ipython3",
   "version": "3.9.7"
  }
 },
 "nbformat": 4,
 "nbformat_minor": 5
}
