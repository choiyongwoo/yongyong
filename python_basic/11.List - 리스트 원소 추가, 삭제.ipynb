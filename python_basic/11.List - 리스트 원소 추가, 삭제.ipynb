{
 "cells": [
  {
   "cell_type": "code",
   "execution_count": 6,
   "id": "44b9e8be",
   "metadata": {},
   "outputs": [
    {
     "name": "stdout",
     "output_type": "stream",
     "text": [
      "[1, 2, 3, 4, 5, 6]\n",
      "[1, 5, 2, 3]\n",
      "[2, 5, 7, 3, 5, 9, 11, 13]\n",
      "[1, 2, 3, 4, 5, 6]\n"
     ]
    }
   ],
   "source": [
    "#list 원소 추가\n",
    "#append: 원소 마지막에 추가\n",
    "a= [1, 2, 3, 4, 5]\n",
    "a.append(6)\n",
    "print(a)\n",
    "\n",
    "#insert: 리스트.index(입력할 index, 값)\n",
    "a= [1, 2, 3]\n",
    "a.insert(1, 5)\n",
    "print(a)\n",
    "\n",
    "#+연산자로 더하기\n",
    "m= [2, 5, 7]\n",
    "n= [3, 5, 9]\n",
    "k= m+n\n",
    "k+=[11, 13]\n",
    "print(k)\n",
    "\n",
    "#extend: 리스트.extend(추가할리스트)\n",
    "a= [1, 2, 3]\n",
    "a.extend([4, 5, 6])\n",
    "print(a)"
   ]
  },
  {
   "cell_type": "code",
   "execution_count": 10,
   "id": "ea2081b5",
   "metadata": {},
   "outputs": [
    {
     "name": "stdout",
     "output_type": "stream",
     "text": [
      "[1, 3, 4, 5, 6, 7]\n",
      "[1, 2, 4, 5, 6, 7]\n",
      "[1, 2, 4, 5, 6, 7]\n"
     ]
    }
   ],
   "source": [
    "#list 원소 삭제\n",
    "a= [1, 2, 3, 4, 5, 6, 7]\n",
    "del a[1]\n",
    "print(a)\n",
    "\n",
    "#list.remove(찾을아이템)\n",
    "#찾을 아이템이 없으면 ValueError발생\n",
    "a= [1, 2, 3, 4, 5, 6, 7]\n",
    "a.remove(3)\n",
    "print(a)\n",
    "\n",
    "#del키워드와 리스트의 index메소드와 혼합하여 사용하면 remove효과가 남\n",
    "a= [1, 2, 3, 4, 5, 6, 7]\n",
    "del a[a.index(3)]\n",
    "print(a)"
   ]
  },
  {
   "cell_type": "code",
   "execution_count": null,
   "id": "4891f530",
   "metadata": {},
   "outputs": [],
   "source": []
  }
 ],
 "metadata": {
  "kernelspec": {
   "display_name": "Python 3 (ipykernel)",
   "language": "python",
   "name": "python3"
  },
  "language_info": {
   "codemirror_mode": {
    "name": "ipython",
    "version": 3
   },
   "file_extension": ".py",
   "mimetype": "text/x-python",
   "name": "python",
   "nbconvert_exporter": "python",
   "pygments_lexer": "ipython3",
   "version": "3.9.7"
  }
 },
 "nbformat": 4,
 "nbformat_minor": 5
}
