{
 "cells": [
  {
   "cell_type": "code",
   "execution_count": 3,
   "id": "e344b1e0",
   "metadata": {},
   "outputs": [
    {
     "name": "stdout",
     "output_type": "stream",
     "text": [
      "b'abcde'\n",
      "<class 'bytes'>\n",
      "[b'abc', b'def', b'ghi']\n"
     ]
    }
   ],
   "source": [
    "#Bytes\n",
    "#bytes는 유니코드가 아닌 문자열을 사용하는 것과 유사\n",
    "#원시 이진 데이터로 사용되어지거나 1바이트 문자로 고정을 위해 사용\n",
    "#HTTP응답과 같은 파일과 네트워크 리소스는 바이트 스트림으로 전송됨\n",
    "b= b'abcde'\n",
    "print(b)\n",
    "print(type(b))\n",
    "\n",
    "#bytes는 split을 하여도 내부 원소는 bytes 형태\n",
    "s= b'abc def ghi'\n",
    "print(s.split())"
   ]
  },
  {
   "cell_type": "code",
   "execution_count": 8,
   "id": "03dcc95f",
   "metadata": {},
   "outputs": [
    {
     "name": "stdout",
     "output_type": "stream",
     "text": [
      "b'Vi er sa'\n",
      "Vi er sa\n"
     ]
    }
   ],
   "source": [
    "#str to bytes, bytes to str\n",
    "#문자열을 encode 하면 byte형이되고 byte형을 decode하면 문자열이 됨\n",
    "s= 'Vi er sa'\n",
    "b= s.encode('utf-8')\n",
    "print(b) #byte 형\n",
    "print(b.decode('utf-8')) #str형"
   ]
  },
  {
   "cell_type": "code",
   "execution_count": null,
   "id": "7d2e15eb",
   "metadata": {},
   "outputs": [],
   "source": []
  }
 ],
 "metadata": {
  "kernelspec": {
   "display_name": "Python 3 (ipykernel)",
   "language": "python",
   "name": "python3"
  },
  "language_info": {
   "codemirror_mode": {
    "name": "ipython",
    "version": 3
   },
   "file_extension": ".py",
   "mimetype": "text/x-python",
   "name": "python",
   "nbconvert_exporter": "python",
   "pygments_lexer": "ipython3",
   "version": "3.9.7"
  }
 },
 "nbformat": 4,
 "nbformat_minor": 5
}
