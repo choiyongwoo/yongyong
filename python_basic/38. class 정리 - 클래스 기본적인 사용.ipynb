{
 "cells": [
  {
   "cell_type": "code",
   "execution_count": 1,
   "id": "49677182",
   "metadata": {},
   "outputs": [],
   "source": [
    "#클래스 개요\n",
    "#클래스는 객체의 구조와 행동을 정의\n",
    "#객체의 클래스는 초기화를 통해 제어\n",
    "#클래스는 복잡한 문제를 다루기 쉽도록 만들어줌"
   ]
  },
  {
   "cell_type": "code",
   "execution_count": 1,
   "id": "a5ada3e9",
   "metadata": {},
   "outputs": [],
   "source": [
    "#클래스 정의\n",
    "#클래스를 작성하기 위해서는 class키워드 사용하여 새로운 클래스 작성\n",
    "#python의 대부분 네이밍컨벤션이 단어와 단어사이에 _를 넣는다면 클래스의 네이밍컨벤션은 CamelCase를 사용\n",
    "\n",
    "#class CustomClass:\n",
    "#    def __init__(self, param):\n",
    "#        ...\n",
    "\n"
   ]
  },
  {
   "cell_type": "code",
   "execution_count": 3,
   "id": "c6cb17ad",
   "metadata": {},
   "outputs": [
    {
     "name": "stdout",
     "output_type": "stream",
     "text": [
      "new\n",
      "init\n",
      "\n",
      "\n",
      "new\n",
      "init\n",
      "SN060 \n",
      "\n",
      "SN060\n"
     ]
    }
   ],
   "source": [
    "#클래스 생성 연습\n",
    "#생성한 클래스 REPL에서 import\n",
    "from airtravel import Flight\n",
    "f= Flight()\n",
    "\n",
    "print('\\n')\n",
    "#인스턴스 메서드 사용\n",
    "from airtravel import Flight\n",
    "f= Flight()\n",
    "print(f.number(),'\\n')\n",
    "\n",
    "#파이썬 메서드의 첫번째 파라미터명은 관례적으로 self라는 이름 사용\n",
    "#호출 시 호출한 객체 자신이 전달되기 때문에 self라는 이름을 사용하게 된것\n",
    "#이를 이용하여 클래스에서 바로 메서드로 접근하면서 위에서 할당한\n",
    "#Flight 객체 f를 파라미터로 전달함으로써 똑같은 결과값을 얻음\n",
    "print(Flight.number(f))\n"
   ]
  },
  {
   "cell_type": "code",
   "execution_count": 2,
   "id": "7087066e",
   "metadata": {},
   "outputs": [
    {
     "name": "stdout",
     "output_type": "stream",
     "text": [
      "new\n",
      "init\n",
      "5\n"
     ]
    }
   ],
   "source": [
    "#생성자와 초기화자\n",
    "#파이썬에서 객체를 생성할때 생성자 사용\n",
    "# f= Flight() 생성자\n",
    "\n",
    "#생성자로 객체 생성을 호출받으면 먼저 __new__를 호출하여 객체를 생성할당,\n",
    "#__new__메서드가 __init__메서드를 호출하여 객체에서 사용할 초기값들을 초기화\n",
    "from airtravel import Flight\n",
    "f= Flight()\n",
    "\n",
    "from airtravel2 import Flight\n",
    "f= Flight(5)\n",
    "print(f.number())"
   ]
  },
  {
   "cell_type": "code",
   "execution_count": 2,
   "id": "23a1dfd8",
   "metadata": {},
   "outputs": [],
   "source": [
    "#초기화자(__init__)에 객체의 불변성을 확립(유효성검증을 수행)\n",
    "#일반적으로 초기화자(__init__)에서 객체의 불변성을 확립하는 것이 좋음\n",
    "#객체 생성시 들어올 값에 대해서 __init__에서 validation 수행\n",
    "#객체 생성시 규칙에 맞지 않는 값이 들어오면 ValueError를 발생\n",
    "#비행기 번호는 앞에 두글자는 영문, 대문자, 그리고 뒤에 세번째 글자부터 마지막까지는 양의 정수\n",
    "from airtravel3 import Flight\n",
    "f=Flight('AB001')"
   ]
  },
  {
   "cell_type": "code",
   "execution_count": 3,
   "id": "9e4049a0",
   "metadata": {},
   "outputs": [
    {
     "name": "stdout",
     "output_type": "stream",
     "text": [
      "AB001\n",
      "abc\n"
     ]
    }
   ],
   "source": [
    "#비공개 속성\n",
    "#언더바 한개(_)는 내부적으로만 사용되는 변수라고 알리지만,\n",
    "#값을 얻어올수도 있고 할당도 가능\n",
    "from airtravel3 import Flight\n",
    "f= Flight('AB001')\n",
    "print(f._number)\n",
    "f._number= 'abc'\n",
    "print(f._number)"
   ]
  },
  {
   "cell_type": "code",
   "execution_count": 3,
   "id": "9f495a79",
   "metadata": {
    "scrolled": true
   },
   "outputs": [
    {
     "name": "stdout",
     "output_type": "stream",
     "text": [
      "AB001\n"
     ]
    },
    {
     "ename": "AttributeError",
     "evalue": "'Flight' object has no attribute '__number'",
     "output_type": "error",
     "traceback": [
      "\u001b[0;31m---------------------------------------------------------------------------\u001b[0m",
      "\u001b[0;31mAttributeError\u001b[0m                            Traceback (most recent call last)",
      "\u001b[0;32m/data/user/0/ru.iiec.pydroid3/cache/ipykernel_14306/974157792.py\u001b[0m in \u001b[0;36m<module>\u001b[0;34m\u001b[0m\n\u001b[1;32m      4\u001b[0m \u001b[0mprint\u001b[0m\u001b[0;34m(\u001b[0m\u001b[0mf\u001b[0m\u001b[0;34m.\u001b[0m\u001b[0mnumber\u001b[0m\u001b[0;34m(\u001b[0m\u001b[0;34m)\u001b[0m\u001b[0;34m)\u001b[0m\u001b[0;34m\u001b[0m\u001b[0;34m\u001b[0m\u001b[0m\n\u001b[1;32m      5\u001b[0m \u001b[0;34m\u001b[0m\u001b[0m\n\u001b[0;32m----> 6\u001b[0;31m \u001b[0mf\u001b[0m\u001b[0;34m.\u001b[0m\u001b[0m__number\u001b[0m\u001b[0;34m\u001b[0m\u001b[0;34m\u001b[0m\u001b[0m\n\u001b[0m",
      "\u001b[0;31mAttributeError\u001b[0m: 'Flight' object has no attribute '__number'"
     ]
    }
   ],
   "source": [
    "#원천적인 접근을 막으려면 더블언더바(__)를 사용\n",
    "from airtravel4 import Flight\n",
    "f= Flight('AB001')\n",
    "print(f.number())\n",
    "\n",
    "f.__number"
   ]
  },
  {
   "cell_type": "code",
   "execution_count": null,
   "id": "d63ceffc",
   "metadata": {},
   "outputs": [],
   "source": [
    "#파이썬은 메서드 오버로딩이 없음\n",
    "#메서드 오버로딩이란: 하나의 클래스 내부에서 메서드 명칭은 똑같고 인자를 다르게 하는 형태 허용\n",
    "#하나의 모듈에서 두개의 같은 이름의 함수가 있으면 첫번째 함수는 무시되고, 두번째만 "
   ]
  }
 ],
 "metadata": {
  "kernelspec": {
   "display_name": "Python 3 (ipykernel)",
   "language": "python",
   "name": "python3"
  },
  "language_info": {
   "codemirror_mode": {
    "name": "ipython",
    "version": 3
   },
   "file_extension": ".py",
   "mimetype": "text/x-python",
   "name": "python",
   "nbconvert_exporter": "python",
   "pygments_lexer": "ipython3",
   "version": "3.9.7"
  }
 },
 "nbformat": 4,
 "nbformat_minor": 5
}
