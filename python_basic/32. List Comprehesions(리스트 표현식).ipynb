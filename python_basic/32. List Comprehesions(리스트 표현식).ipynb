{
 "cells": [
  {
   "cell_type": "code",
   "execution_count": 5,
   "id": "9c2bff2a",
   "metadata": {},
   "outputs": [
    {
     "name": "stdout",
     "output_type": "stream",
     "text": [
      "['나는', '파이썬을', '공부하고', '있습니다.', '파이썬은', '무척', '심플하고', '명료합니다.']\n",
      "[2, 4, 4, 5, 4, 2, 4, 6]\n",
      "[2, 4, 4, 5, 4, 2, 4, 6]\n"
     ]
    }
   ],
   "source": [
    "#리스트 표현식 for문\n",
    "#List 또는 set, dictionary 안ㅇ에서 for문과 if문을 사용하여 컬렉션 내부의 원소들을 구성 시킬수 있음\n",
    "#단어 리스트를 새로운 리스트의 for문을 돌아 길이를 구해 다른 리스트를 생성\n",
    "#[item for item in iterable]이 기본 형식\n",
    "words= '나는 파이썬을 공부하고 있습니다. 파이썬은 무척 심플하고 명료합니다.'.split()\n",
    "print(words)\n",
    "print([len(word) for word in words])\n",
    "\n",
    "#리스트 표현식을 사용하지 않으면 아래와 같은 코드로 작성되어져야함\n",
    "length= []\n",
    "for word in words:\n",
    "    length.append(len(word))\n",
    "print(length)"
   ]
  },
  {
   "cell_type": "code",
   "execution_count": 6,
   "id": "c3314c4c",
   "metadata": {},
   "outputs": [
    {
     "data": {
      "text/plain": [
       "[4, 4, 5, 4, 4, 6]"
      ]
     },
     "execution_count": 6,
     "metadata": {},
     "output_type": "execute_result"
    }
   ],
   "source": [
    "#리스트 표현식 if문에 의한 필터링\n",
    "#리스트 표현식을 단순히 for문만이 아닌 if문을 더해서 이루어질 원소를 필터링 할 수 있음\n",
    "#[item for item in iterable if 조건(item)]이 기본 형식\n",
    "#길이가 3초과인 words in word의 표현식 len(word)\n",
    "[len(word) for word in words if len(word)>3]"
   ]
  },
  {
   "cell_type": "code",
   "execution_count": null,
   "id": "74cbcf51",
   "metadata": {},
   "outputs": [],
   "source": []
  }
 ],
 "metadata": {
  "kernelspec": {
   "display_name": "Python 3 (ipykernel)",
   "language": "python",
   "name": "python3"
  },
  "language_info": {
   "codemirror_mode": {
    "name": "ipython",
    "version": 3
   },
   "file_extension": ".py",
   "mimetype": "text/x-python",
   "name": "python",
   "nbconvert_exporter": "python",
   "pygments_lexer": "ipython3",
   "version": "3.9.7"
  }
 },
 "nbformat": 4,
 "nbformat_minor": 5
}
