{
 "cells": [
  {
   "cell_type": "code",
   "execution_count": 4,
   "id": "c260d091",
   "metadata": {},
   "outputs": [
    {
     "name": "stdout",
     "output_type": "stream",
     "text": [
      "{'서울': '대한민국', '런던': '영국', '워싱턴': '미국', '도쿄': '일본'}\n",
      "{'S': 'Swiss', 'U': 'USA', 'K': 'Korea'}\n",
      "{'/storage/emulated/0/practice/python_data_structure/number/python_basic/1.import 기본라이브러리.ipynb': 13844,\n",
      " '/storage/emulated/0/practice/python_data_structure/number/python_basic/10.List3- 리스트 반복, 리스트 관련 메소드.ipynb': 1964,\n",
      " '/storage/emulated/0/practice/python_data_structure/number/python_basic/11.List - 리스트 원소 추가, 삭제.ipynb': 2265,\n",
      " '/storage/emulated/0/practice/python_data_structure/number/python_basic/12.List - 리스트 정렬.ipynb': 2439,\n",
      " '/storage/emulated/0/practice/python_data_structure/number/python_basic/13.tuple.ipynb': 3550,\n",
      " '/storage/emulated/0/practice/python_data_structure/number/python_basic/14.dictionary.ipynb': 8375,\n",
      " '/storage/emulated/0/practice/python_data_structure/number/python_basic/15.set.ipynb': 6987,\n",
      " '/storage/emulated/0/practice/python_data_structure/number/python_basic/16.for in 반복문, Range, enumerate.ipynb': 4258,\n",
      " '/storage/emulated/0/practice/python_data_structure/number/python_basic/17.module.ipynb': 860,\n",
      " '/storage/emulated/0/practice/python_data_structure/number/python_basic/18.function.ipynb': 1822,\n",
      " '/storage/emulated/0/practice/python_data_structure/number/python_basic/19.module import와 실행.ipynb': 12277,\n",
      " '/storage/emulated/0/practice/python_data_structure/number/python_basic/2.Scaler 타입(int, float, None, bool).ipynb': 4602,\n",
      " '/storage/emulated/0/practice/python_data_structure/number/python_basic/20.Command line Arguments.ipynb': 2975,\n",
      " '/storage/emulated/0/practice/python_data_structure/number/python_basic/21.Docstring - 문서화.ipynb': 3201,\n",
      " '/storage/emulated/0/practice/python_data_structure/number/python_basic/22.shebang.ipynb': 1046,\n",
      " '/storage/emulated/0/practice/python_data_structure/number/python_basic/23.함수의 인자 전달.ipynb': 3094,\n",
      " '/storage/emulated/0/practice/python_data_structure/number/python_basic/24. 함수인자.ipynb': 8169,\n",
      " '/storage/emulated/0/practice/python_data_structure/number/python_basic/25. Python의 타입 시스템.ipynb': 1898,\n",
      " '/storage/emulated/0/practice/python_data_structure/number/python_basic/26. 변수 scope.ipynb': 4637,\n",
      " '/storage/emulated/0/practice/python_data_structure/number/python_basic/27. 모든 것은 객체.ipynb': 2312,\n",
      " '/storage/emulated/0/practice/python_data_structure/number/python_basic/28.Exception(예외) 흐름과 Exception Handling.ipynb': 13634,\n",
      " '/storage/emulated/0/practice/python_data_structure/number/python_basic/29. Progarmmer Error - 예외처리 되지 않는 에러.ipynb': 2494,\n",
      " '/storage/emulated/0/practice/python_data_structure/number/python_basic/3.관계연산자 + 조건절.ipynb': 2254,\n",
      " '/storage/emulated/0/practice/python_data_structure/number/python_basic/30. EAFP - 허락보다 용서구하는 것이 쉽다.ipynb': 1585,\n",
      " '/storage/emulated/0/practice/python_data_structure/number/python_basic/31. OS별 처리.ipynb': 4496,\n",
      " '/storage/emulated/0/practice/python_data_structure/number/python_basic/32. List Comprehesions(리스트 표현식).ipynb': 2403,\n",
      " '/storage/emulated/0/practice/python_data_structure/number/python_basic/33. Set comprehensions(Set 표현식).ipynb': 1807,\n",
      " '/storage/emulated/0/practice/python_data_structure/number/python_basic/34. Dictionary Comprehensions(Dictionary 표현식).ipynb': 1964,\n",
      " '/storage/emulated/0/practice/python_data_structure/number/python_basic/4.while 반복문.ipynb': 2610,\n",
      " '/storage/emulated/0/practice/python_data_structure/number/python_basic/5.String.ipynb': 28423,\n",
      " '/storage/emulated/0/practice/python_data_structure/number/python_basic/6.Bytes.ipynb': 1914,\n",
      " '/storage/emulated/0/practice/python_data_structure/number/python_basic/7.List1-리스트란, 리스트사용.ipynb': 2119,\n",
      " '/storage/emulated/0/practice/python_data_structure/number/python_basic/8.List2- 리스트 인덱싱, 리스트 슬라이싱.ipynb': 3276,\n",
      " '/storage/emulated/0/practice/python_data_structure/number/python_basic/9.얕은 복사와 깊은 복사.ipynb': 5844,\n",
      " '/storage/emulated/0/practice/python_data_structure/number/python_basic/exceptional.py': 518,\n",
      " '/storage/emulated/0/practice/python_data_structure/number/python_basic/exceptional1.py': 248,\n",
      " '/storage/emulated/0/practice/python_data_structure/number/python_basic/exceptional2.py': 272,\n",
      " '/storage/emulated/0/practice/python_data_structure/number/python_basic/words.py': 838}\n"
     ]
    }
   ],
   "source": [
    "#dictionary 표현식\n",
    "#{key표현식:value표현식 for item in iterable}이 기본 형식\n",
    "country_capital={'대한민국':'서울',\n",
    "                '영국':'런던',\n",
    "                '미국':'워싱턴',\n",
    "                '일본':'도쿄'}\n",
    "capital_country= {capital:country for country, capital in country_capital.items()}\n",
    "print(capital_country)\n",
    "\n",
    "#dictionary는 키가 중복되면 마지막에 표시되는것이 나옴\n",
    "country= ['Sweden', 'Saudi', 'USA', 'Korea', 'Swiss']\n",
    "print({w[0]:w for w in country})\n",
    "\n",
    "#dictionary표현식으로 간단하게 파일 목록과 사이즈 뽑기\n",
    "#os패키지는 파일 경로를 위해 glob패키지는 파일 목록을 가져올때 사용\n",
    "import os\n",
    "import glob\n",
    "from pprint import pprint as pp\n",
    "file_info={os.path.realpath(p):os.stat(p).st_size for p in glob.glob('*.*')}\n",
    "pp(file_info)"
   ]
  },
  {
   "cell_type": "code",
   "execution_count": 5,
   "id": "aaf71f01",
   "metadata": {},
   "outputs": [
    {
     "data": {
      "text/plain": [
       "{}"
      ]
     },
     "execution_count": 5,
     "metadata": {},
     "output_type": "execute_result"
    }
   ],
   "source": [
    "#Dictionary 표현식 if 필터링\n",
    "#{key표현식:value표현식 for item in iterable if 조건(item)}이 기본 형식\n",
    "{os.path.split(key)[-1]:value for key, value in file_info.items() if os.path.splitext(key)[-1]=='.log'}"
   ]
  },
  {
   "cell_type": "code",
   "execution_count": null,
   "id": "1f3fa150",
   "metadata": {},
   "outputs": [],
   "source": []
  }
 ],
 "metadata": {
  "kernelspec": {
   "display_name": "Python 3 (ipykernel)",
   "language": "python",
   "name": "python3"
  },
  "language_info": {
   "codemirror_mode": {
    "name": "ipython",
    "version": 3
   },
   "file_extension": ".py",
   "mimetype": "text/x-python",
   "name": "python",
   "nbconvert_exporter": "python",
   "pygments_lexer": "ipython3",
   "version": "3.9.7"
  }
 },
 "nbformat": 4,
 "nbformat_minor": 5
}
