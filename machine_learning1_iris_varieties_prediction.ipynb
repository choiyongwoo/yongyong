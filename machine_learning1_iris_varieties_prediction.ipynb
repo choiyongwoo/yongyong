{
 "cells": [
  {
   "cell_type": "markdown",
   "id": "cfc75a58",
   "metadata": {},
   "source": [
    "<h2>붓꽃 품종 예측하기</h2>"
   ]
  },
  {
   "cell_type": "code",
   "execution_count": 8,
   "id": "5e42862b",
   "metadata": {},
   "outputs": [
    {
     "name": "stdout",
     "output_type": "stream",
     "text": [
      "예측 정확도: 0.9333\n"
     ]
    }
   ],
   "source": [
    "from sklearn.datasets import load_iris\n",
    "from sklearn.tree import DecisionTreeClassifier\n",
    "from sklearn.model_selection import train_test_split\n",
    "import pandas as pd\n",
    "\n",
    "#붓꽃 데이터 세트 로딩\n",
    "iris= load_iris()\n",
    "\n",
    "#iris.data 에서 feature 데이터 numpy 가져오기\n",
    "iris_data= iris.data\n",
    "\n",
    "#iris.target 붓꽃 데이터 세트에서 레이블 데이터 numpy 가져오기\n",
    "iris_label= iris.target\n",
    "\n",
    "#붓꽃 데이터 세트를 DataFrame으로 변환\n",
    "iris_df= pd.DataFrame(data=iris_data, columns=iris.feature_names)\n",
    "iris_df['label']= iris.target\n",
    "iris_df.head(3)\n",
    "\n",
    "#학습 데이터와 테스트 데이터 분리\n",
    "#첫째 파라미터는 피처 데이터, 두번째 파라미터는 label데이터\n",
    "x_train, x_test, y_train, y_test= train_test_split(iris_data, iris_label, test_size=0.2, random_state=11)\n",
    "\n",
    "#의사 결정 트리를 이용해 학습과 예측 수행\n",
    "#DecisionTreeClassifier 객체 생성\n",
    "dt_clf= DecisionTreeClassifier(random_state=11)\n",
    "\n",
    "#학습 수행\n",
    "dt_clf.fit(x_train, y_train)\n",
    "\n",
    "#예측 수행\n",
    "#학습이 완료된 DecisionTreeClassifier 객체에서 테스트 데이터 세트로 예측\n",
    "pred= dt_clf.predict(x_test)\n",
    "\n",
    "from sklearn.metrics import accuracy_score\n",
    "print('예측 정확도: {0:.4f}'.format(accuracy_score(y_test, pred)))"
   ]
  },
  {
   "cell_type": "code",
   "execution_count": 7,
   "id": "5c47f686",
   "metadata": {},
   "outputs": [
    {
     "name": "stdout",
     "output_type": "stream",
     "text": [
      "<class 'sklearn.utils.Bunch'>\n",
      "dict_keys(['data', 'target', 'frame', 'target_names', 'DESCR', 'feature_names', 'filename'])\n"
     ]
    }
   ],
   "source": [
    "from sklearn.datasets import load_iris\n",
    "\n",
    "iris_data= load_iris()\n",
    "print(type(iris_data))\n",
    "\n",
    "#load_iris() API의 반환 결과는 Bunch 클래스, Bunch 클래스는 파이썬 딕셔너리 자료형과 유사\n",
    "keys= iris_data.keys()\n",
    "print(keys)"
   ]
  }
 ],
 "metadata": {
  "kernelspec": {
   "display_name": "Python 3",
   "language": "python",
   "name": "python3"
  },
  "language_info": {
   "codemirror_mode": {
    "name": "ipython",
    "version": 3
   },
   "file_extension": ".py",
   "mimetype": "text/x-python",
   "name": "python",
   "nbconvert_exporter": "python",
   "pygments_lexer": "ipython3",
   "version": "3.8.8"
  }
 },
 "nbformat": 4,
 "nbformat_minor": 5
}
