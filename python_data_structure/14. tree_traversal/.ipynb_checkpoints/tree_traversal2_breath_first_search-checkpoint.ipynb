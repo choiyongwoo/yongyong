{
 "cells": [
  {
   "cell_type": "markdown",
   "id": "d79bf406",
   "metadata": {},
   "source": [
    "<h2>너비 우선 탐색</h2>\n",
    "너비 우선 탐색은 트리 또는 그래프에서 너비를 우선하여 탐색하는 알고리즘<br>\n",
    "더 깊은 노드를 순회하기 전에 특정 깊이의 노드를 모두 먼저 순회<br><br>\n",
    "\n",
    "너비 우선 탐색을 사용하는 문제는 일반적으로 시작 노드에서 특정 노드에 도달하는 데 필요한 최단 경로를 찾는 문제<br>\n",
    "너비 우선 탐색의 구현은 방문한 노드를 저장하는 데에 리스트를 사용하고, 아직 방문하지 않은 노드는 선입선출 구조의 큐에 저장, 시간 복잡도는 O(V+E)\n",
    "\n",
    "![](IMG/tree_traversal2.jpg)"
   ]
  }
 ],
 "metadata": {
  "kernelspec": {
   "display_name": "Python 3 (ipykernel)",
   "language": "python",
   "name": "python3"
  },
  "language_info": {
   "codemirror_mode": {
    "name": "ipython",
    "version": 3
   },
   "file_extension": ".py",
   "mimetype": "text/x-python",
   "name": "python",
   "nbconvert_exporter": "python",
   "pygments_lexer": "ipython3",
   "version": "3.9.7"
  }
 },
 "nbformat": 4,
 "nbformat_minor": 5
}
