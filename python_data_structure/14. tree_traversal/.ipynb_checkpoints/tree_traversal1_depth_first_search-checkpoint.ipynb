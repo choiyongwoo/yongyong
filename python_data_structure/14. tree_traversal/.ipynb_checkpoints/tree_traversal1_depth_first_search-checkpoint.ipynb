{
 "cells": [
  {
   "cell_type": "markdown",
   "id": "fe690cb4",
   "metadata": {},
   "source": [
    "<h1>트리 순회</h1>\n",
    "순회는 트리 또는 그래프 같은 연결된 구조에서 객체(노드)를 방문하는 데 사용되는 알고리즘<br>\n",
    "순회 문제는 모든 노드를 방문하는 방법을 찾거나 혹은 특정 노드만 방문하는 방법을 찾는 것일 수 있음"
   ]
  },
  {
   "cell_type": "markdown",
   "id": "61ddf17a",
   "metadata": {},
   "source": [
    "<h2>깊이 우선 탐색</h2>\n",
    "깊이 우선 탐색은 말 그대로 그래프 또는 트리에서 깊이를 우선 하여 탐색하는 알고리즘<br>\n",
    "그래프의 경우는 방문한 노드를 표시해야 하는데, 그렇게 하지 않으면 무한 반복에 빠질 수 있음<br>\n",
    "시간복잡도는 O(도달할 수 있는 노드수+도달한 노드에서 나가는 간선 수)= O(V+E)<br>\n",
    "깊이 우선 탐색은 후입선출 구조의 스택을 사용하여 구현"
   ]
  },
  {
   "cell_type": "markdown",
   "id": "241f4ba3",
   "metadata": {},
   "source": [
    "<h3>전위 순회</h3>\n",
    "전위 순회는 루트 노드 ->왼쪽 노드 ->오른쪽 노드 순으로 방문\n",
    "\n",
    "![](IMG/tree_traversal1.jpg)"
   ]
  },
  {
   "cell_type": "code",
   "execution_count": 1,
   "id": "e3d6c836",
   "metadata": {},
   "outputs": [],
   "source": [
    "#트리 순회 코드\n",
    "def preorder(root):\n",
    "    if root!=0:\n",
    "        yield root.value\n",
    "        preorder(root.left)\n",
    "        preorder(root.right)"
   ]
  },
  {
   "cell_type": "code",
   "execution_count": 7,
   "id": "e2a15de1",
   "metadata": {},
   "outputs": [
    {
     "data": {
      "text/plain": [
       "3"
      ]
     },
     "execution_count": 7,
     "metadata": {},
     "output_type": "execute_result"
    }
   ],
   "source": [
    "def gen():\n",
    "    yield 1\n",
    "    yield 2\n",
    "    yield 3\n",
    "    \n",
    "dd= gen()\n",
    "next(dd)\n",
    "next(dd)\n",
    "next(dd)"
   ]
  },
  {
   "cell_type": "markdown",
   "id": "87c14b05",
   "metadata": {},
   "source": [
    "<h3>후위 순회</h3>\n",
    "후위 순회는 왼쪽 노드-> 오른쪽 노드-> 루트 노드 순으로 방문"
   ]
  },
  {
   "cell_type": "code",
   "execution_count": 8,
   "id": "c502c3e4",
   "metadata": {},
   "outputs": [],
   "source": [
    "def postorder(root):\n",
    "    if root!=0:\n",
    "        postorder(root.left)\n",
    "        postorder(root.right)\n",
    "        yield root.value\n",
    "        "
   ]
  },
  {
   "cell_type": "markdown",
   "id": "db24d97f",
   "metadata": {},
   "source": [
    "<h3>중위 순회</h3>\n",
    "중위 순회는 왼쪽 노드-> 루트 노드-> 오른쪽 노드 순으로 방문"
   ]
  },
  {
   "cell_type": "code",
   "execution_count": 9,
   "id": "1eac424a",
   "metadata": {},
   "outputs": [],
   "source": [
    "def inorder(root):\n",
    "    if root!=0:\n",
    "        inorder(root.left)\n",
    "        yield root.value\n",
    "        inorder(root.right)\n",
    "        "
   ]
  },
  {
   "cell_type": "code",
   "execution_count": null,
   "id": "9bb987cc",
   "metadata": {},
   "outputs": [],
   "source": []
  }
 ],
 "metadata": {
  "kernelspec": {
   "display_name": "Python 3 (ipykernel)",
   "language": "python",
   "name": "python3"
  },
  "language_info": {
   "codemirror_mode": {
    "name": "ipython",
    "version": 3
   },
   "file_extension": ".py",
   "mimetype": "text/x-python",
   "name": "python",
   "nbconvert_exporter": "python",
   "pygments_lexer": "ipython3",
   "version": "3.9.7"
  }
 },
 "nbformat": 4,
 "nbformat_minor": 5
}
