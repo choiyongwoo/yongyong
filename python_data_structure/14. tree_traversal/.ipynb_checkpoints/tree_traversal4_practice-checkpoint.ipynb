{
 "cells": [
  {
   "cell_type": "code",
   "execution_count": 9,
   "id": "419769af",
   "metadata": {},
   "outputs": [
    {
     "name": "stdout",
     "output_type": "stream",
     "text": [
      "전위 순회: [10, 5, 3, 2, 1, 4, 6, 8, 9, 11]\n",
      "1과 6의 최소 공통 조상: 5\n",
      "1과 11의 최소 공통 조상: 10\n",
      "1과 4의 최소 공통 조상: 3\n",
      "8과 9의 최소 공통 조상: 8\n",
      "6\n"
     ]
    }
   ],
   "source": [
    "from traversal_BST_Recursively import BSTwithTraversalRecursively\n",
    "\n",
    "def find_ancestor(path, low_value, high_value):\n",
    "    while path:\n",
    "        current_value= path[0]\n",
    "        if current_value<low_value:\n",
    "            try:\n",
    "                path=path[1:]\n",
    "            except:\n",
    "                return current_value\n",
    "        elif current_value>high_value:\n",
    "            try:\n",
    "                path=path[1:]\n",
    "            except:\n",
    "                return current_value\n",
    "        elif low_value<=current_value<=high_value:\n",
    "            return current_value\n",
    "        \n",
    "if __name__== '__main__':\n",
    "    bst= BSTwithTraversalRecursively()\n",
    "    l= [10, 5, 6, 3, 8, 2, 1, 11, 9, 4]\n",
    "    for i in l:\n",
    "        bst.add_node(i)\n",
    "    path= bst.preorder()\n",
    "    print('전위 순회:', path)\n",
    "    \n",
    "    print('1과 6의 최소 공통 조상:', find_ancestor(path, 1, 6))\n",
    "    print('1과 11의 최소 공통 조상:', find_ancestor(path, 1, 11))\n",
    "    print('1과 4의 최소 공통 조상:', find_ancestor(path, 1, 4))\n",
    "    print('8과 9의 최소 공통 조상:', find_ancestor(path, 8, 9))"
   ]
  },
  {
   "cell_type": "code",
   "execution_count": 5,
   "id": "61fdabfc",
   "metadata": {},
   "outputs": [
    {
     "data": {
      "text/plain": [
       "[3, 4]"
      ]
     },
     "execution_count": 5,
     "metadata": {},
     "output_type": "execute_result"
    }
   ],
   "source": [
    "list= [1, 2, 3, 4]\n",
    "list[2:]"
   ]
  },
  {
   "cell_type": "code",
   "execution_count": null,
   "id": "f8dfc697",
   "metadata": {},
   "outputs": [],
   "source": []
  }
 ],
 "metadata": {
  "kernelspec": {
   "display_name": "Python 3 (ipykernel)",
   "language": "python",
   "name": "python3"
  },
  "language_info": {
   "codemirror_mode": {
    "name": "ipython",
    "version": 3
   },
   "file_extension": ".py",
   "mimetype": "text/x-python",
   "name": "python",
   "nbconvert_exporter": "python",
   "pygments_lexer": "ipython3",
   "version": "3.9.7"
  }
 },
 "nbformat": 4,
 "nbformat_minor": 5
}
