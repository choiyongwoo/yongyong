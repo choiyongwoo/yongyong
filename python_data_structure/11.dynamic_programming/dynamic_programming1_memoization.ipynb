{
 "cells": [
  {
   "cell_type": "markdown",
   "id": "1741fea0",
   "metadata": {},
   "source": [
    "<h1>동적계획법</h1>\n",
    "동적 계획법은 복잡한 문제를 재귀를 통해 간단한 하위 문제로 분류하여 단순화하여 해결하는 방법<br>\n",
    "어떤 문제가 최적 부분 구조와 중복되는 부분 문제를 가지고 있다면, 동적계획법으로 해결 가능<br><br>\n",
    "\n",
    "최적 부분 구조는 답을 구하기 위해서 했던 계산을 반복해야 하는 문제의 구조를 말함<br>\n",
    "동적계획법을 사용하려면 먼저 최적 부분 구조가 있는지 확인<br>\n",
    "동적 계획법은 부분 문제를 풀고 결과를 저장한 후, 다음 부분 문제(중복되는 부분 문제)를 푸는 과정에서 저장된 결과를 사용"
   ]
  },
  {
   "cell_type": "markdown",
   "id": "bb8377ce",
   "metadata": {},
   "source": [
    "<h2>메모이제이션</h2>\n",
    "메모이제이션은 프로그램이 동일한 계산을 반복할 때, 이전에 계산한 값을 메모리에 저장하여 동일한 계산의 반복 수행을 제거하여 프로그램의 실행 속도를 빠르게 하는 기법<br>\n",
    "동적 계획법의 핵심\n",
    "\n",
    "<h3>피보나치 수열</h3>\n",
    "파이썬과 같은 고급 언어는 반환 값을 캐싱하여 재귀식을 직접 구현할 수 있음<br>\n",
    "같은 인수가 두번 이상 호출되고, 그 결과가 캐시에 직접 반환되는 메모이 제이션 메서드 구현"
   ]
  },
  {
   "cell_type": "code",
   "execution_count": 8,
   "id": "f50514a1",
   "metadata": {},
   "outputs": [
    {
     "name": "stdout",
     "output_type": "stream",
     "text": [
      "함수 수행시간 : 0.000002 초\n",
      "<function elapsed.<locals>.wrapper at 0x7334a0d280>\n",
      "Help on function wrapper in module __main__:\n",
      "\n",
      "wrapper(*args, **kwargs)\n",
      "\n"
     ]
    }
   ],
   "source": [
    "#데코레이터\n",
    "#함수의 수행시간을 알려주는 예\n",
    "import time\n",
    "\n",
    "def elapsed(original_func):\n",
    "    def wrapper(*args, **kwargs):\n",
    "        start= time.time()\n",
    "        result= original_func(*args, **kwargs)\n",
    "        end= time.time()\n",
    "        print('함수 수행시간 : %f 초' %(end-start))\n",
    "        return result\n",
    "    return wrapper\n",
    "\n",
    "@elapsed\n",
    "def add(a, b):\n",
    "    '''두 수 a, b 더한값을 리턴하는 함수'''\n",
    "    return a+b\n",
    "\n",
    "result= add(3, 4)\n",
    "\n",
    "print(add)\n",
    "#add 함수의 이름이 출력되지 않고 elapsed에 대한 정보만 출력\n",
    "help(add)\n",
    "#add함수의 독스트링이 나오지 않고, wrapper가 출력"
   ]
  },
  {
   "cell_type": "code",
   "execution_count": 9,
   "id": "cbe15bb7",
   "metadata": {},
   "outputs": [
    {
     "name": "stdout",
     "output_type": "stream",
     "text": [
      "<function add at 0x7334a0d790>\n",
      "Help on function add in module __main__:\n",
      "\n",
      "add(a, b)\n",
      "    두 수 a, b를 더한값을 리턴하는 함수\n",
      "\n"
     ]
    }
   ],
   "source": [
    "#add 함수에 elapsed 데코레이터를 적용하더라도 함수명과\n",
    "#함수의 설명문을 그대로 유지할 수 있도록 코드 수정\n",
    "from functools import wraps\n",
    "import time\n",
    "\n",
    "def elapsed(original_func):\n",
    "    @wraps(original_func)\n",
    "    def wrapper(*args, **kwargs):\n",
    "        start= time.time()\n",
    "        result= original_func(*args, **kwargs)\n",
    "        end= time.time()\n",
    "        print('함수 수행시간:%f 초' %(end- start))\n",
    "        return result\n",
    "    return wrapper\n",
    "\n",
    "@elapsed\n",
    "def add(a, b):\n",
    "    '''두 수 a, b를 더한값을 리턴하는 함수'''\n",
    "    return a+b\n",
    "\n",
    "print(add)\n",
    "help(add)\n",
    "#함수명과 함수의 설명문이 정확하게 출력"
   ]
  },
  {
   "cell_type": "code",
   "execution_count": 10,
   "id": "027e037f",
   "metadata": {},
   "outputs": [],
   "source": [
    "#시간 측정을 위한 데커레이터 함수용 파일\n",
    "from functools import wraps\n",
    "import time\n",
    "\n",
    "def benchmark(method):\n",
    "    @wraps(method)\n",
    "    def timed(*args, **kw):\n",
    "        ts= time.time()\n",
    "        result= method(*args, **kw)\n",
    "        te= time.time()\n",
    "        #print('%r: %2.2f ms' %(method.__name__, (te-ts)*1000))\n",
    "        #print(f'{method.__name__}: {((te-ts)*1000):.2f} ms')\n",
    "        print('{0}: {1:0.2f} ms'.format(method.__name__, ((te-ts)*1000)))\n",
    "        return result\n",
    "    \n",
    "    return timed\n",
    "\n"
   ]
  },
  {
   "cell_type": "code",
   "execution_count": 14,
   "id": "e0f3f5ee",
   "metadata": {},
   "outputs": [
    {
     "data": {
      "text/plain": [
       "[0, 0, 0]"
      ]
     },
     "execution_count": 14,
     "metadata": {},
     "output_type": "execute_result"
    }
   ],
   "source": [
    "[0]*(3)"
   ]
  },
  {
   "cell_type": "code",
   "execution_count": 15,
   "id": "7977dd74",
   "metadata": {},
   "outputs": [
    {
     "name": "stdout",
     "output_type": "stream",
     "text": [
      "14930352\n",
      "test_fib: 8472.50 ms\n",
      "14930352\n",
      "test_fib2: 0.12 ms\n",
      "14930352\n",
      "test_fib3: 0.08 ms\n"
     ]
    }
   ],
   "source": [
    "from functools import wraps\n",
    "\n",
    "from benchmark import benchmark\n",
    "\n",
    "def memo(func):\n",
    "    cache= {}\n",
    "    \n",
    "    @wraps(func) #데커레이터를 사용하는 함수의 __name__과 __doc__이 원본으로 나옴\n",
    "    def wrap(*args):\n",
    "        #캐시메모리에 계산이 저장되어 있지 않으며 메모리에 계산 추가\n",
    "        if args not in cache: \n",
    "            cache[args]= func(*args)\n",
    "        return cache[args]\n",
    "    return wrap\n",
    "\n",
    "def fib(n):\n",
    "    if n<2:\n",
    "        return 1\n",
    "    else:\n",
    "        return fib(n-1)+fib(n-2)\n",
    "    \n",
    "@memo #메모이제이션 사용\n",
    "def fib2(n):\n",
    "    if n<2:\n",
    "        return 1\n",
    "    else:\n",
    "        return fib2(n-1)+fib2(n-2)\n",
    "    \n",
    "def fib3(m, n):\n",
    "    if m[n]== 0:\n",
    "        m[n]= fib3(m, n-1) +fib3(m, n-2)\n",
    "    return m[n]\n",
    "\n",
    "@benchmark\n",
    "def test_fib(n):\n",
    "    print(fib(n))\n",
    "    \n",
    "@benchmark\n",
    "def test_fib2(n):\n",
    "    print(fib2(n))\n",
    "    \n",
    "@benchmark\n",
    "def test_fib3(n):\n",
    "    m= [0] *(n+1)\n",
    "    m[0], m[1]= 1, 1\n",
    "    print(fib3(m, n))\n",
    "    \n",
    "if __name__== '__main__':\n",
    "    n= 35\n",
    "    test_fib(n)\n",
    "    test_fib2(n)\n",
    "    test_fib3(n)\n",
    "    "
   ]
  },
  {
   "cell_type": "markdown",
   "id": "fa468970",
   "metadata": {},
   "source": [
    "메모이제이션을 사용하면 다음 그림과 같이 반복을 줄일 수 있음<br>\n",
    "칠해진 노드만 계산을 수행하며, 나머지는 이미 캐시된 값을 불러옴\n",
    "\n",
    "![](IMG/dynamic_programming1.jpg)"
   ]
  },
  {
   "cell_type": "code",
   "execution_count": 13,
   "id": "b5eeca6d",
   "metadata": {},
   "outputs": [
    {
     "data": {
      "text/plain": [
       "[0, 0, 0]"
      ]
     },
     "execution_count": 13,
     "metadata": {},
     "output_type": "execute_result"
    }
   ],
   "source": [
    "[0]*(3)"
   ]
  },
  {
   "cell_type": "code",
   "execution_count": null,
   "id": "301b0bec",
   "metadata": {},
   "outputs": [],
   "source": []
  }
 ],
 "metadata": {
  "kernelspec": {
   "display_name": "Python 3 (ipykernel)",
   "language": "python",
   "name": "python3"
  },
  "language_info": {
   "codemirror_mode": {
    "name": "ipython",
    "version": 3
   },
   "file_extension": ".py",
   "mimetype": "text/x-python",
   "name": "python",
   "nbconvert_exporter": "python",
   "pygments_lexer": "ipython3",
   "version": "3.9.7"
  }
 },
 "nbformat": 4,
 "nbformat_minor": 5
}
