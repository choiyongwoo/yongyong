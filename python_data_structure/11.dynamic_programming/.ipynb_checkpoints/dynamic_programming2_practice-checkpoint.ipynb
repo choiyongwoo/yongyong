{
 "cells": [
  {
   "cell_type": "markdown",
   "id": "be7f3915",
   "metadata": {},
   "source": [
    "<h3>최장 증가 부분열</h3>\n",
    "증가하는 순서대로(오름차순으로) 숫자를 고른 부분열의 길이가 최대가 되게 하면 됨<br>\n",
    "예를 들어 리스트 [94, 8, 78, 22, 38, 79, 93, 8, 84, 39]가 있다고 가정하면, 가장 길게 증가하는 부분 리스트는 [8, 22, 38, 79, 93] 또는 [8, 22, 38, 79, 84]가 존재"
   ]
  },
  {
   "cell_type": "code",
   "execution_count": 4,
   "id": "d2a727d3",
   "metadata": {},
   "outputs": [
    {
     "name": "stdout",
     "output_type": "stream",
     "text": [
      "(4, 2, 1, 3)\n",
      "(4, 2, 1, 8)\n",
      "(4, 2, 1, 6)\n",
      "(4, 2, 1, 7)\n",
      "(4, 2, 3, 8)\n",
      "(4, 2, 3, 6)\n",
      "(4, 2, 3, 7)\n",
      "(4, 2, 8, 6)\n",
      "(4, 2, 8, 7)\n",
      "(4, 2, 6, 7)\n",
      "(4, 1, 3, 8)\n",
      "(4, 1, 3, 6)\n",
      "(4, 1, 3, 7)\n",
      "(4, 1, 8, 6)\n",
      "(4, 1, 8, 7)\n",
      "(4, 1, 6, 7)\n",
      "(4, 3, 8, 6)\n",
      "(4, 3, 8, 7)\n",
      "(4, 3, 6, 7)\n",
      "(4, 8, 6, 7)\n",
      "(2, 1, 3, 8)\n",
      "(2, 1, 3, 6)\n",
      "(2, 1, 3, 7)\n",
      "(2, 1, 8, 6)\n",
      "(2, 1, 8, 7)\n",
      "(2, 1, 6, 7)\n",
      "(2, 3, 8, 6)\n",
      "(2, 3, 8, 7)\n",
      "(2, 3, 6, 7)\n",
      "(2, 8, 6, 7)\n",
      "(1, 3, 8, 6)\n",
      "(1, 3, 8, 7)\n",
      "(1, 3, 6, 7)\n",
      "(1, 8, 6, 7)\n",
      "(3, 8, 6, 7)\n"
     ]
    }
   ],
   "source": [
    "import itertools\n",
    "it= itertools.combinations([4, 2, 1, 3, 8, 6, 7], 4)\n",
    "for num in it:\n",
    "    print(num)\n",
    "    \n",
    "#부분집합을 뽑음\n"
   ]
  },
  {
   "cell_type": "code",
   "execution_count": 7,
   "id": "296a9b39",
   "metadata": {},
   "outputs": [
    {
     "name": "stdout",
     "output_type": "stream",
     "text": [
      "[94, 8, 78, 22, 38, 79, 93, 8, 84, 39]\n",
      "5\n",
      "test_naive_longest_inc_subseq: 0.78 ms\n",
      "5\n",
      "test_dp_longest_inc_subseq: 0.07 ms\n",
      "5\n",
      "test_memoized_longest_inc_subseq: 0.12 ms\n",
      "5\n",
      "test_longest_inc_bisec: 0.05 ms\n"
     ]
    }
   ],
   "source": [
    "from bisect import bisect\n",
    "from itertools import combinations\n",
    "from functools import wraps\n",
    "\n",
    "from benchmark import benchmark\n",
    "\n",
    "def naive_longest_inc_subseq(seq):\n",
    "    #1)단순한 방법\n",
    "    for length in range(len(seq), 0, -1):\n",
    "        for sub in combinations(seq, length):\n",
    "            if list(sub)== sorted(sub):\n",
    "                return len(sub)\n",
    "\n",
    "def dp_longest_inc_subseq(seq):\n",
    "    #2)동적 계획법\n",
    "    L= [1]*len(seq)\n",
    "    res= []\n",
    "    for cur, val in enumerate(seq):\n",
    "        for pre in range(cur):\n",
    "            if seq[pre] <=val:\n",
    "                L[cur]= max(L[cur], 1+L[pre])\n",
    "    return max(L)\n",
    "\n",
    "def memo(func):\n",
    "    cache= {}\n",
    "    \n",
    "    @wraps(func)\n",
    "    def wrap(*args):\n",
    "        if args not in cache:\n",
    "            cache[args]= func(*args)\n",
    "        return cache[args]\n",
    "    return wrap\n",
    "\n",
    "def memoized_longest_inc_subseq(seq):\n",
    "    #3)메모이제이션\n",
    "    @memo\n",
    "    def L(cur):\n",
    "        res= 1\n",
    "        for pre in range(cur):\n",
    "            if seq[pre]<= seq[cur]:\n",
    "                res= max(res, 1+L(pre))\n",
    "        return res\n",
    "    return max(L(i) for i in range(len(seq)))\n",
    "\n",
    "def longest_inc_bisec(seq):\n",
    "    #4)이진 검색\n",
    "    end= []\n",
    "    for val in seq:\n",
    "        idx= bisect(end, val)\n",
    "        if idx== len(end):\n",
    "            end.append(val)\n",
    "        else:\n",
    "            end[idx]= val\n",
    "        #print(end)\n",
    "    return len(end)\n",
    "\n",
    "@benchmark\n",
    "def test_naive_longest_inc_subseq():\n",
    "    print(naive_longest_inc_subseq(s1))\n",
    "    \n",
    "@benchmark\n",
    "def test_dp_longest_inc_subseq():\n",
    "    print(dp_longest_inc_subseq(s1))\n",
    "    \n",
    "@benchmark\n",
    "def test_memoized_longest_inc_subseq():\n",
    "    print(memoized_longest_inc_subseq(s1))\n",
    "    \n",
    "@benchmark\n",
    "def test_longest_inc_bisec():\n",
    "    print(longest_inc_bisec(s1))\n",
    "    \n",
    "if __name__== '__main__':\n",
    "    #from random import randrange\n",
    "    #s1= [randrange(100) for i in range(20)]\n",
    "    s1= [94, 8, 78, 22, 38, 79, 93, 8, 84, 39]\n",
    "    print(s1)\n",
    "    test_naive_longest_inc_subseq()\n",
    "    test_dp_longest_inc_subseq()\n",
    "    test_memoized_longest_inc_subseq()\n",
    "    test_longest_inc_bisec()"
   ]
  },
  {
   "cell_type": "markdown",
   "id": "1888c481",
   "metadata": {},
   "source": [
    "![](IMG/dynamic_programming2.jpg)\n",
    "\n",
    "pre가 cur보다 작은 경우(cur보다 작은 항목이 오름차순 항목의 후보가 될 수 있음)<br>\n",
    "L[pre]을 1증가시켜서 L[cur]과 비교하여 큰 값을 다시 L[cur]에 저장<br>\n",
    "(cur에서 pre의 항목을 비교 진행하는 과정에서 cur 기준으로 pre항목들이 오름차순으로 증가하는지 계산)<br>\n",
    "pre가 cur보다 큰 경우 L[cur]값을 유지<br>\n",
    "최종 결과는 [1, 1, 2, 2, 3, 4, 5, 2, 5, 4]이며 최댓값은 5<br><br>\n",
    "\n",
    "이 코드에서 1)단순한 방법의 시간복잡도는 O(2n)이고, 2)동적 계획법과 3)메모이제이션은 O(n2), 4)이진 검색의 경우 O(n log n)"
   ]
  },
  {
   "cell_type": "markdown",
   "id": "c3fdbd9f",
   "metadata": {},
   "source": [
    "<h3>memoization vs tabulation</h3>"
   ]
  },
  {
   "cell_type": "code",
   "execution_count": 10,
   "id": "2f193ff2",
   "metadata": {},
   "outputs": [
    {
     "name": "stdout",
     "output_type": "stream",
     "text": [
      "[1, 1, 2, 3, 5, 8, 13, 21, 34, 55, 89]\n"
     ]
    },
    {
     "data": {
      "text/plain": [
       "89"
      ]
     },
     "execution_count": 10,
     "metadata": {},
     "output_type": "execute_result"
    }
   ],
   "source": [
    "#DP, Momoization(Top-down, 하향식)\n",
    "dp_Memo=[0]*11\n",
    "dp_Memo[0]=1\n",
    "dp_Memo[1]=1\n",
    "\n",
    "def fib_Memo(n):\n",
    "    \n",
    "    #한번도 계산한 적이 없는 경우\n",
    "    \n",
    "    if dp_Memo[n]==0: #dp list에 계산한적이 없는경우 0으로 저장되어 있음\n",
    "        dp_Memo[n] = fib_Memo(n-1)+fib_Memo(n-2) #재귀로 계산하여 리스트에 값 추가\n",
    "    \n",
    "    # 새롭게 추가 값 혹은 저장된 값 반환\n",
    "    \n",
    "    return dp_Memo[n]\n",
    "\n",
    "# 피보나치 수열 항 리스트 전체 출력\n",
    "for i in range(11):\n",
    "    fib_Memo(i)\n",
    "\n",
    "print(dp_Memo)\n",
    "\n",
    "fib_Memo(10)\n"
   ]
  },
  {
   "cell_type": "code",
   "execution_count": null,
   "id": "cf865488",
   "metadata": {},
   "outputs": [],
   "source": [
    "#DP, Tabulation(Bottom-Up, 상향식)\n",
    "\n",
    "# 풀이 1.\n",
    "def fib_Tab1(n):\n",
    "    \n",
    "    dp_Tab=[0]*(n+1)\n",
    "    dp_Tab[0],dp_Tab[1]= 1,1\n",
    "    \n",
    "    # 작은 값(소문제)부터 직접 계산하며 진행\n",
    "    \n",
    "    # 2항 ~ n항 까지 피보나치 수열항 계산 (0,1 항 = 1)\n",
    "    for i in range(2,n+1):        \n",
    "        dp_Tab[i]=dp_Tab[i-1]+dp_Tab[i-2]\n",
    "    \n",
    "    print(dp_Tab) # 피보나치 수열 항 리스트 전체 출력\n",
    "    \n",
    "    return dp_Tab[n]\n",
    "\n",
    "fib_Tab(10)"
   ]
  }
 ],
 "metadata": {
  "kernelspec": {
   "display_name": "Python 3 (ipykernel)",
   "language": "python",
   "name": "python3"
  },
  "language_info": {
   "codemirror_mode": {
    "name": "ipython",
    "version": 3
   },
   "file_extension": ".py",
   "mimetype": "text/x-python",
   "name": "python",
   "nbconvert_exporter": "python",
   "pygments_lexer": "ipython3",
   "version": "3.9.7"
  }
 },
 "nbformat": 4,
 "nbformat_minor": 5
}
