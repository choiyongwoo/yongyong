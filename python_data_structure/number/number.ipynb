{
 "cells": [
  {
   "cell_type": "markdown",
   "id": "7b878afe",
   "metadata": {},
   "source": [
    "<h2>숫자</h2>\n",
    "<h3>정수</h3>\n",
    "정수는 int로 나타내며 불변형<br>\n",
    "파이썬 정수 크기는 적어도 32비트(4바이트)<br>\n",
    "정수를 나타내는 데 필요한 바이트수 확인 (정수).bit_length()"
   ]
  },
  {
   "cell_type": "code",
   "execution_count": 1,
   "id": "6b4e0ee9",
   "metadata": {},
   "outputs": [
    {
     "data": {
      "text/plain": [
       "10"
      ]
     },
     "execution_count": 1,
     "metadata": {},
     "output_type": "execute_result"
    }
   ],
   "source": [
    "(999).bit_length()"
   ]
  },
  {
   "cell_type": "code",
   "execution_count": 3,
   "id": "f1921e90",
   "metadata": {},
   "outputs": [
    {
     "name": "stdout",
     "output_type": "stream",
     "text": [
      "11\n",
      "3\n"
     ]
    }
   ],
   "source": [
    "#어떤 문자열 정수로 변환하거나 다른 진법의 문자열을 10진법으로 변환\n",
    "#int(문자열, 밑)\n",
    "s= '11'\n",
    "d= int(s)\n",
    "print(d)\n",
    "\n",
    "b= int(s, 2) #이진수\n",
    "print(b)"
   ]
  },
  {
   "cell_type": "markdown",
   "id": "bffcc89d",
   "metadata": {},
   "source": [
    "<h3>부동소수점</h3>\n",
    "파이썬에서 부동소수점은 float으로 나타내며 불변형<br>\n",
    "단정도 방식에서 32비트 부동소수점을 나타낼때 1비트는 부호(0:양수, 1:음수)<br>\n",
    "23비트는 유효숫자 자릿수(가수부), 8비트는 지수<br>\n",
    "배정도 방식은 64비트, double로 나타내며 불변형<br>\n",
    "\n",
    "![](IMG/number1.jpg)\n",
    "\n",
    "![](IMG/number2.jpg)\n",
    "\n",
    "2진수로는 0.3, 0.1등등의 수를 완벽하게 나타낼 수 \n",
    "\n",
    "변환된 이진수를 정규화<br>\n",
    "1110110.101(2)= 1.110110101(2) * 2 ** 6<br>\n",
    "위의 숫자를 가수부에 넣고 부족한 자릿수는 0으로 채움<br>\n",
    "지수는 6이므로 바이어스를 더함, 즉 지수 6에 127을 더함<br>\n",
    "6+ 127= 133= 10000101(2) <br>\n",
    "따라서 -118.624(10)를 32비트 단정도로 표현한 결과는\n",
    "1 10000101 110110101임<br>\n",
    "단정도 방식일때는 지수에 127(2 ** 7-1)을 더하고, 배정도 방식일때 1023(2 ** 10-1)을 더함"
   ]
  },
  {
   "cell_type": "markdown",
   "id": "39aadf53",
   "metadata": {},
   "source": [
    "<h4>부동소수점끼리 비교하기</h4>\n",
    "부동소수점은 이진수 분수로 표현되기 때문에 함부로 비교하거나 빼면 안됨<br>\n",
    "2진수는 대개 10진법으로 정확하게 표현되지만, 2진법으로 표현하기 어려운 숫자도 있음 (ex 0.1)\n",
    "그 대신 동등성 테스트는 사전에 정의된 정밀도 범위 내에서 수행되어야 함<br>\n",
    "예를 들어 unittest 모듈의 assertAlmostEqual메서드를 <br>\n",
    "def a(x, y, places=7):<br>\n",
    "    return round(abs(x-y), places)==0<br>"
   ]
  },
  {
   "cell_type": "markdown",
   "id": "5f2478ff",
   "metadata": {},
   "source": [
    "<h4>정수와 부동소수점 메서드</h4>\n",
    "파이썬에서 나누기 연산자 / 는 항상 부동소수점을 반환<br>\n",
    "//연산자는 정수를 반환<br>\n",
    "%연산자는 나머지 반환<br>"
   ]
  },
  {
   "cell_type": "code",
   "execution_count": 8,
   "id": "efab0645",
   "metadata": {},
   "outputs": [
    {
     "data": {
      "text/plain": [
       "(11, 4)"
      ]
     },
     "execution_count": 8,
     "metadata": {},
     "output_type": "execute_result"
    }
   ],
   "source": [
    "divmod(45, 6) #몫과 나머지 반환\n",
    "round(113.866, -1) #round(x, n) n이 음수인 경우 정수 n번째 자리에서  반올림\n",
    "#round(x, n) n이 양수인 경우 소수 n+1자릿수에서 반올림 \n",
    "2.75.as_integer_ratio() #부동소수점 분수로 표현"
   ]
  },
  {
   "cell_type": "markdown",
   "id": "bbf1b656",
   "metadata": {},
   "source": [
    "<h3>복소수</h3>\n",
    "복소수는 z=3+4i와 같이 생긴 부동소수점 한쌍을 갖는 불변형<br>\n",
    "z.real(실수부), z.imag(허수부), z.conjugate()(켤레 복소수)를 구할 수 <br>\n",
    "복소수를 사용하려면 cmath모듈 임포트 "
   ]
  },
  {
   "cell_type": "markdown",
   "id": "c67d8fbd",
   "metadata": {},
   "source": [
    "<h3>fraction모듈</h3>\n",
    "파이썬에서 분수를 다루는 모듈"
   ]
  },
  {
   "cell_type": "code",
   "execution_count": 1,
   "id": "99320782",
   "metadata": {},
   "outputs": [
    {
     "name": "stdout",
     "output_type": "stream",
     "text": [
      "테스트 통과\n"
     ]
    }
   ],
   "source": [
    "#assert 문은 뒤의 조건이 True가 아니면 assertion오류를 발생\n",
    "\n",
    "from fractions import Fraction\n",
    "\n",
    "def rounding_floats(number1, places):\n",
    "    return round(number1, places)\n",
    "\n",
    "def float_to_fractions(number):\n",
    "    #Fraction(분자, 분모)인 객체 생성\n",
    "    # *은 iterable한 객체 언패키징\n",
    "    #객체.from_float(float): 실수를 받아서 fraction객체 생성\n",
    "    return Fraction(*number.as_integer_ratio())\n",
    "\n",
    "def get_denominator(number1, number2):\n",
    "    #a.denominator: 분모 반환\n",
    "    a= Fraction(number1, number2)\n",
    "    return a.denominator\n",
    "\n",
    "def get_numerator(number1, number2):\n",
    "    #a.numerator: 분자 반환\n",
    "    a= Fraction(number1, number2)\n",
    "    return a.numerator\n",
    "\n",
    "def test_testing_floats():\n",
    "    number1= 1.25\n",
    "    number2= 1\n",
    "    number3= -1\n",
    "    number4= 5/4\n",
    "    number6= 6\n",
    "    assert(rounding_floats(number1, number2)==1.2)\n",
    "    assert(rounding_floats(number1*10, number3)==10)\n",
    "    assert(float_to_fractions(number1)== number4)\n",
    "    assert(get_denominator(number2, number6)== number6)\n",
    "    assert(get_numerator(number2, number6) == number2)\n",
    "    print('테스트 통과')\n",
    "    \n",
    "\n",
    "#__name__은 해당 파이썬 파일의 이름(그 모듈의 이름)\n",
    "#해당 파일 안에서 함수를 실행시키면 __name__==__main__\n",
    "#해당 파일 밖에서 모듈을 임포트해서 실행시키면 __name__은 해당 모듈의 이름이 대입\n",
    "#다른 파일에서 이 모듈을 임포트 했을때 그 모듈안의 모든 코드가 실행되는 것 \n",
    "\n",
    "if __name__=='__main__':\n",
    "    test_testing_floats()"
   ]
  },
  {
   "cell_type": "markdown",
   "id": "0c2100c5",
   "metadata": {},
   "source": [
    "<h3>decimal 모듈</h3>\n",
    "정확한 10진법의 부동소수점 숫자가 필요한 경우, 부동소수점 불변 타입인 decimal.Decimal을 사용할 수 있음<br>\n",
    "Decimal() 메서드는 정수 또는 문자열을 인수로 취함<br>\n"
   ]
  },
  {
   "cell_type": "code",
   "execution_count": 5,
   "id": "a01e560a",
   "metadata": {},
   "outputs": [
    {
     "data": {
      "text/plain": [
       "True"
      ]
     },
     "execution_count": 5,
     "metadata": {},
     "output_type": "execute_result"
    }
   ],
   "source": [
    "#generator\n",
    "sum (0.1 for i in range(10))==1.0\n",
    "#0.1을 이진수로 정확하게 나타낼 수 없음\n",
    "\n",
    "from decimal import Decimal\n",
    "sum(Decimal('0.1') for i in range(10))==Decimal('1.0')\n"
   ]
  },
  {
   "cell_type": "markdown",
   "id": "87f9e6ba",
   "metadata": {},
   "source": [
    "<h3>2진수, 8진수, 16진수</h3>"
   ]
  },
  {
   "cell_type": "code",
   "execution_count": 9,
   "id": "42281c93",
   "metadata": {},
   "outputs": [
    {
     "name": "stdout",
     "output_type": "stream",
     "text": [
      "0b1111100111\n",
      "0o1747\n",
      "0x3e7\n"
     ]
    }
   ],
   "source": [
    "#bin(i)메서드는 정수 i의 2진수 문자열을 반환\n",
    "print(bin(999))\n",
    "\n",
    "#oct(i)메서드는 8진수 문자열 반환\n",
    "print(oct(999))\n",
    "\n",
    "#hex(i)메서드는 정수 i의 16진수 문자열 반환\n",
    "print(hex(999))"
   ]
  },
  {
   "cell_type": "markdown",
   "id": "5a12cb4f",
   "metadata": {},
   "source": [
    "<h3>연습 문제</h3>"
   ]
  },
  {
   "cell_type": "code",
   "execution_count": 37,
   "id": "edcff694",
   "metadata": {},
   "outputs": [
    {
     "name": "stdout",
     "output_type": "stream",
     "text": [
      "테스트 통과\n",
      "테스트 통과\n",
      "테스트 통과\n",
      "테스트 통과\n"
     ]
    }
   ],
   "source": [
    "#진법 변환\n",
    "\n",
    "#10진수인 숫자를 다른 진법의 숫자로 변환, 2<=base<=10\n",
    "def convert_from_decimal(number, base):\n",
    "    mul, result= 10, 0\n",
    "    rep=0\n",
    "    while number>=base:\n",
    "        remain= number%base\n",
    "        result+= remain*mul**rep\n",
    "        number= number//base\n",
    "        rep+=1\n",
    "    result+= number*mul**rep\n",
    "    return result\n",
    "\n",
    "def test_convert_from_decimal():\n",
    "    number, base= 9, 2\n",
    "    assert(convert_from_decimal(number, base)==1001)\n",
    "    print('테스트 통과')\n",
    "\n",
    "if __name__=='__main__':\n",
    "    test_convert_from_decimal()\n",
    "\n",
    "#다른진법의 숫자를 10진수로 변환, 2<=base<=10\n",
    "def convert_to_decimal(number, base):\n",
    "    rep= 0\n",
    "    remain, result= 0, 0\n",
    "    while number>=10:\n",
    "        remain= number%10\n",
    "        result+= remain*base**rep\n",
    "        number//=10\n",
    "        rep+=1\n",
    "    result+=number*base**rep\n",
    "    return result\n",
    "\n",
    "def test_convert_to_decimal():\n",
    "    number, base= 9, 2\n",
    "    assert(convert_from_decimal(number, base)==1001)\n",
    "    print('테스트 통과!')\n",
    "    \n",
    "if __name__=='__main__':\n",
    "    test_convert_from_decimal()\n",
    "\n",
    "#10진수를 20이하의 진법으로 변환\n",
    "def convert_from_decimal_larger_bases(number, base):\n",
    "    strings='0123456789ABCDEFGHIJ'\n",
    "    rep, remain=0, 0\n",
    "    result=''\n",
    "    while number>=base:\n",
    "        remain= number%base\n",
    "        result= strings[remain]+result\n",
    "        number//=base\n",
    "    result= strings[number]+result\n",
    "    return result\n",
    "\n",
    "def test_convert_from_decimal_larger_bases():\n",
    "    number, base= 31, 16\n",
    "    assert(convert_from_decimal_larger_bases(number, base)=='1F')\n",
    "    print('테스트 통과')\n",
    "\n",
    "if __name__=='__main__':\n",
    "    test_convert_from_decimal_larger_bases()\n",
    "    \n",
    "#재귀 함수를 사용한 진법 변환\n",
    "def convert_dec_to_any_base_rec(number, base):\n",
    "    convertString='0123456789ABCDEF'\n",
    "    if number<base:\n",
    "        return convertString[number]\n",
    "    else:\n",
    "        return convert_dec_to_any_base_rec(number//base, base)+convertString[number%base]\n",
    "\n",
    "def test_convert_dec_to_any_base_rec():\n",
    "    number= 9\n",
    "    base= 2\n",
    "    assert(convert_dec_to_any_base_rec(number, base)=='1001')\n",
    "    print('테스트 통과')\n",
    "if __name__=='__main__':\n",
    "    test_convert_dec_to_any_base_rec()"
   ]
  },
  {
   "cell_type": "code",
   "execution_count": 41,
   "id": "ac84ccfb",
   "metadata": {},
   "outputs": [
    {
     "name": "stdout",
     "output_type": "stream",
     "text": [
      "테스트 통과\n"
     ]
    }
   ],
   "source": [
    "#최대공약수\n",
    "\n",
    "def finding_gcd(a, b):\n",
    "    while(b!=0):\n",
    "        result=b\n",
    "        a, b= b, a%b\n",
    "    return result\n",
    "\n",
    "def test_finding_gcd():\n",
    "    number1= 21\n",
    "    number2= 12\n",
    "    assert(finding_gcd(number1, number2)==3)\n",
    "    print('테스트 통과')\n",
    "    \n",
    "if __name__=='__main__':\n",
    "    test_finding_gcd()"
   ]
  },
  {
   "cell_type": "code",
   "execution_count": 43,
   "id": "18e88440",
   "metadata": {},
   "outputs": [
    {
     "name": "stdout",
     "output_type": "stream",
     "text": [
      "4\n",
      "1\n",
      "1\n",
      "[4, 3]\n",
      "[1, 2, 3]\n",
      "[4, 2, 1, 3]\n",
      "3\n",
      "6\n"
     ]
    }
   ],
   "source": [
    "#random 모듈\n",
    "import random\n",
    "def testing_random():\n",
    "    '''random모듈 테스트'''\n",
    "    values=[1, 2, 3, 4]\n",
    "    print(random.choice(values))\n",
    "    print(random.choice(values))\n",
    "    print(random.choice(values))\n",
    "    print(random.sample(values, 2))\n",
    "    print(random.sample(values, 3))\n",
    "    \n",
    "    '''values 리스트를 섞는다'''\n",
    "    random.shuffle(values)\n",
    "    print(values)\n",
    "    \n",
    "    '''0~10의 임의의 정수를 생성'''\n",
    "    print(random.randint(0, 10))\n",
    "    print(random.randint(0, 10))\n",
    "\n",
    "if __name__=='__main__':\n",
    "    testing_random()"
   ]
  },
  {
   "cell_type": "code",
   "execution_count": 7,
   "id": "0be3a390",
   "metadata": {},
   "outputs": [
    {
     "name": "stdout",
     "output_type": "stream",
     "text": [
      "테스트 통과\n",
      "1 1 2 3 5 8 13 21 34 55 "
     ]
    }
   ],
   "source": [
    "#피보나치 수열\n",
    "#피보나치 수열은 첫째 및 둘째 항이 1이며, 그 이후 모든 항은 바로 앞 두항의 합인 수열\n",
    "import math\n",
    "def find_fibonacci_seq_iter(n):\n",
    "    if n<2: return n\n",
    "    a, b= 0, 1\n",
    "    for i in range(n):\n",
    "        a, b= b, a+b\n",
    "    return a\n",
    "\n",
    "def find_fibonacci_seq_rec(n):\n",
    "    if n<2: return n\n",
    "    return find_fibonacci_seq_rec(n-1)+find_fibonacci_seq_rec(n-2)\n",
    "\n",
    "def find_fibonacci_seq_form(n):\n",
    "    sq5= math.sqrt(5)\n",
    "    phi= (1+ sq5)/2\n",
    "    #floor: 내림함수\n",
    "    return int(math.floor(phi**n/sq5))\n",
    "\n",
    "def test_find_fib():\n",
    "    #70번째 이상의 결과는 부정확할 수 있음\n",
    "    n= 10\n",
    "    assert(find_fibonacci_seq_rec(n)==55)\n",
    "    assert(find_fibonacci_seq_iter(n)==55)\n",
    "    assert(find_fibonacci_seq_form(n)==55)\n",
    "    print('테스트 통과')\n",
    "    \n",
    "if __name__=='__main__':\n",
    "    test_find_fib()\n",
    "\n",
    "#제너레이터를 이용한 피보나치 수열\n",
    "def fib_generator():\n",
    "    a, b=0, 1\n",
    "    while True:\n",
    "        yield b\n",
    "        a, b= b, a+b\n",
    "        \n",
    "if __name__=='__main__':\n",
    "    fg= fib_generator()\n",
    "    for _ in range(10):\n",
    "        #개행문자를 빼고 띄어쓰기로 넣음\n",
    "        print(next(fg), end=' ')"
   ]
  },
  {
   "cell_type": "code",
   "execution_count": 32,
   "id": "bd6c42ee",
   "metadata": {},
   "outputs": [
    {
     "name": "stdout",
     "output_type": "stream",
     "text": [
      "테스트통과\n"
     ]
    }
   ],
   "source": [
    "#소수\n",
    "#약수로 1과 자기 자신만을 가지는 수\n",
    "#무차별 대입방법\n",
    "\n",
    "#제곱근 이용방법\n",
    "#m * m= n이라고 하면, n이 소수가 아니면 a * b이므로 \n",
    "#m * m= a* b, m은 실수이고, n, a, b는 자연수\n",
    "#1)a>m 이면 b<m 2)a=m이면, b=m 3)a<m이면 b>m\n",
    "#세가지 모두 min(a, b)<=m이므로 m까지의 수까지만 검색하면됨\n",
    "import math\n",
    "import random\n",
    "             \n",
    "def finding_prime1(number):\n",
    "    num= abs(number)\n",
    "    if num<4: return True\n",
    "    for x in range(2, num):\n",
    "        if num%x==0:\n",
    "            return False\n",
    "    return True\n",
    "\n",
    "def finding_prime_sqrt(number):\n",
    "    num= abs(number)\n",
    "    if num<4 : return True\n",
    "    for x in range(2, int(math.sqrt(num)+1)):\n",
    "        if num%x==0:\n",
    "            return False\n",
    "    return True\n",
    "\n",
    "#pow(x, y): x의 y승, pow(x, y, z): x의 y승을 z로 나눈 나머지\n",
    "def finding_prime_fermat(number):\n",
    "    if number<= 102:\n",
    "        for a in range(2, number):\n",
    "            if pow(a, number-1,number)!=1:\n",
    "                return False\n",
    "        return True\n",
    "    else:\n",
    "        for i in range(100):\n",
    "            a= random.randint(2, number-1)\n",
    "            if pow(a, number -1, number)!=1:\n",
    "                return False\n",
    "        return True\n",
    "def test_finding_prime():\n",
    "    number1= 17\n",
    "    number2= 20\n",
    "    assert(finding_prime1(number1) is True)\n",
    "    assert(finding_prime1(number2) is False)\n",
    "    assert(finding_prime_sqrt(number1) is True)\n",
    "    assert(finding_prime_sqrt(number2) is False)\n",
    "    assert(finding_prime_fermat(number1) is True)\n",
    "    assert(finding_prime_fermat(number2) is False)\n",
    "    print('테스트통과')\n",
    "    \n",
    "if __name__=='__main__':\n",
    "    test_finding_prime()"
   ]
  },
  {
   "cell_type": "code",
   "execution_count": null,
   "id": "2a52db04",
   "metadata": {},
   "outputs": [],
   "source": [
    "#random모듈을 사용하여 n비트 소수 생성\n",
    "import math\n",
    "import random\n",
    "import sys\n",
    "\n",
    "def finding_prime_sqrt(number):\n",
    "    num= abs(number)\n",
    "    if num<4:\n",
    "        return True\n",
    "    for x in range(2, int(math.sqrt(num)+1)):\n",
    "        if number%x==0:\n",
    "            return False\n",
    "    return True\n",
    "#random.randint(a, b): a, b를 포함한 a, b사이의 랜덤한 정수 반환\n",
    "def generate_prime(number=3):\n",
    "    while 1:\n",
    "        p= random.randint(pow(2, number-2), pow(2, number-1)-1)\n",
    "        p= 2* p +1\n",
    "        if finding_prime_sqrt(p):\n",
    "            return p\n",
    "if __name__=='__main__':\n",
    "    if len(sys.argv)<2:\n",
    "        print('usage:generate_prime.py number')\n",
    "        sys.exit()\n",
    "    else:\n",
    "        number= int(sys.argv[1])\n",
    "        print(generate_prime(number))"
   ]
  },
  {
   "cell_type": "markdown",
   "id": "537c2f91",
   "metadata": {},
   "source": [
    "<h3>넘파이 패키지</h3>\n"
   ]
  },
  {
   "cell_type": "code",
   "execution_count": 50,
   "id": "12c76e6b",
   "metadata": {},
   "outputs": [
    {
     "name": "stdout",
     "output_type": "stream",
     "text": [
      "2 \n",
      "\n",
      "[1 2 3]\n",
      "[2 4 6]\n",
      "[11 12 13]\n",
      "[1.         1.41421356 1.73205081]\n",
      "[ 0.54030231 -0.41614684 -0.9899925 ]\n",
      "[-2 -2 -2]\n",
      "[ 1 10 10]\n",
      "[[1 2 3]\n",
      " [3 4 5]\n",
      " [1 2 3]]\n",
      "[[1 3 1]\n",
      " [2 4 2]\n",
      " [3 5 3]]\n",
      "[[0. 0. 0. 0. 0. 0. 0. 0. 0. 0.]\n",
      " [0. 0. 0. 0. 0. 0. 0. 0. 0. 0.]\n",
      " [0. 0. 0. 0. 0. 0. 0. 0. 0. 0.]\n",
      " [0. 0. 0. 0. 0. 0. 0. 0. 0. 0.]\n",
      " [0. 0. 0. 0. 0. 0. 0. 0. 0. 0.]\n",
      " [0. 0. 0. 0. 0. 0. 0. 0. 0. 0.]\n",
      " [0. 0. 0. 0. 0. 0. 0. 0. 0. 0.]\n",
      " [0. 0. 0. 0. 0. 0. 0. 0. 0. 0.]\n",
      " [0. 0. 0. 0. 0. 0. 0. 0. 0. 0.]\n",
      " [0. 0. 0. 0. 0. 0. 0. 0. 0. 0.]]\n",
      "[[1. 1. 1. 1. 1. 1. 1. 1. 1. 1.]\n",
      " [1. 1. 1. 1. 1. 1. 1. 1. 1. 1.]\n",
      " [1. 1. 1. 1. 1. 1. 1. 1. 1. 1.]\n",
      " [1. 1. 1. 1. 1. 1. 1. 1. 1. 1.]\n",
      " [1. 1. 1. 1. 1. 1. 1. 1. 1. 1.]\n",
      " [1. 1. 1. 1. 1. 1. 1. 1. 1. 1.]\n",
      " [1. 1. 1. 1. 1. 1. 1. 1. 1. 1.]\n",
      " [1. 1. 1. 1. 1. 1. 1. 1. 1. 1.]\n",
      " [1. 1. 1. 1. 1. 1. 1. 1. 1. 1.]\n",
      " [1. 1. 1. 1. 1. 1. 1. 1. 1. 1.]]\n",
      "[10. 10. 10. 10. 10. 10. 10. 10. 10. 10.]\n",
      "[2. 2. 2. 2. 2. 2. 2. 2. 2. 2.]\n"
     ]
    }
   ],
   "source": [
    "#넘파이는 파이썬 프로그래밍 언어의 확장 패키지이며, 대규모의 다차원 배열 및 행렬 지원\n",
    "#넘파이 배열은 임의의 차원을 가짐, 넘파이 모듈의 array메서드를 사용하여\n",
    "#시퀀스의 시퀀스를 2차원 넘파이 배열로 생성할 수 있음\n",
    "import numpy as np\n",
    "np.array(((11, 12, 13), (21, 22, 23), (31, 32, 33)))\n",
    "\n",
    "#ndim 속성은 배열의 차원수를 알려줌\n",
    "x= np.array(((11, 12, 13), (21, 22, 23)))\n",
    "print(x.ndim,'\\n')\n",
    "\n",
    "def testing_numpy():\n",
    "    '''tests many features of numpy'''\n",
    "    ax= np.array([1, 2, 3])\n",
    "    ay= np.array([3, 4, 5])\n",
    "    print(ax)\n",
    "    print(ax*2)\n",
    "    print(ax+10)\n",
    "    print(np.sqrt(ax))\n",
    "    print(np.cos(ax))\n",
    "    print(ax-ay)\n",
    "    print(np.where(ax<2, ax, 10))\n",
    "    \n",
    "    m= np.matrix([ax, ay, ax])\n",
    "    print(m)\n",
    "    print(m.T)\n",
    "    \n",
    "    grid1= np.zeros(shape=(10, 10), dtype=float)\n",
    "    grid2= np.ones(shape=(10, 10), dtype=float)\n",
    "    print(grid1)\n",
    "    print(grid2)\n",
    "    print(grid1[1]+10) #열과 행중에 한개만 표시할 경우 행을 표시\n",
    "    print(grid2[:, 2]*2)\n",
    "    \n",
    "if __name__=='__main__':\n",
    "    testing_numpy()\n",
    "    \n",
    "#넘파이 배열은 파이썬 리스트보다 훨씬 효율적\n"
   ]
  },
  {
   "cell_type": "code",
   "execution_count": 51,
   "id": "609b4c0f",
   "metadata": {},
   "outputs": [
    {
     "name": "stdout",
     "output_type": "stream",
     "text": [
      "9.080565452575684\n",
      "0.013362884521484375\n"
     ]
    }
   ],
   "source": [
    "import numpy\n",
    "import time\n",
    "\n",
    "#time.time()은 unix timestamp를 소수로 리턴, 정수부는 초, 소수부는 마이크로 초\n",
    "def trad_version():\n",
    "    t1= time.time()\n",
    "    x=range(10000000)\n",
    "    y=range(10000000)\n",
    "    z=[]\n",
    "    for i in range(len(x)):\n",
    "        z.append(x[i]+y[i])\n",
    "    return time.time()-t1\n",
    "\n",
    "def numpy_version():\n",
    "    t1= time.time()\n",
    "    x= numpy.arange(1000000)\n",
    "    y= numpy.arange(1000000)\n",
    "    z= x+y\n",
    "    return time.time() - t1\n",
    "\n",
    "if __name__=='__main__':\n",
    "    print(trad_version())\n",
    "    print(numpy_version())"
   ]
  },
  {
   "cell_type": "code",
   "execution_count": null,
   "id": "59320227",
   "metadata": {},
   "outputs": [],
   "source": []
  }
 ],
 "metadata": {
  "kernelspec": {
   "display_name": "Python 3 (ipykernel)",
   "language": "python",
   "name": "python3"
  },
  "language_info": {
   "codemirror_mode": {
    "name": "ipython",
    "version": 3
   },
   "file_extension": ".py",
   "mimetype": "text/x-python",
   "name": "python",
   "nbconvert_exporter": "python",
   "pygments_lexer": "ipython3",
   "version": "3.9.7"
  }
 },
 "nbformat": 4,
 "nbformat_minor": 5
}
