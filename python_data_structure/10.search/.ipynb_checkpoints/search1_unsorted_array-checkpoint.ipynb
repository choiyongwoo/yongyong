{
 "cells": [
  {
   "cell_type": "markdown",
   "id": "9be1ffb2",
   "metadata": {},
   "source": [
    "<h1>검색</h1>\n",
    "가장 일반 적인 검색 알고리즘은 순차검색과 이진 검색<br>\n",
    "순차 검색은 배열이 정렬되어 있지 않거나, 연결 리스트와 같이 입력이 동적으로 할당되는 경우 흔히 사용<br>\n",
    "이진 검색은 배열이 정렬되어 있는 경우 최선의 선택<br>\n",
    "해시 테이블은 보조 메모리 공간을 사용하지만, 키를 이용하면 O(1)에 원하는 값을 검색할 수 있음"
   ]
  },
  {
   "cell_type": "markdown",
   "id": "07e63ca2",
   "metadata": {},
   "source": [
    "<h2>정렬되지 않은 배열</h2>\n",
    "<h3>순차 검색</h3>\n",
    "리스트 항목에 대한 순차 검색의 시간복잡도를 살펴보자<br>\n",
    "어떤 리스트에 검색하려는 항목이 들어 있다면, 최선의 경우 시간복잡도는 O(1)<br>\n",
    "평균은 O(n/2)이고, 최악의 경우O(n)<br>\n",
    "리스트에 검색하려는 항목이 없다면, 최악/최선/평균 모두 O(n)"
   ]
  },
  {
   "cell_type": "code",
   "execution_count": 1,
   "id": "9f9a8a7a",
   "metadata": {},
   "outputs": [
    {
     "name": "stdout",
     "output_type": "stream",
     "text": [
      "테스트 통과!\n"
     ]
    }
   ],
   "source": [
    "def sequential_search(seq, n):\n",
    "    for item in seq:\n",
    "        if item== n:\n",
    "            return True\n",
    "    return False\n",
    "\n",
    "def test_sequential_search():\n",
    "    seq= [1, 5, 6, 8 ,3]\n",
    "    n1= 5\n",
    "    n2= 7\n",
    "    assert(sequential_search(seq, n1) is True)\n",
    "    assert(sequential_search(seq, n2) is False)\n",
    "    print('테스트 통과!')\n",
    "    \n",
    "if __name__== '__main__':\n",
    "    test_sequential_search()\n",
    "    \n"
   ]
  },
  {
   "cell_type": "code",
   "execution_count": 2,
   "id": "02fcfa1e",
   "metadata": {},
   "outputs": [
    {
     "name": "stdout",
     "output_type": "stream",
     "text": [
      "테스트 통과!\n"
     ]
    }
   ],
   "source": [
    "#리스트가 정렬되어 있다면, 리스트 안에 검색하려는 항목이 없는 경우에도\n",
    "#검색 하려는 항목이 있을 때와 같은 실행 시간을 가짐\n",
    "def ordered_sequential_search(seq, n):\n",
    "    item= 0\n",
    "    for item in seq:\n",
    "        if item>n:\n",
    "            return False\n",
    "        if item== n:\n",
    "            return True\n",
    "    return False\n",
    "\n",
    "def test_ordered_sequential_search():\n",
    "    seq= [1, 2, 4, 5, 6, 8, 10]\n",
    "    n1= 10\n",
    "    n2= 7\n",
    "    assert(ordered_sequential_search(seq, n1) is True)\n",
    "    assert(ordered_sequential_search(seq, n2) is False)\n",
    "    print('테스트 통과!')\n",
    "\n",
    "if __name__== '__main__':\n",
    "    test_ordered_sequential_search()"
   ]
  },
  {
   "cell_type": "markdown",
   "id": "f6357787",
   "metadata": {},
   "source": [
    "<h3>빠른 선택과 순서통계량</h3>\n",
    "퀵 정렬 알고리즘을 약간 수정하여 리스트에서 k번째로 작은 항목을 찾아보자<br>\n",
    "이러한 숫자 k를 k번째 순서 통계량이라고 부름<br>\n",
    "최솟값, 최댓값, 중앙값 등이 대표적인 순서 통계량<br>\n",
    "O(n)= O(n)+O(n/2)+O(n/4) ...알고리즘의 시간복잡도는 각 반복에서 하나만 보면 되기 때문에 최악의 경우 O(n)"
   ]
  },
  {
   "cell_type": "code",
   "execution_count": 12,
   "id": "cf8ee9c6",
   "metadata": {},
   "outputs": [
    {
     "name": "stdout",
     "output_type": "stream",
     "text": [
      "[1, 2, 3, 4, 5, 6, 7, 9, 10, 11]\n",
      "5\n",
      "5.5\n"
     ]
    }
   ],
   "source": [
    "import random\n",
    "\n",
    "def quick_sort_cache(seq):\n",
    "    len_seq= len(seq)\n",
    "    if len_seq<2:\n",
    "        return seq\n",
    "    \n",
    "    #피벗을 무작위로 선택할 수 있음\n",
    "    #pivot= random.choice(seq)\n",
    "    ipivot= len_seq//2\n",
    "    pivot= seq[ipivot]\n",
    "    \n",
    "    smallerList= [x for i, x in enumerate(seq) if x<=pivot and i!=ipivot]\n",
    "    largerList= [x for i, x in enumerate(seq) if x>pivot and i!=ipivot]\n",
    "    return quick_sort_cache(smallerList)+[pivot]+quick_sort_cache(largerList)\n",
    "\n",
    "def quick_select_cache(seq, k):\n",
    "    sorted_array= quick_sort_cache(seq)\n",
    "    return(sorted_array[k-1])\n",
    "    \n",
    "if __name__== '__main__':\n",
    "    seq= [3, 7, 2, 1, 4, 6, 5, 10, 9, 11]\n",
    "    k= len(seq)//2\n",
    "    print(sorted(seq))\n",
    "    print(quick_select_cache(seq, k))\n",
    "    \n",
    "    #중앙값 출력을 위해서 넘파이 사용\n",
    "    import numpy\n",
    "    print(numpy.median(seq))\n",
    "    \n",
    "#일반적으로, 배열의 중앙에 있는 값보다 '큰' 값으로 중앙값을 정의할 수 있음\n",
    "#이러한 정의는 가장 가까운 이웃 또는 최단 경로를 찾는 등의 문제를 풀 때 중요"
   ]
  },
  {
   "cell_type": "code",
   "execution_count": null,
   "id": "7ea0c365",
   "metadata": {},
   "outputs": [],
   "source": []
  }
 ],
 "metadata": {
  "kernelspec": {
   "display_name": "Python 3 (ipykernel)",
   "language": "python",
   "name": "python3"
  },
  "language_info": {
   "codemirror_mode": {
    "name": "ipython",
    "version": 3
   },
   "file_extension": ".py",
   "mimetype": "text/x-python",
   "name": "python",
   "nbconvert_exporter": "python",
   "pygments_lexer": "ipython3",
   "version": "3.9.7"
  }
 },
 "nbformat": 4,
 "nbformat_minor": 5
}
