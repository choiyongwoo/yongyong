{
 "cells": [
  {
   "cell_type": "markdown",
   "id": "b42ff4a3",
   "metadata": {},
   "source": [
    "<h2>정렬된 배열</h2>\n",
    "<h3>이진 검색</h3>\n",
    "이진 검색은 정렬된 배열 내에서 지정된 입력값의 위치(키)를 찾음<br>\n",
    "이진 검색은 알고리즘의 각 단계에서 입력값과 배열 중간 요소를 비교<br>\n",
    "입력값과 중간 요소가 일치한다면, 배열의 위치가 반환<br>\n",
    "입력값이 중간 요소보다 작으면, 중간 요소의 왼쪽 하위 배열에서 검색 과정을 반복<br>\n",
    "입력값이 중간 요소보다 큰 경우 중간 요소의 오른쪽 하위 배열에서 검색과정을 반복<br>\n",
    "이진 검색의 시간 복잡도는 O(log n)"
   ]
  },
  {
   "cell_type": "code",
   "execution_count": 3,
   "id": "db210c8b",
   "metadata": {},
   "outputs": [
    {
     "name": "stdout",
     "output_type": "stream",
     "text": [
      "테스트 통과!\n"
     ]
    }
   ],
   "source": [
    "#재귀함수\n",
    "def binary_search_rec(seq, target, low, high):\n",
    "    if low>high:\n",
    "        return None\n",
    "    mid= (low+high)//2\n",
    "    if target== seq[mid]:\n",
    "        return mid\n",
    "    elif target<seq[mid]:\n",
    "        return binary_search_rec(seq, target, low, mid-1)\n",
    "    else:\n",
    "        return binary_search_rec(seq, target, mid+1, high)\n",
    "    \n",
    "#반복문\n",
    "def binary_search_iter(seq, target):\n",
    "    high, low= len(seq), 0\n",
    "    while low<high:\n",
    "        mid= (high+low)//2\n",
    "        if target== seq[mid]:\n",
    "            return mid\n",
    "        elif target<seq[mid]:\n",
    "            high= mid\n",
    "        else:\n",
    "            low= mid+1\n",
    "    return None\n",
    "\n",
    "def test_binary_search():\n",
    "    seq= [1, 2, 5, 6, 7, 10, 12, 12, 14, 15]\n",
    "    target= 6\n",
    "    assert(binary_search_iter(seq, target)== 3)\n",
    "    assert(binary_search_rec(seq, target, 0, len(seq))== 3)\n",
    "    print('테스트 통과!')\n",
    "    \n",
    "if __name__== '__main__':\n",
    "    test_binary_search()\n",
    "        "
   ]
  },
  {
   "cell_type": "markdown",
   "id": "f2452bf2",
   "metadata": {},
   "source": [
    "<h3>bisect 모듈</h3>\n",
    "파이썬의 내장 bisect 모듈로 이진 검색을 할 수도 있음"
   ]
  },
  {
   "cell_type": "code",
   "execution_count": 9,
   "id": "73f343eb",
   "metadata": {},
   "outputs": [
    {
     "name": "stdout",
     "output_type": "stream",
     "text": [
      "4 \n",
      "\n",
      "0\n",
      "1\n",
      "4\n",
      "0\n"
     ]
    }
   ],
   "source": [
    "from bisect import bisect\n",
    "l= [0, 3, 4, 5]\n",
    "print(bisect(l, 5),'\\n')\n",
    "\n",
    "#빈 리스트 혹은 값이 없는 예외의 경우\n",
    "print(bisect(l, -1))\n",
    "print(bisect(l, 1))\n",
    "print(bisect(l, 7))\n",
    "print(bisect([], 1))\n",
    "\n",
    "#bisect() 함수는 입력값 5의 리스트 위치(인덱스+1)을 반환\n",
    "#bisect 모듈에는 bisect_right()와 bisect_left()함수가 있음"
   ]
  },
  {
   "cell_type": "code",
   "execution_count": null,
   "id": "6284fd20",
   "metadata": {},
   "outputs": [],
   "source": []
  }
 ],
 "metadata": {
  "kernelspec": {
   "display_name": "Python 3 (ipykernel)",
   "language": "python",
   "name": "python3"
  },
  "language_info": {
   "codemirror_mode": {
    "name": "ipython",
    "version": 3
   },
   "file_extension": ".py",
   "mimetype": "text/x-python",
   "name": "python",
   "nbconvert_exporter": "python",
   "pygments_lexer": "ipython3",
   "version": "3.9.7"
  }
 },
 "nbformat": 4,
 "nbformat_minor": 5
}
