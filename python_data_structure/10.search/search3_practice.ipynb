{
 "cells": [
  {
   "cell_type": "markdown",
   "id": "a6edd270",
   "metadata": {},
   "source": [
    "<h3>행렬 검색</h3>\n",
    "각 행과 열이 정렬되어 있는 행렬에서 한 항목을 검색한다고 해보자<br>\n",
    "즉, 모든 행은 왼쪽에서 오른쪽으로, 모든 열은 위에서 아래로 정렬되어 있음<br>\n",
    "다음 코드의 시간복잡도는 선형으로 O(m+n)"
   ]
  },
  {
   "cell_type": "code",
   "execution_count": 11,
   "id": "19a378fd",
   "metadata": {},
   "outputs": [
    {
     "name": "stdout",
     "output_type": "stream",
     "text": [
      "테스트 통과!\n"
     ]
    }
   ],
   "source": [
    "def find_elem_matrix_bool(m1, value):\n",
    "    #len(행렬)은 행의 수를 반환\n",
    "    found= False\n",
    "    row= 0\n",
    "    col= len(m1[0])-1\n",
    "    while row<len(m1) and col>=0:\n",
    "        if m1[row][col]== value:\n",
    "            found= True\n",
    "            break\n",
    "        elif m1[row][col]>value:\n",
    "            col-= 1\n",
    "        else:\n",
    "            row+= 1\n",
    "    return found\n",
    "\n",
    "def test_find_elem_matrix_bool():\n",
    "    m1= [[1, 2, 8, 9],\n",
    "        [2, 4, 9, 12],\n",
    "        [4, 7, 10, 13],\n",
    "        [6, 8, 11, 15]]\n",
    "    assert(find_elem_matrix_bool(m1, 8) is True)\n",
    "    assert(find_elem_matrix_bool(m1, 3) is False)\n",
    "    m2= [[0]]\n",
    "    assert(find_elem_matrix_bool(m2, 0) is True)\n",
    "    print('테스트 통과!')\n",
    "    \n",
    "if __name__== '__main__':\n",
    "    test_find_elem_matrix_bool()\n",
    "    \n",
    "    \n"
   ]
  },
  {
   "cell_type": "code",
   "execution_count": 12,
   "id": "da3dd724",
   "metadata": {},
   "outputs": [
    {
     "name": "stdout",
     "output_type": "stream",
     "text": [
      "테스트 통과!\n"
     ]
    }
   ],
   "source": [
    "#이 예제의 행렬은 한 행의 마지막 숫자가 다음 행의 첫 번째 숫자보다 작음\n",
    "#즉, 모든 행이 오름차순으로 정렬되어 있음\n",
    "#모든 행이 정렬되어 있기때문에 1차원 배열로 볼 수 있고, 즉 O(log mn)의 이진 검색 알고리즘 사용가능\n",
    "def searching_in_a_matrix(m1, value):\n",
    "    rows= len(m1)\n",
    "    cols= len(m1[0])\n",
    "    lo=0\n",
    "    hi= rows*cols\n",
    "    while lo<hi:\n",
    "        mid= (lo+hi)//2\n",
    "        row= mid//cols\n",
    "        col= mid%cols\n",
    "        v= m1[row][col]\n",
    "        if v== value:\n",
    "            return True\n",
    "        elif v>value:\n",
    "            hi=mid\n",
    "        else:\n",
    "            lo= mid+1\n",
    "    return False\n",
    "\n",
    "def test_searching_in_a_matrix():\n",
    "    a= [[1, 3, 5],\n",
    "       [7, 9, 11],\n",
    "       [13, 15, 17]]\n",
    "    import numpy\n",
    "    b= numpy.array([(1, 2),\n",
    "                   (3, 4)])\n",
    "    assert(searching_in_a_matrix(a, 13) is True)\n",
    "    assert(searching_in_a_matrix(a, 14) is False)\n",
    "    assert(searching_in_a_matrix(b, 3) is True)\n",
    "    assert(searching_in_a_matrix(b, 5) is False)\n",
    "    print('테스트 통과!')\n",
    "    \n",
    "if __name__== '__main__':\n",
    "    test_searching_in_a_matrix()"
   ]
  },
  {
   "cell_type": "markdown",
   "id": "91d4713c",
   "metadata": {},
   "source": [
    "<h3>단봉형 배열</h3>\n",
    "배열 요소들의 산포도를 그렸을 때 값이 증가했다가 다시 감소하는 곡선인 경우 이 배열을 단봉형이라고 함<br>\n",
    "단봉형 배열에서 이진 검색을 사용하여 최댓값을 찾아보자"
   ]
  },
  {
   "cell_type": "code",
   "execution_count": 13,
   "id": "f45d2516",
   "metadata": {},
   "outputs": [
    {
     "name": "stdout",
     "output_type": "stream",
     "text": [
      "테스트 통과!\n"
     ]
    }
   ],
   "source": [
    "def find_max_unimodal_array(A):\n",
    "    if len(A)<=2:\n",
    "        return None\n",
    "    left= 0\n",
    "    right= len(A)-1\n",
    "    while right> left+1:\n",
    "        mid= (left+right)//2\n",
    "        if A[mid]>A[mid-1] and A[mid]>A[mid+1]:\n",
    "            return A[mid]\n",
    "        elif A[mid]>A[mid-1] and A[mid]<A[mid+1]:\n",
    "            left= mid\n",
    "        else:\n",
    "            right= mid\n",
    "    return None\n",
    "\n",
    "def test_find_max_unimodal_array():\n",
    "    seq= [1, 2, 5, 6, 7, 10, 12, 9, 8, 7, 6]\n",
    "    assert(find_max_unimodal_array(seq)== max(seq))\n",
    "    print('테스트 통과!')\n",
    "    \n",
    "if __name__== '__main__':\n",
    "    test_find_max_unimodal_array()"
   ]
  },
  {
   "cell_type": "markdown",
   "id": "e9965552",
   "metadata": {},
   "source": [
    "<h3>제곱근 계산하기</h3>\n",
    "이진 검색을 사용하여 제곱근을 구할 수 있음"
   ]
  },
  {
   "cell_type": "code",
   "execution_count": 15,
   "id": "859751ac",
   "metadata": {},
   "outputs": [
    {
     "name": "stdout",
     "output_type": "stream",
     "text": [
      "1.4142135623730951\n",
      "1.4140625\n",
      "3.0\n",
      "3.0\n"
     ]
    }
   ],
   "source": [
    "def find_sqrt_bin_search(n, error=0.001):\n",
    "    lower= n<1 and n or 1 #n이 1보다 크면 1\n",
    "    upper= n<1 and 1 or n #n이 1보다 크면 n\n",
    "    mid= lower+ (upper-lower)/2.0\n",
    "    square= mid*mid\n",
    "    while abs(square-n)>error:\n",
    "        if square<n:\n",
    "            lower= mid\n",
    "        else:\n",
    "            upper= mid\n",
    "        mid= lower+(upper -lower)/2.0\n",
    "        square= mid*mid\n",
    "    return mid\n",
    "\n",
    "if __name__== '__main__':\n",
    "    a= 2\n",
    "    b= 9\n",
    "    import math\n",
    "    print(math.sqrt(a))\n",
    "    print(find_sqrt_bin_search(a))\n",
    "    print(math.sqrt(b))\n",
    "    print(find_sqrt_bin_search(b))"
   ]
  },
  {
   "cell_type": "markdown",
   "id": "e1655924",
   "metadata": {},
   "source": [
    "<h3>빈도 계산하기</h3>\n",
    "binary_search.py를 사용하여 정렬된 리스트에서 요소 k가 나타나는 횟수를 구해보자"
   ]
  },
  {
   "cell_type": "code",
   "execution_count": 10,
   "id": "e6991db1",
   "metadata": {},
   "outputs": [
    {
     "name": "stdout",
     "output_type": "stream",
     "text": [
      "테스트 통과!\n"
     ]
    }
   ],
   "source": [
    "from binary_search import binary_search_iter\n",
    "\n",
    "def find_time_occurrence_list(seq, k):\n",
    "    index_some_k= binary_search_iter(seq, k)\n",
    "    count= 0\n",
    "    if index_some_k:\n",
    "        count+= 1\n",
    "        for i in range(index_some_k-1, -1, -1):\n",
    "            if seq[i]== k:\n",
    "                count+= 1\n",
    "            else:\n",
    "                break\n",
    "        for i in range(index_some_k+1, 1, len(seq)):\n",
    "            if seq[i]== k:\n",
    "                count+= 1\n",
    "            else:\n",
    "                break\n",
    "    return count\n",
    "\n",
    "def test_find_time_occurrence_list():\n",
    "    seq= [1, 2, 2, 2, 2, 2, 2, 5, 6, 6, 7, 8, 9]\n",
    "    k=2\n",
    "    assert(find_time_occurrence_list(seq, k)== 6)\n",
    "    print('테스트 통과!')\n",
    "    \n",
    "if __name__== '__main__':\n",
    "    test_find_time_occurrence_list()\n",
    "    "
   ]
  },
  {
   "cell_type": "markdown",
   "id": "f9f7f8d5",
   "metadata": {},
   "source": [
    "<h3>교집합 구하기</h3>\n",
    "교집합을 구하는 가장 간단한 방법은 셋을 사용하는 것이지만, 이는 순서를 보장하지 않음<br>\n",
    "첫번째 방법은 셋을 사용<br>\n",
    "두번째 방법은 병합 정렬을 적용<br>\n",
    "세번째 방법은 배열 중 하나가 다른 배열보다 훨씬 큰 경우에 적합하며, 이진 검색을 사용"
   ]
  },
  {
   "cell_type": "code",
   "execution_count": 17,
   "id": "32daba6e",
   "metadata": {},
   "outputs": [
    {
     "name": "stdout",
     "output_type": "stream",
     "text": [
      "테스트 통과!\n"
     ]
    }
   ],
   "source": [
    "from binary_search import binary_search_iter\n",
    "\n",
    "#파이썬 set 사용\n",
    "def intersection_two_arrays_sets(seq1, seq2):\n",
    "    set1= set(seq1)\n",
    "    set2= set(seq2)\n",
    "    return set1.intersection(set2)\n",
    "\n",
    "#병합 정렬 사용(정렬된 배열)\n",
    "def intersection_two_arrays_ms(seq1, seq2):\n",
    "    if not seq1 or not seq2:\n",
    "        return seq1 or seq2\n",
    "    intersection= []\n",
    "    result= []\n",
    "    while seq1 and seq2:\n",
    "        if seq1[-1]>= seq2[-1]:\n",
    "            if seq1[-1]== seq2[-1]:\n",
    "                intersection.append(seq1[-1])\n",
    "                seq1.pop()\n",
    "            else:\n",
    "                seq1.pop()\n",
    "        else:\n",
    "            seq2.pop()\n",
    "    intersection.reverse()\n",
    "    return intersection\n",
    "\n",
    "#이진 검색 사용\n",
    "def intersection_two_arrays_bs(seq1, seq2):\n",
    "    if len(seq1)>len(seq2):\n",
    "        seq, key= seq1, seq2\n",
    "    else:\n",
    "        seq, key= seq2, seq1\n",
    "    intersection= []\n",
    "    for item in key:\n",
    "        if binary_search_iter(seq, item):\n",
    "            intersection.append(item)\n",
    "    return intersection\n",
    "\n",
    "def test_intersection_two_arrays():\n",
    "    seq1= [1, 2, 3, 5, 7, 8]\n",
    "    seq2= [3, 5, 6]\n",
    "    assert(set(intersection_two_arrays_sets(seq1, seq2))== set([3, 5]))\n",
    "    assert(intersection_two_arrays_bs(seq1, seq2)== [3, 5])\n",
    "    assert(intersection_two_arrays_ms(seq1, seq2)== [3, 5])\n",
    "    print('테스트 통과!')\n",
    "    \n",
    "if __name__== '__main__':\n",
    "    test_intersection_two_arrays()"
   ]
  },
  {
   "cell_type": "code",
   "execution_count": null,
   "id": "800cdcf9",
   "metadata": {},
   "outputs": [],
   "source": []
  }
 ],
 "metadata": {
  "kernelspec": {
   "display_name": "Python 3 (ipykernel)",
   "language": "python",
   "name": "python3"
  },
  "language_info": {
   "codemirror_mode": {
    "name": "ipython",
    "version": 3
   },
   "file_extension": ".py",
   "mimetype": "text/x-python",
   "name": "python",
   "nbconvert_exporter": "python",
   "pygments_lexer": "ipython3",
   "version": "3.9.7"
  }
 },
 "nbformat": 4,
 "nbformat_minor": 5
}
