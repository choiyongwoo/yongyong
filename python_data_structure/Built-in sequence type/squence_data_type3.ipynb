{
 "cells": [
  {
   "cell_type": "markdown",
   "id": "a7699743",
   "metadata": {},
   "source": [
    "<h2>바이트와 바이트 배열</h2>\n",
    "파이썬은 원시 바이트를 처리하는 데 사용할 수 있는 데이터 타입으로 불변타입의 바이트와 가변 타입의 바이트 배열을 제공<br>\n",
    "두 타입 모두 0~255 범위의 부호 없는 8비트 정수 시퀀스<br>\n",
    "바이트 타입은 문자열 타입과 유사하고, 바이트 배열 타입은 리스트 타입과 "
   ]
  },
  {
   "cell_type": "code",
   "execution_count": 3,
   "id": "14b60684",
   "metadata": {},
   "outputs": [
    {
     "name": "stdout",
     "output_type": "stream",
     "text": [
      "b'\\x01\\x02\\x03\\xff'\n",
      "bytearray(b'\\x01\\x02\\x03\\xff')\n",
      "bytearray(b'\\x01\\x7f\\x03\\xff')\n"
     ]
    }
   ],
   "source": [
    "blist= [1, 2, 3, 255]\n",
    "the_bytes= bytes(blist)\n",
    "print(the_bytes)\n",
    "\n",
    "the_byte_array= bytearray(blist)\n",
    "print(the_byte_array)\n",
    "\n",
    "# the_bytes[1]= 127 불가(불변)\n",
    "the_byte_array[1]= 127 #가변\n",
    "print(the_byte_array)"
   ]
  },
  {
   "cell_type": "markdown",
   "id": "0414aa2d",
   "metadata": {},
   "source": [
    "<h3>비트와 비트 연산자</h3>\n",
    "비트 연산자는 비트로 표현된 숫자를 조작하는데 유용<br>\n",
    "예를 들어 곱셈연산자를 사용하는 대신 비트 연산자로 곱셈을 할 수 있음<br>\n",
    "1 << x는 숫자 1을 x번만큼 왼쪽으로 이동한다는 의미로 2 ** x를 신속하게 할 수 있음<br>\n",
    "x&(x-1)이 0인지 확인하면, x가 2의 제곱인지 아닌지 확인할 수 있음<br>\n",
    "x= 4인경우 4=100(2)이고, 3=011(2)임, 두 값에 비트 AND(&)연산을 적용하면 0이 됨"
   ]
  },
  {
   "cell_type": "code",
   "execution_count": 7,
   "id": "24ebc26a",
   "metadata": {},
   "outputs": [
    {
     "name": "stdout",
     "output_type": "stream",
     "text": [
      "16\n",
      "0\n",
      "4\n"
     ]
    }
   ],
   "source": [
    "x= 4\n",
    "print(1<<x)\n",
    "x= 8\n",
    "print(x&(x-1))\n",
    "x= 6\n",
    "print(x&(x-1))"
   ]
  },
  {
   "cell_type": "markdown",
   "id": "74342d4d",
   "metadata": {},
   "source": [
    "<h2>연습문제</h2>\n",
    "<h3>문자열 전체 반전하기</h3>"
   ]
  },
  {
   "cell_type": "code",
   "execution_count": 13,
   "id": "9a83bb16",
   "metadata": {},
   "outputs": [
    {
     "name": "stdout",
     "output_type": "stream",
     "text": [
      "!상세 녕안\n",
      "!상세 녕안\n"
     ]
    }
   ],
   "source": [
    "def revert(s):\n",
    "    return s[::-1]\n",
    "\n",
    "def revert1(s): #재귀함수 사용\n",
    "    if s:\n",
    "        s= s[-1]+revert1(s[:-1])\n",
    "    return s\n",
    "\n",
    "if __name__=='__main__':\n",
    "    str= '안녕 세상!'\n",
    "    print(revert(str))\n",
    "    print(revert1(str))"
   ]
  },
  {
   "cell_type": "markdown",
   "id": "c96f1a9a",
   "metadata": {},
   "source": [
    "<h3>문자열 단어 단위로 반전하기</h3>\n"
   ]
  },
  {
   "cell_type": "code",
   "execution_count": 10,
   "id": "17641a14",
   "metadata": {},
   "outputs": [
    {
     "name": "stdout",
     "output_type": "stream",
     "text": [
      "파이썬 알고리즘 정말 재미있다\n"
     ]
    }
   ],
   "source": [
    "def reverser(string):\n",
    "    list= string.split()\n",
    "    list= list[::-1]\n",
    "    str= ' '.join(list)\n",
    "    return str\n",
    "\n",
    "if __name__=='__main__':\n",
    "    str1= '파이썬 알고리즘 정말 재미있다'\n",
    "    print(str1)"
   ]
  },
  {
   "cell_type": "code",
   "execution_count": 2,
   "id": "0a107228",
   "metadata": {},
   "outputs": [
    {
     "name": "stdout",
     "output_type": "stream",
     "text": [
      "재미있다 정말 알고리즘 파이썬\n"
     ]
    }
   ],
   "source": [
    "#포인터를 사용하여 두 개의 반복문으로 구현\n",
    "#첫 번째 반복문은 두 포인터를 사용하여 전체 문장을 반전\n",
    "def reverser(string1, p1=0, p2=None):\n",
    "    if len(string1)<2:\n",
    "        return string1\n",
    "    p2= p2 or len(string1)-1\n",
    "    while p1<p2:\n",
    "        string1[p1], string1[p2]= string1[p2], string1[p1]\n",
    "        p1+=1\n",
    "        p2-=1\n",
    "        \n",
    "def reversing_words_sentence_logic(string1):\n",
    "    #먼저 문장 전체를 반전\n",
    "    reverser(string1)\n",
    "    #print(string1)\n",
    "    p=0\n",
    "    start=0\n",
    "    while p <len(string1):\n",
    "        if string1[p]==u'\\u0020':\n",
    "            #단어를 다시 반전\n",
    "            reverser(string1, start, p-1)\n",
    "            #print(string1)\n",
    "            start= p+1\n",
    "        p+=1\n",
    "    #마지막 단어를 반전\n",
    "    reverser(string1, start, p-1)\n",
    "    #print(string1)\n",
    "    return ''.join(string1)\n",
    "\n",
    "if __name__=='__main__':\n",
    "    str1= '파이썬 알고리즘 정말 재미있다'\n",
    "    str2= reversing_words_sentence_logic(list(str1))\n",
    "    print(str2)\n",
    "        "
   ]
  },
  {
   "cell_type": "code",
   "execution_count": 4,
   "id": "440be9ed",
   "metadata": {},
   "outputs": [
    {
     "name": "stdout",
     "output_type": "stream",
     "text": [
      "재미있다 정말 알고리즘 파이썬\n"
     ]
    }
   ],
   "source": [
    "#하나의 반복문만 사용하는 방법\n",
    "#단어단위로 나눠 리스트에 추가한 후, 리스트를 반전\n",
    "def reverse_words_brute(string):\n",
    "    word, sentence= [], []\n",
    "    for character in string:\n",
    "        if character !=' ':\n",
    "            word.append(character)\n",
    "        else:\n",
    "            #조건문에서 빈리스트는 False, 여러 공백이 있는경우 조건문을 건너뜀\n",
    "            \n",
    "            if word:\n",
    "                sentence.append(''.join(word))\n",
    "            word= []\n",
    "    #마지막 단어가 있다면, 문장에 추가\n",
    "    if word !='':\n",
    "        sentence.append(''.join(word))\n",
    "    sentence.reverse()\n",
    "    return ' '.join(sentence)\n",
    "\n",
    "if __name__=='__main__':\n",
    "    str1= '파이썬 알고리즘 정말 재미있다'\n",
    "    str2= reverse_words_brute(str1)\n",
    "    print(str2)"
   ]
  },
  {
   "cell_type": "code",
   "execution_count": 5,
   "id": "e24f3d4d",
   "metadata": {},
   "outputs": [
    {
     "name": "stdout",
     "output_type": "stream",
     "text": [
      "재미있다 정말 알고리즘 파이썬\n"
     ]
    }
   ],
   "source": [
    "#문자열을 공백으로 구분해서 리스트를 생성한 다음, 슬라이스 사용\n",
    "def reversing_words_slice(word):\n",
    "    new_word= []\n",
    "    words= word.split(' ')\n",
    "    for word in words[::-1]:\n",
    "        new_word.append(word)\n",
    "    return ' '.join(new_word)\n",
    "\n",
    "if __name__=='__main__':\n",
    "    str1= '파이썬 알고리즘 정말 재미있다'\n",
    "    str2= reversing_words_slice(str1)\n",
    "    print(str2)"
   ]
  },
  {
   "cell_type": "code",
   "execution_count": 7,
   "id": "e87af4fa",
   "metadata": {},
   "outputs": [
    {
     "name": "stdout",
     "output_type": "stream",
     "text": [
      "재미있다 정말 알고리즘 파이썬\n",
      "재미있다 정말 알고리즘 파이썬\n"
     ]
    }
   ],
   "source": [
    "#아예 반복문 없이 리스트와 문자열 메서드만으로 해결\n",
    "def reversing_words(str1):\n",
    "    words= str1.split(' ')\n",
    "    rev_set= ' '.join(reversed(words))\n",
    "    return rev_set\n",
    "\n",
    "def reversing_words2(str1):\n",
    "    words= str1.split(' ')\n",
    "    words.reverse()\n",
    "    return ' '.join(words)\n",
    "\n",
    "if __name__=='__main__':\n",
    "    str1= '파이썬 알고리즘 정말 재미있다'\n",
    "    str2= reversing_words(str1)\n",
    "    str3= reversing_words2(str1)\n",
    "    print(str2)\n",
    "    print(str3)"
   ]
  },
  {
   "cell_type": "markdown",
   "id": "61f8c6ec",
   "metadata": {},
   "source": [
    "<h3>단순 문자열 압축</h3>"
   ]
  },
  {
   "cell_type": "code",
   "execution_count": 12,
   "id": "2d1219df",
   "metadata": {},
   "outputs": [
    {
     "name": "stdout",
     "output_type": "stream",
     "text": [
      "0 a\n",
      "1 a\n",
      "2 b\n",
      "3 b\n",
      "4 c\n",
      "5 c\n",
      "6 c\n",
      "7 c\n",
      "8 c\n",
      "9 a\n",
      "10 a\n",
      "11 a\n",
      "a2b2c5a3\n"
     ]
    }
   ],
   "source": [
    "def str_compression(s):\n",
    "    count, last= 1, ''\n",
    "    list_aux= []\n",
    "    for i, c in enumerate(s):\n",
    "        print(i, c)\n",
    "        if last==c:\n",
    "            count+=1\n",
    "        else:\n",
    "            if i!=0:\n",
    "                list_aux.append(str(count)) #숫자 넣기\n",
    "            list_aux.append(c)#문자 넣기\n",
    "            count= 1\n",
    "            last= c\n",
    "    list_aux.append(str(count))\n",
    "    return ''.join(list_aux)\n",
    "    \n",
    "if __name__=='__main__':\n",
    "    result= str_compression('aabbcccccaaa')\n",
    "    print(result)"
   ]
  },
  {
   "cell_type": "markdown",
   "id": "a0b1d9e4",
   "metadata": {},
   "source": [
    "<h3>문자열 순열</h3>\n",
    "서로 다른 n개중 r개를 골라 순서를 고려해 나열한 경우의 수<br>\n",
    "길이 n의 문자열에서 n개 문자를 모두 선택하는 경우의 문자열 나열"
   ]
  },
  {
   "cell_type": "code",
   "execution_count": 14,
   "id": "14a62dc6",
   "metadata": {},
   "outputs": [
    {
     "name": "stdout",
     "output_type": "stream",
     "text": [
      "['012', '021', '102', '120', '201', '210']\n",
      "['012', '021', '102', '120', '201', '210']\n"
     ]
    }
   ],
   "source": [
    "import itertools\n",
    "\n",
    "def perm(s):\n",
    "    if len(s)<2:\n",
    "        return s\n",
    "    res= []\n",
    "    for i, c in enumerate(s):\n",
    "        for cc in perm(s[:i]+s[i+1:]):\n",
    "            res.append(c+cc)\n",
    "    return res\n",
    "\n",
    "#itertools.permutations(iterable, r) iterable 요소의 길이 r에 해당하는 순열을 리턴하는 함수\n",
    "def perm2(s):\n",
    "    res= itertools.permutations(s)\n",
    "    return [''.join(i) for i in res]\n",
    "\n",
    "if __name__=='__main__':\n",
    "    val ='012'\n",
    "    print(perm(val))\n",
    "    print(perm2(val))"
   ]
  },
  {
   "cell_type": "code",
   "execution_count": 15,
   "id": "b8b14288",
   "metadata": {},
   "outputs": [
    {
     "name": "stdout",
     "output_type": "stream",
     "text": [
      "['a', 'ab', 'abc', 'ac', 'acb', 'b', 'ba', 'bac', 'bc', 'bca', 'c', 'ca', 'cab', 'cb', 'cba']\n"
     ]
    }
   ],
   "source": [
    "#입력 길이 n일때 n이하의 수에 대해서 모든 순열의 경우 나열\n",
    "def combinations(s):\n",
    "    if len(s)<2:\n",
    "        return s\n",
    "    res= []\n",
    "    for i, c in enumerate(s):\n",
    "        res.append(c)\n",
    "        for j in combinations(s[:i]+s[i+1:]):\n",
    "            res.append(c+j)\n",
    "    return res\n",
    "\n",
    "if __name__=='__main__':\n",
    "    result= combinations('abc')\n",
    "    print(result)"
   ]
  },
  {
   "cell_type": "markdown",
   "id": "ff0b33ed",
   "metadata": {},
   "source": [
    "<h3>회문</h3>\n",
    "앞에서 읽으나 뒤에서 읽으나 동일한 단어나 구를 뜻함"
   ]
  },
  {
   "cell_type": "code",
   "execution_count": 22,
   "id": "57ff7f30",
   "metadata": {},
   "outputs": [
    {
     "name": "stdout",
     "output_type": "stream",
     "text": [
      "True\n",
      "True\n",
      "False\n",
      "\n",
      "True\n",
      "True\n",
      "False\n",
      "\n",
      "True\n",
      "True\n",
      "False\n"
     ]
    }
   ],
   "source": [
    "def is_palindrome(s):\n",
    "    l= s.split(' ')\n",
    "    s2= ''.join(l)\n",
    "    return s2== s2[::-1]\n",
    "\n",
    "def is_palindrome2(s):\n",
    "    l= len(s)\n",
    "    f, b= 0, l-1\n",
    "    while f<l//2:\n",
    "        while s[f]==' ':\n",
    "            f+=1\n",
    "        while s[b]==' ':\n",
    "            b-=1\n",
    "        if s[f]!= s[b]:\n",
    "            return False\n",
    "        f+=1\n",
    "        b-=1\n",
    "    return True\n",
    "\n",
    "def is_palindrome3(s):\n",
    "    s= s.strip()\n",
    "    if len(s)<2:\n",
    "        return True\n",
    "    if s[0]==s[-1]:\n",
    "        return is_palindrome3(s[1:-1])\n",
    "    else:\n",
    "        return False\n",
    "    \n",
    "if __name__=='__main__':\n",
    "    str1= '다시 합창합시다'\n",
    "    str2= ''\n",
    "    str3= 'hello'\n",
    "    print(is_palindrome(str1))\n",
    "    print(is_palindrome(str2))\n",
    "    print(is_palindrome(str3))\n",
    "    print()\n",
    "    print(is_palindrome(str1))\n",
    "    print(is_palindrome(str2))\n",
    "    print(is_palindrome(str3))\n",
    "    print()\n",
    "    print(is_palindrome3(str1))\n",
    "    print(is_palindrome3(str2))\n",
    "    print(is_palindrome3(str3))\n",
    "            "
   ]
  },
  {
   "cell_type": "code",
   "execution_count": null,
   "id": "c5302a8c",
   "metadata": {},
   "outputs": [],
   "source": []
  }
 ],
 "metadata": {
  "kernelspec": {
   "display_name": "Python 3 (ipykernel)",
   "language": "python",
   "name": "python3"
  },
  "language_info": {
   "codemirror_mode": {
    "name": "ipython",
    "version": 3
   },
   "file_extension": ".py",
   "mimetype": "text/x-python",
   "name": "python",
   "nbconvert_exporter": "python",
   "pygments_lexer": "ipython3",
   "version": "3.9.7"
  },
  "toc": {
   "base_numbering": 1,
   "nav_menu": {},
   "number_sections": true,
   "sideBar": true,
   "skip_h1_title": false,
   "title_cell": "Table of Contents",
   "title_sidebar": "Contents",
   "toc_cell": false,
   "toc_position": {},
   "toc_section_display": true,
   "toc_window_display": false
  },
  "varInspector": {
   "cols": {
    "lenName": 16,
    "lenType": 16,
    "lenVar": 40
   },
   "kernels_config": {
    "python": {
     "delete_cmd_postfix": "",
     "delete_cmd_prefix": "del ",
     "library": "var_list.py",
     "varRefreshCmd": "print(var_dic_list())"
    },
    "r": {
     "delete_cmd_postfix": ") ",
     "delete_cmd_prefix": "rm(",
     "library": "var_list.r",
     "varRefreshCmd": "cat(var_dic_list()) "
    }
   },
   "oldHeight": 122.852,
   "position": {
    "height": "144.852px",
    "left": "267px",
    "right": "20px",
    "top": "120px",
    "width": "350px"
   },
   "types_to_exclude": [
    "module",
    "function",
    "builtin_function_or_method",
    "instance",
    "_Feature"
   ],
   "varInspector_section_display": "block",
   "window_display": true
  }
 },
 "nbformat": 4,
 "nbformat_minor": 5
}
