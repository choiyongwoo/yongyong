{
 "cells": [
  {
   "cell_type": "markdown",
   "id": "b832a45c",
   "metadata": {},
   "source": [
    "<h2>내장 시퀀스 데이터 타입</h2>\n",
    "시퀀스 타입의 속성<br>\n",
    "멤버쉽 연산: in 키워드 사용<br>\n",
    "크기 함수: len(seq)<br>\n",
    "슬라이싱 속성: seq[:-1]<br>\n",
    "반복성: 반복문에 있는 데이터를 순회할 수 있음\n"
   ]
  },
  {
   "cell_type": "code",
   "execution_count": 5,
   "id": "51dc7d2d",
   "metadata": {},
   "outputs": [
    {
     "name": "stdout",
     "output_type": "stream",
     "text": [
      "<class 'list'>\n",
      "<class 'str'>\n",
      "<class 'tuple'>\n",
      "<class 'bytearray'>\n",
      "<class 'bytes'>\n"
     ]
    }
   ],
   "source": [
    "#파이썬에는 문자열, 튜플, 리스트, 바이트 배열, 바이트등 5개의 내장 시퀀스 타입이 있음\n",
    "l= []\n",
    "print(type(l))\n",
    "s=''\n",
    "print(type(s))\n",
    "t=()\n",
    "print(type(t))\n",
    "ba= bytearray(b'')\n",
    "print(type(ba))\n",
    "b= bytes([])\n",
    "print(type(b))"
   ]
  },
  {
   "cell_type": "markdown",
   "id": "e2281864",
   "metadata": {},
   "source": [
    "<h2>깊은 복사와 슬라이싱 연산</h2>\n",
    "<h3>가변성</h3>\n",
    "파이썬의 숫자는 불변 객체타입<br>\n",
    "파이썬에서 튜플, 문자열, 바이트는 불변 객체 타입<br>\n",
    "리스트와 바이트 배열은 가변 객체 타입<br>\n",
    "일반적으로 불변 객체은 가변 객체 타입보다 효율적<br>\n",
    "일부 컬렉션 데이터 타입은 불변 데이터 타입으로 인덱싱 가능<br><br>"
   ]
  },
  {
   "cell_type": "code",
   "execution_count": 10,
   "id": "17d89ba1",
   "metadata": {},
   "outputs": [
    {
     "name": "stdout",
     "output_type": "stream",
     "text": [
      "516021710016 516021411072 516021380352\n"
     ]
    }
   ],
   "source": [
    "#파이썬의 모든 변수는 객체 참조이므로 가변객체를 복사할 때는 매우 주의 해야함\n",
    "#리스트 깊은복사\n",
    "mylist= [1, 2, 3, 4]\n",
    "newlist= mylist[:]\n",
    "newlist2= list(newlist)\n",
    "print(id(mylist),id(newlist),id(newlist2))\n",
    "\n",
    "#리스트 객체안에 mutable한 객체가 있을경우에는 \n",
    "#copy모듈의 deepcopy함수를 사용해야함"
   ]
  },
  {
   "cell_type": "code",
   "execution_count": 2,
   "id": "5dd5aac4",
   "metadata": {},
   "outputs": [
    {
     "data": {
      "text/plain": [
       "{'버퍼', '에인절', '자일스'}"
      ]
     },
     "execution_count": 2,
     "metadata": {},
     "output_type": "execute_result"
    }
   ],
   "source": [
    "#set의 깊은 복사\n",
    "people={'버퍼', '에인절', '자일스'}\n",
    "slayers= people.copy()\n",
    "slayers.discard('자일스')\n",
    "slayers.remove('에인절')\n",
    "slayers\n",
    "people"
   ]
  },
  {
   "cell_type": "code",
   "execution_count": 3,
   "id": "98087ff6",
   "metadata": {},
   "outputs": [],
   "source": [
    "#dictionary의 깊은 복사\n",
    "mydict={'안녕':'세상'}\n",
    "newdict=mydict.copy()"
   ]
  },
  {
   "cell_type": "code",
   "execution_count": 4,
   "id": "70ee8d9a",
   "metadata": {},
   "outputs": [],
   "source": [
    "#기타 객체의 깊은 복사를 할 때는 copy모듈을 사용\n",
    "import copy\n",
    "myobj= '다른 어떤 객체'\n",
    "newobj= copy.copy(myobj) #얕은 복사\n",
    "newobj2= copy.deepcopy(myobj) #깊은 복사"
   ]
  },
  {
   "cell_type": "markdown",
   "id": "d993576b",
   "metadata": {},
   "source": [
    "<h3>슬라이싱 연산자</h3>\n"
   ]
  },
  {
   "cell_type": "code",
   "execution_count": 8,
   "id": "b337992a",
   "metadata": {},
   "outputs": [
    {
     "name": "stdout",
     "output_type": "stream",
     "text": [
      "!\n",
      "해\n",
      "뱀파이어를 조심\n",
      "뱀\n"
     ]
    }
   ],
   "source": [
    "#seq[시작:]\n",
    "#seq[시작:끝]\n",
    "#seq[시작:끝:스텝]\n",
    "word= '뱀파이어를 조심해!'\n",
    "print(word[-1]) #인덱스에 음수를 넣으면 오른쪽부터 읽기(오른쪽 끝은 -1)\n",
    "print(word[-2])\n",
    "print(word[:-2])\n",
    "print(word[-0])"
   ]
  },
  {
   "cell_type": "markdown",
   "id": "0e4bb188",
   "metadata": {},
   "source": [
    "<h2>문자열</h2>\n",
    "파이썬은 불변의 str타입을 사용하여 문자열을 표현<br>\n"
   ]
  },
  {
   "cell_type": "markdown",
   "id": "0412b144",
   "metadata": {},
   "source": [
    "<h3>유니코드 문자열</h3>\n",
    "유니코드는 전 세계 언어의 문자를 정의하기 위한 국제 표준코드<br>\n",
    "유니코드는 공백, 특수문자, 수학 및 기타 분야의 기호들도 포함"
   ]
  },
  {
   "cell_type": "code",
   "execution_count": 3,
   "id": "9c6794f2",
   "metadata": {},
   "outputs": [
    {
     "data": {
      "text/plain": [
       "'잘가 세상 !'"
      ]
     },
     "execution_count": 3,
     "metadata": {},
     "output_type": "execute_result"
    }
   ],
   "source": [
    "#문자열 앞에 u를 붙이면 유니코드 문자열을 만들 수 있음\n",
    "u'잘가\\u0020세상 !'"
   ]
  },
  {
   "cell_type": "markdown",
   "id": "ea1cdcd7",
   "metadata": {},
   "source": [
    "<h3>문자열 메서드</h3>"
   ]
  },
  {
   "cell_type": "code",
   "execution_count": 9,
   "id": "5278d8c2",
   "metadata": {},
   "outputs": [
    {
     "name": "stdout",
     "output_type": "stream",
     "text": [
      "버피 앤 아스틴\n",
      "버피-<>-앤-<>-아스틴\n",
      "버피앤아스틴\n",
      "아스틴앤버피\n"
     ]
    }
   ],
   "source": [
    "#join\n",
    "#a.join(b)는 리스트 b에 있는 모든 문자열을 하나의 단일 문자열 a로 결합\n",
    "slayer=['버피', '앤', '아스틴']\n",
    "print(' '.join(slayer))\n",
    "print('-<>-'.join(slayer))\n",
    "print(''.join(slayer))\n",
    "print(''.join(reversed(slayer)))"
   ]
  },
  {
   "cell_type": "code",
   "execution_count": 11,
   "id": "cf584927",
   "metadata": {},
   "outputs": [
    {
     "name": "stdout",
     "output_type": "stream",
     "text": [
      "스칼렛-----------------------------------------------\n",
      "-----------------------------------------------스칼렛\n"
     ]
    }
   ],
   "source": [
    "#ljust(), rjust()\n",
    "#a.ljust(width, fillchar)는 문자열 a 맨 처음부터 문자열을 포함한 길이 width만큼 fillchar를 채움\n",
    "#a.rjust(width, fillchar)는 문자열 a 맨 끝부터 문자열을 포함한 길이 width만큼 fillchar를 채움\n",
    "name= '스칼렛'\n",
    "print(name.ljust(50, '-'))\n",
    "print(name.rjust(50, '-'))"
   ]
  },
  {
   "cell_type": "code",
   "execution_count": 16,
   "id": "d6e051dd",
   "metadata": {},
   "outputs": [
    {
     "name": "stdout",
     "output_type": "stream",
     "text": [
      "안녕 파이썬!\n",
      "이름: 제임스, 나이:17\n",
      "이름:에이미, 나이:12\n",
      "파이썬 자료구조 알고리즘\n",
      "99.9 99.9 Decimal('99.9') Decimal('99.9')\n"
     ]
    }
   ],
   "source": [
    "#format()\n",
    "#a.format()은 문자열 a에 변수를 추가하거나 형식화하는데 사용\n",
    "print('{0} {1}'.format('안녕', '파이썬!'))\n",
    "print('이름: {who}, 나이:{age}'.format(who='제임스', age=17))\n",
    "print('이름:{who}, 나이:{0}'.format(12, who='에이미'))\n",
    "\n",
    "#필드이름이나 인덱스 생략 가능\n",
    "print('{} {} {}'.format('파이썬', '자료구조', '알고리즘'))\n",
    "\n",
    "#지정자 s는 문자열 형식, r은 표현 형식, a는 아스키 코드 형식을 의미\n",
    "import decimal\n",
    "print('{0} {0!s} {0!r} {0!a}'.format(decimal.Decimal('99.9')))\n"
   ]
  },
  {
   "cell_type": "code",
   "execution_count": 17,
   "id": "5a262d2d",
   "metadata": {},
   "outputs": [
    {
     "name": "stdout",
     "output_type": "stream",
     "text": [
      "999:버피\n"
     ]
    }
   ],
   "source": [
    "#문자열 언패킹\n",
    "#문자열 언패킹 연산자는 **이며, 이를 사용하면 함수로 전달하기에 적합한 키-값 딕셔너리가 생성\n",
    "#locals()메서드는 현재 스코프에 있는 지역변수를 딕셔너리로 반환\n",
    "hero='버피'\n",
    "number=999\n",
    "print('{number}:{hero}'.format(**locals()))"
   ]
  },
  {
   "cell_type": "code",
   "execution_count": 19,
   "id": "7fb5da82",
   "metadata": {},
   "outputs": [
    {
     "data": {
      "text/plain": [
       "['로미오', '줄리엣']"
      ]
     },
     "execution_count": 19,
     "metadata": {},
     "output_type": "execute_result"
    }
   ],
   "source": [
    "#splitlines()\n",
    "#a.splitlines()는 문자열 a에 대해 줄 바꿈 문자를 기준으로 분리한 결과를 문자열 리스트로 반환\n",
    "slayers= '로미오\\n줄리엣'\n",
    "slayers.splitlines()"
   ]
  },
  {
   "cell_type": "code",
   "execution_count": 23,
   "id": "8b63fe6e",
   "metadata": {},
   "outputs": [
    {
     "name": "stdout",
     "output_type": "stream",
     "text": [
      "['버피', '크리스-메리+16']\n",
      "['크리스', '메리+16']\n",
      "['안녕', '세상*!']\n",
      "['안녕*세상', '!']\n"
     ]
    }
   ],
   "source": [
    "#split\n",
    "#a.split(t, n) 문자열 a에서 문자열 t를 기준으로 정수 n번만큼 분리한 문자열 리스트 반환\n",
    "#n을 지정하지 않으면 대상 문자열을 t로 최대한 분리함\n",
    "#t도 지정하지 않으면 공백문자로 구분한 문자열 리스트 반환\n",
    "slayers= '버피*크리스-메리+16'\n",
    "fields= slayers.split('*')\n",
    "print(fields)\n",
    "job= fields[1].split('-')\n",
    "print(job)\n",
    "\n",
    "#문자열에서 모든 공백을 제거하는 함수\n",
    "def erase_space_from_string(string):\n",
    "    s1= string.split(' ')\n",
    "    s2=''.join(s1)\n",
    "    return s2\n",
    "\n",
    "#rsplit(t, n) 문자열을 오른쪽에서 왼쪽으로 분리한 문자열 리스트 반환\n",
    "start= '안녕*세상*!'\n",
    "print(start.split('*', 1))\n",
    "print(start.rsplit('*', 1))"
   ]
  },
  {
   "cell_type": "code",
   "execution_count": 25,
   "id": "bd0001fc",
   "metadata": {},
   "outputs": [
    {
     "name": "stdout",
     "output_type": "stream",
     "text": [
      "로미오 & 줄리엣\n"
     ]
    }
   ],
   "source": [
    "#strip()\n",
    "#a.strip(b)는 문자열 a 앞뒤의 문자열 b를 제거함, 인수b가 없으면 공백문자 제거\n",
    "slayers= '로미오 & 줄리엣999'\n",
    "print(slayers.strip('999'))"
   ]
  },
  {
   "cell_type": "code",
   "execution_count": 2,
   "id": "e51af78f",
   "metadata": {},
   "outputs": [],
   "source": [
    "#a.lstrip(chars) 문자열 a의 시작 부분에 있는 문자열 chars또는 공백 제거\n",
    "#a.rstrip(chars) 문자열의 a의 끝부분에 있는 chars 또는 공백 제거"
   ]
  },
  {
   "cell_type": "code",
   "execution_count": 4,
   "id": "63d8d3b7",
   "metadata": {},
   "outputs": [
    {
     "name": "stdout",
     "output_type": "stream",
     "text": [
      "bUFFY AND fAITH\n"
     ]
    }
   ],
   "source": [
    "#swapcase()\n",
    "#a.swapcase()는 문자열 a에서 대소문자를 반전한 문자열의 복사본 반환\n",
    "slayers= 'Buffy and Faith'\n",
    "print(slayers.swapcase())\n",
    "\n",
    "#capitalize()메서드는 문자열 첫 글자를 대문자로 바꿈\n",
    "#lower() 메서드는 전체 문자열을 소문자로\n",
    "#upper() 메서드는 전체 문자열을 대문자로 변경한 문자열의 복사본을 반환"
   ]
  },
  {
   "cell_type": "code",
   "execution_count": 11,
   "id": "71c4156b",
   "metadata": {},
   "outputs": [
    {
     "name": "stdout",
     "output_type": "stream",
     "text": [
      "4\n",
      "-1\n",
      "2\n"
     ]
    }
   ],
   "source": [
    "#index, find메서드\n",
    "#a.index(sub, start, end)는 문자열 a에서 부분 문자열 sub의 인덱스 위치를 반환하며, 실패하면 ValueError예외 발생\n",
    "#a.find(sub, start, end)는 문자열 a에서 부분 문자열 sub의 인덱스 위치를 반환하며, 실패하면 -1반환\n",
    "#인덱스 start와 end는 문자열 범위, 생략할경우 전체 문자열에서 부분 문자열 sub를 찾음\n",
    "slayers= 'Buffy and Faith'\n",
    "print(slayers.find('y'))\n",
    "print(slayers.find('k'))\n",
    "# print(slayers.index('k')) 에러발생\n",
    "print(slayers.index('f')) #제일 앞에 있는 인덱스를 반환\n",
    "\n",
    "#rindex(sub, start, end)메서드는 문자열의 끝에서부터 일치하는 부분 문자열 sub의 인덱스를 반환\n",
    "#rfind도 동일"
   ]
  },
  {
   "cell_type": "code",
   "execution_count": 13,
   "id": "c7ce9bdd",
   "metadata": {},
   "outputs": [
    {
     "name": "stdout",
     "output_type": "stream",
     "text": [
      "2\n",
      "3\n"
     ]
    }
   ],
   "source": [
    "#count()\n",
    "#a.count(sub, start, end)는 문자열 a에서 인덱스 start, end범위 내의 부분문자열 sub가 나온 횟수를 반환\n",
    "slayer= 'Buffy is Buffy is Buffy'\n",
    "print(slayer.count('Buffy', 0, -1))\n",
    "print(slayer.count('Buffy'))"
   ]
  },
  {
   "cell_type": "code",
   "execution_count": 14,
   "id": "272d35c7",
   "metadata": {},
   "outputs": [
    {
     "name": "stdout",
     "output_type": "stream",
     "text": [
      "who is who is Buffy\n"
     ]
    }
   ],
   "source": [
    "#replace()\n",
    "#a.replace(old, new, maxreplace) 문자열 a에서 문자열 old를\n",
    "#대체 문자열 new로 maxreplace만큼 변경한 문자열의 복사본을 반환\n",
    "#maxplace를 지정하지 않으면, 모든 old를 new로 변경\n",
    "slayer= 'Buffy is Buffy is Buffy'\n",
    "print(slayer.replace('Buffy', 'who', 2))"
   ]
  },
  {
   "cell_type": "code",
   "execution_count": 20,
   "id": "6c7e370f",
   "metadata": {},
   "outputs": [
    {
     "name": "stdout",
     "output_type": "stream",
     "text": [
      "그의 이름은 '프레드'입니다.\n",
      "그의 이름은 '프레드'입니다\n",
      "결과:     12.35\n",
      "January 27, 2017\n",
      "0x400\n"
     ]
    }
   ],
   "source": [
    "#f-strings\n",
    "#파이썬 3.6부터 사용가능\n",
    "#문자열 앞에 접두사 f를 붙이면 사용가능, 기존의 %나 .format방식에 비해 간결\n",
    "name='프레드'\n",
    "print(f'그의 이름은 {name!r}입니다.')\n",
    "print(f'그의 이름은 {repr(name)}입니다') #repr()은 !r과 동일\n",
    "\n",
    "import decimal\n",
    "width= 10\n",
    "precision= 4\n",
    "value= decimal.Decimal('12.34567')\n",
    "print(f'결과:{value:{width}.{precision}}') #중첩 필드 사용\n",
    "\n",
    "from datetime import datetime\n",
    "today= datetime(year=2017, month=1, day=27)\n",
    "print(f'{today:%B %d, %Y}') #날짜 포맷 지정자 사용\n",
    "number=1024\n",
    "print(f'{number:#0x}') #정수 포맷 지정자 사용 (16진수)"
   ]
  },
  {
   "cell_type": "markdown",
   "id": "53a0fc53",
   "metadata": {},
   "source": [
    "<h2>튜플</h2>\n",
    "튜플은 쉼표로 구분된 값으로 이루어지는 불변 시퀀스 "
   ]
  },
  {
   "cell_type": "code",
   "execution_count": 26,
   "id": "969aaa03",
   "metadata": {},
   "outputs": [
    {
     "name": "stdout",
     "output_type": "stream",
     "text": [
      "1234\n",
      "(1234, '안녕!')\n",
      "((1234, '안녕!'), (1, 2, 3, 4, 5))\n",
      "0\n",
      "1\n",
      "('안녕',)\n",
      "안녕\n"
     ]
    }
   ],
   "source": [
    "t1= 1234, '안녕!'\n",
    "print(t1[0])\n",
    "print(t1)\n",
    "t2= t1, (1, 2, 3, 4, 5) #중첩됨\n",
    "print(t2)\n",
    "\n",
    "#문자열에서 각 위치에 단일 문자가 있는것처럼, 튜플은 각 위치에 객체 참조를 가짐\n",
    "empty= ()\n",
    "t1= '안녕', #또는 ('안녕',)\n",
    "print(len(empty))\n",
    "print(len(t1))\n",
    "print(t1)\n",
    "t2= ('안녕')\n",
    "print(t2)"
   ]
  },
  {
   "cell_type": "markdown",
   "id": "1485c4a8",
   "metadata": {},
   "source": [
    "<h3>튜플 메서드</h3>"
   ]
  },
  {
   "cell_type": "code",
   "execution_count": 1,
   "id": "a3a6dd30",
   "metadata": {
    "scrolled": true
   },
   "outputs": [
    {
     "name": "stdout",
     "output_type": "stream",
     "text": [
      "2\n",
      "1\n"
     ]
    }
   ],
   "source": [
    "\n",
    "#a.count(x) 튜플 a에 담긴 항목 x의 개수 반환\n",
    "t= 1, 5, 7, 8, 9, 4, 1, 4\n",
    "print(t.count(4))\n",
    "\n",
    "#index(x) 항목 튜플 a에 담긴 x의 인덱스 위치를 반환\n",
    "t= 1, 5, 7\n",
    "print(t.index(5))"
   ]
  },
  {
   "cell_type": "markdown",
   "id": "f7a22c17",
   "metadata": {},
   "source": [
    "<h3>튜플 언패킹</h3>"
   ]
  },
  {
   "cell_type": "code",
   "execution_count": 4,
   "id": "8a941ea0",
   "metadata": {},
   "outputs": [
    {
     "name": "stdout",
     "output_type": "stream",
     "text": [
      "1\n",
      "[2, 3, 4]\n",
      "[1, 2, 3]\n",
      "4\n"
     ]
    }
   ],
   "source": [
    "#파이썬에서 모든 반복가능한(iterable)객체는 시퀀스 언패킹 연산자(*)을 이용하여 언패킹할 수 있음\n",
    "x, *y= 1, 2, 3, 4\n",
    "print(x)\n",
    "print(y)\n",
    "*x,y= 1, 2, 3, 4\n",
    "print(x)\n",
    "print(y)"
   ]
  },
  {
   "cell_type": "markdown",
   "id": "a45dc001",
   "metadata": {},
   "source": [
    "<h3>네임드 튜플</h3>"
   ]
  },
  {
   "cell_type": "code",
   "execution_count": 5,
   "id": "dd846af6",
   "metadata": {},
   "outputs": [
    {
     "name": "stdout",
     "output_type": "stream",
     "text": [
      "Person(name='아스틴', age=30, gender='남자')\n",
      "아스틴\n",
      "아스틴\n"
     ]
    }
   ],
   "source": [
    "#네임드 튜플은 일반 튜플과 비슷한 성능과 특성을 갖지만\n",
    "#튜플 항목을 인덱스 위치뿐만아니라 이름으로도 참조할 수 있음\n",
    "#collections.namedtuple 메서드의 첫 번째 인수는 만들고자 하는 사용자 정의 튜플 데이터 타입의 이름\n",
    "#두번째 인수는 사용자 정의 튜플 각 항목을 지정하는 '공백으로 구분된 문자열'\n",
    "import collections\n",
    "Person= collections.namedtuple('Person', 'name age gender')\n",
    "#Person= collections.namedtuple('Person', ['name', 'age', 'gender'])\n",
    "#Person= collections.namedtuple('Person', ('name', 'age', 'gender'))\n",
    "p= Person('아스틴', 30, '남자')\n",
    "print(p)\n",
    "print(p[0])\n",
    "print(p.name)\n",
    "# p.age=20 일반 튜플과 마찬가지로 불변형"
   ]
  }
 ],
 "metadata": {
  "kernelspec": {
   "display_name": "Python 3 (ipykernel)",
   "language": "python",
   "name": "python3"
  },
  "language_info": {
   "codemirror_mode": {
    "name": "ipython",
    "version": 3
   },
   "file_extension": ".py",
   "mimetype": "text/x-python",
   "name": "python",
   "nbconvert_exporter": "python",
   "pygments_lexer": "ipython3",
   "version": "3.9.7"
  }
 },
 "nbformat": 4,
 "nbformat_minor": 5
}
