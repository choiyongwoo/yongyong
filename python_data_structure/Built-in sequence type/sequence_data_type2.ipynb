{
 "cells": [
  {
   "cell_type": "markdown",
   "id": "863143b2",
   "metadata": {},
   "source": [
    "<h2>리스트</h2>\n",
    "배열은 여러 요소들이 연속된 메모리에 순차적으로 저장되는 매우 간단한 구조<br>\n",
    "연결리스트는 여러 분리된 노드가 서로 연결되어 있는 구조<br>\n",
    "구조의 내용을 순회하는데에는 둘 모두 효율적이지만, 어떤 요소에 직접 접근할 때 배열의 시간 복잡도는 O(1)이고, 연결리스트는 O(n)<br>\n",
    "또한 연결리스트에서 어떤 노드를 삽입할 때, 그 위치를 안다면 연결 리스트 노드 수에 상관없이 시간복잡도는 O(1), 배열에서 어떤 위치에 항목을 삽입하려면 그위치에서부터 모든 항목을 오른쪽으로 옮겨야 하므로 시간복잡도는 O(n)<br><br>\n",
    "배열과 유사한 객체는 리스트<br>\n",
    "리스트는 크기를 동적으로 조정할 수 있는 배열<br>\n",
    "연결리스트는 매우 중요한 추상 데이터 타입"
   ]
  },
  {
   "cell_type": "code",
   "execution_count": 4,
   "id": "c81f7455",
   "metadata": {},
   "outputs": [
    {
     "name": "stdout",
     "output_type": "stream",
     "text": [
      "[1, [2, 3, '버피'], 4]\n",
      "[2, 3, '버피']\n"
     ]
    }
   ],
   "source": [
    "q= [2, 3]\n",
    "p= [1, q, 4]\n",
    "p[1].append('버피')\n",
    "print(p)\n",
    "print(q)\n",
    "\n",
    "#리스트 끝에서 항목을 추가하거나 제거할 때는 각각 append()와 pop()메서드\n",
    "#시간 복잡도는 O(1)\n",
    "#리스트 항목을 검색해야 하는 remove(), index(), 멤버십 테스트 in 등의 시간 복잡도는 O(n)\n",
    "#insert()메서드 또한 지정한 인덱스에 항목을 삽입한 후, 그 이후 항목들을 한칸씩 뒤로 밀어야 함으로 시간 복잡도 O(n)\n",
    "#검색이나 멤버십 테스트시 빠른 속도가 필요하다면 셋이나 딕셔너리 같은 컬렉션 타입을 선택하는것이 더 좋을수 있음"
   ]
  },
  {
   "cell_type": "markdown",
   "id": "7c0e9b95",
   "metadata": {},
   "source": [
    "<h3>리스트 메서드</h3>"
   ]
  },
  {
   "cell_type": "code",
   "execution_count": 6,
   "id": "db37d769",
   "metadata": {},
   "outputs": [
    {
     "name": "stdout",
     "output_type": "stream",
     "text": [
      "['버피', '페이스', '자일스']\n",
      "['버피', '페이스', '자일스', '젠더']\n"
     ]
    }
   ],
   "source": [
    "#append()\n",
    "#a.append(x)는 리스트 a 끝에 항목 xfmf cnrk\n",
    "people= ['버피', '페이스']\n",
    "people.append('자일스')\n",
    "print(people)\n",
    "people[len(people):]=['젠더']\n",
    "print(people)"
   ]
  },
  {
   "cell_type": "code",
   "execution_count": 11,
   "id": "fa5c866a",
   "metadata": {},
   "outputs": [
    {
     "name": "stdout",
     "output_type": "stream",
     "text": [
      "['버피', '페이스', '자', '일', '스']\n",
      "['버피', '페이스', '자', '일', '스', '윌', '로']\n",
      "['버피', '페이스', '자', '일', '스', '윌', '로', '젠더']\n",
      "['버피', '페이스', '자', '일', '스', '윌', '로', '젠더', '아', '스', '틴']\n"
     ]
    }
   ],
   "source": [
    "#extend()\n",
    "#a.extend(c)는 반복 가능한 모든 항목 c를 리스트 a에 추가\n",
    "people= ['버피', '페이스']\n",
    "people.extend('자일스')\n",
    "print(people)\n",
    "people+='윌로'\n",
    "print(people)\n",
    "people+=['젠더']\n",
    "print(people)\n",
    "people[len(people):]= '아스틴'\n",
    "print(people)"
   ]
  },
  {
   "cell_type": "code",
   "execution_count": 12,
   "id": "eaca3866",
   "metadata": {},
   "outputs": [
    {
     "name": "stdout",
     "output_type": "stream",
     "text": [
      "['버피', '젠더', '페이스']\n"
     ]
    }
   ],
   "source": [
    "#insert()\n",
    "#a.insert(i, x)는 리스트 a의 인덱스 위치 i에 항목 x 삽입\n",
    "people= ['버피', '페이스']\n",
    "people.insert(1, '젠더')\n",
    "print(people)"
   ]
  },
  {
   "cell_type": "code",
   "execution_count": 13,
   "id": "f00867cf",
   "metadata": {},
   "outputs": [
    {
     "name": "stdout",
     "output_type": "stream",
     "text": [
      "['페이스']\n"
     ]
    }
   ],
   "source": [
    "#remove()\n",
    "#a.remove(x)는 리스트 a의 항목 x를 제거, x가 존재하지 않으면 ValueError\n",
    "people= ['버피', '페이스']\n",
    "people.remove('버피')\n",
    "print(people)\n"
   ]
  },
  {
   "cell_type": "code",
   "execution_count": 17,
   "id": "2a35adfb",
   "metadata": {},
   "outputs": [
    {
     "name": "stdout",
     "output_type": "stream",
     "text": [
      "페이스\n",
      "['버피', '아스틴']\n",
      "아스틴\n",
      "['버피']\n"
     ]
    }
   ],
   "source": [
    "#pop()\n",
    "#a.pop(x)는 리스트 a에서 인덱스 x에 있는 항목을 제거하고 그 항목을 반환\n",
    "#x를 지정하지 않으면 리스트 맨끝 항목을 제거하고 그 항목을 반환\n",
    "people= ['버피', '페이스', '아스틴']\n",
    "print(people.pop(1))\n",
    "print(people)\n",
    "print(people.pop())\n",
    "print(people)"
   ]
  },
  {
   "cell_type": "code",
   "execution_count": 22,
   "id": "83013086",
   "metadata": {},
   "outputs": [
    {
     "name": "stdout",
     "output_type": "stream",
     "text": [
      "[4, 5, 7, 10]\n",
      "[4, 5, 10]\n"
     ]
    }
   ],
   "source": [
    "#del문\n",
    "#리스트 인덱스를 지정하여 특정한 항목을 삭제, 슬라이스를 사용하여 특정 범위 항목들을 삭제할 수도 있음\n",
    "a= [-1, 4, 5, 7, 10]\n",
    "del a[0]\n",
    "print(a)\n",
    "del a[2:3]\n",
    "print(a)\n",
    "del a #변수 a 자체를 삭제\n",
    "\n",
    "#객체 참조가 삭제되고 다른 객체가 더 이상 그 데이터를 참조하지 을 때, 파이썬은 그 데이터 항목을 가비지 컬렉터에 수집"
   ]
  },
  {
   "cell_type": "code",
   "execution_count": 24,
   "id": "f4d9cb46",
   "metadata": {},
   "outputs": [
    {
     "name": "stdout",
     "output_type": "stream",
     "text": [
      "0\n"
     ]
    }
   ],
   "source": [
    "#index\n",
    "#a.index(x)는 리스트 a에서 항목 x의 인덱스를 반환\n",
    "people= ['버피', '페이스']\n",
    "print(people.index('버피'))\n"
   ]
  },
  {
   "cell_type": "code",
   "execution_count": 27,
   "id": "2ff768bd",
   "metadata": {},
   "outputs": [
    {
     "name": "stdout",
     "output_type": "stream",
     "text": [
      "2\n"
     ]
    }
   ],
   "source": [
    "#count()\n",
    "#a.count(x)는 리스트 a에 항목 x가 몇 개 들어 있는지 개수를 반환\n",
    "people= ['버피', '페이스', '버피']\n",
    "print(people.count('버피'))"
   ]
  },
  {
   "cell_type": "code",
   "execution_count": 35,
   "id": "efb2a569",
   "metadata": {},
   "outputs": [
    {
     "name": "stdout",
     "output_type": "stream",
     "text": [
      "['버피', '젠더', '페이스']\n",
      "['페이스', '젠더', '버피']\n",
      "['2018-12-12 06:39:26', '2018-12-12 02:17:28', '2018-12-12 01:17:31', '2018-11-25 12:25:48', '2018-11-25 11:32:33', '2018-11-25 07:30:35']\n"
     ]
    }
   ],
   "source": [
    "#sort()\n",
    "#리스트 a의 항목을 정렬하여 그 변수 자체에 적용\n",
    "#a.sort(key, reverse)에 아무런 인수가 없으면 오름차순으로 정렬하며,\n",
    "#인수를 지정할때는 키워드 인수를 사용해야함\n",
    "people= ['젠더', '페이스', '버피']\n",
    "people.sort()\n",
    "print(people)\n",
    "people.sort(reverse=True)\n",
    "print(people)\n",
    "\n",
    "import time\n",
    "timestamp=[\n",
    "    '2018-12-12 01:17:31',\n",
    "    '2018-12-12 02:17:28',\n",
    "    '2018-12-12 06:39:26',\n",
    "    '2018-11-25 07:30:35',\n",
    "    '2018-11-25 11:32:33',\n",
    "    '2018-11-25 12:25:48'\n",
    "]\n",
    "\n",
    "def time_format(t):\n",
    "    return time.strptime(t, '%Y-%m-%d %H:%M:%S')[0:6]\n",
    "timestamp.sort(key=time_format, reverse=True)\n",
    "print(timestamp)\n",
    "\n",
    "#key 옵션에 지정된 함수에 따라 정렬\n",
    "#strptime(문자열, 날짜시간 포맷) 문자열 형태의 날짜를 datetime객체로 변환"
   ]
  },
  {
   "cell_type": "code",
   "execution_count": 38,
   "id": "bf945dd1",
   "metadata": {},
   "outputs": [
    {
     "name": "stdout",
     "output_type": "stream",
     "text": [
      "['버피', '메서드', '잰더']\n",
      "['잰더', '메서드', '버피']\n"
     ]
    }
   ],
   "source": [
    "#reverse()\n",
    "#a.reverse() 메서드는 리스트 a의 항목들을 반전시켜서 그 변수에 적용\n",
    "people= ['잰더', '메서드', '버피']\n",
    "people.reverse()\n",
    "print(people)\n",
    "print(people[::-1])"
   ]
  },
  {
   "cell_type": "markdown",
   "id": "6a4b3a56",
   "metadata": {},
   "source": [
    "<h3>리스트 언패킹</h3>"
   ]
  },
  {
   "cell_type": "code",
   "execution_count": 40,
   "id": "a47aa499",
   "metadata": {},
   "outputs": [
    {
     "name": "stdout",
     "output_type": "stream",
     "text": [
      "1 [2, 3, 4, 5]\n",
      "24\n",
      "24\n"
     ]
    }
   ],
   "source": [
    "first, *rest= [1, 2, 3, 4, 5]\n",
    "print(first, rest)\n",
    "\n",
    "#함수의 전달 인수로 리스트에 별(*)인수를 사용할 수도 있음\n",
    "def example_args(a, b, c):\n",
    "    return a * b *c #연산자는 곱셈\n",
    "\n",
    "L=[2, 3, 4]\n",
    "print(example_args(*L)) #리스트 언패킹\n",
    "print(example_args(2, *L[1:]))"
   ]
  },
  {
   "cell_type": "markdown",
   "id": "8e6dae1d",
   "metadata": {},
   "source": [
    "<h3>리스트 컴프리헨션</h3>\n",
    "반복문의 표현식<br>\n",
    "[항목 for 항목 in 반복 가능한 객체]<br>\n",
    "[표현식 for 항목 in 반복 가능한 객체]<br>\n",
    "[표현식 for 항목 in 반복 가능한 객체 if 조건문]"
   ]
  },
  {
   "cell_type": "code",
   "execution_count": 45,
   "id": "8f7a76ac",
   "metadata": {},
   "outputs": [
    {
     "name": "stdout",
     "output_type": "stream",
     "text": [
      "[1900, 1904, 1908, 1912, 1916, 1920, 1924, 1928, 1932, 1936]\n",
      "[1, 2, 4, 8, 16, 32, 64, 128, 256, 512, 1024, 2048, 4096]\n",
      "[1900, 1904, 1908, 1912, 1916, 1920, 1924, 1928, 1932, 1936]\n",
      "['3.1', '3.14', '3.142', '3.1416', '3.14159']\n",
      "['BUFFY', 'buffy', 5]\n",
      "['IS', 'is', 2]\n",
      "['AWESOME', 'awesome', 7]\n",
      "['AND', 'and', 3]\n",
      "['A', 'a', 1]\n",
      "['VAMPIRE', 'vampire', 7]\n",
      "['SLAYER', 'slayer', 6]\n"
     ]
    }
   ],
   "source": [
    "a= [y for y in range(1900, 1940) if y%4==0]\n",
    "print(a)\n",
    "b= [2**i for i in range(13)]\n",
    "print(b)\n",
    "c= [x for x in a if x%2==0]\n",
    "print(c)\n",
    "d= [str(round(355/113.0, i)) for i in range(1, 6)]\n",
    "print(d)\n",
    "words= 'Buffy is awesome and a vampire slayer'.split()\n",
    "e= [[w.upper(), w.lower(), len(w)] for w in words]\n",
    "for i in e:\n",
    "    print(i)\n",
    "    \n",
    "#리스트 컴프리헨션은 단순한 경우에만 사용하는 것이 좋음\n",
    "#코드 내용의 가독성을 위해서는 여러줄의 표현식과 조건문으로 표현하는 것이 더 나을수도 있음"
   ]
  },
  {
   "cell_type": "markdown",
   "id": "32e08d7b",
   "metadata": {},
   "source": [
    "<h3>리스트 메서드 성능 측정</h3>\n",
    "리스트의 메서드를 벤치마킹 테스트하여 성능 측정<br>\n",
    "timeit 모듈의 Timer객체를 생성해 사용<br>\n",
    "Timer객체의 첫번째 매개변수는 측정하고자 하는 코드이며, 두번째 매개변수는 테스트를 위한 설정 문<br>\n",
    "timeit모듈은 명령문을 정해진 횟수만큼 실행하는 데 걸리는 시간 "
   ]
  },
  {
   "cell_type": "code",
   "execution_count": 52,
   "id": "75192a39",
   "metadata": {},
   "outputs": [
    {
     "name": "stdout",
     "output_type": "stream",
     "text": [
      "concat 2.68797999900562 ms\n",
      "append 0.19468213499931153 ms\n",
      "comprehension 0.06987963499705074 ms\n",
      "list range 0.031082239001989365 ms\n"
     ]
    }
   ],
   "source": [
    "def test1():\n",
    "    l= []\n",
    "    for i in range(1000):\n",
    "        l= l+[i]\n",
    "        \n",
    "def test2():\n",
    "    l= []\n",
    "    for i in range(1000):\n",
    "        l.append(i)\n",
    "        \n",
    "def test3():\n",
    "    l= [i for i in range(1000)]\n",
    "    \n",
    "def test4():\n",
    "    l= list(range(1000))\n",
    "    \n",
    "if __name__=='__main__':\n",
    "    import timeit\n",
    "    t1= timeit.Timer('test1()', 'from __main__ import test1')\n",
    "    print('concat', t1.timeit(number=1000),'ms')\n",
    "    t2= timeit.Timer('test2()', 'from __main__ import test2')\n",
    "    print('append', t2.timeit(number=1000), 'ms')\n",
    "    t3= timeit.Timer('test3()', 'from __main__ import test3')\n",
    "    print('comprehension', t3.timeit(number=1000), 'ms')\n",
    "    t4= timeit.Timer('test4()', 'from __main__ import test4')\n",
    "    print('list range', t4.timeit(number=1000), 'ms')\n",
    "    \n",
    "\n",
    "#리스트 메서드의 시간 복잡도(k는 조회 및 추가 항목수)\n",
    "#인덱스 []접근: O(1)\n",
    "#인덱스 할당: O(1)\n",
    "#append(): O(1)\n",
    "#pop(): O(1)\n",
    "#pop(i): O(n)\n",
    "#insert(i, 항목): O(n)\n",
    "#del 연산자: O(n)\n",
    "#삽입: O(n)\n",
    "#멤버십 테스트 in: O(n)\n",
    "#슬라이스 [x:y] 조회: O(k)\n",
    "#슬라이스 삭제: O(n)\n",
    "#슬라이스 할당: O(n+k)\n",
    "#reverse(): O(n)\n",
    "#연결: O(k)\n",
    "#sort(): O(n log n)\n",
    "#곱하기: O(nk)"
   ]
  },
  {
   "cell_type": "code",
   "execution_count": null,
   "id": "76b1fb9c",
   "metadata": {},
   "outputs": [],
   "source": []
  }
 ],
 "metadata": {
  "kernelspec": {
   "display_name": "Python 3 (ipykernel)",
   "language": "python",
   "name": "python3"
  },
  "language_info": {
   "codemirror_mode": {
    "name": "ipython",
    "version": 3
   },
   "file_extension": ".py",
   "mimetype": "text/x-python",
   "name": "python",
   "nbconvert_exporter": "python",
   "pygments_lexer": "ipython3",
   "version": "3.9.7"
  }
 },
 "nbformat": 4,
 "nbformat_minor": 5
}
