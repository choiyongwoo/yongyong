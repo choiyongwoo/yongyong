{
 "cells": [
  {
   "cell_type": "markdown",
   "id": "83d26eeb",
   "metadata": {},
   "source": [
    "<h2>선형 정렬</h2>\n",
    "<h3>카운트 정렬</h3>\n",
    "카운트 정렬은 작은 범위의 정수를 정렬할 때 유용하며, 숫자의 발생 횟수를 계산하는 누적 카운트를 사용<br>\n",
    "누적 카운트를 갱신하여 순서대로 숫자를 직접 배치하는 방식<br>\n",
    "카운트 정렬에서 각 숫자 간의 간격이 크다면, 로그 선형 제한이 걸리며 비효율적이 됨<br>\n",
    "각 숫자의 간격이 크지 않다면, 시간복잡도는 선형인 O(n+k)"
   ]
  },
  {
   "cell_type": "code",
   "execution_count": 1,
   "id": "a497e665",
   "metadata": {},
   "outputs": [
    {
     "name": "stdout",
     "output_type": "stream",
     "text": [
      "테스트 통과!\n"
     ]
    }
   ],
   "source": [
    "from collections import defaultdict\n",
    "\n",
    "def count_sort_dict(a):\n",
    "    b, c= [],defaultdict(list)\n",
    "    for x in a:\n",
    "        c[x].append(x)\n",
    "    for k in range(min(c), max(c)+1):\n",
    "        b.extend(c[k])\n",
    "    return b\n",
    "\n",
    "def test_count_sort():\n",
    "    seq= [3, 5, 2, 6, 8, 1, 0, 3,5, 6, 2, 5, 4, 1, 5, 3]\n",
    "    assert(count_sort_dict(seq)== sorted(seq))\n",
    "    print('테스트 통과!')\n",
    "    \n",
    "if __name__== '__main__':\n",
    "    test_count_sort()\n",
    "    \n",
    "#defaultdict(<class 'list'>, {1: [1], 2: [2], 3: [3]..})    \n",
    "#여러 값이 동일한 키를 갖는 경우에도 원래 키의 순서를 가지므로 카운트 정렬 알고리즘은 안정적"
   ]
  },
  {
   "cell_type": "code",
   "execution_count": 9,
   "id": "36d4af9c",
   "metadata": {},
   "outputs": [],
   "source": [
    "#array.append(x) array의 끝에 객체x를 추가\n",
    "#array.extend(iterable) array의 끝에 iterable자료형의 항목을 각각 추가\n",
    "#array.insert(i, x) array의 원하는 위치 i에 x객체 추가"
   ]
  }
 ],
 "metadata": {
  "kernelspec": {
   "display_name": "Python 3 (ipykernel)",
   "language": "python",
   "name": "python3"
  },
  "language_info": {
   "codemirror_mode": {
    "name": "ipython",
    "version": 3
   },
   "file_extension": ".py",
   "mimetype": "text/x-python",
   "name": "python",
   "nbconvert_exporter": "python",
   "pygments_lexer": "ipython3",
   "version": "3.9.7"
  }
 },
 "nbformat": 4,
 "nbformat_minor": 5
}
