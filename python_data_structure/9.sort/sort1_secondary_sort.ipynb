{
 "cells": [
  {
   "cell_type": "markdown",
   "id": "637adf94",
   "metadata": {},
   "source": [
    "<h1>정렬</h1>\n",
    "어떤 항목들로 이루어진 한 그룹을 크기가 작은 순서대로 정렬하고 싶다고 하자.<br>\n",
    "가장 간단한 방법은 가장 작은 항목을 그룹에서 맨 앞으로 이동하는 것<br>\n",
    "그 다음 작은 항목을 두 번째로 이동하고, 그 다음 항목들도 이와 같이 반복<br>\n",
    "그러나 이 알고리즘은 시간복잡도가 O(n ** 2)이므로 더 나은 알고리즘을 찾아야함<br><br>\n",
    "\n",
    "제자리 정렬은 정렬할 항목의 수에 비해 아주 작은 저장 공간을 더 사용하는 정렬 알고리즘<br>\n",
    "삽입 정렬은 주어진 원소들을 옮긴 뒤 적절한 위치에 원소를 삽입하는 연산을 반복하는데, 이과정에서 항목을 담는 공간 외에 추가로 사용될 수 있는 공간은 옮겨지는 항목이 저장되는 공간과 반복문 변수 정도에 불과<br><br>\n",
    "\n",
    "안정적 정렬은 데이터 요소의 상대적인 순서를 보존<br>\n",
    "데이터의 두 항목의 크기가 같을 때, 정렬 전의 위치 상태를 똑같이 유지<br>\n",
    "모든 비교 정렬 문제에서 키는 정렬 순서를 결정하는 값을 뜻함<br>\n",
    "대부분의 비교 정렬 알고리즘은 최악의 경우 시간복잡도가 O(n log n)보다 좋지 않음\n",
    "\n",
    "<h2>2차 정렬</h2>\n",
    "<h3>거품 정렬</h3>\n",
    "거품 정렬은 인접한 두 항목을 비교하여 정렬하는 방식<br>\n",
    "시간 복잡도는 O(n ** 2)이지만 코드가 단순<br>\n",
    "리스트 [11, 3, 28, 43, 9, 4]가 정렬되는 방식<br>\n",
    "\n",
    "![](IMG/sort1.jpg)"
   ]
  },
  {
   "cell_type": "code",
   "execution_count": 1,
   "id": "35b334d9",
   "metadata": {},
   "outputs": [
    {
     "name": "stdout",
     "output_type": "stream",
     "text": [
      "테스트 통과!\n"
     ]
    }
   ],
   "source": [
    "def bubble_sort(seq):\n",
    "    length= len(seq)-1\n",
    "    for num in range(length, 0, -1):\n",
    "        for i in range(num):\n",
    "            if seq[i]>seq[i+1]:\n",
    "                seq[i], seq[i+1]= seq[i+1], seq[i]\n",
    "    return seq\n",
    "\n",
    "def test_bubble_sort():\n",
    "    seq= [4, 5, 2, 1, 6, 2, 7, 10, 13, 8]\n",
    "    assert(bubble_sort(seq)==sorted(seq))\n",
    "    print('테스트 통과!')\n",
    "    \n",
    "if __name__== '__main__':\n",
    "    test_bubble_sort()"
   ]
  },
  {
   "cell_type": "markdown",
   "id": "1b00e2ad",
   "metadata": {},
   "source": [
    "<h3>선택 정렬</h3>\n",
    "선택 정렬은 먼저 리스트에서 가장 작거나 큰 항목을 찾아서 첫 번째 항목과 위치를 바꿈<br>\n",
    "그러고 나서 그 다음 항목을 찾아서 두 번째 항목과 위치를 바꿈<br>\n",
    "이런 식으로 리스트 끝에 도달할 때까지 이 과정을 반복<br>\n",
    "리스트가 이미 정렬되어 있어도 시간 복잡도는 O(n** 2)<br>\n",
    "리스트 [11, 3, 28, 43, 9, 4]\n",
    "\n",
    "![](IMG/sort2.jpg)"
   ]
  },
  {
   "cell_type": "code",
   "execution_count": 3,
   "id": "3fc88864",
   "metadata": {},
   "outputs": [
    {
     "name": "stdout",
     "output_type": "stream",
     "text": [
      "테스트 통과!\n"
     ]
    }
   ],
   "source": [
    "def selection_sort(seq):\n",
    "    length= len(seq)\n",
    "    for i in range(length-1):\n",
    "        min_j= i\n",
    "        for j in range(i+1, length):\n",
    "            if seq[min_j]>seq[j]:\n",
    "                min_j=j\n",
    "        seq[i], seq[min_j]= seq[min_j], seq[i]\n",
    "    return seq\n",
    "\n",
    "def test_selection_sort():\n",
    "    seq= [11, 3, 28, 43, 9, 4]\n",
    "    assert(selection_sort(seq)== sorted(seq))\n",
    "    print('테스트 통과!')\n",
    "\n",
    "if __name__== '__main__':\n",
    "    test_selection_sort()"
   ]
  },
  {
   "cell_type": "markdown",
   "id": "08dd5a9d",
   "metadata": {},
   "source": [
    "<h3>삽입 정렬</h3>\n",
    "삽입 정렬은 최선의 경우 시간복잡도는 O(n)이고, 평균과 최악의 경우 O(n** 2)인 간단한 정렬 알고리즘<br>\n",
    "배열 맨 처음 정렬된 부분에, 정렬되지 않은 다음 항목을 반복적으로 삽입하는 방식<br>\n",
    "데이터 크기가 작고 리스트가 이미 정렬되어 있으면 병합 정렬이나 퀵 정렬 같은 고급 알고리즘보다 성능이 더 좋음<br>\n",
    "즉, 미리 정렬된 리스트에 새 항목을 추가할 때 좋음<br>\n",
    "리스트 [11, 3, 28, 43, 9, 4]가 정렬되는 과정\n",
    "\n",
    "![](IMG/sort3.jpg)"
   ]
  },
  {
   "cell_type": "code",
   "execution_count": 5,
   "id": "dafe9ba1",
   "metadata": {},
   "outputs": [
    {
     "name": "stdout",
     "output_type": "stream",
     "text": [
      "테스트 통과!\n"
     ]
    }
   ],
   "source": [
    "def insertion_sort(seq):\n",
    "    for i in range(1, len(seq)):\n",
    "        j= i\n",
    "        while j>0 and seq[j-1]>seq[j]:\n",
    "            seq[j-1], seq[j]= seq[j], seq[j-1]\n",
    "            j-= 1\n",
    "        #print(seq)\n",
    "    return seq\n",
    "\n",
    "def insertion_sort_rec(seq, i=None):\n",
    "    if i is None:\n",
    "        i= len(seq)-1\n",
    "    if i== 0:\n",
    "        return i\n",
    "    insertion_sort_rec(seq, i-1)\n",
    "    j=i\n",
    "    while j>0 and seq[j-1]>seq[j]:\n",
    "        seq[j-1], seq[j]= seq[j], seq[j-1]\n",
    "        j-= 1\n",
    "    return seq\n",
    "\n",
    "def test_insertion_sort():\n",
    "    seq= [11, 3, 28, 43, 9 ,4]\n",
    "    assert(insertion_sort(seq)== sorted(seq))\n",
    "    assert(insertion_sort_rec(seq)== sorted(seq))\n",
    "    print('테스트 통과!')\n",
    "    \n",
    "if __name__== '__main__':\n",
    "    test_insertion_sort()"
   ]
  },
  {
   "cell_type": "markdown",
   "id": "0547f137",
   "metadata": {},
   "source": [
    "<h3>놈 정렬</h3>\n",
    "놈 정렬은 앞으로 이동하며 잘못 정렬된 값을 찾은 후, 올바른 위치로 값을 교환하며 다시 뒤로 이동<br>\n",
    "최선의 경우 시간 복잡도는 O(n)이고, 평균과 최악의 경우 O(n** 2)인 정렬 알고리즘"
   ]
  },
  {
   "cell_type": "code",
   "execution_count": 6,
   "id": "45549af6",
   "metadata": {},
   "outputs": [
    {
     "name": "stdout",
     "output_type": "stream",
     "text": [
      "테스트 통과!\n"
     ]
    }
   ],
   "source": [
    "def gnome_sort(seq):\n",
    "    i= 0\n",
    "    while i<len(seq):\n",
    "        if i==0 or seq[i-1]<=seq[i]:\n",
    "            i+= 1\n",
    "        else:\n",
    "            seq[i], seq[i-1]= seq[i-1], seq[i]\n",
    "            i-= 1\n",
    "    return seq\n",
    "\n",
    "def test_gnome_sort():\n",
    "    seq= [5, 3, 2, 4]\n",
    "    assert(gnome_sort(seq)== sorted(seq))\n",
    "    print('테스트 통과!')\n",
    "    \n",
    "if __name__== '__main__':\n",
    "    test_gnome_sort()"
   ]
  },
  {
   "cell_type": "markdown",
   "id": "36dc515f",
   "metadata": {},
   "source": [
    "![](IMG/sort4.jpg)"
   ]
  },
  {
   "cell_type": "code",
   "execution_count": null,
   "id": "fbd0a48f",
   "metadata": {},
   "outputs": [],
   "source": []
  }
 ],
 "metadata": {
  "kernelspec": {
   "display_name": "Python 3 (ipykernel)",
   "language": "python",
   "name": "python3"
  },
  "language_info": {
   "codemirror_mode": {
    "name": "ipython",
    "version": 3
   },
   "file_extension": ".py",
   "mimetype": "text/x-python",
   "name": "python",
   "nbconvert_exporter": "python",
   "pygments_lexer": "ipython3",
   "version": "3.9.7"
  }
 },
 "nbformat": 4,
 "nbformat_minor": 5
}
