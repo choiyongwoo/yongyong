{
 "cells": [
  {
   "cell_type": "markdown",
   "id": "b72793fe",
   "metadata": {},
   "source": [
    "<h3>가장 큰 항목 k개 찾기</h3>\n",
    "퀵 정렬 코드를 응용하여 리스트에서 k개의 가장 큰 항목을 찾아보자"
   ]
  },
  {
   "cell_type": "code",
   "execution_count": 23,
   "id": "b11680d6",
   "metadata": {},
   "outputs": [
    {
     "data": {
      "text/plain": [
       "[8, 6]"
      ]
     },
     "execution_count": 23,
     "metadata": {},
     "output_type": "execute_result"
    }
   ],
   "source": [
    "import random\n",
    "\n",
    "def quick_sort(seq):\n",
    "    if len(seq)<2:\n",
    "        return seq\n",
    "    ipivot= len(seq)//2\n",
    "    pivot= seq[ipivot]\n",
    "    \n",
    "    before= [x for i, x in enumerate(seq) if x<=pivot and i!=ipivot]\n",
    "    after= [x for i, x in enumerate(seq) if x>pivot and i!=ipivot]\n",
    "    return quick_sort(before)+[pivot]+quick_sort(after)\n",
    "\n",
    "quick_sort([4, 6,1, 2, 3, 8])\n",
    "\n",
    "def k_pop(seq, k):\n",
    "    list= quick_sort(seq)\n",
    "    a= []\n",
    "    for i in range(k):\n",
    "        b= list.pop()\n",
    "        a.append(b)\n",
    "    return a\n",
    "        \n",
    "    \n",
    "k_pop([4, 6,1, 2, 3, 8], 2)"
   ]
  }
 ],
 "metadata": {
  "kernelspec": {
   "display_name": "Python 3",
   "language": "python",
   "name": "python3"
  },
  "language_info": {
   "codemirror_mode": {
    "name": "ipython",
    "version": 3
   },
   "file_extension": ".py",
   "mimetype": "text/x-python",
   "name": "python",
   "nbconvert_exporter": "python",
   "pygments_lexer": "ipython3",
   "version": "3.8.8"
  }
 },
 "nbformat": 4,
 "nbformat_minor": 5
}
