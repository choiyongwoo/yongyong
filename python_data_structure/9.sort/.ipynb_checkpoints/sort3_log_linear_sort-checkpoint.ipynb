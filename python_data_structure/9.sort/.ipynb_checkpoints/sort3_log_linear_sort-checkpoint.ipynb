{
 "cells": [
  {
   "cell_type": "markdown",
   "id": "b7d1a41e",
   "metadata": {},
   "source": [
    "<h2>로그 선형 정렬</h2>\n",
    "<h3>sort()와 sorted()</h3>\n",
    "sort() 메서드는 원본 리스트를 정렬된 상태로 변환<br>\n",
    "sorted() 함수는 원본의 변경없이 정렬된 새로운 리스트를 반환<br>\n",
    "이들은 매우 효율적인 팀소트 알고리즘으로 구현<br><br>\n",
    "\n",
    "sorted()함수는 선택적 인수가 있어 다양한 활용이 가능(정렬 결과를 반전하는 reverse=True, 문자열 길이 기준으로 정렬하는 key=len, 대소문자 구분없이 정렬하는 key=str.lower등) 또한, 사용자가 정의한 함수를 사용하여 정렬할 수도 있음"
   ]
  },
  {
   "cell_type": "markdown",
   "id": "69217e89",
   "metadata": {},
   "source": [
    "<h3>병합 정렬</h3>\n",
    "병합 정렬은 리스트를 반으로 나누어 정렬되지 않은 리스트를 만듦<br>\n",
    "정렬되지 않은 두 리스트의 크기가 1이 될 때까지, 계속 리스트를 반으로 나누어 병합 정렬 알고리즘을 호출하여 리스트를 정렬하고 병합<br>\n",
    "병합 정렬은 안정적일 뿐만 아니라 대규모 데이터에 대해서도 속도가 빠름<br>\n",
    "배열의 경우 제자리에서 정렬되지 않기 때문에, 다른 알고리즘보다 훨씬 더 많은 메모리가 필요하며, 공간복잡도는 O(n)<br>\n",
    "연결 리스트의 경우 별도의 저장 공간이 필요하지 않으므로 제자리 정렬이 가능하며, 공간복잡도는 O(log n)<br>\n",
    "병합 정렬의 최악, 최선, 평균 시간복잡도는 모두 O(log n)<br><br>\n",
    "\n",
    "데이터가 너무 커서 메모리에 넣지 못할 때, 병합 정렬은 좋은 선택<br>\n",
    "하위 데이터 집합은 메모리에서 정렬할 수 있을 만큼 작아질 때까지 별도의 파일로 디스크에 쓸 수 있음<br>\n",
    "병합은 각 파일에서 한 번에 하나의 요소들을 읽고, 순서대로 최종파일에 기록"
   ]
  },
  {
   "cell_type": "code",
   "execution_count": 1,
   "id": "92135147",
   "metadata": {},
   "outputs": [
    {
     "name": "stdout",
     "output_type": "stream",
     "text": [
      "[1, 2, 2, 3, 4, 4, 5, 5, 6, 7, 8]\n"
     ]
    }
   ],
   "source": [
    "#병합 정렬을 구현하는 방법은 여러가지\n",
    "#시간복잡도: 최악/최선/평균일 때 모두 O(n log n)\n",
    "#공간복잡도: 배열인 경우 O(n)이며, 일반적으로 제자리 정렬이 아님\n",
    "#배열이 큰 경우 효율적\n",
    "#병합 정렬의 병합 함수를 사용하여, 두 배열을 병합\n",
    "#두 파일인 경우에도 병합 가능\n",
    "\n",
    "#pop()메서드를 사용하여 다음과 같이 구현(각 두 배열은 정렬되어 있음)\n",
    "def merge(left, right):\n",
    "    if not left or not right:\n",
    "        return left or right #아무것도 병합하지 않음\n",
    "    result= []\n",
    "    while left and right:\n",
    "        if left[-1]>= right[-1]:\n",
    "            result.append(left.pop())\n",
    "        else:\n",
    "            result.append(right.pop())\n",
    "    result.reverse()\n",
    "    return (left or right)+result\n",
    "\n",
    "l1= [1, 2, 3, 4, 5, 6, 7]\n",
    "l2= [2, 4, 5, 8]\n",
    "print(merge(l1, l2))\n",
    "\n"
   ]
  },
  {
   "cell_type": "code",
   "execution_count": 2,
   "id": "995037fd",
   "metadata": {},
   "outputs": [],
   "source": [
    "def merge_sort(seq):\n",
    "    #pop()을 이용한 병합 정렬\n",
    "    if len(seq)<2:\n",
    "        return seq\n",
    "    mid= len(seq)//2\n",
    "    left, right= seq[:mid], seq[mid:]\n",
    "    if len(left)>1:\n",
    "        left= merge_sort(left)\n",
    "    if len(right)>1:\n",
    "        right= merge_sort(right)\n",
    "        \n",
    "    res= []\n",
    "    while left and right:\n",
    "        if left[-1]>=right[-1]:\n",
    "            res.append(left.pop())\n",
    "        else:\n",
    "            res.append(right.pop())\n",
    "    res.reverse()\n",
    "    return(left or right)+ res"
   ]
  },
  {
   "cell_type": "code",
   "execution_count": 3,
   "id": "947229ce",
   "metadata": {},
   "outputs": [],
   "source": [
    "def merge_sort_sep(seq):\n",
    "    #두 함수로 나누어서 구현\n",
    "    #한 함수에서는 배열을 나누고, 또 다른 함수에서는 배열을 병합\n",
    "    if len(seq)<2:\n",
    "        return seq\n",
    "    mid= len(seq)//2\n",
    "    left= merge_sort_sep(seq[:mid])\n",
    "    right= merge_sort_sep(seq[mid:])\n",
    "    return merge(left, right)\n",
    "\n",
    "def merge(left, right):\n",
    "    if not left or not right:\n",
    "        return left or right\n",
    "    result= []\n",
    "    i, j= 0, 0\n",
    "    while i<len(left) and j<len(right):\n",
    "        if left[i]<= right[j]:\n",
    "            result.append(left[i])\n",
    "            i+= 1\n",
    "        else:\n",
    "            result.append(right[j])\n",
    "            j+= 1\n",
    "    if left[i:]:\n",
    "        result.extend(left[i:])\n",
    "    if right[j:]:\n",
    "        result.extend(right[j:])\n",
    "    #print(result)\n",
    "    return result"
   ]
  },
  {
   "cell_type": "code",
   "execution_count": 4,
   "id": "ef498608",
   "metadata": {},
   "outputs": [],
   "source": [
    "def merge_2n(left, right):\n",
    "    #각 두 배열은 정렬된 상태\n",
    "    #시간복잡도는 O(2n)\n",
    "    if not left or not right:\n",
    "        return left or right\n",
    "    result= []\n",
    "    while left and right:\n",
    "        if left[-1]>= right[-1]:\n",
    "            result.append(left.pop())\n",
    "        else:\n",
    "            result.append(right.pop())\n",
    "    result.reverse()\n",
    "    return (left or right)+result"
   ]
  },
  {
   "cell_type": "code",
   "execution_count": 5,
   "id": "6fae10b2",
   "metadata": {},
   "outputs": [],
   "source": [
    "def merge_two_arrays_inplace(l1, l2):\n",
    "    #제자리 정렬로 구현\n",
    "    #제자리 정렬로 구현하는 경우, 한 배열의 끝에 0이 채워져 있고,\n",
    "    #다른 배열에는 첫 배열에서 끝에 0이 채워진 크기만큼의 요소가 있다\n",
    "    #각 두 배열은 정렬되어 있음\n",
    "    if not l1 or not l2:\n",
    "        return l1 or l2\n",
    "    p2= len(l2)-1\n",
    "    p1= len(l1)- len(l2)-1\n",
    "    p12= len(l1)-1\n",
    "    while p2>=0 and p1>=0:\n",
    "        item_to_be_merged= l2[p2]\n",
    "        item_bigger_array= l1[p1]\n",
    "        if item_to_be_merged<item_bigger_array:\n",
    "            l1[p12]= item_bigger_array\n",
    "            p1-= 1\n",
    "        else:\n",
    "            l1[p12]= item_to_be_merged\n",
    "            p2-= 1\n",
    "        p12-= 1\n",
    "    return l1\n"
   ]
  },
  {
   "cell_type": "code",
   "execution_count": 6,
   "id": "678191e5",
   "metadata": {},
   "outputs": [
    {
     "name": "stdout",
     "output_type": "stream",
     "text": [
      "테스트 통과!\n"
     ]
    }
   ],
   "source": [
    "def merge_files(list_files):\n",
    "    #파일을 병합\n",
    "    result= []\n",
    "    final= []\n",
    "    for filename in list_files:\n",
    "        aux= []\n",
    "        with open(filename, 'r') as file:\n",
    "            for line in file:\n",
    "                aux.append(int(line))\n",
    "        result.append(aux)\n",
    "    final.extend(result.pop())\n",
    "    for l in result:\n",
    "        final= merge(l, final)\n",
    "    return final\n",
    "\n",
    "def test_merge_sort():\n",
    "    seq= [3, 5, 2, 6, 8, 1, 0, 3, 5, 6, 2]\n",
    "    seq_sorted= sorted(seq)\n",
    "    assert(merge_sort(seq)== seq_sorted)#1\n",
    "    assert(merge_sort_sep(seq)== seq_sorted)#2\n",
    "    \n",
    "    l1= [1, 2, 3, 4, 5, 6, 7]\n",
    "    l2= [2, 4, 5, 8]\n",
    "    l_sorted= [1, 2, 2, 3, 4, 4, 5, 5, 6, 7, 8]\n",
    "    assert(merge_2n(l1, l2)== l_sorted) #3\n",
    "    \n",
    "    l1=[1, 2, 3, 4, 5, 6, 7, 0, 0, 0, 0]\n",
    "    l2= [2, 4, 5, 8]\n",
    "    l_sorted= [1, 2, 2, 3, 4, 4, 5, 5, 6, 7, 8]\n",
    "    assert(merge_two_arrays_inplace(l1, l2)== l_sorted)#4\n",
    "    print('테스트 통과!')\n",
    "    \n",
    "if __name__== '__main__':\n",
    "    test_merge_sort()\n",
    "    "
   ]
  },
  {
   "cell_type": "markdown",
   "id": "a6a01eee",
   "metadata": {},
   "source": [
    "![](IMG/sort5.jpg)"
   ]
  },
  {
   "cell_type": "markdown",
   "id": "c69f654a",
   "metadata": {},
   "source": [
    "<h3>퀵 정렬</h3>\n",
    "퀵 정렬은 피벗 값을 잘 선택하는 것이 성능의 핵심<br>\n",
    "리스트에서 기준이 되는 하나의 요소를 고르는데 이를 피벗이라고 함<br>\n",
    "피벗 앞에는 피벗보다 작은 값이 오고, 피벗 뒤에는 피벗보다 큰 값이 오도록 피벗을 기준으로 리스트를 둘로 나눔<br>\n",
    "리스트의 중앙값을 피벗으로 선택하는 것은 이미 정렬된 리스트에서 가장 적합한 선택이고, 정렬되지 않은 리스트 대부분에서도 다른 선택보다 나쁘지 않음<br><br>\n",
    "\n",
    "분할 과정에서 n-1요소의 영역을 생성하는 경우(피벗이 최솟값 또는 최댓값일때), 최악의 경우 시간복잡도는 O(n** 2)<br>\n",
    "최선의 경우 두 개의 n/2 크기 리스트를 생성하게 되고, 이 최선의 경우와 평균 시간복잡도는 O(n log n)<br>\n",
    "퀵 정렬 알고리즘은 안정적이지 않음<br><br>\n"
   ]
  },
  {
   "cell_type": "code",
   "execution_count": 7,
   "id": "6ed8d256",
   "metadata": {},
   "outputs": [],
   "source": [
    "def quick_sort_cache(seq):\n",
    "    #1)한 함수로 구현(캐시 사용)\n",
    "    if len(seq)<2:\n",
    "        return seq\n",
    "    ipivot= len(seq)//2 #피벗 인덱스\n",
    "    pivot= seq[ipivot] #피벗\n",
    "\n",
    "    before= [x for i, x in enumerate(seq) if x<= pivot and i!=ipivot]\n",
    "    after= [x for i, x in enumerate(seq) if x>pivot and i!=ipivot]\n",
    "    return quick_sort_cache(before)+[pivot]+quick_sort_cache(after)"
   ]
  },
  {
   "cell_type": "code",
   "execution_count": 8,
   "id": "1ec33e01",
   "metadata": {},
   "outputs": [],
   "source": [
    "def partition_devided(seq):\n",
    "    #2) 1)의 퀵 정렬을 두 함수로 나누어 구현(캐시 사용)\n",
    "    pivot, seq= seq[0], seq[1:]\n",
    "    before= []\n",
    "    after= []\n",
    "    before= [x for x in seq if x <=pivot]\n",
    "    after= [x for x in seq if x>pivot]\n",
    "    return before, pivot, after\n",
    "\n",
    "def quick_sort_cache_devided(seq):\n",
    "    if len(seq)<2:\n",
    "        return seq\n",
    "    before, pivot, after= partition_devided(seq)\n",
    "    return quick_sort_cache_devided(before)+[pivot]+quick_sort_cache_devided(after)\n",
    "\n",
    "\n"
   ]
  },
  {
   "cell_type": "code",
   "execution_count": 9,
   "id": "208fdfa9",
   "metadata": {},
   "outputs": [
    {
     "name": "stdout",
     "output_type": "stream",
     "text": [
      "테스트 통과!\n"
     ]
    }
   ],
   "source": [
    "def partition(seq, start, end):\n",
    "    #3) 두 함수로 나누어서 구현(캐시 사용 안함)\n",
    "    pivot= seq[start] #피벗은 첫번째 숫자\n",
    "    \n",
    "    #left에서부터 피벗보다 큰값을 선택하여 right부터 시작된 피벗보다 작거나 같은 값을 계속 바꿔줌\n",
    "    #계속 찾아주다가 left와 right의 위치가 엇갈리면 작은 데이터와 피벗값의 위치를 바꿔주면서\n",
    "    #피벗값을 기준으로 왼쪽은 피벗값보다 작은 데이터가 되고 오른쪽은 피벗값보다 큰 데이터가 됨\n",
    "    left= start+1 \n",
    "    right= end\n",
    "    done= False\n",
    "    while not done:\n",
    "        while left<= right and seq[left]<=pivot:\n",
    "            left+= 1\n",
    "        while left<= right and pivot<seq[right]:\n",
    "            right-= 1\n",
    "        if right<left:\n",
    "            done= True\n",
    "        else:\n",
    "            seq[left], seq[right]= seq[right], seq[left]\n",
    "    seq[start], seq[right]= seq[right], seq[start]\n",
    "    #print(right, seq)\n",
    "    return right\n",
    "\n",
    "def quick_sort(seq, start, end):\n",
    "    if start<end: #원소가 1개일때는 수행 중단\n",
    "        pivot= partition(seq, start, end) \n",
    "        quick_sort(seq, start, pivot-1) # 피벗 앞의 리스트 반복\n",
    "        quick_sort(seq, pivot+1, end) #피벗 뒤의 리스트 반복\n",
    "    return seq\n",
    "\n",
    "def test_quick_sort():\n",
    "    seq= [3, 5, 2, 6, 8, 1, 0, 3, 5, 6, 2]\n",
    "    assert(quick_sort_cache(seq)== sorted(seq))\n",
    "    assert(quick_sort_cache_devided(seq)== sorted(seq))\n",
    "    assert(quick_sort(seq, 0, len(seq)-1)== sorted(seq))\n",
    "    print('테스트 통과!')\n",
    "    \n",
    "if __name__== '__main__':\n",
    "    test_quick_sort()"
   ]
  },
  {
   "cell_type": "markdown",
   "id": "e7a62060",
   "metadata": {},
   "source": [
    "앞의 코드에서 1),2)번 방식의 경우 분할 과정을 트리로 나타낼 수 있음<br>\n",
    "그림은 2)번 방식\n",
    "\n",
    "![](IMG/sort6.jpg)"
   ]
  },
  {
   "cell_type": "markdown",
   "id": "ec713cdc",
   "metadata": {},
   "source": [
    "<h3>힙 정렬</h3>\n",
    "힙 정렬은 정렬되지 않은 영역이 힙이라는 점을 제외하면 선택 정렬과 비슷<br>\n",
    "힙 정렬은 가장 큰(또는 작은) 요소를 n번 찾을 때, 로그 선형의 시간복잡도를 가짐<br><br>\n",
    "\n",
    "힙에서 루트가 아닌 다른 모든 노드는 부모 노드의 값보다 작은(또는 큰) 값을 가짐<br>\n",
    "따라서 가장 작은(또는 큰) 요소는 로트에 저장되고, 루트의 하위 트리에는 루트보다 더 큰(또는 작은) 값들이 포함됨<br>\n",
    "힙의 삽입 시간복잡도는 O(1)<br>\n",
    "힙 순서를 확인하는 데 드는 시간복잡도는  O(log n)이고, 힙을 순회하는 시간복잡도는 O(n)<br>\n",
    "힙 정렬은 파이썬의 내장 heapq모듈을 사용하여 모든 값을 힙에 푸시한다음, 한 번에 하나씩 가장 작은 값을 꺼내어 구현할 수 있음"
   ]
  },
  {
   "cell_type": "code",
   "execution_count": 2,
   "id": "00c4445f",
   "metadata": {},
   "outputs": [
    {
     "name": "stdout",
     "output_type": "stream",
     "text": [
      "테스트 통과!\n"
     ]
    }
   ],
   "source": [
    "import heapq\n",
    "\n",
    "def heap_sort1(seq):\n",
    "    h= []\n",
    "    for value in seq:\n",
    "        heapq.heappush(h, value)\n",
    "    return [heapq.heappop(h) for i in range(len(h))]\n",
    "\n",
    "def test_heap_sort1():\n",
    "    seq= [3, 5, 2, 6, 8, 1, 0, 3, 5, 6, 2]\n",
    "    assert(heap_sort1(seq) == sorted(seq))\n",
    "    print('테스트 통과!')\n",
    "    \n",
    "if __name__== '__main__':\n",
    "    test_heap_sort1()"
   ]
  },
  {
   "cell_type": "code",
   "execution_count": 8,
   "id": "c506a441",
   "metadata": {},
   "outputs": [
    {
     "name": "stdout",
     "output_type": "stream",
     "text": [
      "테스트 통과!\n"
     ]
    }
   ],
   "source": [
    "#heap 정렬 구현2\n",
    "def heap_sort3(seq):\n",
    "    for start in range((len(seq)-2)//2, -1, -1): #자식노드가 있을만한 노드부터 시작\n",
    "        siftdown(seq, start, len(seq)-1)\n",
    "    for end in range(len(seq)-1, 0, -1):  #제일 큰 숫자가 제일 뒤에 오게 정렬\n",
    "        seq[end], seq[0]= seq[0], seq[end]\n",
    "        siftdown(seq, 0, end-1)\n",
    "    return seq\n",
    "\n",
    "def siftdown(seq, start, end):\n",
    "    root= start\n",
    "    while True:\n",
    "        child= root*2+1\n",
    "        if child>end: #자식노드가 없을 시 종료\n",
    "            break\n",
    "        if child+1<=end and seq[child]<seq[child+1]: #자식 노드중 큰 값 찾기\n",
    "            child+= 1\n",
    "        if seq[root]< seq[child]: #자식노드가 부모노드보다 크면 교체\n",
    "            seq[root], seq[child]= seq[child], seq[root]\n",
    "            root= child\n",
    "        else:\n",
    "            break\n",
    "\n",
    "def test_heap_sort():\n",
    "    seq= [3, 5, 2, 6, 8, 1, 0, 3, 5, 6, 2]\n",
    "    assert(heap_sort3(seq)== sorted(seq))\n",
    "    print('테스트 통과!')\n",
    "    \n",
    "if __name__== '__main__':\n",
    "    test_heap_sort()"
   ]
  },
  {
   "cell_type": "code",
   "execution_count": null,
   "id": "da1e6dad",
   "metadata": {},
   "outputs": [],
   "source": []
  }
 ],
 "metadata": {
  "kernelspec": {
   "display_name": "Python 3",
   "language": "python",
   "name": "python3"
  },
  "language_info": {
   "codemirror_mode": {
    "name": "ipython",
    "version": 3
   },
   "file_extension": ".py",
   "mimetype": "text/x-python",
   "name": "python",
   "nbconvert_exporter": "python",
   "pygments_lexer": "ipython3",
   "version": "3.8.8"
  }
 },
 "nbformat": 4,
 "nbformat_minor": 5
}
