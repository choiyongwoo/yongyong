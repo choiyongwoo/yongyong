{
 "cells": [
  {
   "cell_type": "markdown",
   "id": "e4499dfd",
   "metadata": {},
   "source": [
    "<h2>재귀 알고리즘</h2>\n",
    "재귀 알고리즘의 3가지 법칙<br>\n",
    "1)재귀 알고리즘은 베이스 케이스(재귀 호출을 유발하지 않는 종료 시나리오)가 있어야 함<br>\n",
    "2)재귀 알고리즘은 상태를 변경하고 베이스 케이스로 이동<br>\n",
    "3)재귀 알고리즘은 재귀적으로 자신을 호출<br><br>\n",
    "\n",
    "모든 재귀 호출에 대한 재귀 함수는 인수, 반환 주소, 지역 변수를 메모리의 스택에 할당<br>\n",
    "이러한 데이터를 스택에 넣고 꺼내는 데에는 시간이 소비됨<br>\n",
    "재귀 알고리즘은 최소 O(n)의 공간을 사용하고, 여기서 n은 재귀호출의 깊이<br><br>\n",
    "\n",
    "재귀는 계산이 중복되거나 하위 문제가 겹치는 경우 비용이 많이 든다<br>\n",
    "어떤 경우에는 스택 오버플로우가 발생할 수도 있음<br>\n",
    "이러한 이유로 하위 문제가 겹치는 경우에는 반복문을 사용하는 것이 더 좋은 방법일 수 있음<br>\n",
    "피보나치 수영의 경우 재귀함수를 사용한다면 지수 시간(O(2n))이 걸리지만, 반복문을 사용한다면 O(n)이 걸림"
   ]
  },
  {
   "cell_type": "markdown",
   "id": "c2e4e146",
   "metadata": {},
   "source": [
    "<h3>재귀식</h3>\n",
    "재귀 함수의 실행시간을 설명하는 데에는 재귀식을 사용<br>\n",
    "\n",
    "![](IMG/asymptotic_analysis3.jpg)\n",
    "\n",
    "a는 재귀 호출 수를 나타냄<br>\n",
    "g(n)은 재귀적으로 풀어야 할 각 하위 문제의 크기<br>\n",
    "f(n)은 함수에서 수행되는 모든 추가 작업\n",
    "\n",
    "![](IMG/asymptotic_analysis4.jpg)"
   ]
  },
  {
   "cell_type": "markdown",
   "id": "595c826b",
   "metadata": {},
   "source": [
    "<h3>분할정복 알고리즘</h3>\n",
    "분할정복 알고리즘의 재귀식\n",
    "\n",
    "![](IMG/asymptotic_analysis5.jpg)\n",
    "\n",
    "a는 재귀 호출 수를 나타내고, 각 호출은 전체 데이터에서 1/b만큼을 사용하며 f(n)의 작업을 수행<br>\n",
    "마지막 사례에 도달했을 때 T(1)= 1이 되기 위해 높이 h=logb n으로 정의<br>\n",
    "트리로 나타내면 \n",
    "\n",
    "![](IMG/asymptotic_analysis6.jpg)"
   ]
  },
  {
   "cell_type": "code",
   "execution_count": null,
   "id": "d2f6d2d9",
   "metadata": {},
   "outputs": [],
   "source": []
  }
 ],
 "metadata": {
  "kernelspec": {
   "display_name": "Python 3 (ipykernel)",
   "language": "python",
   "name": "python3"
  },
  "language_info": {
   "codemirror_mode": {
    "name": "ipython",
    "version": 3
   },
   "file_extension": ".py",
   "mimetype": "text/x-python",
   "name": "python",
   "nbconvert_exporter": "python",
   "pygments_lexer": "ipython3",
   "version": "3.9.7"
  }
 },
 "nbformat": 4,
 "nbformat_minor": 5
}
