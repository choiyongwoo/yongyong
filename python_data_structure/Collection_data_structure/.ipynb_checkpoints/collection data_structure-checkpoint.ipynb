{
 "cells": [
  {
   "cell_type": "markdown",
   "id": "5babcdb7",
   "metadata": {},
   "source": [
    "<h2>컬렉션 자료구조</h2>\n",
    "컬렉션 자료구조는 시퀀스 자료구조와 달리, 데이터를 서로 연관시키지 않고 모아두는 컨테이너<br>\n",
    "컬렉션 자료구조의 세가지 속성<br>\n",
    "멤버십 연산자: in<br>\n",
    "크기함수:len(seq)<br>\n",
    "반복성: 반복문의 데이터를 순회<br><br>\n",
    "\n",
    "파이썬의 내장 컬렉션 데이터 타입에는 set과 dictionary가 있음"
   ]
  },
  {
   "cell_type": "markdown",
   "id": "068241e4",
   "metadata": {},
   "source": [
    "<h2>set</h2>\n",
    "파이썬의 set은 반복 가능하고, 가변적이며, 중복 요소가 없고, 정렬되지 않은 컬렉션 데이터 타입<br>\n",
    "set은 멤버십 테스트 및 중복 항복 제거에 사용<br>\n",
    "set의 삽입 시간복잡도는 O(1)이고, 합집합의 시간복잡도는 O(m+n), 교집합의 경우, 두 set중에서 더 작은 set에 대해서만 계산하면 되므로, 시간복잡도는 O(n)"
   ]
  },
  {
   "cell_type": "code",
   "execution_count": 1,
   "id": "eb4a4820",
   "metadata": {},
   "outputs": [
    {
     "data": {
      "text/plain": [
       "['__and__',\n",
       " '__class__',\n",
       " '__class_getitem__',\n",
       " '__contains__',\n",
       " '__delattr__',\n",
       " '__dir__',\n",
       " '__doc__',\n",
       " '__eq__',\n",
       " '__format__',\n",
       " '__ge__',\n",
       " '__getattribute__',\n",
       " '__gt__',\n",
       " '__hash__',\n",
       " '__init__',\n",
       " '__init_subclass__',\n",
       " '__iter__',\n",
       " '__le__',\n",
       " '__len__',\n",
       " '__lt__',\n",
       " '__ne__',\n",
       " '__new__',\n",
       " '__or__',\n",
       " '__rand__',\n",
       " '__reduce__',\n",
       " '__reduce_ex__',\n",
       " '__repr__',\n",
       " '__ror__',\n",
       " '__rsub__',\n",
       " '__rxor__',\n",
       " '__setattr__',\n",
       " '__sizeof__',\n",
       " '__str__',\n",
       " '__sub__',\n",
       " '__subclasshook__',\n",
       " '__xor__',\n",
       " 'copy',\n",
       " 'difference',\n",
       " 'intersection',\n",
       " 'isdisjoint',\n",
       " 'issubset',\n",
       " 'issuperset',\n",
       " 'symmetric_difference',\n",
       " 'union']"
      ]
     },
     "execution_count": 1,
     "metadata": {},
     "output_type": "execute_result"
    }
   ],
   "source": [
    "dir(set())\n",
    "dir(frozenset())\n",
    "#frozenset은 셋과 달리 불변 객체이며, 셋에서 사용할 수 있는 일부 메서드를 사용할 수 없다"
   ]
  },
  {
   "cell_type": "markdown",
   "id": "0dcafd7a",
   "metadata": {},
   "source": [
    "<h3>set 메서드</h3>\n"
   ]
  },
  {
   "cell_type": "code",
   "execution_count": 3,
   "id": "b3d0102d",
   "metadata": {},
   "outputs": [
    {
     "name": "stdout",
     "output_type": "stream",
     "text": [
      "{'윌로', '에인절', '자일스', '버피'}\n"
     ]
    }
   ],
   "source": [
    "#add()\n",
    "#a.add(x)는 set a에 x가 없는 경우 x를 추가함\n",
    "people= {'버피', '에인절', '자일스'}\n",
    "people.add('윌로')\n",
    "print(people)"
   ]
  },
  {
   "cell_type": "code",
   "execution_count": 5,
   "id": "caef54fb",
   "metadata": {},
   "outputs": [
    {
     "name": "stdout",
     "output_type": "stream",
     "text": [
      "{'로미오', '버피', '줄리엣', '에인절', '자일스'}\n",
      "{'로미오', '버피', '줄리엣', '리키', '에인절', '자일스', '유진'}\n"
     ]
    }
   ],
   "source": [
    "#update()와 |=연산자\n",
    "#a.update(b) 혹은 a|=b는 a를 b에 추가\n",
    "people= {'버피', '에인절', '자일스'}\n",
    "people.update({'로미오', '줄리엣', '에인절'})\n",
    "print(people)\n",
    "people|={'리키', '유진'}\n",
    "print(people)"
   ]
  },
  {
   "cell_type": "code",
   "execution_count": 7,
   "id": "32dc3e44",
   "metadata": {},
   "outputs": [
    {
     "name": "stdout",
     "output_type": "stream",
     "text": [
      "{'에인절', '자일스', '버피'}\n",
      "{'에인절', '자일스', '버피', '브라이언'}\n"
     ]
    }
   ],
   "source": [
    "#union()과 |연산자\n",
    "#a.union(b)와 a|b는 update()와 같지만, 연산결과를 복사본으로 반환\n",
    "people= {'버피', '에인절', '자일스'}\n",
    "people.union({'로미오', '줄리엣'})\n",
    "print(people)\n",
    "print(people|{'브라이언'})"
   ]
  },
  {
   "cell_type": "code",
   "execution_count": 9,
   "id": "6d597514",
   "metadata": {},
   "outputs": [
    {
     "name": "stdout",
     "output_type": "stream",
     "text": [
      "{'에인절', '자일스'}\n",
      "{'에인절', '자일스'}\n"
     ]
    }
   ],
   "source": [
    "#intersection()과 &연산자\n",
    "#a.intersection(b)와 a&b는 a와 b의 교집합의 복사본 반환\n",
    "people= {'버피', '에인절', '자일스', '이안'}\n",
    "vampires= {'에인절', '자일스', '윌로'}\n",
    "print(people.intersection(vampires))\n",
    "print(people&vampires)"
   ]
  },
  {
   "cell_type": "code",
   "execution_count": 10,
   "id": "cfd297e9",
   "metadata": {},
   "outputs": [
    {
     "name": "stdout",
     "output_type": "stream",
     "text": [
      "{'자일스', '버피', '아영'}\n",
      "{'자일스', '버피', '아영'}\n"
     ]
    }
   ],
   "source": [
    "#difference()와 -연산자\n",
    "#a.difference(b)와 a-b는 a와 b의 차집합 복사본을 반환\n",
    "people={'버피', '에인절', '자일스', '아영'}\n",
    "vampires= {'스파이크', '에인절', '상민'}\n",
    "print(people.difference(vampires))\n",
    "print(people-vampires)"
   ]
  },
  {
   "cell_type": "code",
   "execution_count": 11,
   "id": "92628ccb",
   "metadata": {},
   "outputs": [
    {
     "name": "stdout",
     "output_type": "stream",
     "text": [
      "set()\n"
     ]
    }
   ],
   "source": [
    "#clear()\n",
    "#a.clear()는 a의 모든 항목을 제거\n",
    "people= {'버피', '자일스', '에인절'}\n",
    "people.clear()\n",
    "print(people)"
   ]
  },
  {
   "cell_type": "code",
   "execution_count": 20,
   "id": "057450cf",
   "metadata": {},
   "outputs": [
    {
     "name": "stdout",
     "output_type": "stream",
     "text": [
      "{'프랑스', '스페인', '영국'}\n",
      "프랑스\n"
     ]
    }
   ],
   "source": [
    "#discard(), remove(), pop()\n",
    "#a.discard(x)는 a의 항목 x를 제거하며 반환값은 None\n",
    "#a.remove()는 a.discard와 같지만, 항목 x가 없을경우 KeyError예외 발생\n",
    "#a.pop()은 a에서 한 항목을 무작위로 제거하고 해당 항목을 반환, 셋이 비어있으면 KeyError 예외 발생\n",
    "countries= {'프랑스', '스페인', '영국'}\n",
    "countries.discard('한국')\n",
    "print(countries)\n",
    "print(countries.pop())\n"
   ]
  },
  {
   "cell_type": "markdown",
   "id": "b63ae50e",
   "metadata": {},
   "source": [
    "<h3>set과 list</h3>"
   ]
  },
  {
   "cell_type": "code",
   "execution_count": 1,
   "id": "455e9c6e",
   "metadata": {},
   "outputs": [
    {
     "name": "stdout",
     "output_type": "stream",
     "text": [
      "테스트 통과\n"
     ]
    }
   ],
   "source": [
    "#리스트 타입은 set 타입으로 변환할 수 있음\n",
    "def remove_dup(l1):\n",
    "    '''리스트의 중복된 항목을 제거한 후 반환'''\n",
    "    return list(set(l1))\n",
    "\n",
    "def intersection(l1, l2):\n",
    "    '''교집합 결과를 반환'''\n",
    "    return list(set(l1)&set(l2))\n",
    "\n",
    "def union(l1, l2):\n",
    "    '''합집합 결과를 반환'''\n",
    "    return list(set(l1)|set(l2))\n",
    "\n",
    "def test_sets_operations_with_lists():\n",
    "    l1= [1, 2, 3, 4, 5, 5, 9, 11, 11, 15]\n",
    "    l2= [4, 5, 6, 7, 8]\n",
    "    l3= []\n",
    "    assert(remove_dup(l1)==[1, 2, 3, 4, 5, 9, 11, 15])\n",
    "    assert(intersection(l1, l2)==[4, 5])\n",
    "    assert(union(l1, l2)==[1, 2, 3, 4, 5, 6, 7, 8, 9, 11, 15])\n",
    "    assert(remove_dup(l3)==[])\n",
    "    assert(intersection(l3, l2)==l3)\n",
    "    assert(sorted(union(l3, l2))==sorted(l2))\n",
    "    print('테스트 통과')\n",
    "    \n",
    "if __name__=='__main__':\n",
    "    test_sets_operations_with_lists()"
   ]
  },
  {
   "cell_type": "code",
   "execution_count": 4,
   "id": "6912d4aa",
   "metadata": {},
   "outputs": [
    {
     "name": "stdout",
     "output_type": "stream",
     "text": [
      "딕셔너리 1\t:{'a': 1, 'b': 2, 'c': 3}\n",
      "딕셔너리2\t: {'a': 1, 'c': 2, 'd': 3, 'e': 4}\n",
      "d1 n d2(키,값)\t: {('a', 1)}\n",
      "d1- d2 (키)\t:{'b'}\n",
      "d2 - d1 (키)\t: {'e', 'd'}\n",
      "d1- d2(키,값)\t:{('b', 2), ('c', 3)}\n",
      "d2- {c, d}\t:{'e': 4, 'a': 1}\n"
     ]
    }
   ],
   "source": [
    "#딕셔너리에서도 셋 속성을 사용할 수 있음\n",
    "def set_operations_with_dict():\n",
    "    pairs= [('a', 1), ('b', 2), ('c', 3)]\n",
    "    d1= dict(pairs)\n",
    "    print('딕셔너리 1\\t:{0}'.format(d1))\n",
    "    \n",
    "    d2= {'a':1, 'c':2, 'd':3, 'e':4}\n",
    "    print('딕셔너리2\\t: {0}'.format(d2))\n",
    "    \n",
    "    intersection= d1.keys()& d2.keys()\n",
    "    intersection_items= d1.items()&d2.items()\n",
    "    print('d1 n d2(키,값)\\t: {0}'.format(intersection_items))\n",
    "    \n",
    "    subtraction1= d1.keys() - d2.keys()\n",
    "    print('d1- d2 (키)\\t:{0}'.format(subtraction1))\n",
    "    \n",
    "    subtraction2= d2.keys() -d1.keys()\n",
    "    print('d2 - d1 (키)\\t: {0}'.format(subtraction2))\n",
    "    \n",
    "    subtraction_items= d1.items()- d2.items()\n",
    "    print('d1- d2(키,값)\\t:{0}'.format(subtraction_items))\n",
    "    \n",
    "    '''딕셔너리의 특정 키를 제외'''\n",
    "    d3= {key:d2[key] for key in d2.keys() - {'c', 'd'}}\n",
    "    print('d2- {{c, d}}\\t:{0}'.format(d3))\n",
    "    \n",
    "if __name__=='__main__':\n",
    "    set_operations_with_dict()"
   ]
  },
  {
   "cell_type": "markdown",
   "id": "d3fa1413",
   "metadata": {},
   "source": [
    "<h2>딕셔너리</h2>\n",
    "파이썬의 딕셔너리는 해시 테이블로 구현<br>\n",
    "해시 함수는 특정 객체에 해당하는 임의의 정수 값을 상수 시간 내에 계산"
   ]
  },
  {
   "cell_type": "code",
   "execution_count": 7,
   "id": "ee204a72",
   "metadata": {},
   "outputs": [
    {
     "name": "stdout",
     "output_type": "stream",
     "text": [
      "42\n",
      "-8357869130254108697\n"
     ]
    }
   ],
   "source": [
    "print(hash(42))\n",
    "print(hash('hello'))"
   ]
  },
  {
   "cell_type": "code",
   "execution_count": 11,
   "id": "086fa6f7",
   "metadata": {},
   "outputs": [
    {
     "name": "stdout",
     "output_type": "stream",
     "text": [
      "{'name': '쿠엔틴 타란티노', 'job': '감독'}\n",
      "{'name': '버피', 'age': 16, 'hobby': '게임'}\n",
      "{'name': '자일스', 'age': 45, 'hobby': '영화감상'}\n",
      "{'name': '윌로', 'age': 15, 'hobby': '개발'}\n"
     ]
    }
   ],
   "source": [
    "#컬렉션 매핑 타입인 딕셔너리는 반복 가능\n",
    "#멤버십 연산자 in 과 길이를 구하는 len()함수도 지원\n",
    "#매핑은 키-값 항목의 컬렉션이고, 각 항목에 대한 메서드를 제공\n",
    "#딕셔너리를 순회할 때, 정렬되지 않은 매핑 타입은 임의의 순서대로 항목을 순회\n",
    "#딕셔너리의 항목은 고유하므로, 항목에 접근하는 시간복잡도는 O(1)\n",
    "#딕셔너리는 변경 가능하므로 항목의 추가 및 제거가 가능\n",
    "#딕셔너리는 항목의 삽입 순서를 기억하지 않고, 인덱스 위치를 사용할 수 없음\n",
    "tarantino= {}\n",
    "tarantino['name']= '쿠엔틴 타란티노'\n",
    "tarantino['job']='감독'\n",
    "print(tarantino)\n",
    "sunnydale= dict({'name':'버피', 'age':16, 'hobby':'게임'})\n",
    "print(sunnydale)\n",
    "sunnydale= dict(name='자일스', age=45, hobby='영화감상')\n",
    "print(sunnydale)\n",
    "sunnydale= dict([('name', '윌로'), ('age', 15), ('hobby', '개발')])\n",
    "print(sunnydale)"
   ]
  },
  {
   "cell_type": "markdown",
   "id": "21ebd97c",
   "metadata": {},
   "source": [
    "<h3>딕셔너리 메서드</h3>\n"
   ]
  },
  {
   "cell_type": "code",
   "execution_count": 13,
   "id": "f907fd03",
   "metadata": {},
   "outputs": [
    {
     "name": "stdout",
     "output_type": "stream",
     "text": [
      "{'key1': ['value1', 'value2'], 'key2': ['value3', 'value4', 'value5']}\n",
      "{'key1': ['value1', 'value2'], 'key2': ['value3', 'value4', 'value5']}\n"
     ]
    }
   ],
   "source": [
    "#setdefault()\n",
    "#setdefault() 메서드는 딕셔너리에서 키의 존재 여부를 모른 채 접근할 때 사용\n",
    "#a.setdefault(key, default)를 사용하면 딕셔너리 a에 key가 존재할경우 \n",
    "#키에 해당하는 값을 얻을 수 있고, key가 존재하지 않으면, 새 키와 기본값 default가 딕셔너리에 저장됨\n",
    "def usual_dict(dict_data):\n",
    "    '''dict[key] 사용'''\n",
    "    newdata= {}\n",
    "    for k, v in dict_data:\n",
    "        if k in newdata:\n",
    "            newdata[k].append(v)\n",
    "        else:\n",
    "            newdata[k]= [v]\n",
    "    return newdata\n",
    "\n",
    "def setdefault_dict(dict_data):\n",
    "    '''setdefault() 메서드 사용'''\n",
    "    newdata= {}\n",
    "    for k, v in dict_data:\n",
    "        #setdefault함수로 키에 dict_data의 key 값에 빈리스트 추가\n",
    "        newdata.setdefault(k, []).append(v)\n",
    "    return newdata\n",
    "\n",
    "def test_setdef():\n",
    "    dict_data= (('key1', 'value1'),\n",
    "               ('key1', 'value2'),\n",
    "               ('key2', 'value3'),\n",
    "               ('key2', 'value4'),\n",
    "               ('key2', 'value5'),)\n",
    "    print(usual_dict(dict_data))\n",
    "    print(setdefault_dict(dict_data))\n",
    "    \n",
    "if __name__=='__main__':\n",
    "    test_setdef()"
   ]
  },
  {
   "cell_type": "code",
   "execution_count": 15,
   "id": "b4d3b977",
   "metadata": {},
   "outputs": [
    {
     "name": "stdout",
     "output_type": "stream",
     "text": [
      "{'a': 1, 'b': 10}\n",
      "{'a': 1, 'b': 10, 'c': 100}\n"
     ]
    }
   ],
   "source": [
    "#a.update(b)는 딕셔너리 a에 딕셔너리 b의 키가 존재한다면\n",
    "#기존 a의 (키, 값)을 b의 (키, 값)으로 갱신\n",
    "#b의 키가 a에 존재하지 않는다면, b의 (키, 값)을 a에 추가\n",
    "d= {'a':1, 'b': 2}\n",
    "d.update({'b': 10})\n",
    "print(d)\n",
    "d.update({'c': 100})\n",
    "print(d)"
   ]
  },
  {
   "cell_type": "code",
   "execution_count": 19,
   "id": "32e46592",
   "metadata": {},
   "outputs": [
    {
     "name": "stdout",
     "output_type": "stream",
     "text": [
      "게임\n",
      "게임\n",
      "None\n"
     ]
    }
   ],
   "source": [
    "#get()\n",
    "#a.get(key)는 딕셔너리 a의 key값을 반환, key가 존재하지 않으면 아무것도 반환하지 않음\n",
    "sunnydale= dict(name='젠더', age=17, hobby='게임')\n",
    "print(sunnydale.get('hobby'))\n",
    "print(sunnydale['hobby'])\n",
    "print(sunnydale.get('hello'))"
   ]
  },
  {
   "cell_type": "code",
   "execution_count": 25,
   "id": "2a54d606",
   "metadata": {},
   "outputs": [
    {
     "name": "stdout",
     "output_type": "stream",
     "text": [
      "dict_items([('name', '잰더'), ('age', 17), ('hobby', '게임')])\n",
      "dict_values(['잰더', 17, '게임'])\n",
      "dict_keys(['name', 'age', 'hobby'])\n",
      "{'name': '잰더', 'age': 17, 'hobby': '게임', 'address': '서울'}\n"
     ]
    }
   ],
   "source": [
    "#items(), values(), keys()\n",
    "#items(), keys(), values()메서드는 딕셔너리 뷰\n",
    "#딕셔너리 뷰란 딕셔너리의 항목을 조회하는 읽기 전용의 반복 가능한 객체\n",
    "sunnydale= dict(name='잰더', age=17, hobby='게임')\n",
    "print(sunnydale.items())\n",
    "print(sunnydale.values())\n",
    "print(sunnydale.keys())\n",
    "sunnydale_copy= sunnydale.items()\n",
    "#sunnydale_copy['address']='서울' #읽기 전용 객체로 생성한 것이므로 에러 발생함\n",
    "sunnydale['address']= '서울'\n",
    "print(sunnydale)"
   ]
  },
  {
   "cell_type": "code",
   "execution_count": 32,
   "id": "6deaea96",
   "metadata": {},
   "outputs": [
    {
     "name": "stdout",
     "output_type": "stream",
     "text": [
      "17\n",
      "{'name': '잰더', 'address': '서울'}\n",
      "{'name': '잰더'}\n"
     ]
    }
   ],
   "source": [
    "#pop(), popitem()\n",
    "#a.pop(key)는 딕셔너리의 a의 key 항목을 제거한 후, 그 값을 반환\n",
    "#a.popitem()은 딕셔너리 a에서 항목(키와 값)을 제거한 후, 그 키와 항목을 반환\n",
    "sunnydale= dict(name='잰더', age=17, address='서울')\n",
    "print(sunnydale.pop('age'))\n",
    "print(sunnydale)\n",
    "sunnydale.popitem()\n",
    "print(sunnydale)"
   ]
  },
  {
   "cell_type": "code",
   "execution_count": 33,
   "id": "079f807d",
   "metadata": {},
   "outputs": [
    {
     "data": {
      "text/plain": [
       "{}"
      ]
     },
     "execution_count": 33,
     "metadata": {},
     "output_type": "execute_result"
    }
   ],
   "source": [
    "#clear()\n",
    "#딕셔너리의 모든 항목을 제거\n",
    "sunnydale= dict(name='잰더', age=17, adrress='서울')\n",
    "sunnydale.clear()\n",
    "sunnydale"
   ]
  },
  {
   "cell_type": "markdown",
   "id": "b2ab1a46",
   "metadata": {},
   "source": [
    "<h3>딕셔너리 성능 측정</h3>\n",
    "리스트와 딕셔너리의 멤버십 연산 테스트, 멤버십 연산에 대한 시간복잡도는 리스트는 O(n), 딕셔너리는 O(1)<br><br>\n",
    "딕셔너리 메서드의 시간복잡도<br>\n",
    "복사: O(n)<br>\n",
    "항목 조회: O(1)<br>\n",
    "항목 할당: O(1)<br>\n",
    "항목 삭제: O(1)<br>\n",
    "멤버십 테스트 in: O(1)<br>\n",
    "반복: O(n)"
   ]
  },
  {
   "cell_type": "code",
   "execution_count": null,
   "id": "3c7e27d1",
   "metadata": {},
   "outputs": [],
   "source": [
    "import timeit\n",
    "import random\n",
    "for i in range(10000, 1000001, 20000):\n",
    "    t= timeit.Timer('random.randrange(%d) in x'%i, 'from __main__ import random, x')\n",
    "    x= list(range(i)) #리스트\n",
    "    lst_time= t.timeit(number=1000)\n",
    "    x= {j: None for j in range(i)} #딕셔너리\n",
    "    d_time= t.timeit(number=1000)\n",
    "    print('%d, %10.3f, %10.3f'%(i, lst_time,d_time))"
   ]
  },
  {
   "cell_type": "markdown",
   "id": "5ee87b48",
   "metadata": {},
   "source": [
    "<h3>딕셔너리 순회</h3>\n",
    "반복문에서 딕셔너리를 순회할 때는 기본적으로 키를 사용<br>\n",
    "딕셔너리의 키는 임의의 순서대로 나타나지만, sorted()함수를 사용하면 정렬된 상태로 순회할 수 있음"
   ]
  },
  {
   "cell_type": "code",
   "execution_count": 37,
   "id": "06e65a07",
   "metadata": {},
   "outputs": [
    {
     "name": "stdout",
     "output_type": "stream",
     "text": [
      "a hello\n",
      "b word\n",
      "c !\n"
     ]
    }
   ],
   "source": [
    "d= dict(c='!', b='word', a='hello')\n",
    "for key in sorted(d.keys()):\n",
    "    print(key, d[key])\n",
    "    \n"
   ]
  },
  {
   "cell_type": "markdown",
   "id": "60cd514b",
   "metadata": {},
   "source": [
    "<h3>딕셔너리 분기</h3>"
   ]
  },
  {
   "cell_type": "code",
   "execution_count": 38,
   "id": "1af40f44",
   "metadata": {},
   "outputs": [
    {
     "name": "stdout",
     "output_type": "stream",
     "text": [
      "hello\n",
      "hello\n"
     ]
    }
   ],
   "source": [
    "def hello():\n",
    "    print('hello')\n",
    "    \n",
    "def world():\n",
    "    print('world')\n",
    "\n",
    "#보통 if문을 사용하여 분기문을 작성\n",
    "action= 'h'\n",
    "if action=='h':\n",
    "    hello()\n",
    "elif action=='w':\n",
    "    world()\n",
    "    \n",
    "#딕셔너리를 사용하여 더 효율적으로 분기 가능\n",
    "functions= dict(h=hello, w=world)\n",
    "functions[action]()"
   ]
  },
  {
   "cell_type": "markdown",
   "id": "9b4cc845",
   "metadata": {},
   "source": [
    "<h2>파이썬 컬렉션 데이터 타입</h2>\n",
    "파이썬의 collections 모듈은 다양한 딕셔너리 타입 제공\n",
    "\n",
    "<h3>기본 딕셔너리</h3>\n",
    "기본 딕셔너리는 collections.defaultdict 모듈에서 제공하는 추가 딕셔너리 타입<br>\n",
    "defaultdict은 내장 딕셔너리의 모든 연산자와 메서드를 사용할 수 있고, 추가로 누락된 키도 처리할 수 있음"
   ]
  },
  {
   "cell_type": "code",
   "execution_count": 40,
   "id": "51692555",
   "metadata": {
    "scrolled": true
   },
   "outputs": [
    {
     "name": "stdout",
     "output_type": "stream",
     "text": [
      "{'b': [2], 'a': [1], 'c': [3]}\n",
      "defaultdict(<class 'list'>, {'b': [2], 'a': [1], 'c': [3]})\n"
     ]
    }
   ],
   "source": [
    "from collections import defaultdict\n",
    "def defaultdict_example():\n",
    "    pairs= {('a', 1), ('b', 2), ('c', 3)}\n",
    "    \n",
    "    #일반 딕셔너리\n",
    "    d1= {}\n",
    "    for key, value in pairs:\n",
    "        if key not in d1:\n",
    "            d1[key]=[]\n",
    "        d1[key].append(value)\n",
    "    print(d1)\n",
    "    \n",
    "    #defaultdict\n",
    "    d2= defaultdict(list)\n",
    "    for key, value in pairs:\n",
    "        d2[key].append(value)\n",
    "    print(d2)\n",
    "    \n",
    "if __name__=='__main__':\n",
    "    defaultdict_example()"
   ]
  },
  {
   "cell_type": "markdown",
   "id": "4ef4917a",
   "metadata": {},
   "source": [
    "<h3>정렬된 딕셔너리</h3>\n",
    "정렬된 딕셔너리는 collections.OrderedDict 모듈에서 제공하는 정렬된 딕셔너리 타입<br>\n",
    "OrderedDict 역시 내장 딕셔너리의 모든 메서드와 속성을 가지고 있고, 추가로 삽입 순서대로 항목을 저장"
   ]
  },
  {
   "cell_type": "code",
   "execution_count": 42,
   "id": "5b809b2c",
   "metadata": {},
   "outputs": [
    {
     "name": "stdout",
     "output_type": "stream",
     "text": [
      "OrderedDict([(8031, '백업'), (4027, '이메일 스캔'), (5733, '시스템 빌드')])\n"
     ]
    }
   ],
   "source": [
    "from collections import OrderedDict\n",
    "tasks= OrderedDict()\n",
    "tasks[8031]= '백업'\n",
    "tasks[4027]= '이메일 스캔'\n",
    "tasks[5733]= '시스템 빌드'\n",
    "print(tasks)"
   ]
  },
  {
   "cell_type": "code",
   "execution_count": 44,
   "id": "f814e552",
   "metadata": {},
   "outputs": [
    {
     "name": "stdout",
     "output_type": "stream",
     "text": [
      "c [1]\n",
      "b [2]\n",
      "a [3]\n",
      "c 1\n",
      "b 2\n",
      "a 3\n"
     ]
    }
   ],
   "source": [
    "#표준 딕셔너리와 OrderedDict 결과를 출력하는 예제\n",
    "from collections import OrderedDict\n",
    "\n",
    "def orderedDict_example():\n",
    "    pairs=[('c', 1), ('b', 2), ('a', 3)]\n",
    "    \n",
    "    #일반 딕셔너리\n",
    "    d1= {}\n",
    "    for key, value in pairs:\n",
    "        if key not in d1:\n",
    "            d1[key]= []\n",
    "        d1[key].append(value)\n",
    "    for key in d1:\n",
    "        print(key, d1[key])\n",
    "        \n",
    "    \n",
    "    #OrderedDict\n",
    "    d2= OrderedDict(pairs)\n",
    "    for key in d2:\n",
    "        print(key, d2[key])\n",
    "        \n",
    "if __name__=='__main__':\n",
    "    orderedDict_example()\n",
    "    \n",
    "#키 값을 변경해도 순서는 변경되지 않음, 항목을 맨끝으로 저장하려면\n",
    "#해당 항목을 삭제한 후 다시 삽입해야함\n",
    "#혹은 popitem() 메서드를 호출하여 딕셔너리의 마지막 키-값 항목을 제거한 후 반환할 수도 있음\n",
    "#정렬된 딕셔너리를 사용하는 것은 딕셔너리를 여러번 순회할 것으로 예상되는 경우나\n",
    "#항목의 삽입을 거의 수행하지 않을 것으로 예상되는 경우에 효율적"
   ]
  },
  {
   "cell_type": "markdown",
   "id": "d33efd40",
   "metadata": {},
   "source": [
    "<h3>카운터 딕셔너리</h3>\n",
    "카운터 타입은 해시 가능한 객체를 카운팅하는 특화된 서브 클래스<br>\n",
    "collectioins.Counter모듈에서 제공"
   ]
  },
  {
   "cell_type": "code",
   "execution_count": 48,
   "id": "53689170",
   "metadata": {},
   "outputs": [
    {
     "name": "stdout",
     "output_type": "stream",
     "text": [
      "Counter({5: 4, 1: 3, 2: 3, 3: 1, 4: 1})\n",
      "Counter({1: 4, 2: 4, 5: 4, 3: 2, 4: 1})\n",
      "Counter({1: 5, 2: 4, 5: 4, 3: 3, 4: 2})\n",
      "Counter({1: 1, 4: 1, 3: 1})\n",
      "Counter({1: 6, 2: 4, 3: 4, 5: 4, 4: 3})\n",
      "Counter({1: 4, 2: 4, 5: 4, 3: 2, 4: 1})\n"
     ]
    }
   ],
   "source": [
    "from collections import Counter\n",
    "\n",
    "def counter_example():\n",
    "    '''항목의 발생 횟수를 매핑하는 딕셔너리를 생성'''\n",
    "    seq1= [1, 2, 3, 5, 1, 2, 5, 5, 2, 5, 1, 4]\n",
    "    seq_counts= Counter(seq1)\n",
    "    print(seq_counts)\n",
    "    \n",
    "    '''항목의 발생 횟수를 수동으로 갱신하거나, update()메서드를 사용할 수 있음'''\n",
    "    seq2= [1, 2, 3]\n",
    "    seq_counts.update(seq2)\n",
    "    print(seq_counts)\n",
    "    \n",
    "    seq3= [1, 4, 3]\n",
    "    for key in seq3:\n",
    "        seq_counts[key]+= 1\n",
    "    print(seq_counts)\n",
    "    \n",
    "    '''a+b, a-b 같은 셋 연산을 사용할 수 있음'''\n",
    "    seq_counts_2= Counter(seq3)\n",
    "    print(seq_counts_2)\n",
    "    print(seq_counts+seq_counts_2)\n",
    "    print(seq_counts-seq_counts_2)\n",
    "    \n",
    "if __name__=='__main__':\n",
    "    counter_example()"
   ]
  },
  {
   "cell_type": "markdown",
   "id": "9c1d50f4",
   "metadata": {},
   "source": [
    "<h2>연습문제</h2>\n",
    "<h3>단어 횟수 세기</h3>\n",
    "collections.Counters의 most_common()메서드를 사용하면 문자열에서 가장 많이 나오는 단어와 그 횟수를 쉽게 찾을 수 있음"
   ]
  },
  {
   "cell_type": "code",
   "execution_count": 52,
   "id": "c5085f6d",
   "metadata": {},
   "outputs": [
    {
     "name": "stdout",
     "output_type": "stream",
     "text": [
      "테스트 통과!\n"
     ]
    }
   ],
   "source": [
    "from collections import Counter\n",
    "\n",
    "def find_top_N_recurring_words(seq, N):\n",
    "    dcounter= Counter()\n",
    "    for word in seq.split():\n",
    "        dcounter[word]+= 1\n",
    "    return dcounter.most_common(N)\n",
    "\n",
    "def test_find_top_N_recurring_words():\n",
    "    seq= '버피 에인절 몬스터 잰더 윌로 버피 몬스터 슈퍼 버피 에인절'\n",
    "    N= 3\n",
    "    assert(find_top_N_recurring_words(seq, N)==[('버피', 3), ('에인절', 2), ('몬스터', 2)])\n",
    "    print('테스트 통과!')\n",
    "\n",
    "if __name__=='__main__':\n",
    "    test_find_top_N_recurring_words()"
   ]
  },
  {
   "cell_type": "markdown",
   "id": "d88f4ade",
   "metadata": {},
   "source": [
    "<h3>애너그램</h3>\n",
    "애너그램은 문장 또는 단어의 철자 순서를 바꾸는 놀이<br>\n",
    "두 문자열이 서로 애너그램인지 확인하고 싶다고 하면, 셋은 항목의 발생횟수를 계산하지 않고, 리스트의 항목을 정렬하는 시간복잡도는 최소 O(n log n) 따라서 애너그램을 확인하는데 딕셔너리를 사용하는 것이 가장 좋은 해결책<br><br>\n",
    "첫 번째 문자열의 문자 발생 횟수를 더해서 딕셔너리에 저장<br>\n",
    "두 번째 문자열의 문자 발생 횟수를 빼어 딕셔너리에 저장<br>\n",
    "딕셔너리의 모든 항목값이 0이면, 두 문자열은 애너그램"
   ]
  },
  {
   "cell_type": "code",
   "execution_count": 6,
   "id": "009c94f8",
   "metadata": {
    "scrolled": true
   },
   "outputs": [
    {
     "name": "stdout",
     "output_type": "stream",
     "text": [
      "테스트 통과!\n",
      "테스트 통과!\n"
     ]
    }
   ],
   "source": [
    "from collections import Counter\n",
    "\n",
    "def is_anagram(s1, s2):\n",
    "    counter= Counter()\n",
    "    for c in s1:\n",
    "        counter[c]+=1\n",
    "    for c in s2:\n",
    "        counter[c]-=1\n",
    "        \n",
    "    for i in counter.values():\n",
    "        if i:\n",
    "            return False\n",
    "    return True\n",
    "\n",
    "def test_is_anagram():\n",
    "    s1= 'mairna'\n",
    "    s2= 'aniram'\n",
    "    assert(is_anagram(s1, s2) is True)\n",
    "    s1= 'google'\n",
    "    s2= 'gouglo'\n",
    "    assert(is_anagram(s1, s2) is False)\n",
    "    print('테스트 통과!')\n",
    "    \n",
    "if __name__=='__main__':\n",
    "    test_is_anagram()\n",
    "    \n",
    "#두 문자열이 애너그램인지 확인하는 또 다른 방법은 해시 함수의 속성을 이용하는 것\n",
    "#ord() 함수는 인수가 유니코드 객체일 때, 문자의 유니코드를 나타내는 정수를 반환\n",
    "#인수가 8비트 문자열인 경우 바이트 값을 반환\n",
    "#문자열에서 모든 문자의 ord() 함수 결과를 더했을 때, 그결과가 같으면, 두문자열은 애너그램\n",
    "\n",
    "import string\n",
    "def hash_func(astring):\n",
    "    s= 0\n",
    "    for one in astring:\n",
    "        #만약 one이 공백이면 반복문 continue\n",
    "        if one in string.whitespace:\n",
    "            continue\n",
    "        s= s+ord(one)\n",
    "    return s\n",
    "\n",
    "def find_anagram_hash_function(word1, word2):\n",
    "    return hash_func(word1)== hash_func(word2)\n",
    "\n",
    "def test_find_anagram_hash_function():\n",
    "    word1= 'buffy'\n",
    "    word2= 'bffyu'\n",
    "    word3= 'bffya'\n",
    "    assert(find_anagram_hash_function(word1, word2) is True)\n",
    "    assert(find_anagram_hash_function(word1, word3) is False)\n",
    "    print('테스트 통과!')\n",
    "    \n",
    "if __name__=='__main__':\n",
    "    test_find_anagram_hash_function()"
   ]
  },
  {
   "cell_type": "markdown",
   "id": "505afd88",
   "metadata": {},
   "source": [
    "<h3>주사위 합계 경로</h3>\n",
    "주사위를 두 번 던져서 합계가 특정 수가 나오는 경우의 수와 경로 구하기"
   ]
  },
  {
   "cell_type": "code",
   "execution_count": 27,
   "id": "c1ead2e9",
   "metadata": {},
   "outputs": [
    {
     "name": "stdout",
     "output_type": "stream",
     "text": [
      "[4, [[1, 4], [2, 3], [3, 2], [4, 1]]]\n",
      "테스트 통과!\n"
     ]
    }
   ],
   "source": [
    "from collections import Counter, defaultdict\n",
    "\n",
    "def find_dice_probabilities(S, n_faces=6):\n",
    "    if S>2*n_faces or S<2:\n",
    "        return None\n",
    "    \n",
    "    cdict= Counter()\n",
    "    ddict= defaultdict(list)\n",
    "    \n",
    "    #두 주사위의 합을 모두 더해서 딕셔너리에 넣는다\n",
    "    for dice1 in range(1, n_faces+1):\n",
    "        for dice2 in range(1, n_faces+1):\n",
    "            t= [dice1, dice2]\n",
    "            cdict[dice1+dice2]+= 1 #앞은 키, 뒤는 값\n",
    "            ddict[dice1+dice2].append(t) #앞은 키 뒤는 값\n",
    "    return [cdict[S], ddict[S]]\n",
    "\n",
    "def test_find_dice_probabilities():\n",
    "    n_faces= 6\n",
    "    S= 5\n",
    "    results= find_dice_probabilities(S, n_faces)\n",
    "    print(results)\n",
    "    assert(results[0]== len(results[1]))\n",
    "    print('테스트 통과!')\n",
    "    \n",
    "if __name__=='__main__':\n",
    "    test_find_dice_probabilities()"
   ]
  },
  {
   "cell_type": "markdown",
   "id": "fe578702",
   "metadata": {},
   "source": [
    "<h3>단어의 중복 문자 제거</h3>\n"
   ]
  },
  {
   "cell_type": "code",
   "execution_count": 69,
   "id": "8d96557b",
   "metadata": {},
   "outputs": [
    {
     "data": {
      "text/plain": [
       "'aert'"
      ]
     },
     "execution_count": 69,
     "metadata": {},
     "output_type": "execute_result"
    }
   ],
   "source": [
    "import string\n",
    "from collections import Counter\n",
    "\n",
    "def delete_unique_word(str1):\n",
    "    counter= Counter()\n",
    "    str=''\n",
    "    a=[]\n",
    "    for c in str1:\n",
    "        counter[c]+= 1\n",
    "    \n",
    "    for k, v in counter.items():\n",
    "        if counter[k]<2:\n",
    "            a.append(k)\n",
    "    str=''.join(a)\n",
    "            \n",
    "    return str\n",
    "\n",
    "delete_unique_word('aert')"
   ]
  },
  {
   "cell_type": "code",
   "execution_count": 70,
   "id": "7e76a9d7",
   "metadata": {},
   "outputs": [
    {
     "name": "stdout",
     "output_type": "stream",
     "text": [
      "테스트 통과!\n"
     ]
    }
   ],
   "source": [
    "import string\n",
    "\n",
    "#string모듈로 문자를 상수처럼 사용가능\n",
    "#string.ascii_lowercase 소문자 abcdefghijklmnopqrstuvwxyz\n",
    "#string.ascii_uppercase 대문자 ABCDEFGHIJKLMNOPQRSTUVWXYZ\n",
    "#string.ascii_letters 대소문자 모두 abcdefghijklmnopqrstuvwxyzABCDEFGHIJKLMNOPQRSTUVWXYZ\n",
    "#string.digits 숫자 0123456789\n",
    "\n",
    "def delete_unique_word(str1):\n",
    "    table_c= {key:0 for key in string.ascii_lowercase}\n",
    "    for i in str1:\n",
    "        table_c[i]+= 1\n",
    "    for key, value in table_c.items():\n",
    "        if value>1:\n",
    "            str1= str1.replace(key, '')\n",
    "    return str1\n",
    "\n",
    "def test_delete_unique_word():\n",
    "    str1= 'google'\n",
    "    assert(delete_unique_word(str1)== 'le')\n",
    "    print('테스트 통과!')\n",
    "    \n",
    "if __name__=='__main__':\n",
    "    test_delete_unique_word()"
   ]
  },
  {
   "cell_type": "code",
   "execution_count": null,
   "id": "b15c5793",
   "metadata": {},
   "outputs": [],
   "source": []
  }
 ],
 "metadata": {
  "kernelspec": {
   "display_name": "Python 3 (ipykernel)",
   "language": "python",
   "name": "python3"
  },
  "language_info": {
   "codemirror_mode": {
    "name": "ipython",
    "version": 3
   },
   "file_extension": ".py",
   "mimetype": "text/x-python",
   "name": "python",
   "nbconvert_exporter": "python",
   "pygments_lexer": "ipython3",
   "version": "3.9.7"
  },
  "toc": {
   "base_numbering": 1,
   "nav_menu": {},
   "number_sections": true,
   "sideBar": true,
   "skip_h1_title": false,
   "title_cell": "Table of Contents",
   "title_sidebar": "Contents",
   "toc_cell": false,
   "toc_position": {},
   "toc_section_display": true,
   "toc_window_display": false
  },
  "varInspector": {
   "cols": {
    "lenName": 16,
    "lenType": 16,
    "lenVar": 40
   },
   "kernels_config": {
    "python": {
     "delete_cmd_postfix": "",
     "delete_cmd_prefix": "del ",
     "library": "var_list.py",
     "varRefreshCmd": "print(var_dic_list())"
    },
    "r": {
     "delete_cmd_postfix": ") ",
     "delete_cmd_prefix": "rm(",
     "library": "var_list.r",
     "varRefreshCmd": "cat(var_dic_list()) "
    }
   },
   "types_to_exclude": [
    "module",
    "function",
    "builtin_function_or_method",
    "instance",
    "_Feature"
   ],
   "window_display": false
  }
 },
 "nbformat": 4,
 "nbformat_minor": 5
}
