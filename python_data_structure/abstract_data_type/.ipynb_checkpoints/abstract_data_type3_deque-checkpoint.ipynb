{
 "cells": [
  {
   "cell_type": "markdown",
   "id": "fc68343d",
   "metadata": {},
   "source": [
    "<h2>데크</h2>\n",
    "데크는 스택과 큐의 결합체<br>\n",
    "양쪽 끝에서 항목의 조회, 삽입, 삭제가 가능"
   ]
  },
  {
   "cell_type": "code",
   "execution_count": 4,
   "id": "467f44bc",
   "metadata": {},
   "outputs": [
    {
     "name": "stdout",
     "output_type": "stream",
     "text": [
      "Deque가 비었나요? True\n",
      "데크에 숫자를 0~9를 추가\n",
      "데크 크기:10\n",
      "peek: 0\n",
      "dequeue: 0\n",
      "peek: 1\n",
      "데크가 비었나요? False\n",
      "\n",
      "데크: [9, 8, 7, 6, 5, 4, 3, 2, 1]\n",
      "dequeue: 9\n",
      "peek: 1\n",
      "데크: [8, 7, 6, 5, 4, 3, 2, 1]\n",
      "enqueue_back(50)을 수행\n",
      "peek: 50\n",
      "데크: [8, 7, 6, 5, 4, 3, 2, 1, 50]\n"
     ]
    }
   ],
   "source": [
    "#앞에 구현한 큐를 바탕으로 구현\n",
    "from queue1 import Queue\n",
    "\n",
    "class Deque(Queue):\n",
    "    def enqueue_back(self, item):\n",
    "        self.items.append(item)\n",
    "    \n",
    "    def dequeue_front(self):\n",
    "        value= self.items.pop(0)\n",
    "        if value is not None:\n",
    "            return value\n",
    "        else:\n",
    "            print('Deque is empty')\n",
    "    \n",
    "            \n",
    "if __name__== '__main__':\n",
    "    deque= Deque()\n",
    "    print('Deque가 비었나요? {0}'.format(deque.isEmpty()))\n",
    "    print('데크에 숫자를 0~9를 추가')\n",
    "    for i in range(10):\n",
    "        deque.enqueue(i)\n",
    "    print('데크 크기:{0}'.format(deque.size()))\n",
    "    print('peek: {0}'.format(deque.peek()))\n",
    "    print('dequeue: {0}'.format(deque.dequeue()))\n",
    "    print('peek: {0}'.format(deque.peek()))\n",
    "    print('데크가 비었나요? {0}'.format(deque.isEmpty()))\n",
    "    print()\n",
    "    print('데크: {0}'.format(deque))\n",
    "    print('dequeue: {0}'.format(deque.dequeue_front()))\n",
    "    print('peek: {0}'.format(deque.peek()))\n",
    "    print('데크: {0}'.format(deque))\n",
    "    print('enqueue_back(50)을 수행')\n",
    "    deque.enqueue_back(50)\n",
    "    print('peek: {0}'.format(deque.peek()))\n",
    "    print('데크: {0}'.format(deque))"
   ]
  },
  {
   "cell_type": "code",
   "execution_count": 7,
   "id": "f0f4c016",
   "metadata": {},
   "outputs": [
    {
     "name": "stdout",
     "output_type": "stream",
     "text": [
      "deque(['버피', '잰더', '윌로'])\n",
      "deque(['버피', '잰더', '윌로', '자일스'])\n",
      "버피\n",
      "자일스\n",
      "deque(['엔젤', '잰더', '윌로'])\n",
      "deque(['윌로', '엔젤', '잰더'])\n",
      "deque(['엔젤', '잰더', '윌로'])\n",
      "deque(['잰더', '윌로', '엔젤'])\n",
      "deque(['엔젤', '잰더', '윌로'])\n"
     ]
    }
   ],
   "source": [
    "#이 코드 역시 끝이 아닌 다른 위치에 있는 항목을 삽입하거나 제거할 때는 비효율적\n",
    "#queue.py코드에서 리스트의 insert() 메서드를 사용하기 때문\n",
    "#collections 패키지의 deque 모듈을 사용하면 문제가 해결\n",
    "from collections import deque\n",
    "q= deque(['버피', '잰더', '윌로'])\n",
    "print(q)\n",
    "q.append('자일스')\n",
    "print(q)\n",
    "print(q.popleft())\n",
    "print(q.pop())\n",
    "q.appendleft('엔젤')\n",
    "print(q)\n",
    "\n",
    "#deque 모듈을 사용하면 q= deque(maxlen=4) 같은 식으로 데크의 크기를 지정할 수 있음\n",
    "#rotate(n) 메서드는 n이 양수면 오른쪽으로, n이 음수이면 왼쪽으로 n만큼 시프트\n",
    "q.rotate(1)\n",
    "print(q)\n",
    "q.rotate(2)\n",
    "print(q)\n",
    "q.rotate(-1)\n",
    "print(q)\n",
    "q.rotate(-2)\n",
    "print(q)\n",
    "\n",
    "#collections 패키지의 deque모듈은 동적 배열이 아닌 이중 연결 리스트 기반"
   ]
  },
  {
   "cell_type": "code",
   "execution_count": null,
   "id": "7e1184ed",
   "metadata": {},
   "outputs": [],
   "source": []
  }
 ],
 "metadata": {
  "kernelspec": {
   "display_name": "Python 3 (ipykernel)",
   "language": "python",
   "name": "python3"
  },
  "language_info": {
   "codemirror_mode": {
    "name": "ipython",
    "version": 3
   },
   "file_extension": ".py",
   "mimetype": "text/x-python",
   "name": "python",
   "nbconvert_exporter": "python",
   "pygments_lexer": "ipython3",
   "version": "3.9.7"
  }
 },
 "nbformat": 4,
 "nbformat_minor": 5
}
