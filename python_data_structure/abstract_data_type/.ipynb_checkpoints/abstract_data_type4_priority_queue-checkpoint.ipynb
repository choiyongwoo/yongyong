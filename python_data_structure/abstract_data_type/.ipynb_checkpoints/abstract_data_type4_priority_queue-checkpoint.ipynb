{
 "cells": [
  {
   "cell_type": "markdown",
   "id": "d2c3eabb",
   "metadata": {},
   "source": [
    "<h2>우선순위 큐와 힙</h2>\n",
    "우선순위 큐는 일반 스택과 큐와 비슷한 추상 데이터 타입이지만, 각 항목마다 연관된 우선순위가 있음<br>\n",
    "두 항목의 우선순위가 같으면 큐의 순서를 따름<br>\n",
    "우선순위 큐는 힙을 사용하여 구현<br>"
   ]
  },
  {
   "cell_type": "markdown",
   "id": "c097393a",
   "metadata": {},
   "source": [
    "<h3>힙</h3>\n",
    "힙은 각 노드가 하위 노드보다 작은 이진트리<br>\n",
    "균형 트리의 모양이 수정될 때, 다시 이를 균형 트리로 만드는 시간복잡도는 O(log n)<br>\n",
    "힙은 일반적으로 리스트에서 가장 작은 요소에 반복적으로 접근하는 프로그램에 유용<br>\n",
    "최소(또는 최대) 힙을 사용하면 가장 작은(또는 가장 큰) 요소를 처리하는 시간 복잡도는 O(1)이고, 그 외의 조회, 추가, 수정을 처리하는 시간복잡도는 O(log n)\n",
    "\n",
    "![](IMG/abstract_data_type.png)"
   ]
  },
  {
   "cell_type": "markdown",
   "id": "6e03b31a",
   "metadata": {},
   "source": [
    "<h3>heapq 모듈</h3>\n",
    "heapq 모듈은 효율적으로 시퀀스를 힙으로 유지하면서 항목을 삽입하고 제거하는 함수를 제공<br>\n",
    "heapq.heapify() 함수를 사용하면 O(n)시간에 리스트를 힙으로 변환할 수 있음<br>"
   ]
  },
  {
   "cell_type": "code",
   "execution_count": 2,
   "id": "6b54ea1a",
   "metadata": {},
   "outputs": [
    {
     "name": "stdout",
     "output_type": "stream",
     "text": [
      "[1, 4, 8, 6]\n"
     ]
    }
   ],
   "source": [
    "import heapq\n",
    "list1= [4, 6, 8, 1]\n",
    "heapq.heapify(list1)\n",
    "print(list1)"
   ]
  },
  {
   "cell_type": "code",
   "execution_count": 3,
   "id": "dd391bc4",
   "metadata": {},
   "outputs": [
    {
     "name": "stdout",
     "output_type": "stream",
     "text": [
      "[('food', 1), ('have fun', 2), ('work', 3), ('study', 4)]\n"
     ]
    },
    {
     "data": {
      "text/plain": [
       "('food', 1)"
      ]
     },
     "execution_count": 3,
     "metadata": {},
     "output_type": "execute_result"
    }
   ],
   "source": [
    "#항목에 힙을 삽입할때, heapq.heappush(heap, item)\n",
    "#항목에 튜플을 넣을 경우 첫번째 항목을 기준으로 우선순위를 가짐\n",
    "h= []\n",
    "heapq.heappush(h, (1, 'food'))\n",
    "heapq.heappush(h, (2, 'have fun'))\n",
    "heapq.heappush(h, (3, 'dog'))\n",
    "heapq.heappush(h, (4, 'study'))\n",
    "print(h)\n",
    "heapq.heappop(h)"
   ]
  },
  {
   "cell_type": "code",
   "execution_count": 8,
   "id": "0cfc0334",
   "metadata": {},
   "outputs": [
    {
     "name": "stdout",
     "output_type": "stream",
     "text": [
      "[1, 4, 8, 6]\n",
      "1\n",
      "[4, 6, 8]\n"
     ]
    }
   ],
   "source": [
    "#heapq.heappop(heap) 함수는 힙에서 가장 작은 항목을 제거하고 반환\n",
    "list1=[4, 6, 8 ,1]\n",
    "heapq.heapify(list1)\n",
    "print(list1)\n",
    "print(heapq.heappop(list1))\n",
    "print(list1)\n"
   ]
  },
  {
   "cell_type": "markdown",
   "id": "e97898c6",
   "metadata": {},
   "source": [
    "heapq.heappushpop(heap, item)은 새 항목을 힙에 추가한 후, 가장 작은 항목을 제거하고 반환<br>\n",
    "heapq.heapreplace(heap, item)는 힙의 가장 작은 항목을 제거하고 반환한 후, 새 항목을 추가<br>\n",
    "heappush와 heappop() 메서드는 따로 사용하는 것보다 한 번에 heappushpop() 혹은 heapreplace()메서드를 사용하는 것이 더 효율적"
   ]
  },
  {
   "cell_type": "code",
   "execution_count": 9,
   "id": "496a1a10",
   "metadata": {},
   "outputs": [
    {
     "name": "stdout",
     "output_type": "stream",
     "text": [
      "1\n",
      "2\n",
      "3\n",
      "4\n",
      "5\n",
      "6\n"
     ]
    }
   ],
   "source": [
    "#힙의 속성을 사용하면 많은 연산을 할 수 있음\n",
    "#heapq.merge(*iterables)는 여러 개의 정렬된 반복 가능한 객체를 \n",
    "#병합하여 하나의 정렬된 결과의 이터레이터를 반환\n",
    "for x in heapq.merge([1, 3, 5], [2, 4, 6]):\n",
    "    print(x)\n",
    "    \n",
    "#heapq.nlargest(n, iterable[, key])와 heapq.nsmallest(n, iterable[, key])는\n",
    "#데이터에서 n개의 가장 큰 요소와 가장 작은 요소가 있는 리스트를 반환"
   ]
  },
  {
   "cell_type": "markdown",
   "id": "7eee9a69",
   "metadata": {},
   "source": [
    "<h3>최대 힙 구현하기</h3>\n",
    "힙 클래스를 직접 만들기 위해 먼저 heapq모듈의 heapify() 함수를 구현<br>\n",
    "최대 힙을 예시로 리스트 [3, 2, 5, 1, 7, 8, 2]를 힙으로 변환<br>\n",
    "먼저 리스트를 트리로 표현<br>\n",
    "\n",
    "![](IMG/abstract_data_type1.jpg)\n",
    "\n",
    "여기서 인덱스 0의 자식은 인덱스 1, 2이고, 1의 자식은 3, 4이고 2의 자식은 5, 6임<br>\n",
    "또한 노드 i의 왼쪽 자식노드 인덱스는 (i * 2) +1 이고, i의 오른쪽 자식 노드의 인덱스는 (i * 2) +2<br><br>\n",
    "전체 배열의 길이를 반 나누는 것부터 시작<br>\n",
    "7 // 2의 결과는 3이고, 여기부터 1씩 감소하면서 구하기<br><br>\n",
    "1)인덱스가 3일때, 자식이 없으므로 넘어감<br>\n",
    "2)인덱스가 2일때, 자식이 있고 값 5보다 큰 값 8이 존재하므로, 인덱스 2와 5의 값을 교환, 교환한 인덱스 5를 다시 자식들과 비교하는데 자식이 없으므로 넘어감\n",
    "\n",
    "![](IMG/abstract_data_type2.jpg)\n",
    "\n",
    "3)인덱스가 1일 때, 값 2보다 큰 값 7인 자식이 존재하므로 인덱스 1과 4의 값 교환, 교환한 인덱스 4를 다시 자식들과 비교하는데 자식이 없으므로 넘어감\n",
    "\n",
    "![](IMG/abstract_data_type3.jpg)\n",
    "\n",
    "4)인덱스가 0일때, 값 3보다 큰 값 8인 자식이 존재하므로, 인덱스 0과 2의 값 교환\n",
    "\n",
    "![](IMG/abstract_data_type4.jpg)\n",
    "\n",
    "4-1)교환한 인덱스 2의 자식에서 값 3보다 큰 값 5가 존재하므로 인덱스 2와 5의 값을 교환, 교환한 인덱스 5의 자식이 없으므로 넘어감\n",
    "\n",
    "![](IMG/abstract_data_type5.jpg)\n",
    "\n",
    "5)인덱스 0까지 비교를 마쳤으므로 프로그램을 종료"
   ]
  },
  {
   "cell_type": "code",
   "execution_count": 30,
   "id": "af13d0cc",
   "metadata": {},
   "outputs": [
    {
     "name": "stdout",
     "output_type": "stream",
     "text": [
      "0\n",
      "\n",
      "0\n",
      "False\n",
      "\n",
      "3\n",
      "False\n",
      "1\n",
      "6\n",
      "False\n"
     ]
    }
   ],
   "source": [
    "#and, or 연산자\n",
    "#and 연산자\n",
    "#A and B \n",
    "#and 연산자 앞 뒤에 객체가 참인 경우에만 참을\n",
    "#둘중 하나만 참인경우,혹은 둘다 거짓인 경우에는 거짓을 리턴\n",
    "\n",
    "print((1-1) and True) \n",
    "#이미 앞이 거짓이므로 0객체 반환\n",
    "\n",
    "#파이썬 and 연산자 프로세스\n",
    "#and 연산자 앞에 객체가 참인지 거짓인지 확인\n",
    "#만약 A가 거짓을 뜻하는 객체이면, B는 연산자 입장에서 중요하지 않음\n",
    "#A가 이미 거짓이기 때문에, and연산자의 결과는 거짓\n",
    "#이때, False객체를 새로 만들지 않고, 그냥 A를 리턴\n",
    "print('' and True)\n",
    "print(0 and True)\n",
    "print(False and True)\n",
    "\n",
    "#앞에 결과가 참인 경우도 동일\n",
    "#A가 참이라면 연산의 결과는 B에 달려있음\n",
    "#B가 참이면 A and B 연산의 결과는 참이고, B가 거짓이라면 A and B연산의 결과는 거짓\n",
    "#파이썬은 그냥 B를 리턴\n",
    "print(True and '')\n",
    "print(True and 1+2+3*0)\n",
    "print(True and False)\n",
    "\n",
    "#or연산자\n",
    "#둘중 하나만 참이라도 참을 리턴해주는 연산\n",
    "#표현식 1 or 표현식 2\n",
    "#표현식 1이 참이라면 뒤에 표현식은 신경쓰지 않고, 표현식 1리턴\n",
    "print(1 or '')\n",
    "\n",
    "#만약 표현식1이 거짓이라면 or연산자는 표현식2는 신경도 쓰지않고 표현식 2의 곗ㄴ결과 리턴\n",
    "print(0 or 1+2+3)\n",
    "print(False or 'False')\n"
   ]
  },
  {
   "cell_type": "code",
   "execution_count": 11,
   "id": "eaf6e4ac",
   "metadata": {},
   "outputs": [
    {
     "name": "stdout",
     "output_type": "stream",
     "text": [
      "테스트 통과\n"
     ]
    }
   ],
   "source": [
    "class Heapify(object):\n",
    "    def __init__(self, data=None):\n",
    "        self.data= data or []\n",
    "        for i in range(len(data)//2, -1, -1):\n",
    "            self.__max_heapify__(i)\n",
    "            \n",
    "    def __repr__(self):\n",
    "        return repr(self.data)\n",
    "    \n",
    "    def parent(self, i):\n",
    "        if i& 1:\n",
    "            #비트 연산자\n",
    "            #비트 위치를 이동시키는 시프트 연산자\n",
    "            #오른쪽으로 1을 이동시킬 공간이 없으면 1을 사라짐\n",
    "            return i>>1\n",
    "        else:\n",
    "            return (i>>1)-1\n",
    "        \n",
    "    def left_child(self, i):\n",
    "        return (i<<1)+1\n",
    "    \n",
    "    def right_child(self, i):\n",
    "        return (i<<1)+2\n",
    "    \n",
    "    def __max_heapify__(self, i):\n",
    "        largest= i #현재 노드\n",
    "        left= self.left_child(i)\n",
    "        right= self.right_child(i)\n",
    "        n= len(self.data)\n",
    "        \n",
    "        #왼쪽 자식\n",
    "        \n",
    "        largest= (left<n and self.data[left]>self.data[i]) and left or i\n",
    "        #오른쪽 자식\n",
    "        largest= (right<n and self.data[right]>self.data[largest]) and right or largest\n",
    "        \n",
    "        #현재 노드가 자식들보다 크다면 skip, 자식이 크다면 swap\n",
    "        if i is not largest:\n",
    "            self.data[i], self.data[largest]= self.data[largest], self.data[i]\n",
    "            \n",
    "            #print(self.data)\n",
    "            self.__max_heapify__(largest)\n",
    "    \n",
    "    #최대 힙에서 최댓값 추출 및 삭제 과정\n",
    "    def extract_max(self):\n",
    "        n= len(self.data)\n",
    "        max_element= self.data[0]\n",
    "        #첫 번째 노드에 마지막 노드를 삽입\n",
    "        self.data[0]= self.data[n-1]\n",
    "        self.data= self.data[:n -1]\n",
    "        self.__max_heapify__(0)\n",
    "        return max_element\n",
    "    \n",
    "    def insert(self, item):\n",
    "        i= len(self.data)\n",
    "        self.data.append(item)\n",
    "        while(i!=0) and item>self.data[self.parent(i)]:\n",
    "            print(self.data)\n",
    "            self.data[i]= self.data[self.parent(i)]\n",
    "            i= self.parent(i)\n",
    "        self.data[i]= item\n",
    "        \n",
    "def test_heapify():\n",
    "    l1= [3, 2, 5, 1, 7, 8 ,2]\n",
    "    h= Heapify(l1)\n",
    "    assert(h.extract_max()== 8)\n",
    "    print('테스트 통과')\n",
    "        \n",
    "if __name__== '__main__':\n",
    "    test_heapify()"
   ]
  },
  {
   "cell_type": "markdown",
   "id": "7d6aa0e0",
   "metadata": {},
   "source": [
    "<h3>우선순위 큐 구현</h3>\n",
    "heapq 모듈을 사용하여 우선순위 큐 클래스 구현<br>\n",
    "숫자가 클수록 우선순위가 높음"
   ]
  },
  {
   "cell_type": "code",
   "execution_count": 32,
   "id": "c1ec152c",
   "metadata": {},
   "outputs": [
    {
     "name": "stdout",
     "output_type": "stream",
     "text": [
      "테스트 통과!\n"
     ]
    }
   ],
   "source": [
    "import heapq\n",
    "\n",
    "class PriorityQueue(object):\n",
    "    def __init__(self):\n",
    "        self._queue= []\n",
    "        self._index= 0\n",
    "        \n",
    "    def push(self, item, priority):\n",
    "        heapq.heappush(self._queue, (-priority, self._index, item))\n",
    "        self._index+= 1\n",
    "        \n",
    "    def pop(self):\n",
    "        #tuple에서 제일 오른쪽에 있는 요소 \n",
    "        return heapq.heappop(self._queue)[-1]\n",
    "    \n",
    "class Item:\n",
    "    def __init__(self, name):\n",
    "        self.name= name\n",
    "    \n",
    "    def __repr__(self):\n",
    "        return 'Item({0!r})'.format(self.name)\n",
    "    \n",
    "def test_priority_queue():\n",
    "    '''push와 pop은 모두 O(logN)이다'''\n",
    "    q= PriorityQueue()\n",
    "    q.push(Item('test1'), 1)\n",
    "    q.push(Item('test2'), 4)\n",
    "    q.push(Item('test3'), 3)\n",
    "    assert(str(q.pop())== \"Item('test2')\")\n",
    "    print('테스트 통과!')\n",
    "\n",
    "if __name__== '__main__':\n",
    "    test_priority_queue()"
   ]
  },
  {
   "cell_type": "code",
   "execution_count": 4,
   "id": "77b8c081",
   "metadata": {},
   "outputs": [
    {
     "name": "stdout",
     "output_type": "stream",
     "text": [
      "Eric Idle is 74.\n",
      "Eric Idle is 74. Surprise!\n",
      "Eric Idle is 74.\n",
      "Eric Idle is 74. Surprise!\n",
      "Eric Idle is 74.\n",
      "Eric Idle is 74. Surprise!\n"
     ]
    }
   ],
   "source": [
    "#객체의 __str__과 __repr__을 다양한 방식으로 문자열로 출력하는 예제\n",
    "class Comedian:\n",
    "    def __init__(self, first_name, last_name, age):\n",
    "        self.first_name = first_name\n",
    "        self.last_name = last_name\n",
    "        self.age = age\n",
    "\n",
    "    def __str__(self):\n",
    "        return f\"{self.first_name} {self.last_name} is {self.age}.\"\n",
    "\n",
    "    def __repr__(self):\n",
    "        return f\"{self.first_name} {self.last_name} is {self.age}. Surprise!\"\n",
    "\n",
    "new_comedian = Comedian(\"Eric\", \"Idle\", \"74\")\n",
    "print(\"%s\" % (new_comedian))\n",
    "print(\"%r\" % (new_comedian))\n",
    "\n",
    "print(\"{0!s}\".format(new_comedian))\n",
    "print(\"{0!r}\".format(new_comedian))\n",
    "\n",
    "print(f'{new_comedian}')\n",
    "print(f'{new_comedian!r}') "
   ]
  },
  {
   "cell_type": "code",
   "execution_count": null,
   "id": "c213da16",
   "metadata": {},
   "outputs": [],
   "source": []
  }
 ],
 "metadata": {
  "kernelspec": {
   "display_name": "Python 3 (ipykernel)",
   "language": "python",
   "name": "python3"
  },
  "language_info": {
   "codemirror_mode": {
    "name": "ipython",
    "version": 3
   },
   "file_extension": ".py",
   "mimetype": "text/x-python",
   "name": "python",
   "nbconvert_exporter": "python",
   "pygments_lexer": "ipython3",
   "version": "3.9.7"
  }
 },
 "nbformat": 4,
 "nbformat_minor": 5
}
