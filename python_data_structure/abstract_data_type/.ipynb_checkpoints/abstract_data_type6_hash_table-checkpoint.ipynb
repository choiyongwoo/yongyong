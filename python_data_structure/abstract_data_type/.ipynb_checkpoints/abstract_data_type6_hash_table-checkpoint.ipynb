{
 "cells": [
  {
   "cell_type": "markdown",
   "id": "a1e73f34",
   "metadata": {},
   "source": [
    "<h2>해시 테이블</h2>\n",
    "해시 테이블은 키를 값에 연결하여, 하나의 키가 0 또는 1개의 값과 연관\n",
    "\n",
    "![](IMG/hash_table1.png)\n",
    "\n",
    "각 키는 해시 함수를 계산할 수 있어야 함<br>\n",
    "해시 테이블은 해시 버킷의 배열로 구성<br>\n",
    "예를 들어 해시 값이 42 이고 5개의 버킷이 있는경우 나머지 연산을 사용하여, 버킷2(=42 mod 5)에 매핑<br><br>\n",
    "두 개의 키가 동일한 버킷에 해시될 때, 문제가 발생, 이를 해시 충돌이라고 함<br>\n",
    "이를 처리하는 한가지 방법은, 각 버킷에 대해 키-값 쌍의 연결리스트를 저장하는 것<br><br>\n",
    "해시 테이블의 조회, 삽입, 삭제의 시간복잡도는 O(1)<br>\n",
    "최악의 경우 각 키가 동일한 버킷으로 해시된다면(해시 충돌이 발생한다면), 각 작업의 시간 복잡도는 O(n)<br><br>\n",
    "Hash: 임의 값을 고정 길이로 변환<br>\n",
    "Hash Table: 키값의 연산에 의해 직접 접근이 가능한 데이터 구조<br>\n",
    "Hashing Function: key에 대해 산술 연산을 이용해 데이터 위치를 찾을 수 있는 함수<br>\n",
    "Hash value 또는 Hash address: key를 해싱 함수로 연산해서 해쉬 값을 알ㄹ아내고, 이를 기반으로 해쉬 테이블에서 해당 key에 대한 데이터 위치를 일관성 있게 찾을 수 있음<br>\n",
    "slot: 한 개의 데이터를 저장할 수 있는 공간<br>\n",
    "저장할 데이터에 대해 key를 추출할 수 있는 별도 함수도 존재할 수 있음"
   ]
  },
  {
   "cell_type": "code",
   "execution_count": 7,
   "id": "c2771c20",
   "metadata": {},
   "outputs": [
    {
     "name": "stdout",
     "output_type": "stream",
     "text": [
      "[0, 1, 2, 3, 4, 5, 6, 7, 8, 9]\n",
      "115 108\n",
      "98 76\n",
      "0\n",
      "3\n",
      "3\n",
      "1\n",
      "01043809999\n"
     ]
    }
   ],
   "source": [
    "#간단한 hash table\n",
    "hash_table= list([i for i in range(10)])\n",
    "print(hash_table)\n",
    "\n",
    "#간단한 해쉬 함수 만들기\n",
    "def hash_func(key):\n",
    "    return key%5\n",
    "\n",
    "#해쉬 테이블에 저장하기\n",
    "data1= 'seunghye'\n",
    "data2= 'lee'\n",
    "data3= 'biscoff'\n",
    "data4= 'Lotus'\n",
    "\n",
    "#ord(): 문자의 ASCII(아스키)코드 리턴\n",
    "print(ord(data1[0]), ord(data2[0]))\n",
    "print(ord(data3[0]), ord(data4[0]))\n",
    "print(hash_func(ord(data1[0])))\n",
    "print(hash_func(ord(data2[0])))\n",
    "print(hash_func(ord(data3[0])))\n",
    "print(hash_func(ord(data4[0])))\n",
    "\n",
    "#해쉬 테이블 값 저장\n",
    "def storage_data(data, value):\n",
    "    key= ord(data[0])\n",
    "    hash_address= hash_func(key)\n",
    "    hash_table[hash_address]= value\n",
    "    \n",
    "storage_data('seunghye', '01043809999')\n",
    "storage_data('cy', '01045006622')\n",
    "\n",
    "#데이터 읽기\n",
    "def get_data(data):\n",
    "    key= ord(data[0])\n",
    "    hash_address= hash_func(key)\n",
    "    print(hash_table[hash_address])\n",
    "    \n",
    "get_data('seunghye')"
   ]
  },
  {
   "cell_type": "markdown",
   "id": "b9728b87",
   "metadata": {},
   "source": [
    "<h3>해쉬 테이블 장단점</h3>\n",
    "장점: 데이터 저장/읽기 속도가 빠름<br>\n",
    "해쉬는 키에 대한 데이터가 있는지 확인 쉬움<br><br>\n",
    "단점: 일반적으로 저장공간이 좀 더 많이 필요<br>\n",
    "여러 키에 해당하는 주소가 동일할 경우, 충돌을 해결하기 위한 별도의 자료구조가 필요함"
   ]
  },
  {
   "cell_type": "code",
   "execution_count": 4,
   "id": "bcd15a3a",
   "metadata": {},
   "outputs": [
    {
     "name": "stdout",
     "output_type": "stream",
     "text": [
      "슬롯(slot) 0\n",
      "0 3 6 9 12 15 18 \n",
      "슬롯(slot) 1\n",
      "1 4 7 10 13 16 19 \n",
      "슬롯(slot) 2\n",
      "2 5 8 11 14 17 \n",
      "\n",
      "항목 0, 1, 2를 삭제\n",
      "슬롯(slot) 0\n",
      "3 6 9 12 15 18 \n",
      "슬롯(slot) 1\n",
      "4 7 10 13 16 19 \n",
      "슬롯(slot) 2\n",
      "5 8 11 14 17 \n"
     ]
    }
   ],
   "source": [
    "#해시 테이블 구현\n",
    "#chaining 방식은 LinkedList를 이용하는 방법으로 저장하려 해시테이블에\n",
    "#같은 키값의 데이터가 있다면, 노드를 추가하여 다음 노드를 가르키는 방식으로 구현\n",
    "\n",
    "from LinkedListFIFO import LinkedListFIFO\n",
    "\n",
    "class HashTableLL(LinkedListFIFO):\n",
    "    #LinkedList 객체가 각 슬롯에 하나씩 들어감\n",
    "    def __init__(self, size):\n",
    "        self.size= size\n",
    "        self.slots= []\n",
    "        self._createHashTable()\n",
    "        \n",
    "    def _createHashTable(self):\n",
    "        for i in range(self.size):\n",
    "            self.slots.append(LinkedListFIFO())\n",
    "            \n",
    "    def _find(self, item):\n",
    "        return item% self.size\n",
    "    \n",
    "    def _add(self, item):\n",
    "        index= self._find(item)\n",
    "        self.slots[index].addNode(item)\n",
    "        \n",
    "    def _delete(self, item):\n",
    "        index= self._find(item)\n",
    "        self.slots[index].deleteNodeByValue(item)\n",
    "        \n",
    "    def _print(self):\n",
    "        for i in range(self.size):\n",
    "            print('슬롯(slot) {0}'.format(i))\n",
    "            self.slots[i]._printList()\n",
    "            \n",
    "def test_hash_tables():\n",
    "    H1= HashTableLL(3)\n",
    "    for i in range(0, 20):\n",
    "        H1._add(i)\n",
    "    H1._print()\n",
    "    #값이 0, 1, 2인 노드를 삭제\n",
    "    print('\\n항목 0, 1, 2를 삭제')\n",
    "    H1._delete(0)\n",
    "    H1._delete(1)\n",
    "    H1._delete(2)\n",
    "    H1._print()\n",
    "    \n",
    "if __name__== '__main__':\n",
    "    test_hash_tables()"
   ]
  },
  {
   "cell_type": "code",
   "execution_count": null,
   "id": "c31b6dfc",
   "metadata": {},
   "outputs": [],
   "source": []
  }
 ],
 "metadata": {
  "kernelspec": {
   "display_name": "Python 3 (ipykernel)",
   "language": "python",
   "name": "python3"
  },
  "language_info": {
   "codemirror_mode": {
    "name": "ipython",
    "version": 3
   },
   "file_extension": ".py",
   "mimetype": "text/x-python",
   "name": "python",
   "nbconvert_exporter": "python",
   "pygments_lexer": "ipython3",
   "version": "3.9.7"
  }
 },
 "nbformat": 4,
 "nbformat_minor": 5
}
