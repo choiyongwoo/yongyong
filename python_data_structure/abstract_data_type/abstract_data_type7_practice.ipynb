{
 "cells": [
  {
   "cell_type": "code",
   "execution_count": 1,
   "id": "4bb5c85f",
   "metadata": {},
   "outputs": [
    {
     "name": "stdout",
     "output_type": "stream",
     "text": [
      "버피는 천사다\n",
      "다사천 는피버\n"
     ]
    }
   ],
   "source": [
    "#스택\n",
    "#문자열 반전\n",
    "from stack1 import Stack\n",
    "\n",
    "def reverse_string_with_stack(str1):\n",
    "    s= Stack()\n",
    "    revStr= ''\n",
    "    \n",
    "    for c in str1:\n",
    "        s.push(c)\n",
    "        \n",
    "    while not s.isEmpty():\n",
    "        revStr+= s.pop()\n",
    "        \n",
    "    return revStr\n",
    "\n",
    "if __name__== '__main__':\n",
    "    str1= '버피는 천사다'\n",
    "    print(str1)\n",
    "    print(reverse_string_with_stack(str1))"
   ]
  },
  {
   "cell_type": "code",
   "execution_count": 12,
   "id": "83c960be",
   "metadata": {},
   "outputs": [
    {
     "name": "stdout",
     "output_type": "stream",
     "text": [
      "True\n",
      "False\n",
      "False\n"
     ]
    }
   ],
   "source": [
    "#괄호의 짝 확인하기\n",
    "#스택을 사용하여 괄호의 균형이 맞는지 확인\n",
    "from stack1 import Stack\n",
    "\n",
    "def balance_par_str_with_stack(str1):\n",
    "    s= Stack()\n",
    "    balanced= True\n",
    "    symbol1= 0\n",
    "    symbol2= 0\n",
    "    for c in str1:\n",
    "        s.push(c)\n",
    "        if c== '(':\n",
    "            symbol1+= 1\n",
    "    \n",
    "    while not s.isEmpty():\n",
    "        if s.pop()== ')':\n",
    "            symbol2+= 1\n",
    "    \n",
    "    if symbol1!=symbol2:\n",
    "        balanced= False\n",
    "    return balanced\n",
    "\n",
    "if __name__== '__main__':\n",
    "    print(balance_par_str_with_stack('((()))'))\n",
    "    print(balance_par_str_with_stack('(()'))\n",
    "    print(balance_par_str_with_stack('(a'))"
   ]
  },
  {
   "cell_type": "code",
   "execution_count": null,
   "id": "871a9881",
   "metadata": {},
   "outputs": [],
   "source": []
  }
 ],
 "metadata": {
  "kernelspec": {
   "display_name": "Python 3 (ipykernel)",
   "language": "python",
   "name": "python3"
  },
  "language_info": {
   "codemirror_mode": {
    "name": "ipython",
    "version": 3
   },
   "file_extension": ".py",
   "mimetype": "text/x-python",
   "name": "python",
   "nbconvert_exporter": "python",
   "pygments_lexer": "ipython3",
   "version": "3.9.7"
  }
 },
 "nbformat": 4,
 "nbformat_minor": 5
}
