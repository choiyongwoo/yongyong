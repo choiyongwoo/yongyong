{
 "cells": [
  {
   "cell_type": "markdown",
   "id": "3be8c4e7",
   "metadata": {},
   "source": [
    "<h2>추상 데이터 타입</h2>\n",
    "추상 데이터 타입은 유사한 동작을 가진 자료구조의 클래스에 대한 수학적모델을 가리킴<br>\n",
    "많은 추상 데이터 타입은 각기 클래스는 다르지만 기능적으로는 동일하게 구현된 자료구조를 가질 수 있음<br><br>\n",
    "\n",
    "자료구조는 크게 배열 기반의 연속 방식과 포인터 기반의 연결 방식으로 분류<br>\n",
    "예를 들어 파이썬에서 연속적으로 할당된 자료구조는 문자열, 리스트, 튜플, 딕셔너리 등이 있음"
   ]
  },
  {
   "cell_type": "markdown",
   "id": "02a23a91",
   "metadata": {},
   "source": [
    "<h2>스택</h2>\n",
    "스택은 배열의 끝에서만 데이터를 접근할 수 있는 선형 자료구조<br>\n",
    "스택은 배열 인덱스 접근이 제한되며, 후입선출 구조<br>\n",
    "ex)책상위에 쌓여있는 책<br>\n",
    "스택의 동작은 다음과 같으며, 시간복잡도는 모두 O(1)<br><br>\n",
    "\n",
    "push: 스택 맨끝(맨 위)에 항목을 삽입<br>\n",
    "pop: 스택 맨 끝 항목을 반환하는 동시에 제거<br>\n",
    "top/peek: 스택 맨 끝 항목을 조회<br>\n",
    "empty: 스택이 비어 있는지 확인<br>\n",
    "size: 스택 크기를 확인"
   ]
  },
  {
   "cell_type": "code",
   "execution_count": 7,
   "id": "c545d49a",
   "metadata": {},
   "outputs": [
    {
     "name": "stdout",
     "output_type": "stream",
     "text": [
      "스택이 비었나요? True\n",
      "스택에 숫자 0~9추가\n",
      "스택 크기:10\n",
      "peek: 9\n",
      "pop: 9\n",
      "peek: 8\n",
      "스택이 비었나요?False\n",
      "[0, 1, 2, 3, 4, 5, 6, 7, 8]\n",
      "[0, 1, 2, 3, 4, 5, 6, 7, 8]\n"
     ]
    }
   ],
   "source": [
    "#리스트의 append()와 pop()메서드로 스택 구현\n",
    "class Stack(object):\n",
    "    def __init__(self):\n",
    "        self.items= []\n",
    "        \n",
    "    def isEmpty(self):\n",
    "        #self.items가 빈 리스트이면 True반환\n",
    "        return not bool(self.items)\n",
    "    \n",
    "    def push(self, value):\n",
    "        self.items.append(value)\n",
    "        \n",
    "    def pop(self):\n",
    "        value= self.items.pop()\n",
    "        if value is not None:\n",
    "            return value\n",
    "        else:\n",
    "            print('stack is empty')\n",
    "            \n",
    "    def size(self):\n",
    "        return len(self.items)\n",
    "    \n",
    "    def peek(self):\n",
    "        if self.items:\n",
    "            return self.items[-1]\n",
    "        else:\n",
    "            print('stack is empty')\n",
    "            \n",
    "    def __repr__(self):\n",
    "        return repr(self.items)\n",
    "    \n",
    "if __name__== '__main__':\n",
    "    stack= Stack()\n",
    "    print('스택이 비었나요? {0}'.format(stack.isEmpty()))\n",
    "    print('스택에 숫자 0~9추가')\n",
    "    for i in range(10):\n",
    "        stack.push(i)\n",
    "    print('스택 크기:{0}'.format(stack.size()))\n",
    "    print('peek: {0}'.format(stack.peek()))\n",
    "    print('pop: {0}'.format(stack.pop()))\n",
    "    print('peek: {0}'.format(stack.peek()))\n",
    "    print('스택이 비었나요?{0}'.format(stack.isEmpty()))\n",
    "    print(stack)\n",
    "    print(repr(stack))"
   ]
  },
  {
   "cell_type": "markdown",
   "id": "ac0a9575",
   "metadata": {},
   "source": [
    "어떤 객체에 str, repr 등등 함수를 씌우면 해당 객체에 클래스에 내장 되어있는 __str__, __repr__ 메서드가 해당 객체에 실행되고 두 메서드에 있는 코드를 실행<br>\n",
    "다시말해 str, repr함수가 인스턴스의 __str__, __repr__ 메서드를 각각 호출한다고 이해할 수 있음<br>\n",
    "클래스를 수정하지 않았다면 __repr__은 객체를 문자열로 반환함"
   ]
  },
  {
   "cell_type": "code",
   "execution_count": 9,
   "id": "7389b137",
   "metadata": {},
   "outputs": [
    {
     "name": "stdout",
     "output_type": "stream",
     "text": [
      "스택이 비었나요? True\n",
      "스택에 숫자 0~9추가\n",
      "9 8 7 6 5 4 3 2 1 0 \n",
      "스택 크기:10\n",
      "peek: 9\n",
      "pop: 9\n",
      "peek: 8\n",
      "스택이 비었나요?False\n",
      "8 7 6 5 4 3 2 1 0 \n"
     ]
    }
   ],
   "source": [
    "#노드(객체)의 컨테이너로 스택을 구현\n",
    "class Node(object):\n",
    "    def __init__(self, value=None, pointer=None):\n",
    "        self.value= value\n",
    "        self.pointer= pointer\n",
    "        \n",
    "class Stack(object):\n",
    "    def __init__(self):\n",
    "        self.head= None\n",
    "        self.count= 0\n",
    "        \n",
    "    def isEmpty(self):\n",
    "        return not bool(self.head)\n",
    "    \n",
    "    def push(self, item):\n",
    "        self.head= Node(item, self.head)\n",
    "        self.count+= 1\n",
    "        \n",
    "    def pop(self):\n",
    "        if self.count>0 and self.head:\n",
    "            node= self.head\n",
    "            self.head= node.pointer\n",
    "            self.count -=1\n",
    "            return node.value\n",
    "        else:\n",
    "            print('stack is empty')\n",
    "            \n",
    "    def peek(self):\n",
    "        if self.count>0 and self.head:\n",
    "            return self.head.value\n",
    "        else:\n",
    "            print('stack is empty')\n",
    "            \n",
    "    def size(self):\n",
    "        return self.count\n",
    "    \n",
    "    def _printList(self):\n",
    "        node= self.head\n",
    "        while node:\n",
    "            print(node.value, end=' ')\n",
    "            node= node.pointer\n",
    "        print()\n",
    "        \n",
    "if __name__== '__main__':\n",
    "    stack= Stack()\n",
    "    print('스택이 비었나요? {0}'.format(stack.isEmpty()))\n",
    "    print('스택에 숫자 0~9추가')\n",
    "    for i in range(10):\n",
    "        stack.push(i)\n",
    "    stack._printList()\n",
    "    print('스택 크기:{0}'.format(stack.size()))\n",
    "    print('peek: {0}'.format(stack.peek()))\n",
    "    print('pop: {0}'.format(stack.pop()))\n",
    "    print('peek: {0}'.format(stack.peek()))\n",
    "    print('스택이 비었나요?{0}'.format(stack.isEmpty()))\n",
    "    stack._printList()\n",
    "    \n",
    "#스택은 깊이 우선 탐색에서 유용하게 사용"
   ]
  },
  {
   "cell_type": "code",
   "execution_count": null,
   "id": "26b45ed2",
   "metadata": {},
   "outputs": [],
   "source": []
  }
 ],
 "metadata": {
  "kernelspec": {
   "display_name": "Python 3 (ipykernel)",
   "language": "python",
   "name": "python3"
  },
  "language_info": {
   "codemirror_mode": {
    "name": "ipython",
    "version": 3
   },
   "file_extension": ".py",
   "mimetype": "text/x-python",
   "name": "python",
   "nbconvert_exporter": "python",
   "pygments_lexer": "ipython3",
   "version": "3.9.7"
  },
  "toc": {
   "base_numbering": 1,
   "nav_menu": {},
   "number_sections": true,
   "sideBar": true,
   "skip_h1_title": false,
   "title_cell": "Table of Contents",
   "title_sidebar": "Contents",
   "toc_cell": false,
   "toc_position": {},
   "toc_section_display": true,
   "toc_window_display": false
  },
  "varInspector": {
   "cols": {
    "lenName": 16,
    "lenType": 16,
    "lenVar": 40
   },
   "kernels_config": {
    "python": {
     "delete_cmd_postfix": "",
     "delete_cmd_prefix": "del ",
     "library": "var_list.py",
     "varRefreshCmd": "print(var_dic_list())"
    },
    "r": {
     "delete_cmd_postfix": ") ",
     "delete_cmd_prefix": "rm(",
     "library": "var_list.r",
     "varRefreshCmd": "cat(var_dic_list()) "
    }
   },
   "types_to_exclude": [
    "module",
    "function",
    "builtin_function_or_method",
    "instance",
    "_Feature"
   ],
   "window_display": false
  }
 },
 "nbformat": 4,
 "nbformat_minor": 5
}
