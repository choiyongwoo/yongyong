{
 "cells": [
  {
   "cell_type": "markdown",
   "id": "b2d6a1f6",
   "metadata": {},
   "source": [
    "<h2>이진 탐색 트리</h2>\n",
    "이진 탐색 트리는 노드를 정렬된 순서로 유지하는 자료구조<br>\n",
    "이진 트리로 이루어지며, 각 노드에는 값과 두 자식 노드에 대한 포인터가 있음<br>\n",
    "선택적으로, 부모 노드의 포인터를 저장할 수도 있음<br>\n",
    "각 노드의 값은 왼쪽 하위 트리의 모든 항목보다 크고, 오른쪽 하위 트리의 모든 항목보다 작음<br>\n",
    "-노드의 왼쪽 하위 트리에는 노드의 값보다 작은 값의 노드만 존재<br>\n",
    "-노드의 오른쪽 하위 트리에는 노드의 값보다 큰 값의 노드만 존재<br>\n",
    "-왼쪽과 오른쪽 하위 트리 모두 이진 탐색 트리<br>\n",
    "-중복 노드가 없어야 함<br>\n",
    "이진 탐색 트리가 균형 트리인 경우 노드 검색/삽입/삭제에 대한 시간 복잡도는 O(log n)\n",
    "\n"
   ]
  },
  {
   "cell_type": "markdown",
   "id": "05526111",
   "metadata": {},
   "source": [
    "<h3>이진 탐색 트리 구현</h3>"
   ]
  },
  {
   "cell_type": "raw",
   "id": "3e5796e4",
   "metadata": {},
   "source": [
    "다음 그림의 이진 탐색 트리를 구현\n",
    "                    6          --->레벨 1\n",
    "             4            8    --->레벨 2\n",
    "        2       5     7       9--->레벨 3\n",
    "     1     3                   --->레벨 4             \n",
    "속성은 다음과 같음\n",
    "-노드의 개수: n=9\n",
    "-분기(또는 내부 노드수): b=n-1=8\n",
    "-루트 노드:6\n",
    "-최대 깊이 또는 높이: h=3\n",
    "-균형 트리?: True\n",
    "-이진 탐색 트리?: "
   ]
  },
  {
   "cell_type": "code",
   "execution_count": 3,
   "id": "d23b7b28",
   "metadata": {},
   "outputs": [
    {
     "name": "stdout",
     "output_type": "stream",
     "text": [
      "노드 8은 말단 노드입니까? False\n",
      "노드 8의 레벨은? 2\n",
      "노드 10은 루트 노드입니까? False\n",
      "노드 1은 루트 노드입니끼? False\n",
      "트리의 높이는? 3\n",
      "이진 탐색 트리입니까? True\n",
      "1\n",
      "1\n",
      "2\n",
      "1\n",
      "3\n",
      "1\n",
      "1\n",
      "2\n",
      "4\n",
      "균형 트리입니까? True\n"
     ]
    }
   ],
   "source": [
    "from binary_tree import NodeBT, BinaryTree\n",
    "\n",
    "class NodeBST(NodeBT):\n",
    "    \n",
    "    def __init__(self, value=None, level=1):\n",
    "        self.value= value\n",
    "        self.level= level\n",
    "        self.left= None\n",
    "        self.right= None\n",
    "        \n",
    "    def _add_next_node(self, value, level_here=2):\n",
    "        new_node= NodeBST(value, level_here)\n",
    "        if value>self.value:\n",
    "            self.right= self.right and self.right._add_next_node(value, level_here+1) or new_node\n",
    "        elif value<self.value:\n",
    "            self.left= self.left and self.left._add_next_node(value, level_here+1) or new_node\n",
    "        else:\n",
    "            print('중복 노드를 허용하지 않음')\n",
    "        return self\n",
    "    \n",
    "    def _search_for_node(self, value):\n",
    "        if self.value== value:\n",
    "            return self\n",
    "        elif self.left and value<self.value:\n",
    "            return self.left._search_for_node(value)\n",
    "        elif self.right and value>self.value:\n",
    "            return self.right._search_for_node(value)\n",
    "        else:\n",
    "            return False\n",
    "        \n",
    "class BinarySearchTree(BinaryTree):\n",
    "    def __init__(self):\n",
    "        self.root= None\n",
    "        \n",
    "    def add_node(self, value):\n",
    "        if not self.root:\n",
    "            self.root= NodeBST(value)\n",
    "        else:\n",
    "            self.root._add_next_node(value)\n",
    "            \n",
    "if __name__== '__main__':\n",
    "    bst= BinarySearchTree()\n",
    "    for i in [6, 4, 8, 2, 5, 7, 9, 1, 3]:\n",
    "        bst.add_node(i)\n",
    "    print('노드 8은 말단 노드입니까?', bst.is_leaf(8))\n",
    "    print('노드 8의 레벨은?', bst.get_node_level(8))\n",
    "    print('노드 10은 루트 노드입니까?', bst.is_root(10))\n",
    "    print('노드 1은 루트 노드입니끼?', bst.is_root(1))\n",
    "    print('트리의 높이는?', bst.get_height())\n",
    "    print('이진 탐색 트리입니까?', bst.is_bst())\n",
    "    print('균형 트리입니까?', bst.is_balanced())"
   ]
  },
  {
   "cell_type": "code",
   "execution_count": null,
   "id": "f1e752c6",
   "metadata": {},
   "outputs": [],
   "source": []
  }
 ],
 "metadata": {
  "kernelspec": {
   "display_name": "Python 3 (ipykernel)",
   "language": "python",
   "name": "python3"
  },
  "language_info": {
   "codemirror_mode": {
    "name": "ipython",
    "version": 3
   },
   "file_extension": ".py",
   "mimetype": "text/x-python",
   "name": "python",
   "nbconvert_exporter": "python",
   "pygments_lexer": "ipython3",
   "version": "3.9.7"
  }
 },
 "nbformat": 4,
 "nbformat_minor": 5
}
