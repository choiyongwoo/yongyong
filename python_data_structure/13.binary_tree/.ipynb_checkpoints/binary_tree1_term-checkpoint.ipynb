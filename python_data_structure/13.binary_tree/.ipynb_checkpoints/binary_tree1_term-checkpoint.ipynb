{
 "cells": [
  {
   "cell_type": "markdown",
   "id": "c763b6c2",
   "metadata": {},
   "source": [
    "<h1>이진 트리</h1>\n",
    "이진트리는 노드가 최대 두 개의 자식노드를 갖는 자료구조<br>\n",
    "자식 노드는 부모 노드에 대한 참조를 포함할 수 있음<br>\n",
    "트리의 루트노드는 모든 노드의 조상\n"
   ]
  },
  {
   "cell_type": "markdown",
   "id": "990c5780",
   "metadata": {},
   "source": [
    "<h2>용어</h2>\n",
    "노드차수: 자식 수<br>\n",
    "경로: 한 노드에서 다른 노드에 이르는 노드들의 순서<br>\n",
    "경로 길이: 한 노드에서 다른 노드로 가는 간선의 수, 시작 노드와 끝노드가 같다면 경로의 길이는 0<br>\n",
    "형제 노드: 부도가 같은 두 노드<br>\n",
    "외부 노드(말단 노드): 자식이 없는 노드(차수가 0인 노드)<br>\n",
    "내부 노드(가지 노드): 자식이 있는 노드(차수가 0이 아닌 노드)<br>\n",
    "노드 깊이: 루트 노드에서 어떤 노드로 가는 경로의 길이, 루트 노드의 깊이는 0<br>\n",
    "노드 레벨: (루트 노드에서 어떤 노드로 가는 경로의 길이+1), 즉 루트 노드의 레벨은 1<br>\n",
    "노드 높이: 한 노드와 단말 노드 사이의 최대 경로 길이<br>\n",
    "크기: 모든 노드의 수\n",
    "\n",
    "![](IMG/binary_tree1.jpg)\n",
    "\n",
    "루트노드 a의 높이 3은 곧 트리의 높이와도 같음<br><br>\n",
    "\n",
    "이진 트리는 여러 종류가 있는데 포화 이진트리와 완전 이진 트리가 널리 쓰임<br>\n",
    "먼저 포화 이진 트리는 모든 내부 노드가 두개의 자식 노드를 가지며 모든 말단 노드가 같은 깊이 또는 레벨을 가짐<br>\n",
    "\n",
    "![](IMG/binary_tree2.jpg)\n",
    "\n",
    "완전 이진 트리는 마지막 레벨을 제외한 모든 레벨이 완전이 채워져 있고, 마지막 레벨의 모든 말단 노드는 왼쪽에 있음\n",
    "\n",
    "![](IMG/binary_tree3.jpg)\n",
    "\n",
    "이진트리에서 노드 차수는 최대 2<br>\n",
    "트리에 m개의 내부 노드가 있고, 각 내부 노드에 두 개의 자식노드가 있다고 가정하고 트리에 n개의 말단 노드가 있다면, 트리의 차수는 n-1<br>\n",
    "2m= n+m-1 따라서 m=n-1<br>\n",
    "\n",
    "포화 이진트리의 높이와 말단 노드수 관계를 그림으로 나타내면 다음과 같음\n",
    "\n",
    "![](IMG/binary_tree4.jpg)"
   ]
  },
  {
   "cell_type": "code",
   "execution_count": null,
   "id": "fc3de63f",
   "metadata": {},
   "outputs": [],
   "source": []
  }
 ],
 "metadata": {
  "kernelspec": {
   "display_name": "Python 3 (ipykernel)",
   "language": "python",
   "name": "python3"
  },
  "language_info": {
   "codemirror_mode": {
    "name": "ipython",
    "version": 3
   },
   "file_extension": ".py",
   "mimetype": "text/x-python",
   "name": "python",
   "nbconvert_exporter": "python",
   "pygments_lexer": "ipython3",
   "version": "3.9.7"
  }
 },
 "nbformat": 4,
 "nbformat_minor": 5
}
