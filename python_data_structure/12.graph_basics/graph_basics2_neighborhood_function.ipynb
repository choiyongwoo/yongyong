{
 "cells": [
  {
   "cell_type": "markdown",
   "id": "c8849667",
   "metadata": {},
   "source": [
    "<h2>이웃 함수</h2>\n",
    "그래프의 이웃함수 N(V)는 모든 이웃 V의 컨테이너(또는 반복 가능한 객체)<br>\n",
    "그래프의 이웃 함수로 가장 잘 알려진 자료구조는 인접 리스트와 인접 행렬"
   ]
  },
  {
   "cell_type": "markdown",
   "id": "942dc2cf",
   "metadata": {},
   "source": [
    "<h3>인접 리스트</h3>\n",
    "인접 리스트에서는 각 노드에서 이웃 리스트(셋 또는 컨테이너와 같은 반복 가능한 객체)에 접근할 수 있음<br>\n",
    "n개의 노드가 있을 때, 각 노드의 인접 리스트는 단순한 숫자 리스트<br>\n",
    "숫자로 노드에 접근 가능한(인덱싱 가능한) n개의 메인 리스트에 각 노드의 인접리스트를 추가하면 됨<br>\n",
    "인접리스트의 추가순서는 보통 임의적<br>\n",
    "i번째 노드에 연결된 노드들을 원소로 가지는 리스트"
   ]
  },
  {
   "cell_type": "markdown",
   "id": "00756b09",
   "metadata": {},
   "source": [
    "<h4>셋</h4>\n",
    "파이썬에서는 셋을 사용하면 인접 리스트를 구현할 수 있음"
   ]
  },
  {
   "cell_type": "code",
   "execution_count": 3,
   "id": "55cc1fd2",
   "metadata": {},
   "outputs": [
    {
     "name": "stdout",
     "output_type": "stream",
     "text": [
      "True\n",
      "False\n",
      "True\n",
      "4\n"
     ]
    }
   ],
   "source": [
    "a, b, c, d, e, f= range(6) #6개 노드\n",
    "N= [{b, c, d, f}, {a, d, f}, {a, b, d, e}, {a, e}, {a, b, c}, {b, c, d, e}]\n",
    "print(b in N[a]) #멤버십 테스트\n",
    "print(b in N[b]) #멤버십 테스트\n",
    "print(b in N[f])\n",
    "print(len(N[f])) #차수"
   ]
  },
  {
   "cell_type": "markdown",
   "id": "53dccf9e",
   "metadata": {},
   "source": [
    "<h4>리스트</h4>\n",
    "리스트를 사용하여 인접 리스트를 구현할 수도 있음<br>\n",
    "이 경우 모든 노드 V에서 N(V)를 효율적으로 순회할 수 있음<br>\n",
    "셋을 리스트로 바꾸면 멤버십 테스트의 시간복잡도가 O(n)<br>\n",
    "알고리즘을 수행하는 어떤 작업이 이웃 노드를 반복해서 접근하는 경우 리스트를 사용하는게 더 좋음<br>\n",
    "그래프가 촘촘한 경우(간선이 많은 경우)에는 셋을 사용하는 게 더좋음"
   ]
  },
  {
   "cell_type": "code",
   "execution_count": 13,
   "id": "578d5bee",
   "metadata": {},
   "outputs": [
    {
     "name": "stdout",
     "output_type": "stream",
     "text": [
      "True\n",
      "False\n",
      "4\n"
     ]
    }
   ],
   "source": [
    "a, b, c, d, e, f= range(6) #6개 노드\n",
    "N= [[b, c, d, f], [a, d, f], [a, b, d, e], [a, e], [a, b, c], [b, c, d, e]]\n",
    "print(b in N[a]) #멤버십 테스트\n",
    "print(b in N[b]) #멤버십 테스트\n",
    "print(len(N[f])) #차수\n",
    "\n",
    "#파이썬 리스트 중간에서 어떤 한 객체를 삭제하는 시간복잡도는 O(n)이지만, 리시트 끝에서 삭제한다면 O(1)\n",
    "#이웃 노드의 순서가 중요하지 않다면, 삭제하려는 임의의 이웃을 마지막 항목으로 위치를 바꾼다음,\n",
    "#pop()을 호출하여 O(1)에 임의의 이웃을 삭제할 수 있음"
   ]
  },
  {
   "cell_type": "markdown",
   "id": "64950601",
   "metadata": {},
   "source": [
    "<h4>딕셔너리</h4>\n",
    "딕셔너리로 인접 리스트 구현<br>\n",
    "노드가 키가 되고, 각 노드를 간선 가중치 등의 값으로 연결할 수 있음"
   ]
  },
  {
   "cell_type": "code",
   "execution_count": 10,
   "id": "4d0dd691",
   "metadata": {},
   "outputs": [
    {
     "name": "stdout",
     "output_type": "stream",
     "text": [
      "True\n",
      "4\n",
      "2\n"
     ]
    }
   ],
   "source": [
    "a, b, c, d, e, f= range(6) #6개 노드\n",
    "N= [{b:2, c:1, d:4, f:1}, {a:4, d:1, f:4}, {a:1, b:1, d:2, e:4}, {a:3, e:2}, {a:3, b:4, c:1}, {b:1, c:2, d:4, e:3}]\n",
    "print(b in N[a])\n",
    "print(len(N[f])) #차수\n",
    "print(N[a][b]) #(a, b)의 간선 가중치"
   ]
  },
  {
   "cell_type": "code",
   "execution_count": 14,
   "id": "c38d931b",
   "metadata": {},
   "outputs": [
    {
     "name": "stdout",
     "output_type": "stream",
     "text": [
      "True\n",
      "False\n",
      "4\n"
     ]
    }
   ],
   "source": [
    "#딕셔너리의 기본 구조를 활용하면 조금 더 유연하게 인접리스트를 만들 수 있음\n",
    "a, b, c, d, e, f= range(6) #6개 노드\n",
    "N= {'a':set('bcdf'), 'b':set('adf'), 'c':set('abde'), 'd':set('ae'), 'e':set('abc'), 'f':set('bcde')}\n",
    "print('b' in N['a']) #멤버십 테스트\n",
    "print('b' in N['b'])\n",
    "print(len(N['f']))"
   ]
  },
  {
   "cell_type": "markdown",
   "id": "ce2da489",
   "metadata": {},
   "source": [
    "<h3>인접 행렬</h3>\n",
    "인접 행렬은 각 노드의 모든 이웃에 대해 하나의 행을 가짐<br>\n",
    "각 행의 값은 1 or 0으로 이루어짐<br>\n",
    "인접 행렬은 중첩 리스트로 간단하게 구현할 수 있음<br>\n",
    "행렬의 대각선 요소는 항상 0\n",
    "노드 i에서 j로 가는 간선이 있을 경우 1 아니면 0"
   ]
  },
  {
   "cell_type": "code",
   "execution_count": 17,
   "id": "93eb6666",
   "metadata": {},
   "outputs": [
    {
     "name": "stdout",
     "output_type": "stream",
     "text": [
      "1\n",
      "0\n",
      "4\n"
     ]
    }
   ],
   "source": [
    "a, b, c, d, e, f= range(6) #6개 노드\n",
    "N= [[0, 1, 1, 1, 0, 1], [1, 0, 0, 1, 0 ,1], [1, 1, 0, 1, 1, 0], [1, 0, 0, 0, 1, 0], [1, 1, 1, 0, 0, 0], [0, 1, 1, 1, 1, 0]]\n",
    "print(N[a][b])\n",
    "print(N[a][e])\n",
    "print(sum(N[f])) #차수\n"
   ]
  },
  {
   "cell_type": "code",
   "execution_count": 21,
   "id": "8cf6e995",
   "metadata": {},
   "outputs": [
    {
     "name": "stdout",
     "output_type": "stream",
     "text": [
      "2\n",
      "4\n"
     ]
    }
   ],
   "source": [
    "#무향 그래프의 인접 행렬을 항상 대칭\n",
    "#인접 행렬에 가중치를 추가하려면, 1과 0값을 다른 숫자로 바꾸면됨\n",
    "#존재하지 않는 간선은 float('inf'), None, -1, 혹은 매우 큰 값 등으로 나타내면 됨\n",
    "_ = float('inf')\n",
    "N= [[_, 2, 1, 4, _, 1], [4, _, _, 1, _, 4], [1, 1, _, 2, 4, _], [3, _, _, _, 2, _], [3, 4, 1, _, _, _], [1, 2, _, 4, 3, _]]\n",
    "print(N[a][b])\n",
    "print(sum(1 for w in N[f] if w <_)) #차수\n",
    "\n",
    "#인접 행렬에서 간선을 찾는 시간복잡도는 O(1)이며, 어떤 노드의 이웃을 순회는 시간복잡도는 O(n)"
   ]
  },
  {
   "cell_type": "code",
   "execution_count": null,
   "id": "9f046798",
   "metadata": {},
   "outputs": [],
   "source": []
  }
 ],
 "metadata": {
  "kernelspec": {
   "display_name": "Python 3 (ipykernel)",
   "language": "python",
   "name": "python3"
  },
  "language_info": {
   "codemirror_mode": {
    "name": "ipython",
    "version": 3
   },
   "file_extension": ".py",
   "mimetype": "text/x-python",
   "name": "python",
   "nbconvert_exporter": "python",
   "pygments_lexer": "ipython3",
   "version": "3.9.7"
  }
 },
 "nbformat": 4,
 "nbformat_minor": 5
}
