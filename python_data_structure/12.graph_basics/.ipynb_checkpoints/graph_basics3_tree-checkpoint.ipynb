{
 "cells": [
  {
   "cell_type": "markdown",
   "id": "8de64ab5",
   "metadata": {},
   "source": [
    "<h2>트리와의 연결점</h2>\n",
    "그래프에서 어떤 노드는 다른 노드에 의해 다중 참조될 수 있음<br>\n",
    "하지만 트리에서 각 노드는 최대 하나의 부모 노드에 의해서만 참조됨<br>\n",
    "루트노드는 부모가 없는 노드<br>\n",
    "부모 노드를 참조하는 노드는 자식 노드<br>"
   ]
  },
  {
   "cell_type": "markdown",
   "id": "0fb0c48c",
   "metadata": {},
   "source": [
    "<h3>트리 구현하기</h3>\n",
    "트리를 구현하는 가장 간단한 방법은 리스트 사용"
   ]
  },
  {
   "cell_type": "code",
   "execution_count": 3,
   "id": "9e8ba42f",
   "metadata": {},
   "outputs": [
    {
     "name": "stdout",
     "output_type": "stream",
     "text": [
      "a\n",
      "b\n",
      "d\n",
      "f\n",
      "c\n",
      "g\n"
     ]
    }
   ],
   "source": [
    "T= ['a', ['b', ['d', 'f']], ['c', ['e', 'g']]]\n",
    "print(T[0])\n",
    "print(T[1][0])\n",
    "print(T[1][1][0])\n",
    "print(T[1][1][1])\n",
    "print(T[2][0])\n",
    "print(T[2][1][1])\n",
    "\n",
    "#이 코드에서는 두 개 이상의 가지를 추가하면 트리를 다루기가 매우 불편함\n",
    "#따라서 트리를 클래스로 정의하는 것이 좋음"
   ]
  },
  {
   "cell_type": "code",
   "execution_count": 6,
   "id": "819418c7",
   "metadata": {},
   "outputs": [
    {
     "name": "stdout",
     "output_type": "stream",
     "text": [
      "'a'\n",
      "\t'b'\n",
      "\t\t'd'\n",
      "\t\t'e'\n",
      "\t'c'\n",
      "\t\t'h'\n",
      "\t\t'g'\n",
      "\n"
     ]
    }
   ],
   "source": [
    "class SimpleTree(object):\n",
    "    def __init__(self, value=None, children=None):\n",
    "        self.value= value\n",
    "        self.children= children\n",
    "        if self.children is None:\n",
    "            self.children= []\n",
    "    \n",
    "    def __repr__(self, level=0):\n",
    "        ret= '\\t'*level+ repr(self.value)+'\\n'\n",
    "        for child in self.children:\n",
    "            ret+= child.__repr__(level+1)\n",
    "        return ret\n",
    "    \n",
    "def main():\n",
    "    st= SimpleTree('a', [SimpleTree('b', [\n",
    "        SimpleTree('d'), SimpleTree('e')\n",
    "    ]),\n",
    "                        SimpleTree('c',[\n",
    "                            SimpleTree('h'),\n",
    "                            SimpleTree('g')\n",
    "                        ])\n",
    "                        ])\n",
    "    print(st)\n",
    "        \n",
    "if __name__== '__main__':\n",
    "    main()"
   ]
  },
  {
   "cell_type": "code",
   "execution_count": 10,
   "id": "f653bb51",
   "metadata": {},
   "outputs": [
    {
     "name": "stdout",
     "output_type": "stream",
     "text": [
      "{'left': {'left': 'Buffy', 'right': 'Angel'}, 'right': {'left': 'Willow', 'right': 'Xander'}}\n",
      "{'left': {'left': 'Buffy', 'right': 'Angel'}, 'right': {'left': 'Willow', 'right': 'Xander'}}\n"
     ]
    }
   ],
   "source": [
    "#트리와 같은 자료구조를 프로토타이핑할 때는, 생성자에서 임의의 속성을 지정하여 유연하게 구현하는 것이 좋음\n",
    "#딕셔너리 클래스를 특수화한 다음 클래스를 보자\n",
    "class BunchClass(dict):\n",
    "    def __init__(self, *args, **kwds):\n",
    "        super(BunchClass, self).__init__(*args, **kwds)\n",
    "        self.__dict__= self\n",
    "        \n",
    "def main():\n",
    "    #1)딕셔너리 특수화\n",
    "    bc= BunchClass #()가 없음\n",
    "    tree= bc(left=bc(left='Buffy', right='Angel'),\n",
    "            right= bc(left='Willow', right='Xander'))\n",
    "    print(tree)\n",
    "    \n",
    "    #2)일반 딕셔너리\n",
    "    tree2= dict(left=dict(left='Buffy', right='Angel'),\n",
    "               right=dict(left='Willow', right='Xander'))\n",
    "    print(tree2)\n",
    "if __name__== '__main__':\n",
    "    main()"
   ]
  },
  {
   "cell_type": "code",
   "execution_count": null,
   "id": "1aea3f51",
   "metadata": {},
   "outputs": [],
   "source": []
  }
 ],
 "metadata": {
  "kernelspec": {
   "display_name": "Python 3 (ipykernel)",
   "language": "python",
   "name": "python3"
  },
  "language_info": {
   "codemirror_mode": {
    "name": "ipython",
    "version": 3
   },
   "file_extension": ".py",
   "mimetype": "text/x-python",
   "name": "python",
   "nbconvert_exporter": "python",
   "pygments_lexer": "ipython3",
   "version": "3.9.7"
  }
 },
 "nbformat": 4,
 "nbformat_minor": 5
}
