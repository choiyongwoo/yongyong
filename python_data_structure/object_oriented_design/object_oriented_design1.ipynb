{
 "cells": [
  {
   "cell_type": "markdown",
   "id": "573a7259",
   "metadata": {},
   "source": [
    "<h1>객체 지향 설계</h1>\n",
    "원을 나타내는 객체를 정의하고 싶다고 가정해보자.<br>"
   ]
  },
  {
   "cell_type": "code",
   "execution_count": 2,
   "id": "2fd5a99f",
   "metadata": {},
   "outputs": [
    {
     "name": "stdout",
     "output_type": "stream",
     "text": [
      "<class '__main__.Circle'>\n",
      "Circle(x=13, y=84, radius=9)\n"
     ]
    }
   ],
   "source": [
    "import collections\n",
    "circle= collections.namedtuple('Circle', 'x y radius')\n",
    "print(circle)\n",
    "circle= circle(13, 84, 9)\n",
    "print(circle)"
   ]
  },
  {
   "cell_type": "markdown",
   "id": "789e4783",
   "metadata": {},
   "source": [
    "이 코드의 문제점<br>\n",
    "1)사용자가 원의 반지름을 입력할 때, 음수 등 유효하지 않은 값을 입력한다면?<br>\n",
    "2)코드에서 원넓이와 둘레를 구하고 싶다면 어떻게 구할지?<br><br>\n"
   ]
  },
  {
   "cell_type": "markdown",
   "id": "0f7ce037",
   "metadata": {},
   "source": [
    "첫째 문제의 경우, 객체를 만들 때 유효성 검사를 할 수 없다는 것은 순수한 절차적 프로그래밍 방식의 매우 좋지 않은 측면임을 알 수 있음<br><br>\n",
    "데이터를 패키지화하고, 메서드를 제한해야함<br> \n",
    "이것이 객체지향 프로그래밍<br>"
   ]
  },
  {
   "cell_type": "markdown",
   "id": "115f9626",
   "metadata": {},
   "source": [
    "<h2>클래스와 객체</h2>\n",
    "클래스는 사전에 정의된 특별한 데이터와 메서드의 집합<br>\n",
    "클래스에 선언된 모양 그대로 생성된 실체를 객체라고 함<br>\n",
    "객체가 소프트웨어에 실체화될 때, 이 실체를 인스턴스라고 함<br>\n",
    "객체는 인스턴스를 포함할 수 있으며, 포괄적인 의미를 지님<br><br>"
   ]
  },
  {
   "cell_type": "code",
   "execution_count": 3,
   "id": "cc84e342",
   "metadata": {},
   "outputs": [
    {
     "name": "stdout",
     "output_type": "stream",
     "text": [
      "<__main__.ClassName object at 0x70ac6a3970>\n"
     ]
    }
   ],
   "source": [
    "class ClassName:\n",
    "    #문장 1\n",
    "    #..\n",
    "    #문장 n\n",
    "    pass\n",
    "\n",
    "x= ClassName() #클래스 정의에 따라 인스턴스 생성\n",
    "print(x)"
   ]
  },
  {
   "cell_type": "markdown",
   "id": "161dde7d",
   "metadata": {},
   "source": [
    "<h3>클래스 인스턴스 생성</h3>\n",
    "클래스 인스턴스 생성은 함수 표기법을 사용하여 초기 상태의 객체를 생성하는 일<br>\n",
    "인스턴스 생성 작업은 어떤 특징을 가진 빈 객체를 만드는 것<br>\n",
    "여러 이름을 같은 객체에 바인딩(또는 에일리어싱)할 수 있음<br>\n",
    "Hello라는 클래스가 있다고 하면, Hello()를 호출하여 객체를 생성하는데, 이때 Hello()를 생성자라고 함<br>\n",
    "생성자를 호출하면 Hello.__new__()라는 특수 메서드가 호출되어 객체가 할당되고 그 다음 Hello.__init__()메서드가 객체를 초기화<br><br>\n",
    "\n",
    "속성<br>\n",
    "객체에는 데이터와 메서드로 이루어지는 클래스 속성이 있음<br>\n",
    "메서드 속성은 함수인데, 그 첫번째 인수는 호출된 인스턴스 자신(이를 self)라고 함<br><br>\n",
    "\n",
    "속성은 점(.)뒤에 나오는 모든 이름<br>\n",
    "모듈 내 모든 이름의 참조는 속성 참조<br>\n",
    "모듈명.함수명과 같은 표현식에서 모듈명은 모듈 객체이고, 함수명은 객체의 속성 중 하나<br>\n",
    "속성은 읽기 전용일수도 있고 쓰기 가능할 수도 있는데, 쓰기 가능한 속성은 del문으로 삭제할 수 있음<br><br>\n",
    "\n",
    "네임스페이스<br>\n",
    "네임스페이스는 이름을 객체로 매핑하는것<br>\n",
    "대부분의 네임스페이스는 파이썬 딕셔너리로 구현되어 있음<br>\n",
    "네임스페이스의 예로는 내장된 이름 셋, 모듈의 전역이름, 함수의 지역 이름 등이 있음<br>\n",
    "스크립트 파일이나 대화식 인터프리터의 최상위 호출에 의해 실행되는 명령문은 __main__이라는 모듈의 일부로 간주되어, 고유의 전역 네임스페이스를 가짐<br><br>\n",
    "스코프<br>\n",
    "스코프는 네임스페이스에 직접 접근할 수 있는 파이썬 프로그램의 텍스트 영역<br>\n",
    "스코프는 정적으로 결정되지만, 동적으로 사용 즉, 스코프는 텍스트에 따라 결정<br>\n",
    "한 모듈의 정의된 함수의 전역 스코프는 해당 모듈의 네임스페이<br>\n",
    "클래스 정의가 실행되면, 새로운 네임스페이스가 만들어지고, 지역스코프로 사용됨"
   ]
  },
  {
   "cell_type": "markdown",
   "id": "402c42ea",
   "metadata": {},
   "source": [
    "<h2>객체지향 프로그래밍의 원리</h2>\n",
    "<h3>특수화</h3>\n",
    "특수화는 슈퍼 클래스(부모클래스)의 모든 속성을 상속하여 새클래스를 만드는 절차<br>\n",
    "모든 메서드는 서브클래스(자식클래스)에서 재정의 될 수 있음<br>\n",
    "상속은 is-a 관계, 사람 클래스와 학생클래스가 있다고 하면 모든 학생은 사람이다가 성립<br>\n",
    "구글 파이썬 스타일 가이드에서는 한 클래스가 다른 클래스를 상속받지 않으면, 파이썬의 최상위 클래스인 object를 명시적으로 표기하는 것을 권장"
   ]
  },
  {
   "cell_type": "code",
   "execution_count": null,
   "id": "ffeaa296",
   "metadata": {},
   "outputs": [],
   "source": [
    "#좋은예\n",
    "class SampleClass(object):\n",
    "    pass\n",
    "class OuterClass(object):\n",
    "    class InnerClass(object):\n",
    "        pass\n",
    "\n",
    "class ChildClass(ParentClass)"
   ]
  },
  {
   "cell_type": "code",
   "execution_count": null,
   "id": "0110531b",
   "metadata": {},
   "outputs": [],
   "source": [
    "#나쁜예\n",
    "class SampleClass:\n",
    "    pass\n"
   ]
  },
  {
   "cell_type": "markdown",
   "id": "0611daf0",
   "metadata": {},
   "source": [
    "<h3>다형성</h3>\n",
    "다형성은 메서드가 서브클래스 내에서 재정의될 수 있다는 원리<br>\n",
    "즉, 서브 클래스 객체에서 슈퍼 클래스와 동명의 메서드를 호출하면, 파이썬은 서브 클래스에 정의된 메서드를 사용<br>\n",
    "슈퍼클래스의 메서드를 호출해야 한다면, 내장된 super() 메서드를 사용하여 호출해야함<br>\n",
    "파이썬에서 사용자 정의 클래스의 모든 객체는 기본적으로 해시 가능함<br>객체가 해시 가능하다는 것은 hash() 속성을 호출할 수 있고, 불변 객체임을 의미"
   ]
  },
  {
   "cell_type": "code",
   "execution_count": 4,
   "id": "d2860f24",
   "metadata": {},
   "outputs": [
    {
     "name": "stdout",
     "output_type": "stream",
     "text": [
      "False\n",
      "False\n",
      "2\n"
     ]
    }
   ],
   "source": [
    "class Symbol(object):\n",
    "    def __init__(self, value):\n",
    "        self.value= value\n",
    "\n",
    "if __name__=='__main__':\n",
    "    x= Symbol('Py')\n",
    "    y= Symbol('Py')\n",
    "    \n",
    "    symbols= set() #set 생성\n",
    "    symbols.add(x)\n",
    "    symbols.add(y)\n",
    "    \n",
    "    print(x is y)\n",
    "    print(x== y)\n",
    "    print(len(symbols))\n",
    "\n",
    "#x, y의 참조가 다르므로 첫번째 결과는 False\n",
    "#x, y의 값이 같으니 두번째 값이 True일줄 알았는데 False\n",
    "#세번째 결과 역시 set은 중복항목이 없으므로 길이가 1일줄 알았는데 2"
   ]
  },
  {
   "cell_type": "code",
   "execution_count": 6,
   "id": "b3c86480",
   "metadata": {},
   "outputs": [
    {
     "ename": "TypeError",
     "evalue": "unhashable type: 'Symbol'",
     "output_type": "error",
     "traceback": [
      "\u001b[0;31m---------------------------------------------------------------------------\u001b[0m",
      "\u001b[0;31mTypeError\u001b[0m                                 Traceback (most recent call last)",
      "\u001b[0;32m/data/user/0/ru.iiec.pydroid3/cache/ipykernel_24755/684882213.py\u001b[0m in \u001b[0;36m<module>\u001b[0;34m\u001b[0m\n\u001b[1;32m     15\u001b[0m \u001b[0;34m\u001b[0m\u001b[0m\n\u001b[1;32m     16\u001b[0m     \u001b[0msymbols\u001b[0m\u001b[0;34m=\u001b[0m \u001b[0mset\u001b[0m\u001b[0;34m(\u001b[0m\u001b[0;34m)\u001b[0m\u001b[0;34m\u001b[0m\u001b[0;34m\u001b[0m\u001b[0m\n\u001b[0;32m---> 17\u001b[0;31m     \u001b[0msymbols\u001b[0m\u001b[0;34m.\u001b[0m\u001b[0madd\u001b[0m\u001b[0;34m(\u001b[0m\u001b[0mx\u001b[0m\u001b[0;34m)\u001b[0m\u001b[0;34m\u001b[0m\u001b[0;34m\u001b[0m\u001b[0m\n\u001b[0m\u001b[1;32m     18\u001b[0m     \u001b[0msymbols\u001b[0m\u001b[0;34m.\u001b[0m\u001b[0madd\u001b[0m\u001b[0;34m(\u001b[0m\u001b[0my\u001b[0m\u001b[0;34m)\u001b[0m\u001b[0;34m\u001b[0m\u001b[0;34m\u001b[0m\u001b[0m\n\u001b[1;32m     19\u001b[0m \u001b[0;34m\u001b[0m\u001b[0m\n",
      "\u001b[0;31mTypeError\u001b[0m: unhashable type: 'Symbol'"
     ]
    }
   ],
   "source": [
    "class Symbol(object):\n",
    "    def __init__(self, value):\n",
    "        self.value= value\n",
    "        \n",
    "\n",
    "    def __eq__(self, other):\n",
    "        if isinstance(self, other.__class__):\n",
    "            return self.value== other.value\n",
    "        else:\n",
    "            return NotImplemented\n",
    "        \n",
    "if __name__=='__main__':\n",
    "    x= Symbol('Py')\n",
    "    y= Symbol('Py')\n",
    "    \n",
    "    symbols= set()\n",
    "    symbols.add(x)\n",
    "    symbols.add(y)\n",
    "    \n",
    "    print(x is y)\n",
    "    print(x== y)\n",
    "    print(len(symbols))\n",
    "    \n",
    "#_eq__()메서드를 재정의하자 Symbol클래스가 해시가능하지 않다는 에러발생\n",
    "#객체가 해시 가능하지 않다는 것은 가변객체를 의미하는데 셋은 불변객체\n",
    "#에러를 고치기 위해__hash__()메서드를 추가"
   ]
  },
  {
   "cell_type": "code",
   "execution_count": 7,
   "id": "f15921cc",
   "metadata": {},
   "outputs": [
    {
     "name": "stdout",
     "output_type": "stream",
     "text": [
      "False\n",
      "True\n",
      "1\n"
     ]
    }
   ],
   "source": [
    "class Symbol(object):\n",
    "    def __init__(self, value):\n",
    "        self.value= value\n",
    "        \n",
    "    def __eq__(self, other):\n",
    "        if isinstance(self, other.__class__):\n",
    "            return self.value== other.value\n",
    "        else:\n",
    "            return NotImplemented\n",
    "    \n",
    "    def __hash__(self):\n",
    "        return hash(self.value)\n",
    "    \n",
    "if __name__=='__main__':\n",
    "    x= Symbol('Py')\n",
    "    y= Symbol('Py')\n",
    "    \n",
    "    symbols= set()\n",
    "    symbols.add(x)\n",
    "    symbols.add(y)\n",
    "    \n",
    "    print(x is y)\n",
    "    print(x== y)\n",
    "    print(len(symbols))"
   ]
  },
  {
   "cell_type": "markdown",
   "id": "56d8fc21",
   "metadata": {},
   "source": [
    "<h3>합성과 집합화</h3>\n",
    "합성(그리고 집합화)은 한 클래스에서 다른 클래스의 인스턴스 변수를 포함하는 것을 말하며, 클래스 간의 관계를 나타냄<br>\n",
    "파이썬의 모든 클래스는 상속을 사용(object 베이스 클래스로부터 상속받음)<br>\n",
    "대부분의 클래스는 다양한 타입의 인스턴스 변수를 가지며, 합성과 집합화 사용<br>\n",
    "A, B클래스가 있다고 하면, 합성은 A와 B가 강한 연관관계를 맺으며, 강한 생명주기를 갖는다<br>\n",
    "즉, 의존성이 강하다 예를들어 집 클래스는 방 클래스를 가짐<br><br>\n",
    "\n",
    "집합화는 A와 B가 연관관계가 있지만, 생명주기가 약하며 독립적<br>\n",
    "예를 들어 학생 클래스는 미술, 음악 등의 과목 클래스를 가짐<br>\n",
    "한 학생은 미술, 음악 두 과목을 수강할 수도 있고, 그중 한 과목 또는 두 과목 모두 수강하지 않을 수 있음"
   ]
  },
  {
   "cell_type": "markdown",
   "id": "ca38c3db",
   "metadata": {},
   "source": [
    "<h3>클래스 예제</h3>\n",
    "네임드 튜플로 구현한 원 클래스를 객체지향 설계로 다시 구현<br>\n",
    "일반적인 데이터와 메서드 속성을 가진 점(point)클래스를 구현하고, 상속을 사용하여 Circle 서브 클래스 구현"
   ]
  },
  {
   "cell_type": "code",
   "execution_count": 1,
   "id": "e673bfa5",
   "metadata": {},
   "outputs": [],
   "source": [
    "#ShapeClass.py\n",
    "import math\n",
    "\n",
    "class Point(object):\n",
    "    def  __init__(self, x=0, y=0):\n",
    "        self.x= x #데이터 속성\n",
    "        self.y= y\n",
    "        \n",
    "    def distance_from_origin(self): #메서드 속성\n",
    "        #math.hypot (직각 삼각형의 빗변의 길이 구하는 식과 똑같음)\n",
    "        return math.hypot(self.x, self.y)\n",
    "    \n",
    "    def __eq__(self, other):\n",
    "        return self.x== other.x and self.y== other.y\n",
    "    \n",
    "    def __repr__(self):\n",
    "        return 'point ({0.x!r}, {0.y!r})'.format(self)\n",
    "    \n",
    "    def __str__(self):\n",
    "        return '({0.x!r}, {0.y!r})'.format(self)"
   ]
  },
  {
   "cell_type": "code",
   "execution_count": 2,
   "id": "6c368b86",
   "metadata": {},
   "outputs": [],
   "source": [
    "class Circle(Point):\n",
    "    def __init__(self, radius, x=0, y=0):\n",
    "        super().__init__(x, y) #생성 및 초기화\n",
    "        self.radius= radius\n",
    "        \n",
    "    def edge_distance_from_origin(self):\n",
    "        return abs(self.distance_from_origin()- self.radius)\n",
    "    \n",
    "    def area(self):\n",
    "        return math*pi*(self.radius**2)\n",
    "    \n",
    "    def circumference(self):\n",
    "        return 2*math*pi*self.radius\n",
    "    \n",
    "    def __eq__(self, other):\n",
    "        return self.radius== other.radius and super().__eq__(other)\n",
    "    \n",
    "    def __repr__(self):\n",
    "        return 'circle ({0.radius!r}, {0.x!r})'.format(self)\n",
    "    \n",
    "    def __str__(self):\n",
    "        return repr(self)"
   ]
  },
  {
   "cell_type": "code",
   "execution_count": 11,
   "id": "6ca2cfca",
   "metadata": {},
   "outputs": [
    {
     "name": "stdout",
     "output_type": "stream",
     "text": [
      "(3, 4)\n",
      "point (3, 4)\n",
      "(3, 4)\n",
      "5.0\n",
      "\n",
      "\n",
      "circle (3, 2)\n",
      "circle (3, 2)\n",
      "circle (3, 2)\n",
      "18.84955592153876\n",
      "0.7639320225002102\n"
     ]
    }
   ],
   "source": [
    "import ShapeClass as shape\n",
    "a= shape.Point(3, 4)\n",
    "print(a)\n",
    "print(repr(a))\n",
    "print(str(a))\n",
    "print(a.distance_from_origin())\n",
    "print('\\n')\n",
    "c= shape.Circle(3, 2, 1)\n",
    "print(c)\n",
    "print(repr(c))\n",
    "print(str(c))\n",
    "print(c.circumference())\n",
    "print(c.edge_distance_from_origin())"
   ]
  },
  {
   "cell_type": "markdown",
   "id": "813d363c",
   "metadata": {},
   "source": [
    "<h2>디자인 패턴</h2>\n",
    "디자인패턴은 잘 설계된 구조의 형식적 정의를 소트프웨어 엔지니어링으로 옮긴 것<br>\n",
    "<h3>데커레이터 패턴</h3>\n",
    "데커레이터 패턴은 @ 표기를 사용해 함수 또는 메서드의 변환을 우아하게 지정해주는 도구<br>\n",
    "데커레이터 패턴은 함수의 객체와 함수를 변경하는 다른 객체의 래핑을 허용<br><br>\n",
    "class C(object):<br>\n",
    "@my_decorator<br>\n",
    "def method(self):<br>\n",
    "#메서드 내용<br><br>\n",
    "위 코드 내용과 동일한 코드<br>\n",
    "class C(object):<br>\n",
    "def method(self):<br>\n",
    "#메서드 내용<br>\n",
    "method= my_decorator(method)"
   ]
  },
  {
   "cell_type": "code",
   "execution_count": 30,
   "id": "442a4075",
   "metadata": {},
   "outputs": [
    {
     "name": "stdout",
     "output_type": "stream",
     "text": [
      "random_tree 0.040820260997861624\n",
      "50313.624028097\n",
      "50313.582978409\n"
     ]
    }
   ],
   "source": [
    "#데커레이터를 사용하여 리스트에 임의의 값을 넣는 함수를 벤치마킹하는 코드\n",
    "import random\n",
    "import time\n",
    "\n",
    "def benchmark(func):\n",
    "    def wrapper(*args, **kwargs):#위치인자 언패킹, 키워드인자 언패킹\n",
    "        #time.perf_counter(): 코드 연산시간과 pending시간까지 모두 나옴\n",
    "        t= time.perf_counter()\n",
    "        res= func(*args, **kwargs)\n",
    "        print('{0} {1}'.format(func.__name__, time.perf_counter()-t))\n",
    "        print(time.perf_counter())\n",
    "        print(t)\n",
    "        return res\n",
    "    return wrapper\n",
    "\n",
    "@benchmark\n",
    "def random_tree(n):\n",
    "    temp= [n for n in range(n)]\n",
    "    for i in range(n+1):\n",
    "        temp[random.choice(temp)]= random.choice(temp)\n",
    "    return temp\n",
    "\n",
    "if __name__=='__main__':\n",
    "    random_tree(10000)"
   ]
  },
  {
   "cell_type": "markdown",
   "id": "821db300",
   "metadata": {},
   "source": [
    "파이썬에서 일반적으로 사용하는 데커레이터는 @classmethod와 @static-method가 있음<br>\n",
    "이들은 각각 메서드를 클래스와 정적 메서드로 변환<br>\n",
    "@classmethod는 첫번째 인수로 클래스를 사용하고, @staticmethod는 첫번째 인수에 self 혹은 cls가 없음<br>\n",
    "클래스 내 변수에 접근하려면 @classmethod의 첫번째 인수를 사용할 수 있음"
   ]
  },
  {
   "cell_type": "code",
   "execution_count": 14,
   "id": "fd0162b1",
   "metadata": {},
   "outputs": [
    {
     "name": "stdout",
     "output_type": "stream",
     "text": [
      "foo(<__main__.A object at 0x73fc0576d0>, 1) 실행\n",
      "class_foo(<class '__main__.A'>, 2) 실행:True\n",
      "class_foo(<class '__main__.A'>, 2) 실행:True\n",
      "static_foo(3) 실행\n",
      "static_foo(3) 실행\n"
     ]
    }
   ],
   "source": [
    "class A(object):\n",
    "    _hello= True\n",
    "    \n",
    "    def foo(self, x):\n",
    "        print('foo({0}, {1}) 실행'.format(self, x))\n",
    "    \n",
    "    @classmethod\n",
    "    def class_foo(cls, x):\n",
    "        print('class_foo({0}, {1}) 실행:{2}'.format(cls, x, cls._hello))\n",
    "        \n",
    "    @staticmethod\n",
    "    def static_foo(x):\n",
    "        print('static_foo({0}) 실행'.format(x))\n",
    "        \n",
    "if __name__ =='__main__':\n",
    "    a= A()\n",
    "    a.foo(1)\n",
    "    a.class_foo(2)\n",
    "    A.class_foo(2)\n",
    "    a.static_foo(3)\n",
    "    A.static_foo(3)"
   ]
  },
  {
   "cell_type": "markdown",
   "id": "6c1087a1",
   "metadata": {},
   "source": [
    "<h4>인스턴스 메서드</h4>\n",
    "클래스에 아무 데코레이터 없이 메서드를 선언하면 해당 메서드는 인스턴스 메서드로 취급이 되며, 첫번째 매개변수로 클래스의 인스턴스가 넘어옴<br>\n",
    "첫번째 매개변수의 이름은 보통 관행적으로 self라고 하며, 인스턴스 메서드는 이 self를 통해 인스턴스 속성에 접근하거나 다른 인스턴스 메서드를 호출할 수 있음, 뿐만아니라 self를 통해, 클래스 속성에 접근하거나 클래스 메서드를 호출할 수도 있음<br><br>\n",
    "인스턴스 메서드는 반드시 먼저 인스턴스를 생성 한 후에 해당 인스턴스를 대상으로 호출해야함<br>\n",
    "인스턴스 메서드의 첫번째 매개변수는 자동으로 할당되기 때문에, 호출할때 넘기는 첫번째 인자는 실제 인스턴스 메서드에서는 두번째 매개 변수에 할당 되는 효과가 나타남"
   ]
  },
  {
   "cell_type": "code",
   "execution_count": 20,
   "id": "2c5e9d48",
   "metadata": {},
   "outputs": [
    {
     "data": {
      "text/plain": [
       "1"
      ]
     },
     "execution_count": 20,
     "metadata": {},
     "output_type": "execute_result"
    }
   ],
   "source": [
    "class Counter:\n",
    "    def __init__(self, value= 0):\n",
    "        self.value= value\n",
    "    \n",
    "    def increment(self, delta=1):\n",
    "        self.value+= delta\n",
    "    \n",
    "    def decrement(self, delta=1):\n",
    "        self.value-= delta\n",
    "        \n",
    "counter= Counter()\n",
    "counter.value\n",
    "counter.increment(3)\n",
    "counter.value\n",
    "counter.decrement(2)\n",
    "counter.value"
   ]
  },
  {
   "cell_type": "markdown",
   "id": "cdb3f3f0",
   "metadata": {},
   "source": [
    "<h4>클래스 메서드</h4>\n",
    "@classmethod 데코레이터를 사용해서 클래스에 메서드를 선언하면 해당 메서드는 클래스 메서드가 되며, 첫번째 매개변수로 클래스 인스턴스가 아닌 클래스 자체가 넘어오게 됨<br>\n",
    "이 첫번째 매개 변수의 이름은 보통 관행적으로 cls라고 하며, 클래스 메서드는 이 cls를 통해 클래스 속성에 접근하거나, 클래스 메서드를 호출할 수 있음<br>\n",
    "하지만, 인스턴스 메서드와 달리 인스턴스 속성에 접근하거나 다른 인스턴스 메서드를 호출하는 것은 불가능"
   ]
  },
  {
   "cell_type": "code",
   "execution_count": 24,
   "id": "bf12113f",
   "metadata": {},
   "outputs": [
    {
     "name": "stdout",
     "output_type": "stream",
     "text": [
      "user@test.com 1234\n",
      "user@test.com 1234\n",
      "user@test.com 1234\n"
     ]
    }
   ],
   "source": [
    "class User:\n",
    "    def __init__(self, email, password):\n",
    "        self.email= email\n",
    "        self.password= password\n",
    "        \n",
    "    @classmethod\n",
    "    def fromTuple(cls, tup):\n",
    "        return cls(tup[0], tup[1])\n",
    "    \n",
    "    @classmethod\n",
    "    def fromDictionary(cls, dic):\n",
    "        return cls(dic['email'], dic['password'])\n",
    "    \n",
    "#파이썬에서는 생성자 오버로딩을 지원하기 때문에, 클래스 메서드는 특히 팩토리 메서드를 작성할 때 유용하게 사용\n",
    "#fromTuple와 fromDictionary메서드의 첫번째 매개변수인 cls에는 클래스가 할당되어 있고,\n",
    "#이 클래스를 호출하면 생성자가 호출되고 인스턴스가 생성되게 됨\n",
    "#fromTuple 메서드는 tuple 타입의 인자를 받고,\n",
    "#fromDictionary 메서드는 dictionary 타입의 인자를 받아서 User클래스의 객체를 생성해줌\n",
    "\n",
    "\n",
    "#따라서 다음과 같이 팩토리 메서드를 이용해서 다양한 포멧의 데이터로부터 User객체를 생성할 수 있음\n",
    "#기본 생성자로 객체 생성\n",
    "user= User('user@test.com', '1234')\n",
    "print(user.email, user.password)\n",
    "\n",
    "#클래스 메서드로 튜플로부터 객체 생성\n",
    "user= User.fromTuple(('user@test.com', '1234'))\n",
    "print(user.email, user.password)\n",
    "user.__init__('ag','ag')\n",
    "\n",
    "#클래스 메서드로 딕셔너리로부터 객체 생성 \n",
    "user= User.fromDictionary({'email':'user@test.com','password':'1234'})\n",
    "print(user.email, user.password)"
   ]
  },
  {
   "cell_type": "markdown",
   "id": "f60e7b10",
   "metadata": {},
   "source": [
    "<h4>정적 메서드</h4>\n",
    "@staticmethod 데코레이터를 사용해서 클래스에 메서드를 선언하면 해당 메서드는 정적 메서드가 되며, 정적 메서드는 인스턴스 메서드나 클래스 메서드와 달리 첫번째 매개 변수가 할당되지 않음<br>\n",
    "따라서 정적 메서드 내에서는 인스턴스/클래스 속성에 접근하거나, 인스턴스/클래스 메서드를 호출하는 것이 불가능"
   ]
  },
  {
   "cell_type": "code",
   "execution_count": 28,
   "id": "ace8547f",
   "metadata": {},
   "outputs": [
    {
     "name": "stdout",
     "output_type": "stream",
     "text": [
      "lastModifiedData\n",
      "last_modified_data\n"
     ]
    }
   ],
   "source": [
    "class StringUtils:\n",
    "    @staticmethod\n",
    "    def toCamelcase(text):\n",
    "        words= iter(text.split('_'))\n",
    "        return next(words)+''.join(i.title() for i in words)\n",
    "    \n",
    "    @staticmethod\n",
    "    def toSnakecase(text):\n",
    "        letters= ['_'+i.lower() if i.isupper() else i for i in text]\n",
    "        return ''.join(letters).lstrip('_')\n",
    "\n",
    "#정적 메서드는 유틸리티 메서드를 구현할 때 많이 사용\n",
    "#매개 변수로 넘어온 문자열에만 의존하는 순수한 함수\n",
    "#비슷한 류의 여러 유틸리티 메서드를 하나의 클래스에 묶어두고 싶을때 정적 메서드로 선언할 수 있음\n",
    "print(StringUtils.toCamelcase('last_modified_data'))\n",
    "print(StringUtils.toSnakecase('lastModifiedData'))"
   ]
  },
  {
   "cell_type": "markdown",
   "id": "22738ad3",
   "metadata": {},
   "source": [
    "클래스(class) 메서드 vs 정적(static) 메서드<br>\n",
    "클래스 메서드와 정적 메서드는 별도 인스턴스 생성없이 클래스를 대상으로 클래스 이름 뒤에 바로 . 오퍼레이터를 붙여서 호출할 수 있다는 점에서 동일<br><br>\n",
    "차이점은 클래스 메서드를 호출할 때, 첫번째 인자로 클래스 자체가 넘어오기 때문에, 클래스 속성에 접근하거나 다른 클래스 함수를 호출할 수 있음<br>\n",
    "반면에 정적 메서드를 호출할 때는, 첫번째 인자로 아무것도 넘어오지 않기 때문에, 명시적으로 넘긴 다른 인자만 접근가능\n"
   ]
  },
  {
   "cell_type": "markdown",
   "id": "b6bc5562",
   "metadata": {},
   "source": [
    "<h3>옵서버 패턴</h3>\n",
    "옵서버 패턴은 특정 값을 유지하는 핵심 객체를 갖고, 직렬화된 객체의 복사본을 생성하는 일부 옵서버가 있는 경우 유용<br>\n",
    "즉, 객체의 일대다 의존 관계에서 한 객체의 상태가 변경되면, 그 객체에 종속된 모든 객체에 그 내용을 통지하여 자동으로 상태를 갱신하는 방식<br>\n",
    "옵서버 패턴은 @property 데코레이터를 사용하여 구현할 수 있음<br>\n",
    "예를 들어 속성을 읽기 전용으로 설정하는 것과 같은 속성 접근을 제어할 수 있음<br>\n",
    "속성은 접근자나 getter/setter 메서드 대신 사용"
   ]
  },
  {
   "cell_type": "code",
   "execution_count": 11,
   "id": "3eb1000e",
   "metadata": {},
   "outputs": [
    {
     "name": "stdout",
     "output_type": "stream",
     "text": [
      "진\n",
      "진\n",
      "진>>아스틴\n",
      "진>>아스틴\n"
     ]
    }
   ],
   "source": [
    "#'_'로 시작하는 변수는 외부에서 직접 접근하지 않음\n",
    "#getter, setter 메서드를 이용하여 접근\n",
    "#ex) get_name(self), set_name(self, name)\n",
    "#name= property(get_name, set_name)을 이용하면 필드명을 사용하는 것처럼 깔끔하게 호출\n",
    "# @property를 사용하면 기존의 getter 메서드위에 @property를 선언하고 메서드 이름에서 get_ 삭제\n",
    "#setter 메서드는 @필드명.setter를 선언하고 메서드 이름에서 set_삭제\n",
    "        \n",
    "\n",
    "class C:\n",
    "    def __init__(self, name):\n",
    "        self._name= name\n",
    "    @property\n",
    "    def name(self):\n",
    "        return self._name\n",
    "    @name.setter\n",
    "    def name(self, new_name):\n",
    "        self._name= '{0}>>{1}'.format(self._name, new_name)\n",
    "        \n",
    "c= C('진')\n",
    "print(c._name)\n",
    "print(c.name)\n",
    "c.name= '아스틴'\n",
    "print(c.name)\n"
   ]
  },
  {
   "cell_type": "code",
   "execution_count": 16,
   "id": "6c99cf9d",
   "metadata": {
    "scrolled": true
   },
   "outputs": [
    {
     "name": "stdout",
     "output_type": "stream",
     "text": [
      "아스틴, 점심시간 입니다\n",
      "제프, 점심시간 입니다\n",
      "제임스, 점심시간 입니다\n",
      "아스틴, 퇴근 시간입니다\n",
      "제임스, 퇴근 시간입니다\n"
     ]
    }
   ],
   "source": [
    "#옵서버 패턴 예시\n",
    "class Subscriber(object):\n",
    "    def __init__(self, name):\n",
    "        self.name= name\n",
    "        \n",
    "    def update(self, message):\n",
    "        print('{0}, {1}'.format(self.name, message))\n",
    "\n",
    "class Publisher(object):\n",
    "    def __init__(self):\n",
    "        \n",
    "        #publisher.subscribers= 빈 set\n",
    "        self.subscribers= set()\n",
    "    \n",
    "    def register(self, who):\n",
    "        \n",
    "        #빈 set에 이름 추가\n",
    "        self.subscribers.add(who)\n",
    "        \n",
    "        \n",
    "    def unregister(self, who):\n",
    "        #set.discard(element)는 remove와 같지만 제거할게 없어도 에러가 발생하지 않음 \n",
    "        self.subscribers.discard(who)\n",
    "        \n",
    "    def dispatch(self, message):\n",
    "        for subscriber in self.subscribers:\n",
    "            subscriber.update(message)\n",
    "            \n",
    "if __name__== '__main__':\n",
    "    pub= Publisher()\n",
    "    \n",
    "    astin= Subscriber('아스틴')\n",
    "    james= Subscriber('제임스')\n",
    "    jeff= Subscriber('제프')\n",
    "    \n",
    "    pub.register(astin)\n",
    "    pub.register(james)\n",
    "    pub.register(jeff)\n",
    "    \n",
    "    pub.dispatch('점심시간 입니다')\n",
    "    pub.unregister(jeff)\n",
    "    pub.dispatch('퇴근 시간입니다')"
   ]
  },
  {
   "cell_type": "code",
   "execution_count": 28,
   "id": "c4b64e66",
   "metadata": {},
   "outputs": [
    {
     "name": "stdout",
     "output_type": "stream",
     "text": [
      "아스틴, 점심시간 입니다\n",
      "제임스, 점심시간 입니다\n",
      "제프, 점심시간 입니다\n",
      "아스틴, 퇴근시간 입니다\n",
      "제임스, 퇴근시간 입니다\n",
      "<__main__.SubscriberOne object at 0x75967c0460>\n"
     ]
    }
   ],
   "source": [
    "#Publisher 클래스에서 셋을 사용하여 옵서버 패턴 구현\n",
    "class SubscriberOne(object):\n",
    "    def __init__(self, name):\n",
    "        self.name= name\n",
    "        \n",
    "    def update(self, message):\n",
    "        print('{0}, {1}'.format(self.name, message))\n",
    "        \n",
    "class SubscriberTwo(object):\n",
    "    def __init__(self, name):\n",
    "        self.name= name\n",
    "        \n",
    "    def receive(self, message):\n",
    "            print('{0}, {1}'.format(self.name, message))\n",
    "\n",
    "class Publisher(object):\n",
    "    def __init__(self):\n",
    "        \n",
    "        #publisher.subscribers= 빈 dictionary\n",
    "        self.subscribers= dict()\n",
    "        \n",
    "    def register(self, who, callback=None):\n",
    "        if callback is None:\n",
    "            #getattr(object, name) 해당하는 객체의 속성값을 가져오는 함수\n",
    "            callback= getattr(who, 'update')\n",
    "        #딕셔너리의 who객체 키에 callback값 넣음\n",
    "        self.subscribers[who]= callback\n",
    "        \n",
    "    def unregister(self, who):\n",
    "        del self.subscribers[who]\n",
    "        \n",
    "    def dispatch(self, message):\n",
    "        for subscriber, callback in self.subscribers.items():\n",
    "            callback(message)\n",
    "\n",
    "if __name__== '__main__':\n",
    "    pub= Publisher()\n",
    "    \n",
    "    astin= SubscriberOne('아스틴')\n",
    "    james= SubscriberTwo('제임스')\n",
    "    jeff= SubscriberOne('제프')\n",
    "    \n",
    "    pub.register(astin, astin.update)\n",
    "    pub.register(james, james.receive)\n",
    "    pub.register(jeff)\n",
    "    \n",
    "    pub.dispatch('점심시간 입니다')\n",
    "    pub.unregister(jeff)\n",
    "    pub.dispatch('퇴근시간 입니다')"
   ]
  },
  {
   "cell_type": "code",
   "execution_count": 27,
   "id": "f174640e",
   "metadata": {},
   "outputs": [
    {
     "name": "stdout",
     "output_type": "stream",
     "text": [
      "아스틴, 점심시간입니다\n",
      "제프, 점심시간입니다\n",
      "아스틴, 저녁시간입니다\n",
      "제임스, 저녁시간입니다\n"
     ]
    }
   ],
   "source": [
    "#이벤트 기반의 옵서버 패턴\n",
    "class Subscriber(object):\n",
    "    def __init__(self, name):\n",
    "        self.name= name\n",
    "        \n",
    "    def update(self, message):\n",
    "        print('{0}, {1}'.format(self.name, message))\n",
    "        \n",
    "class Publisher(object):\n",
    "    def __init__(self, events):\n",
    "        self.subscribers= {event:dict() for event in events}\n",
    "        \n",
    "    def get_subscribers(self, event):\n",
    "        return self.subscribers[event]\n",
    "    \n",
    "    def register(self, event, who, callback=None):\n",
    "        if callback is None:\n",
    "            callback= getattr(who, 'update')\n",
    "        self.get_subscribers(event)[who]= callback\n",
    "        \n",
    "    def unregister(self, event, who):\n",
    "        del self.get_subscribers(event)[who] \n",
    "            \n",
    "    def dispatch(self, event, message):\n",
    "        for subscriber, callback in self.get_subscribers(event).items():\n",
    "            callback(message)\n",
    "            \n",
    "if __name__== '__main__':\n",
    "    pub= Publisher(['점심', '퇴근'])\n",
    "    \n",
    "    astin= Subscriber('아스틴')\n",
    "    james= Subscriber('제임스')\n",
    "    jeff= Subscriber('제프')\n",
    "    \n",
    "    pub.register('점심', astin)\n",
    "    pub.register('퇴근', astin)\n",
    "    pub.register('퇴근', james)\n",
    "    pub.register('점심', jeff)\n",
    "    \n",
    "    pub.dispatch('점심', '점심시간입니다')\n",
    "    pub.dispatch('퇴근', '저녁시간입니다')\n",
    "    "
   ]
  },
  {
   "cell_type": "code",
   "execution_count": 39,
   "id": "0d76d8c5",
   "metadata": {},
   "outputs": [
    {
     "name": "stdout",
     "output_type": "stream",
     "text": [
      "bb\n"
     ]
    }
   ],
   "source": [
    "event= {'a':{'aa':'bb'}}\n",
    "print(event['a']['aa'])"
   ]
  },
  {
   "cell_type": "markdown",
   "id": "74f49f0e",
   "metadata": {},
   "source": [
    "<h3>싱글턴 패턴</h3>\n",
    "초기화된 객체의 인스턴스를 전역에서 사용하기 위해서는 싱글턴 패턴을 사용<br>\n",
    "이 객체의 인스턴스는 하나만 존재<br>\n",
    "파이썬에는 private 접근 제한자가 없기 때문에 __new__() 클래스 메서드를 가지고 하나의 인스턴스만 생성되도록 구현해야함<br>\n",
    "먼저 싱글턴 인스턴스가 생성되었는지 확인<br>\n",
    "싱글턴 인스턴스가 없다면, 슈퍼클래스를 호출하여 싱글턴 인스턴스를 생성"
   ]
  },
  {
   "cell_type": "code",
   "execution_count": 43,
   "id": "bf3415c3",
   "metadata": {},
   "outputs": [
    {
     "name": "stdout",
     "output_type": "stream",
     "text": [
      "<__main__.SinEx object at 0x75a3be2550>\n"
     ]
    },
    {
     "data": {
      "text/plain": [
       "True"
      ]
     },
     "execution_count": 43,
     "metadata": {},
     "output_type": "execute_result"
    }
   ],
   "source": [
    "class SinEx:\n",
    "    _sing= None\n",
    "    \n",
    "    def __new__(self, *args, **kwargs):\n",
    "        if not self._sing:\n",
    "            self._sing= super(SinEx, self).__new__(self, *args, **kwargs)\n",
    "        return self._sing\n",
    "x= SinEx()\n",
    "print(x)\n",
    "y= SinEx()\n",
    "x== y"
   ]
  },
  {
   "cell_type": "code",
   "execution_count": null,
   "id": "5c55c062",
   "metadata": {},
   "outputs": [],
   "source": []
  }
 ],
 "metadata": {
  "kernelspec": {
   "display_name": "Python 3 (ipykernel)",
   "language": "python",
   "name": "python3"
  },
  "language_info": {
   "codemirror_mode": {
    "name": "ipython",
    "version": 3
   },
   "file_extension": ".py",
   "mimetype": "text/x-python",
   "name": "python",
   "nbconvert_exporter": "python",
   "pygments_lexer": "ipython3",
   "version": "3.9.7"
  },
  "toc": {
   "base_numbering": 1,
   "nav_menu": {},
   "number_sections": true,
   "sideBar": true,
   "skip_h1_title": false,
   "title_cell": "Table of Contents",
   "title_sidebar": "Contents",
   "toc_cell": false,
   "toc_position": {},
   "toc_section_display": true,
   "toc_window_display": false
  },
  "varInspector": {
   "cols": {
    "lenName": 16,
    "lenType": 16,
    "lenVar": 40
   },
   "kernels_config": {
    "python": {
     "delete_cmd_postfix": "",
     "delete_cmd_prefix": "del ",
     "library": "var_list.py",
     "varRefreshCmd": "print(var_dic_list())"
    },
    "r": {
     "delete_cmd_postfix": ") ",
     "delete_cmd_prefix": "rm(",
     "library": "var_list.r",
     "varRefreshCmd": "cat(var_dic_list()) "
    }
   },
   "types_to_exclude": [
    "module",
    "function",
    "builtin_function_or_method",
    "instance",
    "_Feature"
   ],
   "window_display": false
  }
 },
 "nbformat": 4,
 "nbformat_minor": 5
}
