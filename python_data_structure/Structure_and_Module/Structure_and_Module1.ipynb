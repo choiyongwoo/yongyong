{
 "cells": [
  {
   "cell_type": "markdown",
   "id": "67142bab",
   "metadata": {},
   "source": [
    "<h2>모듈</h2>\n",
    "파이썬에서 모듈은 def를 사용하여 정의<br>\n",
    "def가 실행되면, 함수의 객체와 참조가 같이 생성<br>\n",
    "반환값을 정의하지 않으면, 파이썬은 자동으로 None을 반환, C언어와 마찬가지로, 아무런 값을 반환하지 않은 함수는 프로시저라고 부름\n",
    "\n",
    "<h3>스택과 활성화 레코드</h3>\n",
    "함수가 호출될 때마다 활성화 레코드가 생성<br>\n",
    "활성화 레코드에는 함수의 정보(반환값, 매개변수, 지역변수, 반환주소)등이 기록되며, 이를 스택에 저장<br><br>\n",
    "활성화 레코드 처리 순서<br>\n",
    "1)함수의 실제 매개변수를 스택에 저장<br>\n",
    "2)반환 주소를 스택에 저장<br>\n",
    "3)스택의 최상위 인덱스를 함수의 지역 변수에 필요한 총량만큼 늘림<br>\n",
    "4)함수로 건너 뜀<br><br>\n",
    "\n",
    "활성화 레코드 풀어내는 절차<br>\n",
    "1)스택의 최상위 인덱스는 함수에 소비된 총 메모리양만큼 감소<br>\n",
    "2)반환 주소를 스택에서 빼냄<br>\n",
    "3)스택의 최상위 인덱스는 함수의 실제 매개변수만큼 감소"
   ]
  },
  {
   "cell_type": "markdown",
   "id": "94782be1",
   "metadata": {},
   "source": [
    "<h3>모듈의 기본값</h3>\n",
    "모듈을 생성할 때, 함수 또는 메서드에서 가변 객체를 기본값으로 사용하면 안됨"
   ]
  },
  {
   "cell_type": "code",
   "execution_count": 3,
   "id": "200b614a",
   "metadata": {},
   "outputs": [
    {
     "name": "stdout",
     "output_type": "stream",
     "text": [
      "[5]\n",
      "[5, 7]\n",
      "[5, 7, 2]\n"
     ]
    }
   ],
   "source": [
    "#나쁜예\n",
    "def append(number, number_list=[]):\n",
    "    number_list.append(number)\n",
    "    return number_list\n",
    "\n",
    "print(append(5)) #예상결과 5\n",
    "print(append(7)) #예상결과 7\n",
    "print(append(2)) #예상결과 2"
   ]
  },
  {
   "cell_type": "code",
   "execution_count": 4,
   "id": "32c75a1c",
   "metadata": {},
   "outputs": [
    {
     "name": "stdout",
     "output_type": "stream",
     "text": [
      "[5]\n",
      "[7]\n",
      "[2]\n"
     ]
    }
   ],
   "source": [
    "#좋은예\n",
    "def append(number, number_list=None):\n",
    "    if number_list is None:\n",
    "        number_list= []\n",
    "    number_list.append(number)\n",
    "    return number_list\n",
    "print(append(5))\n",
    "print(append(7))\n",
    "print(append(2))"
   ]
  },
  {
   "cell_type": "markdown",
   "id": "e7b231d0",
   "metadata": {},
   "source": [
    "<h3>__init__.py 파일</h3>\n",
    "패키지는 모듈과 __init__.py 파일이 있는 디렉터리<br>\n",
    "파이썬은 __init__.py 파일이 있는 디렉터리를 패키지로 취급<br>\n",
    "모듈 경로 중 string과 같이 흔한 이름의 디렉터리에 유효한 모듈이 들어 있는 경우 이러한 모듈이 검색되지 않는 문제를 방지하기 위해서<br>\n",
    "import 폴더이름.파일모듈명<br><br>\n",
    "__init__.py 파일은 빈 파일일 수도 있지만, 패키지의 초기화 코드를 실행하거나, __all__변수를 정의할 수도 있음<br>\n",
    "__all__= ['파일', ...]<br><br>\n",
    "실제 파일 이름은 확장자가 .py겠지만, 여기서 작성할 때는 .py를 붙이지 않음<br>\n",
    "from 폴더이름 import * <br>\n",
    "위 코드는 이름이 __로 시작하는 모듈을 제외한 모듈의 모든 객체를 불러옴<br>\n",
    "__all__변수가 있는경우, 해당 리스트의 객체를 불러옴<br><br>\n",
    "터미널에서 특정 모듈이 있는지 간단하게 확인하려면, python -c import 모듈 명령을 사용<br>\n",
    "$python -c 'import astin' <br>\n",
    "\n"
   ]
  },
  {
   "cell_type": "markdown",
   "id": "52da1888",
   "metadata": {},
   "source": [
    "<h3>__name__변수</h3>\n",
    "파이썬은 모듈을 임포트할 때마다 __name__이라는 변수를 만들고 모듈이름을 저장<br>\n"
   ]
  },
  {
   "cell_type": "code",
   "execution_count": 4,
   "id": "7c8884cd",
   "metadata": {},
   "outputs": [
    {
     "name": "stdout",
     "output_type": "stream",
     "text": [
      "hello\n",
      "world\n",
      "__main__\n"
     ]
    }
   ],
   "source": [
    "import hello\n",
    "print(hello.hello)\n",
    "print(hello.world())\n",
    "print(__name__)"
   ]
  },
  {
   "cell_type": "markdown",
   "id": "d1aad9ae",
   "metadata": {},
   "source": [
    "<h3>컴파일된 바이트코드 모듈</h3>\n",
    "컴파일러가 사용하는 바이트 컴파일 코드는 표준 모듈을 많이 사용하는 프로그램의 시작 시간을 줄이기 위한것<br><br>\n",
    "-0플래그를 사용하여 파이썬 인터프리터를 호출하면, 최적화된 코드가 생성되어 .pyo파일에 저장됨<br>\n",
    "이렇게 만든 파일은 리버스 엔지니어링이 까다로우므로 라이브러리로 배포하는 데에도 사용할 수 있음<br>\n"
   ]
  },
  {
   "cell_type": "markdown",
   "id": "f6796751",
   "metadata": {},
   "source": [
    "<h3>sys 모듈</h3>\n",
    "sys.path는 인터프리터가 모듈을 검색할 경로를 담은 문자열 리스트<br>\n",
    "sys.path 변수는 PYTHONPATH 환경변수 또는 내장된 기본값 경로로 초기화<br>\n",
    "환경변수를 수정하면 모듈 경로를 추가하거나 임시로 모듈 경로를 추가할 수 있음<br>"
   ]
  },
  {
   "cell_type": "code",
   "execution_count": 4,
   "id": "05cee491",
   "metadata": {},
   "outputs": [
    {
     "name": "stdout",
     "output_type": "stream",
     "text": [
      "['/storage/emulated/0/practice/python_data_structure/Structure_and_Module', '/data/user/0/ru.iiec.pydroid3/files/aarch64-linux-android/lib/python39.zip', '/data/user/0/ru.iiec.pydroid3/files/aarch64-linux-android/lib/python3.9', '/data/user/0/ru.iiec.pydroid3/files/aarch64-linux-android/lib/python3.9/lib-dynload', '', '/data/user/0/ru.iiec.pydroid3/files/aarch64-linux-android/lib/python3.9/site-packages', '/data/user/0/ru.iiec.pydroid3/files/aarch64-linux-android/lib/python3.9/site-packages/IPython/extensions', '/data/user/0/ru.iiec.pydroid3/app_HOME/.ipython', '모듈_디렉토리_경로']\n",
      "['/storage/emulated/0/practice/python_data_structure/Structure_and_Module', '/data/user/0/ru.iiec.pydroid3/files/aarch64-linux-android/lib/python39.zip', '/data/user/0/ru.iiec.pydroid3/files/aarch64-linux-android/lib/python3.9', '/data/user/0/ru.iiec.pydroid3/files/aarch64-linux-android/lib/python3.9/lib-dynload', '', '/data/user/0/ru.iiec.pydroid3/files/aarch64-linux-android/lib/python3.9/site-packages', '/data/user/0/ru.iiec.pydroid3/files/aarch64-linux-android/lib/python3.9/site-packages/IPython/extensions', '/data/user/0/ru.iiec.pydroid3/app_HOME/.ipython', '모듈_디렉토리_경로', '모듈_디렉토리_경로']\n"
     ]
    }
   ],
   "source": [
    "import sys\n",
    "print(sys.path)\n",
    "sys.path.append('모듈_디렉토리_경로')\n",
    "print(sys.path)"
   ]
  },
  {
   "cell_type": "code",
   "execution_count": 5,
   "id": "f092ced0",
   "metadata": {},
   "outputs": [],
   "source": [
    "#sys.ps1과 sys.ps2변수는 파이썬 대화식 인터프리터의 기본 및 보조 프롬프트 문자열을 정의"
   ]
  },
  {
   "cell_type": "markdown",
   "id": "facaa47d",
   "metadata": {},
   "source": [
    "sys.argv변수를 사용하면 명령 줄에 전달된 인수를 프로그램 내에서 사용할 수 있음\n"
   ]
  },
  {
   "cell_type": "code",
   "execution_count": 2,
   "id": "1e08e509",
   "metadata": {},
   "outputs": [
    {
     "name": "stdout",
     "output_type": "stream",
     "text": [
      "['__breakpointhook__', '__displayhook__', '__doc__', '__excepthook__', '__interactivehook__', '__loader__', '__name__', '__package__', '__spec__', '__stderr__', '__stdin__', '__stdout__', '__unraisablehook__', '_base_executable', '_clear_type_cache', '_current_frames', '_debugmallocstats', '_framework', '_getframe', '_git', '_home', '_xoptions', 'abiflags', 'addaudithook', 'api_version', 'argv', 'audit', 'base_exec_prefix', 'base_prefix', 'breakpointhook', 'builtin_module_names', 'byteorder', 'call_tracing', 'copyright', 'displayhook', 'dont_write_bytecode', 'exc_info', 'excepthook', 'exec_prefix', 'executable', 'exit', 'flags', 'float_info', 'float_repr_style', 'get_asyncgen_hooks', 'get_coroutine_origin_tracking_depth', 'getallocatedblocks', 'getandroidapilevel', 'getdefaultencoding', 'getdlopenflags', 'getfilesystemencodeerrors', 'getfilesystemencoding', 'getprofile', 'getrecursionlimit', 'getrefcount', 'getsizeof', 'getswitchinterval', 'gettrace', 'hash_info', 'hexversion', 'implementation', 'int_info', 'intern', 'is_finalizing', 'maxsize', 'maxunicode', 'meta_path', 'modules', 'path', 'path_hooks', 'path_importer_cache', 'platform', 'platlibdir', 'prefix', 'ps1', 'ps2', 'ps3', 'pycache_prefix', 'set_asyncgen_hooks', 'set_coroutine_origin_tracking_depth', 'setdlopenflags', 'setprofile', 'setrecursionlimit', 'setswitchinterval', 'settrace', 'stderr', 'stdin', 'stdout', 'thread_info', 'unraisablehook', 'version', 'version_info', 'warnoptions']\n"
     ]
    }
   ],
   "source": [
    "#dir() 내장 함수는 모듈이 정의하는 모든 유형의 이름(모듈, 변수, 함수)을 찾는데 사용\n",
    "#이름 기준으로 정렬된 문자열 리스트를 반환\n",
    "import sys\n",
    "print(dir(sys))\n",
    "\n",
    "#dir()함수는 내장 함수 및 변수의 이름까지는 나열하지 않음\n",
    "#객체의 모든 메서드나 속성을 찾는데 유용"
   ]
  },
  {
   "cell_type": "markdown",
   "id": "c91d70aa",
   "metadata": {},
   "source": [
    "<h2>제어문</h2>\n",
    "<h3>if문</h3>\n",
    "파이썬의 if문은 다른 언어의 switch문 또는 case문을 대체"
   ]
  },
  {
   "cell_type": "code",
   "execution_count": 4,
   "id": "db6adfac",
   "metadata": {},
   "outputs": [
    {
     "name": "stdout",
     "output_type": "stream",
     "text": [
      "숫자를 입력하세요: 6\n",
      "2이상의 숫자가 입력됨\n"
     ]
    }
   ],
   "source": [
    "x= int(input('숫자를 입력하세요: '))\n",
    "if x<0:\n",
    "    x=0\n",
    "    print('음수를 입력하여 x를 0으로 변경')\n",
    "elif x== 0:\n",
    "    print('0이 입력됨')\n",
    "elif x==1:\n",
    "    print('1이 입력됨')\n",
    "else:\n",
    "    print('2이상의 숫자가 입력됨')"
   ]
  },
  {
   "cell_type": "markdown",
   "id": "95edc004",
   "metadata": {},
   "source": [
    "<h3>for문</h3>\n",
    "파이썬의 for문은 모든 시퀀스 항목(리스트, 문자열 등)을 순서대로 순회\n"
   ]
  },
  {
   "cell_type": "code",
   "execution_count": 9,
   "id": "db6c9934",
   "metadata": {},
   "outputs": [
    {
     "name": "stdout",
     "output_type": "stream",
     "text": [
      "버피\n",
      "월로\n",
      "잰더\n",
      "자일스\n"
     ]
    }
   ],
   "source": [
    "names=['버피', '월로', '잰더','자일스']\n",
    "for name in names:\n",
    "    print(name)"
   ]
  },
  {
   "cell_type": "markdown",
   "id": "892b23ba",
   "metadata": {},
   "source": [
    "<h3>참과 거짓</h3>\n",
    "거짓(False)은 사전 정의된 상수 False 또는 숫자 0, 특수 객체 None, 빈 컬렉션 시퀀스('', [], (), {})에 의해 정의됨<br>\n",
    "여기에 속하지 않은 값은 모두 참(True), 모두 비교 또는 다른 불린 표현식의 결과를 변수에 할당할 수 있음<br><br>"
   ]
  },
  {
   "cell_type": "code",
   "execution_count": 1,
   "id": "75e82368",
   "metadata": {},
   "outputs": [
    {
     "name": "stdout",
     "output_type": "stream",
     "text": [
      "괴물\n"
     ]
    }
   ],
   "source": [
    "string1, string2, string3= '', '괴물', '외계인'\n",
    "non_null= string1 or string2 or string3\n",
    "print(non_null)"
   ]
  },
  {
   "cell_type": "markdown",
   "id": "9db81adf",
   "metadata": {},
   "source": [
    "False사용에 대한 기준<br>\n",
    "1) == 또는 != 연산자를 사용하여 내장 변수 None 같은 싱글턴을 비교하지 않음, 대신 is 또는 is not 사용\n",
    "2) == 를 사용하여 불린 변수를 False와 비교하지 않음, 대신 if not x를 사용함, None과 False를 구별할 필요가 있는 경우, if not x and x is not None과 같은 연결 표현식을 사용\n",
    "3) 시퀀스의 경우, 빈 시퀀스는 False, if len(시퀀스) 또는 if not len(시퀀스)보다는 if not 시퀀스 또는 if 시퀀스를 사용하는 것이 좋음\n",
    "4) 정수를 처리할 때 뜻하지 않게 None을 0으로 잘못 처리하는 것처럼, 암묵적 False를 사용하는 것은 위험하다"
   ]
  },
  {
   "cell_type": "code",
   "execution_count": 3,
   "id": "e5ce7f06",
   "metadata": {},
   "outputs": [
    {
     "name": "stdout",
     "output_type": "stream",
     "text": [
      "사용자가 없음\n"
     ]
    },
    {
     "ename": "NameError",
     "evalue": "name 'foo' is not defined",
     "output_type": "error",
     "traceback": [
      "\u001b[0;31m---------------------------------------------------------------------------\u001b[0m",
      "\u001b[0;31mNameError\u001b[0m                                 Traceback (most recent call last)",
      "\u001b[0;32m/data/user/0/ru.iiec.pydroid3/cache/ipykernel_15222/441533537.py\u001b[0m in \u001b[0;36m<module>\u001b[0;34m\u001b[0m\n\u001b[1;32m      4\u001b[0m     \u001b[0mprint\u001b[0m\u001b[0;34m(\u001b[0m\u001b[0;34m'사용자가 없음'\u001b[0m\u001b[0;34m)\u001b[0m\u001b[0;34m\u001b[0m\u001b[0;34m\u001b[0m\u001b[0m\n\u001b[1;32m      5\u001b[0m \u001b[0;34m\u001b[0m\u001b[0m\n\u001b[0;32m----> 6\u001b[0;31m \u001b[0;32mif\u001b[0m \u001b[0mfoo\u001b[0m\u001b[0;34m==\u001b[0m \u001b[0;36m0\u001b[0m\u001b[0;34m:\u001b[0m\u001b[0;34m\u001b[0m\u001b[0;34m\u001b[0m\u001b[0m\n\u001b[0m\u001b[1;32m      7\u001b[0m     \u001b[0mhandle_zero\u001b[0m\u001b[0;34m(\u001b[0m\u001b[0;34m)\u001b[0m\u001b[0;34m\u001b[0m\u001b[0;34m\u001b[0m\u001b[0m\n\u001b[1;32m      8\u001b[0m \u001b[0;34m\u001b[0m\u001b[0m\n",
      "\u001b[0;31mNameError\u001b[0m: name 'foo' is not defined"
     ]
    }
   ],
   "source": [
    "#좋은 예\n",
    "if not users:\n",
    "    print('사용자가 없음')\n",
    "\n",
    "if foo== 0:\n",
    "    handle_zero()\n",
    "\n",
    "if i%10== 0:\n",
    "    handle_multiple_of_ten()\n",
    "    \n",
    "#나쁜 예\n",
    "if len(users)== 0:\n",
    "    print('사용자가 없음')\n",
    "    \n",
    "if foo is not None and not foo:\n",
    "    handle_zero()\n",
    "    \n",
    "if not i%10:\n",
    "    handle_multiple_of_ten()"
   ]
  },
  {
   "cell_type": "markdown",
   "id": "fddec114",
   "metadata": {},
   "source": [
    "<h3>return 대 yield</h3>\n",
    "파이썬에서 제너레이터는 이터레이터를 작성하는 편리한 방법, 객체에 __iter__()와 __next__()메서드를 둘 다 정의하면 이터레이터 프로트콜을 구현한 셈, 이때 yield키워드를 사용하면 편리함<br><br>\n",
    "호출자가 메서드를 호출할 때 return 키워드는 반환값을 반환하고 메서드를 종료한 후, 호출자에게 제어를 반환, 반면 yield 키워드는 각 반환값을 호출자에게 반환하고, 반환값이 모두 소진되었을 때에만 메서드가 종료됨<br><br>\n",
    "이터레이터는 이터레이터 프로토콜을 구현하는 컨테이너 객체라고 할 수 있는데, 컨테이너의 다음 값을 반환하는 __next__()메서드와 이터레이터 자신을 반환하는 __iter__메서드를 기반으로 함<br><br>\n",
    "yield 키워드는 제너레이터 맥락에서 이터레이터를 만드는 아주 강력한 도구<br>\n",
    "제너레이터는 최종값을 반환하지만, 이터레이터는 yield 키워드를 사용하여 코드 실행 중에 값을 반환<br>\n",
    "즉, __next__()메서드를 호출할 때마다 어떤 값 하나를 추출한 후 해당 yield의 표현식의 값을 반환, 이렇게 이터레이터는 StopIteration예외가 발생할 때까지 값을 반환"
   ]
  },
  {
   "cell_type": "code",
   "execution_count": 12,
   "id": "f73092b0",
   "metadata": {},
   "outputs": [
    {
     "data": {
      "text/plain": [
       "3"
      ]
     },
     "execution_count": 12,
     "metadata": {},
     "output_type": "execute_result"
    }
   ],
   "source": [
    "a= [1, 2, 3]\n",
    "def f(a):\n",
    "    while a:\n",
    "        yield a.pop()\n"
   ]
  },
  {
   "cell_type": "markdown",
   "id": "a5a89106",
   "metadata": {},
   "source": [
    "제너레이터는 매우 강력하고 효율적<br>\n",
    "시퀀스를 반환하거나 반복문을 사용하는 함수를 다룰 때, 제너레이터를 고려할 수 있음"
   ]
  },
  {
   "cell_type": "code",
   "execution_count": 15,
   "id": "2b21b0c9",
   "metadata": {},
   "outputs": [
    {
     "name": "stdout",
     "output_type": "stream",
     "text": [
      "1\n",
      "1\n",
      "2\n"
     ]
    }
   ],
   "source": [
    "def fib_generator():\n",
    "    a, b= 0, 1\n",
    "    while True:\n",
    "        yield b\n",
    "        a, b= b, a+b\n",
    "\n",
    "if __name__== '__main__':\n",
    "    fib= fib_generator()\n",
    "    print(next(fib))\n",
    "    print(next(fib))\n",
    "    print(next(fib))"
   ]
  },
  {
   "cell_type": "markdown",
   "id": "3e5be7ec",
   "metadata": {},
   "source": [
    "<h3>break 대 continue</h3>\n",
    "반복문에서 break 키워드를 만나면, 바로 반복문을 빠져나감<br>\n",
    "반복문에서 continue 키워드를 만나면, 반복문의 다음 반복을 계속함<br>\n",
    "반복문에는 else절을 사용할 수 있는데, 이는 반복문이 종료되었을때(for문에서 리스트의 항목을 모두 순회했거나, while문에서 조건이 False가 되었을 때 실행) 다만, break문으로 반복문이 종료되는 경우에는 실행되지 않음 "
   ]
  },
  {
   "cell_type": "code",
   "execution_count": 18,
   "id": "13ec9c7f",
   "metadata": {},
   "outputs": [
    {
     "name": "stdout",
     "output_type": "stream",
     "text": [
      "0\n",
      "1\n",
      "2\n",
      "3\n",
      "\n",
      "\n",
      "1\n",
      "3\n",
      "5\n",
      "7\n",
      "9\n",
      "for문 종료!\n"
     ]
    }
   ],
   "source": [
    "for i in range(10):\n",
    "    if i ==4:\n",
    "        break\n",
    "    print(i)\n",
    "else:\n",
    "    print('for문 종료!')\n",
    "    \n",
    "print('\\n')\n",
    "    \n",
    "for i in range(10):\n",
    "    if i%2==0:\n",
    "        continue\n",
    "    print(i)\n",
    "else:\n",
    "    print('for문 종료!')"
   ]
  },
  {
   "cell_type": "markdown",
   "id": "c9d5c522",
   "metadata": {},
   "source": [
    "<h3>range()</h3>\n",
    "range() 메서드는 숫자 리스트를 생성, 숫자 시퀀스를 순회할 때 유용"
   ]
  },
  {
   "cell_type": "code",
   "execution_count": 22,
   "id": "21fbdcd4",
   "metadata": {},
   "outputs": [
    {
     "name": "stdout",
     "output_type": "stream",
     "text": [
      "0\n",
      "1\n",
      "2\n",
      "3\n",
      "4\n",
      "5\n",
      "6\n",
      "7\n",
      "8\n",
      "9\n",
      "\n",
      "\n",
      "0\n",
      "3\n",
      "6\n",
      "9\n"
     ]
    }
   ],
   "source": [
    "for i in range(10):\n",
    "    print(i)\n",
    "print('\\n')\n",
    "\n",
    "for i in range(0, 10, 3):\n",
    "    print(i)"
   ]
  },
  {
   "cell_type": "markdown",
   "id": "c41ca787",
   "metadata": {},
   "source": [
    "<h3>enumerate()</h3>\n",
    "enumerate() 메서드는 반복 가능한 객체의 인덱스 값과 항목 값의 튜플을 반환"
   ]
  },
  {
   "cell_type": "code",
   "execution_count": 37,
   "id": "145a2195",
   "metadata": {
    "scrolled": true
   },
   "outputs": [
    {
     "name": "stdout",
     "output_type": "stream",
     "text": [
      "0 a\n",
      "1 b\n",
      "2 c\n",
      "3 d\n"
     ]
    }
   ],
   "source": [
    "list_1= ['a', 'b', 'c', 'd']\n",
    "for i, v in enumerate(list_1):\n",
    "    print(i, v)"
   ]
  },
  {
   "cell_type": "markdown",
   "id": "97cff693",
   "metadata": {},
   "source": [
    "<h3>zip</h3>\n",
    "zip() 메서드는 2개 이상의 시퀀스를 인수로 취하여, 짧은 길이의 시퀀스를 기준으로 각 항목이 순서대로 1:1 대응하는 새로운 튜플 시퀀스를 만듦"
   ]
  },
  {
   "cell_type": "code",
   "execution_count": 2,
   "id": "ab8a75e5",
   "metadata": {
    "scrolled": true
   },
   "outputs": [
    {
     "data": {
      "text/plain": [
       "[(1, 'a'), (2, 'b'), (3, 'c'), (4, 'd'), (5, 'e')]"
      ]
     },
     "execution_count": 2,
     "metadata": {},
     "output_type": "execute_result"
    }
   ],
   "source": [
    "a= [1, 2, 3, 4, 5]\n",
    "b= ['a', 'b', 'c', 'd', 'e']\n",
    "list(zip(a, b))"
   ]
  },
  {
   "cell_type": "markdown",
   "id": "f7f63f28",
   "metadata": {},
   "source": [
    "<h3>filter()</h3>\n",
    "filter 메서드는 시퀀스의 항목들 중 함수 조건이 참(True)인 항목만 추출해서 구성된 시퀀스를 반환"
   ]
  },
  {
   "cell_type": "code",
   "execution_count": 3,
   "id": "0ce421c2",
   "metadata": {},
   "outputs": [
    {
     "name": "stdout",
     "output_type": "stream",
     "text": [
      "False\n",
      "True\n"
     ]
    },
    {
     "data": {
      "text/plain": [
       "[5, 7, 11, 13, 17, 19, 23]"
      ]
     },
     "execution_count": 3,
     "metadata": {},
     "output_type": "execute_result"
    }
   ],
   "source": [
    "def f(x):\n",
    "    return x%2!=0 and x%3!= 0\n",
    "\n",
    "print(f(33))\n",
    "print(f(17))\n",
    "list(filter(f, range(2, 25)))"
   ]
  },
  {
   "cell_type": "markdown",
   "id": "a70470af",
   "metadata": {},
   "source": [
    "<h3>map</h3>\n",
    "map(function, list) 메서드는 시퀀스의 모든 항목에 함수를 적용한 결과 리스트를 반환"
   ]
  },
  {
   "cell_type": "code",
   "execution_count": 5,
   "id": "21051f4b",
   "metadata": {},
   "outputs": [
    {
     "name": "stdout",
     "output_type": "stream",
     "text": [
      "[1, 8, 27, 64, 125, 216, 343, 512, 729, 1000]\n",
      "[(0, 0), (1, 1), (2, 4), (3, 9), (4, 16), (5, 25), (6, 36), (7, 49)]\n"
     ]
    }
   ],
   "source": [
    "def cube(x):\n",
    "    return x*x*x\n",
    "print(list(map(cube, range(1, 11))))\n",
    "seq= range(8)\n",
    "def square(x):\n",
    "    return x*x\n",
    "print(list(zip(seq, map(square, seq))))"
   ]
  },
  {
   "cell_type": "markdown",
   "id": "ed0075f0",
   "metadata": {},
   "source": [
    "<h3>람다 함수</h3>\n",
    "람다 함수를 쓰면 코드 내에서 함수를 간결하게 동적으로 사용할 수 있음"
   ]
  },
  {
   "cell_type": "code",
   "execution_count": 8,
   "id": "ccd872e8",
   "metadata": {},
   "outputs": [
    {
     "name": "stdout",
     "output_type": "stream",
     "text": [
      "10.0\n"
     ]
    }
   ],
   "source": [
    "def area(b, h):\n",
    "    return 0.5*b*h\n",
    "\n",
    "print(area(5, 4))"
   ]
  },
  {
   "cell_type": "code",
   "execution_count": 11,
   "id": "3db41c3f",
   "metadata": {},
   "outputs": [
    {
     "name": "stdout",
     "output_type": "stream",
     "text": [
      "defaultdict(<function <lambda> at 0x72aaab49d0>, {})\n"
     ]
    }
   ],
   "source": [
    "area= lambda b, h:0.5*b*h\n",
    "area(5, 4)\n",
    "\n",
    "#람다 함수는 defaultdict에서 키 생성 시 매우 유용(누락된 키에 대한 기본 값 설정시)\n",
    "import collections\n",
    "minus_one_dict= collections.defaultdict(lambda: -1)\n",
    "point_zero_dict= collections.defaultdict(lambda:(0, 0))\n",
    "message_dict= collections.defaultdict(lambda: 'No message')"
   ]
  },
  {
   "cell_type": "code",
   "execution_count": null,
   "id": "6d54f3ae",
   "metadata": {},
   "outputs": [],
   "source": []
  }
 ],
 "metadata": {
  "kernelspec": {
   "display_name": "Python 3 (ipykernel)",
   "language": "python",
   "name": "python3"
  },
  "language_info": {
   "codemirror_mode": {
    "name": "ipython",
    "version": 3
   },
   "file_extension": ".py",
   "mimetype": "text/x-python",
   "name": "python",
   "nbconvert_exporter": "python",
   "pygments_lexer": "ipython3",
   "version": "3.9.7"
  },
  "toc": {
   "base_numbering": 1,
   "nav_menu": {},
   "number_sections": true,
   "sideBar": true,
   "skip_h1_title": false,
   "title_cell": "Table of Contents",
   "title_sidebar": "Contents",
   "toc_cell": false,
   "toc_position": {},
   "toc_section_display": true,
   "toc_window_display": false
  },
  "varInspector": {
   "cols": {
    "lenName": 16,
    "lenType": 16,
    "lenVar": 40
   },
   "kernels_config": {
    "python": {
     "delete_cmd_postfix": "",
     "delete_cmd_prefix": "del ",
     "library": "var_list.py",
     "varRefreshCmd": "print(var_dic_list())"
    },
    "r": {
     "delete_cmd_postfix": ") ",
     "delete_cmd_prefix": "rm(",
     "library": "var_list.r",
     "varRefreshCmd": "cat(var_dic_list()) "
    }
   },
   "types_to_exclude": [
    "module",
    "function",
    "builtin_function_or_method",
    "instance",
    "_Feature"
   ],
   "window_display": false
  }
 },
 "nbformat": 4,
 "nbformat_minor": 5
}
