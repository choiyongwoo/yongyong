{
 "cells": [
  {
   "cell_type": "markdown",
   "id": "8d3c6ae9",
   "metadata": {},
   "source": [
    "<h2>파일 처리</h2>"
   ]
  },
  {
   "cell_type": "code",
   "execution_count": 1,
   "id": "f29ccdc9",
   "metadata": {},
   "outputs": [
    {
     "name": "stdout",
     "output_type": "stream",
     "text": [
      "[Errno 2] No such file or directory: '-f'\n"
     ]
    }
   ],
   "source": [
    "#파일을 읽어서 모든 빈줄을 제거하는 코드\n",
    "import sys\n",
    "\n",
    "def read_data(filename):\n",
    "    lines= []\n",
    "    fh= None\n",
    "    try:\n",
    "        fh= open(filename)\n",
    "        for line in fh:\n",
    "            if line.strip():\n",
    "                lines.append(line)\n",
    "    except (IOError, OSError) as err:\n",
    "        print(err)\n",
    "    finally:\n",
    "        if fh is not None:\n",
    "            fh.close()\n",
    "    return lines\n",
    "\n",
    "def write_data(lines, filename):\n",
    "    fh= None\n",
    "    try:\n",
    "        fh= open(filename, 'w')\n",
    "        for line in lines:\n",
    "            fh.write(line)\n",
    "    except (EnvironmentError) as err:\n",
    "        print(err)\n",
    "    finally:\n",
    "        if fh is not None:\n",
    "            fh.close()\n",
    "\n",
    "def remove_blank_lines():\n",
    "    if len(sys.argv)< 2:\n",
    "        print('UsageL python{0} [file ...]'.format(sys.argv[0]))\n",
    "    \n",
    "    for filename in sys.argv[1:]:\n",
    "        lines= read_data(filename)\n",
    "        if lines:\n",
    "            write_data(lines, filename)\n",
    "            \n",
    "if __name__=='__main__':\n",
    "    remove_blank_lines()\n",
    "                "
   ]
  },
  {
   "cell_type": "code",
   "execution_count": null,
   "id": "248c9ccd",
   "metadata": {},
   "outputs": [],
   "source": [
    "#with문을 사용\n",
    "import sys\n",
    "\n",
    "def read_data(filename):\n",
    "    lines= []\n",
    "    with open(fiename) as fh:\n",
    "        for line in fh:\n",
    "            if line.strip():\n",
    "                lines.append(line)\n",
    "    return lines\n",
    "\n",
    "def write_data(lines, filename):\n",
    "    fh= None\n",
    "    with open(filename, 'w') as fh:\n",
    "        for line in lines:\n",
    "            fh.write(line)\n",
    "\n",
    "def remove_blank_lines():\n",
    "    if len(sys.argv)< 2:\n",
    "        print('UsageL python {0} [file...]'.format(sys.argv[0]))\n",
    "        \n",
    "    for filename in sys.argv[1:]:\n",
    "        lines= read_data(filename)\n",
    "        if lines:\n",
    "            write_data(fileaname)\n",
    "\n",
    "if __name__=='__main__':\n",
    "    remove_blank_lines()"
   ]
  },
  {
   "cell_type": "markdown",
   "id": "8bb6aaa6",
   "metadata": {},
   "source": [
    "<h3>파일 처리 메서드</h3>\n",
    "open(filename, mode, encoding) 메서드는 파일 객체를 반환<br>\n",
    "모드와 인코딩인수는 옵션이며, 생략하면 텍스트 읽기 모드와 시스템 기본 형식 인코딩이 적용<br>\n",
    "모드는 문자열로 지정하며 종류는 다음과 같음<br>\n",
    "r: 읽기 모드<br>\n",
    "w: 쓰기 모드(동명 파일이 있으면 그 파일을 지우고 내용을 새로 씀)<br>\n",
    "a:추가 모드(동명 파일이 있으면, 그 파일 끝에 내용을 추가)<br>\n",
    "r+: 읽기와 쓰기모드<br>\n",
    "t: 텍스트 모드<br>\n",
    "b: 바이너리 모드<br><br>\n",
    "fin= open(filename, encoding='utf8')<br>\n",
    "fout= open(filename, 'w', encoding='utf8')"
   ]
  },
  {
   "cell_type": "code",
   "execution_count": 18,
   "id": "adc55010",
   "metadata": {},
   "outputs": [
    {
     "data": {
      "text/plain": [
       "'전체 내용입니다'"
      ]
     },
     "execution_count": 18,
     "metadata": {},
     "output_type": "execute_result"
    }
   ],
   "source": [
    "#read\n",
    "#read(size) 메서든는 파일에서 size만큼의 내용을 읽고, 문자열로 반환\n",
    "#인수가 생략되거나 음수이면, 전체 파일의 내용을 읽고 반환\n",
    "\n",
    "r= open('test.txt', mode='rt', encoding='utf-8')\n",
    "r.read()\n"
   ]
  },
  {
   "cell_type": "code",
   "execution_count": 19,
   "id": "408088c9",
   "metadata": {},
   "outputs": [],
   "source": [
    "#readline()\n",
    "#파일에서 한줄을 읽음\n",
    "#개행 문자는 문자열의 끝에 남으며, 파일의 마지막 행에서만 생략"
   ]
  },
  {
   "cell_type": "code",
   "execution_count": 21,
   "id": "b2f9e1a6",
   "metadata": {},
   "outputs": [
    {
     "data": {
      "text/plain": [
       "['전체 내용입니다유행가 유행가 신나는노래\\n', ' 나도한번 불러보자']"
      ]
     },
     "execution_count": 21,
     "metadata": {},
     "output_type": "execute_result"
    }
   ],
   "source": [
    "#readlines()\n",
    "#파일의 모든 데이터 행을 포함한 리스트를 반환\n",
    "#readlines(size) 메서드에 size를 지정하면, 파일에서 해당 바이트 수만큼 읽고, 한 행을 완성하는데 필요한 만큼 더 읽어서 반환\n",
    "f= open('test.txt', mode='at', encoding='utf-8')\n",
    "f.write('유행가 유행가 신나는노래\\n 나도한번 불러보자')\n",
    "f.close()\n",
    "r= open('test.txt', mode='rt', encoding='utf-8')\n",
    "r.readlines()"
   ]
  },
  {
   "cell_type": "code",
   "execution_count": 23,
   "id": "1dfb5040",
   "metadata": {},
   "outputs": [],
   "source": [
    "#write()\n",
    "#데이터를 파일에 쓰고, None을 반환, 바이너리 모드에서는 바이트 또는 바이트 배열 객체를 쓰고,\n",
    "#텍스트 모드에서는 문자열 객체를 씀\n",
    "f= open('test2.txt', mode='wt')\n",
    "f.write('심심해 심심해 심심해~')\n",
    "f.close()"
   ]
  },
  {
   "cell_type": "code",
   "execution_count": 24,
   "id": "4e916fd6",
   "metadata": {},
   "outputs": [],
   "source": [
    "#tell(), seek()\n",
    "#tell()메서드는 파일의 현재 위치를 나타내는 정수를 반환\n",
    "#파일의 위치는 시작 부분에서 바이트 단위로 측정\n",
    "\n",
    "#seek(offset, from-what) 메서드는 파일 내 탐색 위치를 변경할 때 사용\n",
    "#파일 위치는 기준이 되는 참조 포인트 from-what에 오프셋 offset을 더한 값으로 계산\n",
    "#from-what인수를 0으로 지정하면 기준이 파일의 처음 위치가 되고\n",
    "#1은 파일의 현재 위치, 2는 파일의 마지막 위치를 기준으로 삼게 됨"
   ]
  },
  {
   "cell_type": "code",
   "execution_count": 25,
   "id": "3c90b11c",
   "metadata": {},
   "outputs": [],
   "source": [
    "#close()\n",
    "#파일을 닫고, 열린 파일이 차지하는 시스템 자원을 해제, 파일을 성공적으로 닫으면 True 반환"
   ]
  },
  {
   "cell_type": "code",
   "execution_count": 26,
   "id": "939adb75",
   "metadata": {},
   "outputs": [],
   "source": [
    "#input()\n",
    "#input() 함수는 사용자의 입력을 받음\n",
    "#콘솔에 출력될 문자열을 선택적으로 지정할 수 있음\n",
    "#사용자가 텍스트를 입력하고 엔터키를 누를 때까지 기다림\n",
    "#사용자가 텍스트를 입력하지 않고 엔터키만 누르면, 빈 문자열을 반환\n",
    "#텍스트를 입력하고 엔터 키를 누르면, 사용자가 입력한 내용이 담긴 문자열을 반환\n"
   ]
  },
  {
   "cell_type": "code",
   "execution_count": 27,
   "id": "0c7f65b0",
   "metadata": {},
   "outputs": [
    {
     "name": "stdout",
     "output_type": "stream",
     "text": [
      "Enter your age: 25\n"
     ]
    }
   ],
   "source": [
    "def get_int(msg):\n",
    "    while True:\n",
    "        try:\n",
    "            i= int(input(msg))\n",
    "            return i\n",
    "        except ValueError as err:\n",
    "            print(err)\n",
    "            \n",
    "age= get_int('Enter your age: ')\n"
   ]
  },
  {
   "cell_type": "code",
   "execution_count": 28,
   "id": "9ac1c7ff",
   "metadata": {},
   "outputs": [],
   "source": [
    "#peek()\n",
    "#peek(n) 메서드는 파일 포인터 위치를 이동하지 않고, n바이트를 반환"
   ]
  },
  {
   "cell_type": "code",
   "execution_count": 29,
   "id": "7a98a6a7",
   "metadata": {},
   "outputs": [],
   "source": [
    "#fileno()\n",
    "#파일 서술자를 반환(파일 서술자를 가진 파일 객체에서만 사용 가능)"
   ]
  },
  {
   "cell_type": "markdown",
   "id": "75ecbf15",
   "metadata": {},
   "source": [
    "<h3>shutil 모듈</h3>\n",
    "shutil 모듈은 시스템에서 파일을 조작할 때 유용"
   ]
  },
  {
   "cell_type": "code",
   "execution_count": null,
   "id": "9bb0013a",
   "metadata": {},
   "outputs": [],
   "source": [
    "#터미널에서 파일 및 확장자를 지정하면 새 확장자의 이름으로 복사본을 만듦\n",
    "import os\n",
    "import sys\n",
    "import shutil\n",
    "\n",
    "#터미널에서 python 뒤에 나열하는 것부터 sys.argv[0]\n",
    "def change_file_ext():\n",
    "    if len(sys.argv)< 2:\n",
    "        print('Usage: python {0} filename.old_ext \"new_ext\"'.format(sys.argv[0]))\n",
    "        sys.exit()\n",
    "    \n",
    "    #os.path.splitext() 파일명을 이름과 확장자로 분리해서 반환하는 함수\n",
    "    name= os.path.splitext(sys.argv[1])[0]+'.'+sys.argv[2]\n",
    "    print(name)\n",
    "    \n",
    "    try:\n",
    "        #shutil.copyfile(파일, 확장자) 파일과 확장자를 지정하여 새 확장자의 이름으로 복사본을 만드는 는 함수\n",
    "        shutil.copyfile(sys.argv[1], name)\n",
    "    except OSError as err:\n",
    "        print(err)\n",
    "\n",
    "if __name__=='__main__':\n",
    "    change_file_ext()"
   ]
  },
  {
   "cell_type": "markdown",
   "id": "f833ab30",
   "metadata": {},
   "source": [
    "<h3>pickle 모듈</h3>\n",
    "pickle 모듈은 파이썬 객체를 가져와서 문자열 표현으로 변환<br>\n",
    "이러한 과정을 피클링(직렬화)이라고 함<br>\n",
    "반대로 문자열 표현을 객체로 재구성하는 것을 언피클링(역직렬화)이라 함<br>\n",
    "파이썬 3에서 pickle 모듈을 사용하려면, 바이너리 모드로 파일에 접근해야함<br>\n",
    "리스트나 클래스 같은 텍스트가 아닌 자료형은 일반적인 파일 입출력 방법으로는 데이터를 저장하거나 불러올 수 없음"
   ]
  },
  {
   "cell_type": "code",
   "execution_count": 1,
   "id": "ee7d038a",
   "metadata": {
    "scrolled": true
   },
   "outputs": [
    {
     "data": {
      "text/plain": [
       "{'name': '아스틴', 'age': 23}"
      ]
     },
     "execution_count": 1,
     "metadata": {},
     "output_type": "execute_result"
    }
   ],
   "source": [
    "import pickle\n",
    "x= {}\n",
    "x['name']= '아스틴'\n",
    "x['age']= 23\n",
    "with open('name.pkl', 'wb') as f: #피클링\n",
    "    pickle.dump(x, f)\n",
    "    \n",
    "with open('name.pkl', 'rb') as f: #언피클링\n",
    "    #pickle.load()를 사용하려면 pickle.dump를 사용해서 넣은 데이터 파일만 가능\n",
    "    name= pickle.load(f) #단, 한줄씩 불러오기 가능\n",
    "    \n",
    "name"
   ]
  },
  {
   "cell_type": "markdown",
   "id": "61613cd5",
   "metadata": {},
   "source": [
    "<h3>struct 모듈</h3>\n",
    "struct 모듈을 사용하면 파이썬 객체를 이진 표현으로 변환하거나, 이진 표현을 파이썬 객체로 변환할 수 있음<br>\n",
    "객체는 특정 길이의 문자열만 처리할 수 있음<br><br>\n",
    "struct.pack() 함수는 struct 형식의 문자열과 값을 취하여 바이트 객체를 반환<br>\n",
    "struct.unpack() 함수는 struct 형식의 문자열과 바이트 또는 바이트 배열 객체를 취하여 값을 반환<br>\n",
    "struct.calcsize() 함수는 struct 형식의 문자열을 취하여, struct형식이 차지할 바이트 수를 반환"
   ]
  },
  {
   "cell_type": "code",
   "execution_count": 4,
   "id": "06b31d58",
   "metadata": {},
   "outputs": [
    {
     "name": "stdout",
     "output_type": "stream",
     "text": [
      "b'\\x00\\x01\\x00\\x02\\x00\\x00\\x00\\x03'\n",
      "(1, 2, 3)\n",
      "8\n"
     ]
    }
   ],
   "source": [
    "import struct\n",
    "abc= struct.pack('>hhl', 1, 2, 3)\n",
    "print(abc)\n",
    "print(struct.unpack('>hhl', abc))\n",
    "print(struct.calcsize('>hhl'))\n"
   ]
  },
  {
   "cell_type": "markdown",
   "id": "c7e369ef",
   "metadata": {},
   "source": [
    "struct 형식 >hhl이 의미하는 바<br>\n",
    "'>' 는 빅엔디언을 의미(<는 리틀엔디언)<br>\n",
    "h는 c타입으로 short를 나타내고, l은 long을 나타냄<br>"
   ]
  },
  {
   "cell_type": "code",
   "execution_count": null,
   "id": "b8b6d139",
   "metadata": {},
   "outputs": [],
   "source": []
  }
 ],
 "metadata": {
  "kernelspec": {
   "display_name": "Python 3 (ipykernel)",
   "language": "python",
   "name": "python3"
  },
  "language_info": {
   "codemirror_mode": {
    "name": "ipython",
    "version": 3
   },
   "file_extension": ".py",
   "mimetype": "text/x-python",
   "name": "python",
   "nbconvert_exporter": "python",
   "pygments_lexer": "ipython3",
   "version": "3.9.7"
  },
  "toc": {
   "base_numbering": 1,
   "nav_menu": {},
   "number_sections": true,
   "sideBar": true,
   "skip_h1_title": false,
   "title_cell": "Table of Contents",
   "title_sidebar": "Contents",
   "toc_cell": false,
   "toc_position": {},
   "toc_section_display": true,
   "toc_window_display": false
  },
  "varInspector": {
   "cols": {
    "lenName": 16,
    "lenType": 16,
    "lenVar": 40
   },
   "kernels_config": {
    "python": {
     "delete_cmd_postfix": "",
     "delete_cmd_prefix": "del ",
     "library": "var_list.py",
     "varRefreshCmd": "print(var_dic_list())"
    },
    "r": {
     "delete_cmd_postfix": ") ",
     "delete_cmd_prefix": "rm(",
     "library": "var_list.r",
     "varRefreshCmd": "cat(var_dic_list()) "
    }
   },
   "types_to_exclude": [
    "module",
    "function",
    "builtin_function_or_method",
    "instance",
    "_Feature"
   ],
   "window_display": false
  }
 },
 "nbformat": 4,
 "nbformat_minor": 5
}
