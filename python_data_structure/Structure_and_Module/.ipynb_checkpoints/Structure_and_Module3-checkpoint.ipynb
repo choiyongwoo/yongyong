{
 "cells": [
  {
   "cell_type": "markdown",
   "id": "bf2d4557",
   "metadata": {},
   "source": [
    "<h2>오류 처리</h2>\n",
    "파이썬 코드를 컴파일할 때, 발생할 수 있는 두 가지 종류의 오류<br>\n",
    "구문 오류(구문 분석 오류)와 예외(실행 중 발견되는 오류로 무조건적으로 치명적인것은 아님)<br>\n",
    "구문 오류가 있으면 컴파일이 아예 안되지만, 예외는 실행중에야 발견할 수 있으므로 신중하게 처리해야 함\n",
    "<h3>예외 처리</h3>\n",
    "예외가 발생했는데도 이를 코드 내에서 처리하지 않았다면, 파이썬은 예외의 오류 메시지와 함께 트레이스백(역추적)을 출력<br>\n",
    "트레이스백은 처리되지 않은 예외가 발생한 지점에서 호출 스택 맨 위까지 수행된 모든 호출 목록을 포함<br>\n",
    "파이썬에서는 try-except-finally문을 사용하여 예측 가능한 예외를 처리할 수 있음<br><br>\n",
    "try:<br>\n",
    "    예외 발생이 예측되는 코드<br>\n",
    "except 예외1 as 예외_변수1:<br>\n",
    "    예외처리1<br>\n",
    "...<br>\n",
    "except 예외N as 예외_변수N:<br>\n",
    "    예외 처리N<br><br>\n",
    "\n",
    "try문의 예외 발생이 예측되는 코드가 예외를 발생시키지 않고 실행되면, except문은 건너뜀, try문 블록에서 예외가 발생했다면, 해당 예외의 except문으로 즉시 건너뛰어 예외 처리코드가 실행"
   ]
  },
  {
   "cell_type": "code",
   "execution_count": 1,
   "id": "9bebb3f1",
   "metadata": {},
   "outputs": [
    {
     "name": "stdout",
     "output_type": "stream",
     "text": [
      "숫자를 입력a\n",
      "숫자가 아님, 다시 입력하세요\n",
      "숫자를 입력-\n",
      "숫자가 아님, 다시 입력하세요\n",
      "숫자를 입력12\n"
     ]
    }
   ],
   "source": [
    "while True:\n",
    "    try:\n",
    "        x= int(input('숫자를 입력'))\n",
    "        break\n",
    "    except ValueError:\n",
    "        print('숫자가 아님, 다시 입력하세요')\n"
   ]
  },
  {
   "cell_type": "code",
   "execution_count": 3,
   "id": "773dfaa0",
   "metadata": {},
   "outputs": [
    {
     "name": "stdout",
     "output_type": "stream",
     "text": [
      "예외발생:<class 'ZeroDivisionError'>\n"
     ]
    },
    {
     "ename": "ZeroDivisionError",
     "evalue": "division by zero",
     "output_type": "error",
     "traceback": [
      "\u001b[0;31m---------------------------------------------------------------------------\u001b[0m",
      "\u001b[0;31mZeroDivisionError\u001b[0m                         Traceback (most recent call last)",
      "\u001b[0;32m/data/user/0/ru.iiec.pydroid3/cache/ipykernel_15715/3539708979.py\u001b[0m in \u001b[0;36m<module>\u001b[0;34m\u001b[0m\n\u001b[1;32m      3\u001b[0m \u001b[0;32mimport\u001b[0m \u001b[0msys\u001b[0m\u001b[0;34m\u001b[0m\u001b[0;34m\u001b[0m\u001b[0m\n\u001b[1;32m      4\u001b[0m \u001b[0;32mtry\u001b[0m\u001b[0;34m:\u001b[0m\u001b[0;34m\u001b[0m\u001b[0;34m\u001b[0m\u001b[0m\n\u001b[0;32m----> 5\u001b[0;31m     \u001b[0;36m1\u001b[0m\u001b[0;34m/\u001b[0m\u001b[0;36m0\u001b[0m \u001b[0;31m#ZeroDivisionError 발생\u001b[0m\u001b[0;34m\u001b[0m\u001b[0;34m\u001b[0m\u001b[0m\n\u001b[0m\u001b[1;32m      6\u001b[0m     \u001b[0mf\u001b[0m\u001b[0;34m=\u001b[0m \u001b[0mopen\u001b[0m\u001b[0;34m(\u001b[0m\u001b[0;34m'myfile.txt'\u001b[0m\u001b[0;34m)\u001b[0m\u001b[0;34m\u001b[0m\u001b[0;34m\u001b[0m\u001b[0m\n\u001b[1;32m      7\u001b[0m     \u001b[0ms\u001b[0m\u001b[0;34m=\u001b[0m \u001b[0mf\u001b[0m\u001b[0;34m.\u001b[0m\u001b[0mreadline\u001b[0m\u001b[0;34m(\u001b[0m\u001b[0;34m)\u001b[0m\u001b[0;34m\u001b[0m\u001b[0;34m\u001b[0m\u001b[0m\n",
      "\u001b[0;31mZeroDivisionError\u001b[0m: division by zero"
     ]
    }
   ],
   "source": [
    "#raise문을 사용하여 특정 예외를 의도적으로 발생시킬 수 있음\n",
    "#raise문을 만나면 에러 발생, raise+ 예외처리이름 으로 넣으면 해당 예외처리로 나옴\n",
    "import string\n",
    "import sys\n",
    "try:\n",
    "    1/0 #ZeroDivisionError 발생\n",
    "    f= open('myfile.txt')\n",
    "    s= f.readline()\n",
    "    i= int(string.strip(s))\n",
    "except IOError as err:\n",
    "    #errno, strerror= err.args\n",
    "    print(err)\n",
    "except ValueError:\n",
    "    print('데이터를 숫자로 변환할 수 없음')\n",
    "except:\n",
    "    print('예외발생:{0}'.format(sys.exc_info()[0]))\n",
    "    raise"
   ]
  },
  {
   "cell_type": "markdown",
   "id": "2240550b",
   "metadata": {},
   "source": [
    "<h3>예외 처리에 대한 구글 파이썬 스타일 가이드</h3>\n",
    "raise MyError('오류메시지') 또는 raise MyError와 같이 예외를 발생시킬 것, 두 개의 인수 형식을 사용하지 않는다(즉, raise MyError, '오류메시지' x)<br><br>\n",
    "내장 예외 클래스를 적절하게 사용할 것, 예를 들어 어떤 함수에서 예상 인수값이 양수이지만 음수를 전달받았다면 ValueError 예외 발생시키기<br>\n",
    "여기서 공개 API의 인수 값을 확인하는 데 assert문은 사용하지 않음<br>\n",
    "assert문은 내부적으로 정확성을 보장하기 위해 사용하는 것이 좋음<br><br>\n",
    "라이브러리 또는 패키지에 따라 자체적인 예외를 정의하는 게 좋음, 이 경우 내장 Exception클래스를 상속<br>\n",
    "예외이름은 Error로 끝나야하며, foo.FooError처럼 foo.가 붙으면 안됨<br><br>\n",
    "모든 예외를 처리하는 except:, except, Exception, except StandardError문을 사용하지 않을 것<br>\n",
    "파이썬은 이점에 대해 매우 관용적이라 처리를 원하는 게 아닌 모든 종류의 예외까지 처리해버림<br><br>\n",
    "try/except 블록 내 코드의 양을 최소화할 것<br>\n",
    "try문에 걸리는 코드가 많을수록, 예외를 발생시키지 않을 것으로 예상한 코드줄에서 예외가 발생할 확률이 높아짐<br>\n",
    "이러한 경우 실제 오류를 발견하기 어려움<br><br>\n",
    "try문에서 예외가 발생하는지 여부에 관계없이 finally문을 꼭 사용할 것 <br>\n",
    "파일 닫기와 같이 자원을 정리하는데 유용<br><br>\n",
    "예외를 처리할 때는 다음과 같이 쉼표(,) 대신 as를 사용<br>\n",
    "try:<br>\n",
    "    raise Error<br>\n",
    "except Error as error:<br>\n",
    "    pass"
   ]
  },
  {
   "cell_type": "code",
   "execution_count": null,
   "id": "43927b33",
   "metadata": {},
   "outputs": [],
   "source": []
  }
 ],
 "metadata": {
  "kernelspec": {
   "display_name": "Python 3 (ipykernel)",
   "language": "python",
   "name": "python3"
  },
  "language_info": {
   "codemirror_mode": {
    "name": "ipython",
    "version": 3
   },
   "file_extension": ".py",
   "mimetype": "text/x-python",
   "name": "python",
   "nbconvert_exporter": "python",
   "pygments_lexer": "ipython3",
   "version": "3.9.7"
  },
  "toc": {
   "base_numbering": 1,
   "nav_menu": {},
   "number_sections": true,
   "sideBar": true,
   "skip_h1_title": false,
   "title_cell": "Table of Contents",
   "title_sidebar": "Contents",
   "toc_cell": false,
   "toc_position": {},
   "toc_section_display": true,
   "toc_window_display": false
  },
  "varInspector": {
   "cols": {
    "lenName": 16,
    "lenType": 16,
    "lenVar": 40
   },
   "kernels_config": {
    "python": {
     "delete_cmd_postfix": "",
     "delete_cmd_prefix": "del ",
     "library": "var_list.py",
     "varRefreshCmd": "print(var_dic_list())"
    },
    "r": {
     "delete_cmd_postfix": ") ",
     "delete_cmd_prefix": "rm(",
     "library": "var_list.r",
     "varRefreshCmd": "cat(var_dic_list()) "
    }
   },
   "types_to_exclude": [
    "module",
    "function",
    "builtin_function_or_method",
    "instance",
    "_Feature"
   ],
   "window_display": false
  }
 },
 "nbformat": 4,
 "nbformat_minor": 5
}
