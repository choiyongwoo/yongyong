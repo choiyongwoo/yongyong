{
 "cells": [
  {
   "cell_type": "markdown",
   "id": "1a240383",
   "metadata": {},
   "source": [
    "<h1>넘파이</h1>\n",
    "<h2>넘파이 ndarray 개요</h2>"
   ]
  },
  {
   "cell_type": "code",
   "execution_count": 5,
   "id": "7fa09b92",
   "metadata": {},
   "outputs": [
    {
     "name": "stdout",
     "output_type": "stream",
     "text": [
      "<class 'numpy.ndarray'>\n",
      "(3,)\n",
      "(2, 3)\n",
      "1\n",
      "2\n"
     ]
    }
   ],
   "source": [
    "import numpy as np\n",
    "array1= np.array([1, 2, 3])\n",
    "print(type(array1))\n",
    "print(array1.shape)\n",
    "array2= np.array([[1, 2, 3],\n",
    "                 [4, 5, 6]])\n",
    "print(array2.shape)\n",
    "print(array1.ndim) #ndarray의 차원을 나타냄\n",
    "print(array2.ndim)\n"
   ]
  },
  {
   "cell_type": "markdown",
   "id": "4155a6dc",
   "metadata": {},
   "source": [
    "<h2>ndarray의 데이터 타입</h2>\n",
    "숫자 값, 문자열 값, 부울 값 모두 가능<br>\n",
    "같은 데이터 타입끼리만 연산 가능<br>\n",
    "한개의 ndarray객체에 다른 데이터 타입이 같이 있을 수 없음(리스트는 가능)"
   ]
  },
  {
   "cell_type": "code",
   "execution_count": 7,
   "id": "208d3ead",
   "metadata": {},
   "outputs": [
    {
     "name": "stdout",
     "output_type": "stream",
     "text": [
      "['1' '2' 'dog' '4']\n"
     ]
    }
   ],
   "source": [
    "list=[1, 2, 'dog', 4]\n",
    "array1= np.array(list)\n",
    "print(array1) #ndarray는 다른 데이터 유형이 섞여있는 리스트를 ndarray로 변환하면, 데이터 크기가 더 큰 타입으로 형 일괄 변환\n"
   ]
  },
  {
   "cell_type": "code",
   "execution_count": 8,
   "id": "5aed2646",
   "metadata": {},
   "outputs": [
    {
     "name": "stdout",
     "output_type": "stream",
     "text": [
      "[1. 2. 3.] float64\n"
     ]
    }
   ],
   "source": [
    "#ndarray내 데이터 값 타입 변경\n",
    "#메모리를 절약해야할 때 주로 이용\n",
    "array_int= np.array([1, 2, 3])\n",
    "array_float= array_int.astype('float64')\n",
    "print(array_float, array_float.dtype)"
   ]
  },
  {
   "cell_type": "markdown",
   "id": "76f85ae3",
   "metadata": {},
   "source": [
    "<h2>ndarray를 편하게 생성 - arange, zeros, ones</h2>"
   ]
  },
  {
   "cell_type": "code",
   "execution_count": 10,
   "id": "ccca1b09",
   "metadata": {},
   "outputs": [
    {
     "name": "stdout",
     "output_type": "stream",
     "text": [
      "[0 1 2 3 4] <class 'numpy.ndarray'>\n",
      "[1 3 5 7 9] <class 'numpy.ndarray'>\n"
     ]
    }
   ],
   "source": [
    "#arange()는 range와 유사하게 0부터 함수 인자 -1까지 ndarray반환\n",
    "sequence= np.arange(5)\n",
    "print(sequence, type(sequence))\n",
    "sequence2= np.arange(1, 10, 2)\n",
    "print(sequence2, type(sequence2))"
   ]
  },
  {
   "cell_type": "code",
   "execution_count": 16,
   "id": "d2754b3a",
   "metadata": {},
   "outputs": [
    {
     "name": "stdout",
     "output_type": "stream",
     "text": [
      "[[0. 0. 0.]\n",
      " [0. 0. 0.]] float64\n",
      "[[1 1 1 1]\n",
      " [1 1 1 1]\n",
      " [1 1 1 1]] int32\n"
     ]
    }
   ],
   "source": [
    "#zeros는 튜플 형태의 shape값을 입력하면 모든 값이 0으로 채워지고 해당 shape을 가진 ndarray반환\n",
    "zeros_array= np.zeros((2, 3)) #dtype을 입력하지 않으면 float64형 데이터로 채움\n",
    "print(zeros_array, zeros_array.dtype) \n",
    "\n",
    "#ones는 모든 값을 1로 채운 ndarray반환\n",
    "ones_array= np.ones((3, 4), dtype='int32')\n",
    "print(ones_array, ones_array.dtype)"
   ]
  },
  {
   "cell_type": "markdown",
   "id": "c25c9f7a",
   "metadata": {},
   "source": [
    "<h2>ndarray 차원과 크기 변경 </h2>"
   ]
  },
  {
   "cell_type": "code",
   "execution_count": 25,
   "id": "107c8cda",
   "metadata": {
    "scrolled": false
   },
   "outputs": [
    {
     "name": "stdout",
     "output_type": "stream",
     "text": [
      "[0 1 2 3 4 5 6 7 8 9]\n",
      "[[0 1 2 3 4]\n",
      " [5 6 7 8 9]]\n",
      "[[0 1 2 3 4]\n",
      " [5 6 7 8 9]]\n",
      "[[0 1]\n",
      " [2 3]\n",
      " [4 5]\n",
      " [6 7]\n",
      " [8 9]]\n",
      "[0 1 2 3 4 5 6 7]\n",
      "[[0]\n",
      " [1]\n",
      " [2]\n",
      " [3]\n",
      " [4]\n",
      " [5]\n",
      " [6]\n",
      " [7]]\n",
      "[[[0 1]\n",
      "  [2 3]]\n",
      "\n",
      " [[4 5]\n",
      "  [6 7]]]\n",
      "[[0]\n",
      " [1]\n",
      " [2]\n",
      " [3]\n",
      " [4]\n",
      " [5]\n",
      " [6]\n",
      " [7]]\n"
     ]
    }
   ],
   "source": [
    "#지정된 사이즈로 변환이 불가하면 에러\n",
    "array1= np.arange(10)\n",
    "print(array1)\n",
    "array2= array1.reshape(2, 5)\n",
    "print(array2)\n",
    "\n",
    "#reshape인자로 -1을 적용하는 경우, 행과 열중 고정된 것에 맞추어 변환\n",
    "array3= array1.reshape(-1, 5)\n",
    "print(array3)\n",
    "array4= array1.reshape(-1, 2)\n",
    "print(array4)\n",
    "\n",
    "#주로 reshape(-1 ,1)형태를 많이 사용하는데 reshape(-1, 1)은 ndarray가 어떤 형태라도 2차원이고 \n",
    "#여러개의 로우를 가지고 하나의 칼럼을 가지는 ndarray로 반환됨을 보장\n",
    "array1= np.arange(8)\n",
    "print(array1)\n",
    "array2= array1.reshape(-1, 1)\n",
    "print(array2)\n",
    "array3= array1.reshape(2, 2, 2)\n",
    "print(array3)\n",
    "array4= array3.reshape(-1, 1)\n",
    "print(array4)"
   ]
  },
  {
   "cell_type": "markdown",
   "id": "dff2ecb9",
   "metadata": {},
   "source": [
    "<h2>넘파이의 ndarray의 데이터 셋 선택하기 - 인덱싱</h2>\n",
    "1.특정한 데이터만 추출:원하는 위치의 인덱스값 지정<br>\n",
    "2.슬라이싱: 연속된 인덱스상의 ndarray 추출, 시작인덱스:종료인덱스, 종료인덱스 -1의 인덱스의 값까지 추출\n",
    "3.팬시 인덱싱:일정한 인덱싱 집합을 리스트 또는 ndarray형태로 지정<br>\n",
    "4.불린 인덱싱: 특정조건에 해당하는지 여부인 true/false값 인덱싱 집합을 기반으로 true에 해당하는 인덱스 위치에 있는 데이터 반환"
   ]
  },
  {
   "cell_type": "code",
   "execution_count": 39,
   "id": "85ca037c",
   "metadata": {},
   "outputs": [
    {
     "name": "stdout",
     "output_type": "stream",
     "text": [
      "1\n",
      "9\n",
      "8\n",
      "[[0 1]\n",
      " [2 3]\n",
      " [4 5]\n",
      " [6 7]]\n",
      "3\n"
     ]
    }
   ],
   "source": [
    "#단일값 추출\n",
    "array1= np.arange(10)\n",
    "print(array1[1])\n",
    "print(array1[-1]) #맨 뒤의 값\n",
    "print(array1[-2]) #맨 뒤에서 두번째 값\n",
    "\n",
    "#다차원 ndarray에서 단일 값 추출\n",
    "array1d= np.arange(8)\n",
    "array2d= array1d.reshape(-1, 2)\n",
    "print(array2d)\n",
    "print(array2d[1,1])"
   ]
  },
  {
   "cell_type": "code",
   "execution_count": 40,
   "id": "e278ae42",
   "metadata": {},
   "outputs": [
    {
     "name": "stdout",
     "output_type": "stream",
     "text": [
      "[1 2 3]\n",
      "[[1 2 3]\n",
      " [4 5 6]\n",
      " [7 8 9]]\n",
      "[[1 2]\n",
      " [4 5]]\n",
      "[4 5 6]\n"
     ]
    }
   ],
   "source": [
    "#슬라이싱\n",
    "array1= np.arange(1, 10)\n",
    "print(array1[0:3])\n",
    "#1. :기호앞에 시작 인덱스를 생략하면 0으로 간주\n",
    "#2. :기호 뒤에 종료 인덱스를 생략하면 마지막 인덱스로 간주\n",
    "#3. :기호 앞뒤를 모두 생략하면 맨처음/ 마지막 인덱스로 간주\n",
    "\n",
    "array2d= array1.reshape(-1, 3)\n",
    "print(array2d)\n",
    "print(array2d[0:2, 0:2])\n",
    "print(array2d[1]) #2차원 ndarray에서 열 인덱스를 생략하면 로우 축만 반환(1차원이 됨)"
   ]
  },
  {
   "cell_type": "code",
   "execution_count": 43,
   "id": "ded3c0cc",
   "metadata": {},
   "outputs": [
    {
     "name": "stdout",
     "output_type": "stream",
     "text": [
      "[2 5]\n",
      "[[4 5]\n",
      " [7 8]]\n"
     ]
    }
   ],
   "source": [
    "#팬시 인덱싱\n",
    "array1d= np.arange(1, 10)\n",
    "array2d= array1d.reshape(-1, 3)\n",
    "\n",
    "print(array2d[[0,1],1]) #로우 축에서 0,1인덱스, 칼럼 축에서 1인덱스\n",
    "print(array2d[[1, 2], 0:2]) #로우 축에서 1,2 인덱스, 칼럼 축에서 0,1인덱스"
   ]
  },
  {
   "cell_type": "code",
   "execution_count": 44,
   "id": "216d96f5",
   "metadata": {},
   "outputs": [
    {
     "name": "stdout",
     "output_type": "stream",
     "text": [
      "[6 7 8 9]\n"
     ]
    }
   ],
   "source": [
    "#불린 인덱싱\n",
    "array1d= np.arange(1, 10)\n",
    "array3d= array1d[array1d>5]\n",
    "print(array3d)\n",
    "#1. ndarray의 필터링 조건을 []안에 기재\n",
    "#2. true값에 해당하는 인덱스 값 저장\n",
    "#3. 저장된 인덱스 데이터 세트로 ndarray 조회\n"
   ]
  },
  {
   "cell_type": "markdown",
   "id": "542baed8",
   "metadata": {},
   "source": [
    "<h2>행렬의 정렬 - sort(), argsort()</h2>"
   ]
  },
  {
   "cell_type": "code",
   "execution_count": 57,
   "id": "a59cac15",
   "metadata": {},
   "outputs": [
    {
     "name": "stdout",
     "output_type": "stream",
     "text": [
      "[3 1 9 5]\n",
      "[1 3 5 9]\n",
      "[1 3 5 9]\n",
      "[9 5 3 1]\n",
      "[[4 3]\n",
      " [6 5]]\n",
      "[[5 6]\n",
      " [3 4]]\n",
      "[2 3 0 1]\n",
      "[2 0 4 1 3]\n",
      "['Judy' 'John' 'Karon' 'Mike' 'Sarah']\n"
     ]
    }
   ],
   "source": [
    "#1. np.sort 원행렬은 그대로 두고 원행렬의 정렬된 행렬 반환\n",
    "#2. ndarray.sort 원행렬을 정렬함, 반환값은 None\n",
    "org_array= np.array([3, 1, 9 ,5])\n",
    "print(org_array) #np.sort\n",
    "sort_array= np.sort(org_array)\n",
    "print(sort_array)\n",
    "org_array.sort() #ndarray.sort\n",
    "print(org_array)\n",
    "\n",
    "#내림차순 정렬\n",
    "org_array= np.array([3, 1, 9, 5])\n",
    "sort_array_desc= np.sort(org_array)[::-1]\n",
    "print(sort_array_desc)\n",
    "\n",
    "#행렬이 2차원 이상일 경우 axis 축 값 설정을 통해 로우, 칼럼 방향으로 정렬 수행\n",
    "org_array2d= np.array([[6, 5],\n",
    "                      [4, 3]])\n",
    "sort_array2d_axis_0= np.sort(org_array2d, axis=0)\n",
    "print(sort_array2d_axis_0) #행을 기준으로 작은 행이 위로 올라감\n",
    "sort_array2d_axis_1= np.sort(org_array2d, axis=1)\n",
    "print(sort_array2d_axis_1) #열을 기준으로 작은 열이 앞으로 나옴\n",
    "\n",
    "#argsort()는 원행렬이 정렬 되었을 때의 해당 인덱스 반환\n",
    "org_array= np.array([4, 5, 1, 2])\n",
    "sort_ind= np.argsort(org_array)\n",
    "print(sort_ind)\n",
    "\n",
    "#argsort() 활용\n",
    "name_array= np.array(['John', 'Mike', 'Judy', 'Sarah', 'Karon'])\n",
    "score_array= np.array([43, 76, 22, 95, 55])\n",
    "\n",
    "sort_score_ind= np.argsort(score_array)\n",
    "print(sort_score_ind)\n",
    "print(name_array[sort_score_ind]) # 성적이 낮은순으로 이름이 나옴"
   ]
  },
  {
   "cell_type": "markdown",
   "id": "310236a3",
   "metadata": {},
   "source": [
    "<h2>선형대수 연산- 행렬 내적과 전치행렬 구하기</h2>"
   ]
  },
  {
   "cell_type": "code",
   "execution_count": 60,
   "id": "d967dc9f",
   "metadata": {},
   "outputs": [
    {
     "name": "stdout",
     "output_type": "stream",
     "text": [
      "[[ 8 10]\n",
      " [26 36]]\n",
      "[[2 3]\n",
      " [1 5]]\n",
      "[[2 3]\n",
      " [1 5]]\n"
     ]
    }
   ],
   "source": [
    "#행렬 내적\n",
    "A= np.array([[2, 1],\n",
    "            [3, 5]])\n",
    "B= np.array([[2, 2],\n",
    "             [4, 6]])\n",
    "dot_product= np.dot(A, B)\n",
    "print(dot_product)\n",
    "\n",
    "#전치 행렬\n",
    "A_transpose= A.T\n",
    "print(A_transpose)\n",
    "\n",
    "A_transpose= np.transpose(A)\n",
    "print(A_transpose)"
   ]
  }
 ],
 "metadata": {
  "kernelspec": {
   "display_name": "Python 3",
   "language": "python",
   "name": "python3"
  },
  "language_info": {
   "codemirror_mode": {
    "name": "ipython",
    "version": 3
   },
   "file_extension": ".py",
   "mimetype": "text/x-python",
   "name": "python",
   "nbconvert_exporter": "python",
   "pygments_lexer": "ipython3",
   "version": "3.8.8"
  }
 },
 "nbformat": 4,
 "nbformat_minor": 5
}
